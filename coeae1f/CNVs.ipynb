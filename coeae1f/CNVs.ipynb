{
 "cells": [
  {
   "cell_type": "code",
   "execution_count": null,
   "id": "ea1d5106",
   "metadata": {},
   "outputs": [],
   "source": [
    "import sys\n",
    "# adding Folder_2 to the system path\n",
    "import probe\n",
    "import locusPocus\n",
    "\n",
    "%run hapclust.py\n",
    "import numpy as np \n",
    "import allel\n",
    "import pandas as pd\n",
    "import bokeh\n",
    "import bokeh.plotting\n",
    "import malariagen_data\n",
    "%matplotlib inline\n",
    "\n",
    "import bokeh.io as bkio\n",
    "bkio.output_notebook()"
   ]
  },
  {
   "cell_type": "markdown",
   "id": "59dfd496",
   "metadata": {},
   "source": [
    "### CNVs and the coeae1f region"
   ]
  },
  {
   "cell_type": "code",
   "execution_count": null,
   "id": "d1583bd2",
   "metadata": {},
   "outputs": [],
   "source": [
    "ag3 = malariagen_data.Ag3(pre=True)\n",
    "\n",
    "moshi_dup_start, moshi_dup_end = 28535653, 28571586\n",
    "gaard_dup_start, gaard_dup_end = 28542695, 28551033\n",
    "\n",
    "gamb_cnv_breakpoints = [gaard_dup_start, gaard_dup_end] # baguida and obuasi CNV\n",
    "moshi_cnv_breakpoints = [moshi_dup_start, moshi_dup_end]"
   ]
  },
  {
   "cell_type": "code",
   "execution_count": null,
   "id": "004337f2",
   "metadata": {},
   "outputs": [],
   "source": [
    "moshi_dup_end - moshi_dup_start"
   ]
  },
  {
   "cell_type": "code",
   "execution_count": null,
   "id": "ad7ab8f3",
   "metadata": {},
   "outputs": [],
   "source": [
    "gaard_dup_end-gaard_dup_start"
   ]
  },
  {
   "cell_type": "code",
   "execution_count": null,
   "id": "423b59bf",
   "metadata": {},
   "outputs": [],
   "source": [
    "sample_sets = [\n",
    "    # Ag1000G phase 3 sample sets in Ag3.0\n",
    "    \"AG1000G-GH\", \n",
    "    'AG1000G-ML-A',\n",
    "     'AG1000G-BF-A',\n",
    "     'AG1000G-BF-B',\n",
    "     'AG1000G-GN-A',\n",
    "     'AG1000G-GN-B',\n",
    "    'AG1000G-TZ',\n",
    "    # Amenta-Etego sample sets in Ag3.3\n",
    "    # GAARDIAN sample set in Ag3.4\n",
    "    '1244-VO-GH-YAWSON-VMF00149',\n",
    "    # GAARD Ghana sample set in Ag3.2\n",
    "     \"1244-VO-GH-YAWSON-VMF00051\",\n",
    "     '1245-VO-CI-CONSTANT-VMF00054',\n",
    "     '1253-VO-TG-DJOGBENOU-VMF00052',\n",
    "     '1237-VO-BJ-DJOGBENOU-VMF00050'\n",
    "]\n",
    "\n",
    "\n",
    "contig = '2L'\n",
    "start = 28_520_000\n",
    "end = 28_580_000"
   ]
  },
  {
   "cell_type": "code",
   "execution_count": null,
   "id": "029455d0",
   "metadata": {},
   "outputs": [],
   "source": [
    "# inspect all samples available from Ghana\n",
    "df_samples = ag3.sample_metadata(sample_sets=sample_sets)\n",
    "pivot_samples = (\n",
    "    df_samples\n",
    "    .pivot_table(\n",
    "        index=[\"country\", \"admin1_iso\", \"admin1_name\", \"admin2_name\", \"year\"], \n",
    "        columns=\"taxon\", \n",
    "        values=\"sample_id\",\n",
    "        aggfunc=\"count\",\n",
    "        fill_value=0\n",
    "    )\n",
    ")"
   ]
  },
  {
   "cell_type": "code",
   "execution_count": null,
   "id": "1c4f3cc1",
   "metadata": {},
   "outputs": [],
   "source": [
    "pivot_samples.head(5)"
   ]
  },
  {
   "cell_type": "code",
   "execution_count": null,
   "id": "a98d7fc4",
   "metadata": {},
   "outputs": [],
   "source": [
    "coe_region = \"2L:28,510,000-28,580,000\"\n",
    "\n",
    "cnv_freqs_df = ag3.gene_cnv_frequencies(\n",
    "    region=coe_region,\n",
    "    cohorts=\"admin2_year\",\n",
    "    sample_sets=sample_sets,\n",
    ")"
   ]
  },
  {
   "cell_type": "code",
   "execution_count": null,
   "id": "4013fd67",
   "metadata": {},
   "outputs": [],
   "source": [
    "cnv_freqs_df"
   ]
  },
  {
   "cell_type": "code",
   "execution_count": null,
   "id": "a8024a48",
   "metadata": {},
   "outputs": [],
   "source": [
    "coh_labels = cnv_freqs_df.filter(like='frq').columns\n",
    "coh_labels.str.replace(\"frq_\", \"\").str.split(\"_\") "
   ]
  },
  {
   "cell_type": "code",
   "execution_count": null,
   "id": "9214ee9a",
   "metadata": {},
   "outputs": [],
   "source": [
    "\"TZ-26\".split(\"-\")[0]"
   ]
  },
  {
   "cell_type": "code",
   "execution_count": null,
   "id": "a61886a7",
   "metadata": {},
   "outputs": [],
   "source": [
    "rename_dict = {'TZ':'Tanzania', \n",
    "                     'GH':'Ghana', \n",
    "                     'BF':'BurkinaFaso', \n",
    "                     'ML':'Mali',\n",
    "                    'TG':'Togo'}\n",
    "\n",
    "def reorder_labels(df_freqs, rename_dict):      \n",
    "    # extract frequency column names\n",
    "    coh_labels = df_freqs.filter(like='frq').columns\n",
    "    # remove frq_ and split by underscore\n",
    "    new_coh_labels = coh_labels.str.replace(\"frq_\", \"\").str.split(\"_\") \n",
    "    # reorder label so we can sort\n",
    "    new_coh_labels = [f\"{l[2]}_{l[1]}_{l[0].split('-')[0]}_{l[3]}\" for l in new_coh_labels]\n",
    "    # get idxs of sort\n",
    "    sort_idxs = np.argsort(new_coh_labels)\n",
    "    new_coh_labels = np.sort(new_coh_labels)\n",
    "    # split df to frq columns and misc columns\n",
    "    df_freqs_misc = df_freqs.drop(columns=coh_labels)\n",
    "    df_freqs = df_freqs.loc[:, coh_labels]\n",
    "    # reorder\n",
    "    df_freqs = df_freqs.iloc[:, sort_idxs]\n",
    "    # rename\n",
    "    df_freqs.columns = [\"frq_\" + l for l in new_coh_labels]\n",
    "    for old,new in rename_dict.items():\n",
    "        df_freqs.columns = df_freqs.columns.str.replace(old, new)\n",
    "    # join with misc columns\n",
    "    df_freqs = pd.concat([df_freqs, df_freqs_misc], axis=1)\n",
    "    \n",
    "    return(df_freqs)\n"
   ]
  },
  {
   "cell_type": "code",
   "execution_count": null,
   "id": "d510bd4a",
   "metadata": {},
   "outputs": [],
   "source": [
    "reorder_labels(cnv_freqs_df, rename_dict)"
   ]
  },
  {
   "cell_type": "code",
   "execution_count": null,
   "id": "641e608d",
   "metadata": {},
   "outputs": [],
   "source": [
    "labels = cnv_freqs_df['label']\n",
    "cnv_freqs_df = cnv_freqs_df.filter(like=\"frq\")\n",
    "pop_bool = cnv_freqs_df.max(axis=0) > 0.1\n",
    "cnv_bool = cnv_freqs_df.max(axis=1) > 0.1\n",
    "\n",
    "cnv_freqs_df = cnv_freqs_df.filter(like=\"frq\")\n",
    "cnv_freqs_df = cnv_freqs_df.loc[cnv_bool, pop_bool]\n",
    "cnv_freqs_df.loc[:, 'label'] = labels[cnv_bool]"
   ]
  },
  {
   "cell_type": "code",
   "execution_count": null,
   "id": "cc757a33",
   "metadata": {
    "scrolled": false
   },
   "outputs": [],
   "source": [
    "cnv_freqs_df = ag3.gene_cnv_frequencies(\n",
    "    region=\"2L:28,510,000-28,580,000\",\n",
    "    cohorts=\"admin2_year\",\n",
    "    sample_sets=sample_sets,\n",
    ")\n",
    "\n",
    "\n",
    "ag3.plot_frequencies_heatmap(\n",
    "    cnv_freqs_df,\n",
    "    title=\"Gene CNV frequencies, coeae1f/2f locus\"\n",
    ")"
   ]
  },
  {
   "cell_type": "code",
   "execution_count": null,
   "id": "85b5ae7f",
   "metadata": {},
   "outputs": [],
   "source": [
    "def get_copy_number(myregion, sample_sets):\n",
    "    \n",
    "    cnv_data = ag3.gene_cnv(region=myregion, sample_sets=sample_sets)\n",
    "    cnv_data = cnv_data.to_dataframe()\n",
    "    coe_dups = cnv_data.query(\"CN_mode > 2.9\")\n",
    "    sample_names = coe_dups['sample_id'].to_numpy()\n",
    "    \n",
    "    return(cnv_data, sample_names)"
   ]
  },
  {
   "cell_type": "code",
   "execution_count": null,
   "id": "27c651dd",
   "metadata": {},
   "outputs": [],
   "source": [
    "cnv_df, names = get_copy_number('AGAP006227', ['AG1000G-TZ'])\n",
    "pd.Series(names).to_csv(\"../../results/cnv_tz_ids.tsv\", sep=\"\\t\")\n",
    "cnv_df = df_samples.merge(cnv_df)"
   ]
  },
  {
   "cell_type": "markdown",
   "id": "5f68c27a",
   "metadata": {},
   "source": [
    "### Looking at coverage (HMM)"
   ]
  },
  {
   "cell_type": "markdown",
   "id": "fc2e7c1a",
   "metadata": {},
   "source": [
    "Lets check how legitimate the CNV looks by investigating the HMM"
   ]
  },
  {
   "cell_type": "code",
   "execution_count": null,
   "id": "c2bee73a",
   "metadata": {},
   "outputs": [],
   "source": [
    "#set_ = \"1244-VO-GH-YAWSON-VMF00051\"\n",
    "set_ = \"AG1000G-GN-A\"\n",
    "cnv_df, names = get_copy_number('AGAP006227', sample_sets=sample_sets)"
   ]
  },
  {
   "cell_type": "code",
   "execution_count": null,
   "id": "693e1a6c",
   "metadata": {},
   "outputs": [],
   "source": [
    "#cnv_haps_df = pd.DataFrame(np.repeat(cnv_df.values, 2, axis=0), columns=cnv_df.columns)\n",
    "cnv_data = ag3.gene_cnv(region=\"AGAP006227\", sample_sets=sample_sets)\n",
    "names = cnv_data['sample_id'].values"
   ]
  },
  {
   "cell_type": "markdown",
   "id": "ab6efaf7",
   "metadata": {},
   "source": [
    "### Plot copy number vs n haps in cluster"
   ]
  },
  {
   "cell_type": "code",
   "execution_count": null,
   "id": "f8b683f6",
   "metadata": {},
   "outputs": [],
   "source": [
    "metahaps = locusPocus.metahaps.reset_index()\n",
    "metadata = ag3.sample_metadata(sample_sets)\n",
    "\n",
    "cnv_data = cnv_df.merge(metadata, how='left')"
   ]
  },
  {
   "cell_type": "code",
   "execution_count": null,
   "id": "796d21c6",
   "metadata": {},
   "outputs": [],
   "source": [
    "import plotly.express as px\n",
    "\n",
    "cnv_di = {}\n",
    "for i, clust in enumerate(locusPocus.clusters_idx.items()):\n",
    "    \n",
    "    k, idx = clust\n",
    "    \n",
    "    meta = metahaps.iloc[idx, :]\n",
    "    meta = meta[meta.duplicated()]\n",
    "    names = meta['sample_id'].to_list()\n",
    "    \n",
    "    cnv_di[k] = cnv_data.query(f\"sample_id in @names\")\n",
    "    cnv_di[k].loc[:, 'cluster'] = k"
   ]
  },
  {
   "cell_type": "code",
   "execution_count": null,
   "id": "effa6844",
   "metadata": {},
   "outputs": [],
   "source": [
    "cnv_genotypes = metahaps[['sample_id', 'hap_cluster']].value_counts(['sample_id', 'hap_cluster']).to_frame().reset_index()\n",
    "cnv_genotypes = cnv_genotypes.rename(columns={0:'count'})"
   ]
  },
  {
   "cell_type": "code",
   "execution_count": null,
   "id": "824bd7be",
   "metadata": {},
   "outputs": [],
   "source": [
    "metadata = ag3.sample_metadata(sample_sets)\n",
    "metadata = metadata.set_index(\"sample_id\")\n",
    "\n",
    "for k, v in locusPocus.clusters_idx.items():\n",
    "    \n",
    "    cnv_df = cnv_genotypes.query(f\"hap_cluster == '{k}'\")\n",
    "    metadata.loc[cnv_df.sample_id.to_list(), k] = cnv_df.loc[:, 'count'].to_list()\n",
    "\n",
    "metadata = metadata.fillna(0)\n",
    "\n",
    "hap_labels = locusPocus.clusters_df['Haplotype cluster'].to_list()\n",
    "\n",
    "metadata = metadata.reset_index()\n",
    "\n",
    "cnv_df = cnv_data[['sample_id', 'CN_mode']]\n",
    "\n",
    "metadata = metadata.merge(cnv_df, how='left')"
   ]
  },
  {
   "cell_type": "code",
   "execution_count": null,
   "id": "f89c1d48",
   "metadata": {},
   "outputs": [],
   "source": []
  },
  {
   "cell_type": "code",
   "execution_count": null,
   "id": "4e7c1854",
   "metadata": {},
   "outputs": [],
   "source": [
    "locusPocus.clusters_df"
   ]
  },
  {
   "cell_type": "code",
   "execution_count": null,
   "id": "01eaa67c",
   "metadata": {},
   "outputs": [],
   "source": [
    "meta_cnvs = metadata[[\"sample_id\", \"CN_mode\"] + hap_labels].melt(value_name='hap_count', var_name='hap_cluster', id_vars=['sample_id', 'CN_mode'])\n",
    "meta_cnvs = meta_cnvs.query(\"sample_id != 'AV0263-C'\")\n",
    "\n",
    "dup2_ids = metadata.query(\"country == 'Tanzania' & CN_mode >2.9\")['sample_id']\n",
    "dup1_ids = metadata.query(\"country != 'Tanzania' & CN_mode >2.9\")['sample_id']\n",
    "\n",
    "meta_cnvs['CN_mode'] = meta_cnvs['CN_mode'] + np.random.randn(meta_cnvs.shape[0])*0.05\n",
    "meta_cnvs['hap_count'] = meta_cnvs['hap_count'] + np.random.randn(meta_cnvs.shape[0])*0.05\n",
    "\n",
    "for cluster in ['C1', 'C4']:  #locusPocus.clusters_idx.keys()]:\n",
    "    meta_cnv2 = meta_cnvs.query(\"hap_cluster == @cluster\")\n",
    "    cnv_copy_number = 'Coeae1f/2f copy number' if cluster == 'C1' else 'Coeae1f/2f copy number'\n",
    "        \n",
    "    if cluster == 'C1': \n",
    "        meta_cnv2 = meta_cnv2.query(\"sample_id not in @dup1_ids\")\n",
    "    elif cluster == 'C4':\n",
    "        meta_cnv2 = meta_cnv2.query(\"sample_id not in @dup2_ids\")\n",
    "        \n",
    "    fig = px.scatter(meta_cnv2, \n",
    "                   y=\"CN_mode\",\n",
    "                   x=\"hap_count\",\n",
    "                     color_discrete_sequence=['aquamarine'] if cluster == 'C1' else ['navy'],\n",
    "                   labels={\"CN_mode\": cnv_copy_number, 'hap_count': f\"Number of haplotypes in {cluster} cluster\"}, \n",
    "                   height=400, width=500, \n",
    "                   range_x=[-0.3, 2.15], \n",
    "                   range_y=[0, '-inf'],\n",
    "                   hover_name='sample_id',\n",
    "                   trendline='ols'\n",
    "                  )\n",
    "    \n",
    "    fig.update_layout(xaxis = dict(tickmode = 'linear',\n",
    "                            tick0 = 0,\n",
    "                           dtick=1))\n",
    "\n",
    "    \n",
    "    fig.show()"
   ]
  },
  {
   "cell_type": "code",
   "execution_count": null,
   "id": "0dc32ad7",
   "metadata": {
    "scrolled": true
   },
   "outputs": [],
   "source": [
    "locusPocus.clusters_df"
   ]
  },
  {
   "cell_type": "code",
   "execution_count": null,
   "id": "5a03f3f2",
   "metadata": {},
   "outputs": [],
   "source": [
    "cnv_df"
   ]
  },
  {
   "cell_type": "code",
   "execution_count": null,
   "id": "3c06f209",
   "metadata": {},
   "outputs": [],
   "source": [
    "cnv_df['CN_mode'].hist()"
   ]
  },
  {
   "cell_type": "code",
   "execution_count": null,
   "id": "b746aa08",
   "metadata": {},
   "outputs": [],
   "source": [
    "meta = ag3.sample_metadata()\n",
    "meta.query(\"sample_id == 'VBS45429-5563STDY8794371'\")"
   ]
  },
  {
   "cell_type": "code",
   "execution_count": null,
   "id": "e48dded9",
   "metadata": {
    "scrolled": false
   },
   "outputs": [],
   "source": [
    "for s in names[:5]:\n",
    "    print(s)\n",
    "    ag3.plot_cnv_hmm_coverage(s, sample_set=sample_sets, region=\"2L:28,520,000-28,650,000\")"
   ]
  },
  {
   "cell_type": "code",
   "execution_count": null,
   "id": "6a9ef3e6",
   "metadata": {},
   "outputs": [],
   "source": []
  },
  {
   "cell_type": "code",
   "execution_count": null,
   "id": "f0770210",
   "metadata": {},
   "outputs": [],
   "source": [
    "ag3.plot_cnv_hmm_coverage('VBS45429-5563STDY8794371', sample_set=sample_sets, region=\"2L:28,520,000-28,650,000\")\n",
    "ag3.plot_cnv_hmm_coverage('BL0293-C', sample_set=sample_sets, region=\"2L:28,520,000-28,650,000\")"
   ]
  },
  {
   "cell_type": "markdown",
   "id": "7c0062e2",
   "metadata": {},
   "source": [
    "## Looking legit!!"
   ]
  },
  {
   "cell_type": "markdown",
   "id": "b1c04f32",
   "metadata": {},
   "source": [
    "### Comparing CNV status, sweep status, and karyotype"
   ]
  },
  {
   "cell_type": "code",
   "execution_count": null,
   "id": "78a75c2e",
   "metadata": {},
   "outputs": [],
   "source": [
    "cnv_ids = sample_names"
   ]
  },
  {
   "cell_type": "code",
   "execution_count": null,
   "id": "d63ad621",
   "metadata": {
    "scrolled": true
   },
   "outputs": [],
   "source": [
    "import warnings\n",
    "warnings.filterwarnings('ignore')\n",
    "\n",
    "karyotypes = pd.read_csv(\"/home/sanj/projects/gaard/results/gaard_karyotypes.tsv\", sep=\"\\t\")\n",
    "karyo2 = pd.read_csv(\"/home/sanj/projects/gaardian/results/karyotypes/gaardian_karyotypes.tsv\", sep=\"\\t\", index_col=0)\n",
    "karyo2 = karyo2.rename(columns={'location2':'location'})\n",
    "karyotypes = pd.concat([karyotypes, karyo2])\n",
    "\n",
    "karyo_2la = karyotypes.query(\"inversion == '2La'\")\n",
    "\n",
    "karyo_2la.loc[:, 'mean_genotype'] = karyo_2la.loc[:,'mean_genotype'].round(0)\n",
    "\n",
    "df_samples = karyo_2la.merge(df_samples)\n",
    "\n",
    "gamb_samples = df_samples.query(\"aim_species == 'gambiae'\")\n",
    "\n",
    "gamb_samples.loc[:, 'cnv_status'] = pd.factorize(np.isin(gamb_samples['sample_id'], cnv_ids))[0]\n",
    "\n",
    "pd.crosstab(gamb_samples['mean_genotype'], gamb_samples['cnv_status'])"
   ]
  },
  {
   "cell_type": "markdown",
   "id": "84e1e2cd",
   "metadata": {},
   "source": [
    "So the CNVs are found on the 2l+a haplotypic background. Interesting. We probably have multiple sweeps on different karyotypes at the same locus, one spreading from togo area and one from Burkina."
   ]
  },
  {
   "cell_type": "markdown",
   "id": "c846019b",
   "metadata": {},
   "source": [
    "Next, we need the IDs of each individual in each sweep"
   ]
  },
  {
   "cell_type": "code",
   "execution_count": null,
   "id": "f23e3f8c",
   "metadata": {},
   "outputs": [],
   "source": []
  }
 ],
 "metadata": {
  "interpreter": {
   "hash": "710100144729ec1057471750b60f3250df4296be7eb29e7e87fec32ed718ec4b"
  },
  "kernelspec": {
   "display_name": "Python 3 (ipykernel)",
   "language": "python",
   "name": "python3"
  },
  "language_info": {
   "codemirror_mode": {
    "name": "ipython",
    "version": 3
   },
   "file_extension": ".py",
   "mimetype": "text/x-python",
   "name": "python",
   "nbconvert_exporter": "python",
   "pygments_lexer": "ipython3",
   "version": "3.7.13"
  }
 },
 "nbformat": 4,
 "nbformat_minor": 5
}
