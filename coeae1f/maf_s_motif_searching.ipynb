{
 "cells": [
  {
   "cell_type": "code",
   "execution_count": null,
   "id": "1e4e1fe9",
   "metadata": {},
   "outputs": [],
   "source": [
    "!mamba install -c bioconda p"
   ]
  },
  {
   "cell_type": "code",
   "execution_count": 3,
   "id": "08c63655",
   "metadata": {},
   "outputs": [],
   "source": [
    "import numpy as np\n",
    "from Bio import motifs\n",
    "import pandas as pd\n",
    "from pyjaspar import jaspardb"
   ]
  },
  {
   "cell_type": "markdown",
   "id": "52de87a1",
   "metadata": {},
   "source": [
    "### Motif searching"
   ]
  },
  {
   "cell_type": "code",
   "execution_count": 6,
   "id": "3baca70d",
   "metadata": {},
   "outputs": [
    {
     "name": "stdout",
     "output_type": "stream",
     "text": [
      "JASPAR2022\n"
     ]
    }
   ],
   "source": [
    "jdb_obj = jaspardb()\n",
    "print(jdb_obj.release)"
   ]
  },
  {
   "cell_type": "code",
   "execution_count": 11,
   "id": "b66c24eb",
   "metadata": {},
   "outputs": [
    {
     "name": "stdout",
     "output_type": "stream",
     "text": [
      "TF name\tcnc::maf-S\n",
      "Matrix ID\tMA0530.1\n",
      "Collection\tCORE\n",
      "TF class\t['Basic leucine zipper factors (bZIP)', 'Basic leucine zipper factors (bZIP)']\n",
      "TF family\t['Jun-related', 'Maf-related']\n",
      "Species\t7227\n",
      "Taxonomic group\tinsects\n",
      "Accession\t['P20482', 'Q4QPP9']\n",
      "Data type used\tChIP-chip\n",
      "Medline\t10952900\n",
      "Matrix:\n",
      "        0      1      2      3      4      5      6      7      8      9     10     11     12     13     14\n",
      "A: 142.00 340.00   0.00   0.00 407.00   0.00  80.00  78.00 136.00  24.00   0.00 368.00 133.00 221.00 214.00\n",
      "C: 113.00  20.00   0.00   0.00  46.00 292.00   0.00 215.00  33.00   0.00 474.00   0.00 128.00  63.00  12.00\n",
      "G: 159.00 114.00   0.00 474.00  21.00  80.00 169.00  90.00 163.00 422.00   0.00 106.00  99.00   0.00   0.00\n",
      "T:  60.00   0.00 474.00   0.00   0.00 102.00 225.00  91.00 142.00  28.00   0.00   0.00 114.00 190.00 248.00\n",
      "\n",
      "\n",
      "\n"
     ]
    }
   ],
   "source": [
    "cnc = jdb_obj.fetch_motif_by_id('MA0530.1')\n",
    "print(cnc)"
   ]
  },
  {
   "cell_type": "code",
   "execution_count": 12,
   "id": "ccafb204",
   "metadata": {},
   "outputs": [
    {
     "name": "stdout",
     "output_type": "stream",
     "text": [
      "        0      1      2      3      4      5      6      7      8      9     10     11     12     13     14\n",
      "A:   0.30   0.72   0.00   0.00   0.86   0.00   0.17   0.16   0.29   0.05   0.00   0.77   0.28   0.47   0.45\n",
      "C:   0.24   0.04   0.00   0.00   0.10   0.61   0.00   0.45   0.07   0.00   1.00   0.00   0.27   0.13   0.03\n",
      "G:   0.34   0.24   0.00   1.00   0.05   0.17   0.36   0.19   0.34   0.89   0.00   0.22   0.21   0.00   0.00\n",
      "T:   0.13   0.00   1.00   0.00   0.00   0.22   0.47   0.19   0.30   0.06   0.00   0.00   0.24   0.40   0.52\n",
      "\n"
     ]
    }
   ],
   "source": [
    "pwm = cnc.counts.normalize(pseudocounts=0.5)\n",
    "print(pwm)"
   ]
  },
  {
   "cell_type": "markdown",
   "id": "b3c3b435",
   "metadata": {},
   "source": [
    "### Searching a sequence"
   ]
  },
  {
   "cell_type": "code",
   "execution_count": 27,
   "id": "790b32c6",
   "metadata": {},
   "outputs": [],
   "source": [
    "from Bio.Seq import Seq\n",
    "\n",
    "import malariagen_data\n",
    "ag3 = malariagen_data.Ag3()"
   ]
  },
  {
   "cell_type": "code",
   "execution_count": 15,
   "id": "240f59b9",
   "metadata": {},
   "outputs": [
    {
     "name": "stdout",
     "output_type": "stream",
     "text": [
      "2L:28545000-28550000\n"
     ]
    }
   ],
   "source": [
    "contig = '2L'\n",
    "start= 28_545_000\n",
    "end = 28_550_000\n",
    "\n",
    "region = f'{contig}:{start}-{end}'\n",
    "print(region)"
   ]
  },
  {
   "cell_type": "code",
   "execution_count": 32,
   "id": "5ebf1946",
   "metadata": {},
   "outputs": [],
   "source": [
    "# Load sequence for a region\n",
    "my_seq = ag3.genome_sequence(region=region).compute()\n",
    "my_seq = ''.join(my_seq.astype(str))"
   ]
  },
  {
   "cell_type": "code",
   "execution_count": 33,
   "id": "9b5fab80",
   "metadata": {},
   "outputs": [
    {
     "data": {
      "text/plain": [
       "5001"
      ]
     },
     "execution_count": 33,
     "metadata": {},
     "output_type": "execute_result"
    }
   ],
   "source": [
    "my_seq=Seq(my_seq)\n",
    "len(my_seq)"
   ]
  },
  {
   "cell_type": "markdown",
   "id": "3c7e3930",
   "metadata": {},
   "source": [
    "#### Search using PSSM score"
   ]
  },
  {
   "cell_type": "code",
   "execution_count": 50,
   "id": "ff247ef8",
   "metadata": {},
   "outputs": [
    {
     "name": "stdout",
     "output_type": "stream",
     "text": [
      "        0      1      2      3      4      5      6      7      8      9     10     11     12     13     14\n",
      "A:   0.26   1.52  -7.89  -7.89   1.78  -7.89  -0.56  -0.60   0.20  -2.28  -7.89   1.63   0.17   0.90   0.85\n",
      "C:  -0.07  -2.54  -7.89  -7.89  -1.36   1.30  -7.89   0.86  -1.83  -7.89   2.00  -7.89   0.11  -0.91  -3.25\n",
      "G:   0.42  -0.06  -7.89   2.00  -2.47  -0.56   0.51  -0.39   0.46   1.83  -7.89  -0.16  -0.26  -7.89  -7.89\n",
      "T:  -0.98  -7.89   2.00  -7.89  -7.89  -0.22   0.92  -0.38   0.26  -2.06  -7.89  -7.89  -0.06   0.68   1.06\n",
      "\n"
     ]
    }
   ],
   "source": [
    "pssm = pwm.log_odds()\n",
    "print(pssm)"
   ]
  },
  {
   "cell_type": "code",
   "execution_count": 53,
   "id": "a085de0a",
   "metadata": {},
   "outputs": [
    {
     "name": "stdout",
     "output_type": "stream",
     "text": [
      "Position 973: score = 6.199\n",
      "AGTGATTGTACGTCT\n",
      "Position -3395: score = 3.463\n",
      "TGATGCTTAATAATC\n",
      "Position 2335: score = 6.644\n",
      "CATGAGAACACACTA\n",
      "Position -2646: score = 8.427\n",
      "TATCGCTCCACCATG\n",
      "Position 2366: score = 10.983\n",
      "CATGATTAGACACAA\n",
      "Position 2840: score = 8.144\n",
      "TGTGAGACCGCACCA\n",
      "Position 3022: score = 6.276\n",
      "AAAGAGGCGGCAATT\n",
      "Position -1560: score = 7.787\n",
      "TACTGCACAACCACA\n",
      "Position -1087: score = 7.489\n",
      "TGTTGTTTTATCATG\n"
     ]
    }
   ],
   "source": [
    "for position, score in pssm.search(my_seq, threshold=3.0):\n",
    "    print(\"Position %d: score = %5.3f\" % (position, score))\n",
    "    print(my_seq[position:position+len(cnc)])"
   ]
  },
  {
   "cell_type": "code",
   "execution_count": 57,
   "id": "9e79a77a",
   "metadata": {},
   "outputs": [
    {
     "data": {
      "text/plain": [
       "<seaborn.axisgrid.FacetGrid at 0x7f25a42bb850>"
      ]
     },
     "execution_count": 57,
     "metadata": {},
     "output_type": "execute_result"
    },
    {
     "data": {
      "image/png": "[encoded data removed]",
      "text/plain": [
       "<Figure size 360x360 with 1 Axes>"
      ]
     },
     "metadata": {
      "needs_background": "light"
     },
     "output_type": "display_data"
    }
   ],
   "source": [
    "import seaborn as sns\n",
    "sns.displot(pssm.calculate(my_seq))"
   ]
  },
  {
   "cell_type": "code",
   "execution_count": 58,
   "id": "f615bebf",
   "metadata": {},
   "outputs": [
    {
     "data": {
      "text/plain": [
       "array([-14.5947075, -26.071215 , -44.23629  , ..., -65.800735 ,\n",
       "       -51.118576 , -27.172113 ], dtype=float32)"
      ]
     },
     "execution_count": 58,
     "metadata": {},
     "output_type": "execute_result"
    }
   ],
   "source": [
    "rpssm = pssm.reverse_complement()\n",
    "rpssm.calculate(my_seq)"
   ]
  },
  {
   "cell_type": "markdown",
   "id": "b2cfe287",
   "metadata": {},
   "source": [
    "#### Selecting a score threshold"
   ]
  },
  {
   "cell_type": "code",
   "execution_count": 60,
   "id": "e487034a",
   "metadata": {},
   "outputs": [],
   "source": [
    "distribution = pssm.distribution(precision=10**4)"
   ]
  },
  {
   "cell_type": "code",
   "execution_count": 61,
   "id": "beda92f3",
   "metadata": {},
   "outputs": [
    {
     "name": "stdout",
     "output_type": "stream",
     "text": [
      "-5.616\n"
     ]
    }
   ],
   "source": [
    "threshold = distribution.threshold_fpr(0.01)\n",
    "print(\"%5.3f\" % threshold)"
   ]
  },
  {
   "cell_type": "code",
   "execution_count": 62,
   "id": "075ff04a",
   "metadata": {},
   "outputs": [
    {
     "name": "stdout",
     "output_type": "stream",
     "text": [
      "9.726\n"
     ]
    }
   ],
   "source": [
    "threshold = distribution.threshold_fnr(0.1)\n",
    "print(\"%5.3f\" % threshold)"
   ]
  },
  {
   "cell_type": "code",
   "execution_count": 63,
   "id": "2976e90f",
   "metadata": {},
   "outputs": [
    {
     "name": "stdout",
     "output_type": "stream",
     "text": [
      "9.952\n"
     ]
    }
   ],
   "source": [
    "threshold = distribution.threshold_balanced(1000)\n",
    "print(\"%5.3f\" % threshold)"
   ]
  },
  {
   "cell_type": "markdown",
   "id": "a42457e1",
   "metadata": {},
   "source": [
    "#### Run for each gene in the cluster, and look for SNPs"
   ]
  },
  {
   "cell_type": "code",
   "execution_count": 69,
   "id": "ed45f09f",
   "metadata": {},
   "outputs": [],
   "source": [
    "import allel\n",
    "gff = allel.gff3_to_dataframe(\"/home/sanj/ag1000g/data/reference/gff/An.gambiae-PEST-BASEFEATURES_agamP4.12.gff3\", attributes=['Parent', 'ID'])\n",
    "gff = gff.query(\"seqid == @contig\")"
   ]
  },
  {
   "cell_type": "code",
   "execution_count": 72,
   "id": "2befed1d",
   "metadata": {},
   "outputs": [],
   "source": [
    "gff = gff.query(\"start > 28_520_000 & end < 28_560_000\")"
   ]
  },
  {
   "cell_type": "code",
   "execution_count": 76,
   "id": "12b81c75",
   "metadata": {},
   "outputs": [],
   "source": [
    "genegff = gff.query(\"type == 'gene'\")\n",
    "fiveprimegff = gff.query(\"type == 'five_prime_UTR'\")\n",
    "threeprimegff = gff.query(\"type == 'three_prime_UTR'\")"
   ]
  },
  {
   "cell_type": "code",
   "execution_count": 80,
   "id": "a97d1df7",
   "metadata": {},
   "outputs": [],
   "source": [
    "geneIDs = genegff['ID'].to_list()"
   ]
  },
  {
   "cell_type": "code",
   "execution_count": 92,
   "id": "599ab494",
   "metadata": {},
   "outputs": [
    {
     "data": {
      "text/html": [
       "<div>\n",
       "<style scoped>\n",
       "    .dataframe tbody tr th:only-of-type {\n",
       "        vertical-align: middle;\n",
       "    }\n",
       "\n",
       "    .dataframe tbody tr th {\n",
       "        vertical-align: top;\n",
       "    }\n",
       "\n",
       "    .dataframe thead th {\n",
       "        text-align: right;\n",
       "    }\n",
       "</style>\n",
       "<table border=\"1\" class=\"dataframe\">\n",
       "  <thead>\n",
       "    <tr style=\"text-align: right;\">\n",
       "      <th></th>\n",
       "      <th>seqid</th>\n",
       "      <th>source</th>\n",
       "      <th>type</th>\n",
       "      <th>start</th>\n",
       "      <th>end</th>\n",
       "      <th>score</th>\n",
       "      <th>strand</th>\n",
       "      <th>phase</th>\n",
       "      <th>Parent</th>\n",
       "      <th>ID</th>\n",
       "    </tr>\n",
       "  </thead>\n",
       "  <tbody>\n",
       "    <tr>\n",
       "      <th>24759</th>\n",
       "      <td>2L</td>\n",
       "      <td>VectorBase</td>\n",
       "      <td>gene</td>\n",
       "      <td>28524225</td>\n",
       "      <td>28526317</td>\n",
       "      <td>-1</td>\n",
       "      <td>+</td>\n",
       "      <td>-1</td>\n",
       "      <td>.</td>\n",
       "      <td>AGAP006222</td>\n",
       "    </tr>\n",
       "    <tr>\n",
       "      <th>24773</th>\n",
       "      <td>2L</td>\n",
       "      <td>VectorBase</td>\n",
       "      <td>gene</td>\n",
       "      <td>28526558</td>\n",
       "      <td>28528641</td>\n",
       "      <td>-1</td>\n",
       "      <td>+</td>\n",
       "      <td>-1</td>\n",
       "      <td>.</td>\n",
       "      <td>AGAP006223</td>\n",
       "    </tr>\n",
       "    <tr>\n",
       "      <th>24787</th>\n",
       "      <td>2L</td>\n",
       "      <td>VectorBase</td>\n",
       "      <td>gene</td>\n",
       "      <td>28528758</td>\n",
       "      <td>28533199</td>\n",
       "      <td>-1</td>\n",
       "      <td>+</td>\n",
       "      <td>-1</td>\n",
       "      <td>.</td>\n",
       "      <td>AGAP006224</td>\n",
       "    </tr>\n",
       "    <tr>\n",
       "      <th>24803</th>\n",
       "      <td>2L</td>\n",
       "      <td>VectorBase</td>\n",
       "      <td>gene</td>\n",
       "      <td>28534732</td>\n",
       "      <td>28539416</td>\n",
       "      <td>-1</td>\n",
       "      <td>+</td>\n",
       "      <td>-1</td>\n",
       "      <td>.</td>\n",
       "      <td>AGAP006225</td>\n",
       "    </tr>\n",
       "    <tr>\n",
       "      <th>24819</th>\n",
       "      <td>2L</td>\n",
       "      <td>VectorBase</td>\n",
       "      <td>gene</td>\n",
       "      <td>28540651</td>\n",
       "      <td>28545294</td>\n",
       "      <td>-1</td>\n",
       "      <td>+</td>\n",
       "      <td>-1</td>\n",
       "      <td>.</td>\n",
       "      <td>AGAP006226</td>\n",
       "    </tr>\n",
       "    <tr>\n",
       "      <th>24833</th>\n",
       "      <td>2L</td>\n",
       "      <td>VectorBase</td>\n",
       "      <td>gene</td>\n",
       "      <td>28545396</td>\n",
       "      <td>28547938</td>\n",
       "      <td>-1</td>\n",
       "      <td>-</td>\n",
       "      <td>-1</td>\n",
       "      <td>.</td>\n",
       "      <td>AGAP006227</td>\n",
       "    </tr>\n",
       "    <tr>\n",
       "      <th>24852</th>\n",
       "      <td>2L</td>\n",
       "      <td>VectorBase</td>\n",
       "      <td>gene</td>\n",
       "      <td>28548433</td>\n",
       "      <td>28550748</td>\n",
       "      <td>-1</td>\n",
       "      <td>+</td>\n",
       "      <td>-1</td>\n",
       "      <td>.</td>\n",
       "      <td>AGAP006228</td>\n",
       "    </tr>\n",
       "    <tr>\n",
       "      <th>24864</th>\n",
       "      <td>2L</td>\n",
       "      <td>VectorBase</td>\n",
       "      <td>gene</td>\n",
       "      <td>28550814</td>\n",
       "      <td>28552032</td>\n",
       "      <td>-1</td>\n",
       "      <td>+</td>\n",
       "      <td>-1</td>\n",
       "      <td>.</td>\n",
       "      <td>AGAP006229</td>\n",
       "    </tr>\n",
       "  </tbody>\n",
       "</table>\n",
       "</div>"
      ],
      "text/plain": [
       "      seqid      source  type     start       end  score strand  phase Parent  \\\n",
       "24759    2L  VectorBase  gene  28524225  28526317     -1      +     -1      .   \n",
       "24773    2L  VectorBase  gene  28526558  28528641     -1      +     -1      .   \n",
       "24787    2L  VectorBase  gene  28528758  28533199     -1      +     -1      .   \n",
       "24803    2L  VectorBase  gene  28534732  28539416     -1      +     -1      .   \n",
       "24819    2L  VectorBase  gene  28540651  28545294     -1      +     -1      .   \n",
       "24833    2L  VectorBase  gene  28545396  28547938     -1      -     -1      .   \n",
       "24852    2L  VectorBase  gene  28548433  28550748     -1      +     -1      .   \n",
       "24864    2L  VectorBase  gene  28550814  28552032     -1      +     -1      .   \n",
       "\n",
       "               ID  \n",
       "24759  AGAP006222  \n",
       "24773  AGAP006223  \n",
       "24787  AGAP006224  \n",
       "24803  AGAP006225  \n",
       "24819  AGAP006226  \n",
       "24833  AGAP006227  \n",
       "24852  AGAP006228  \n",
       "24864  AGAP006229  "
      ]
     },
     "execution_count": 92,
     "metadata": {},
     "output_type": "execute_result"
    }
   ],
   "source": [
    "genegff"
   ]
  },
  {
   "cell_type": "code",
   "execution_count": 170,
   "id": "2cd57796",
   "metadata": {},
   "outputs": [],
   "source": [
    "def getSeq(gff, gene, contig='2L', genes=True, bases=200):\n",
    "    if genes == True:\n",
    "        my_start, my_end = gff.query(\"ID == @gene\").loc[:, ('start', 'end')].values[0]\n",
    "        if bases < 0:\n",
    "            my_region = f'{contig}:{my_end}-{my_end+np.abs(bases)}'\n",
    "        else:\n",
    "            my_region = f'{contig}:{my_start-bases}-{my_start}'\n",
    "    else:\n",
    "        df = gff.query(f\"Parent == '{gene}-RA'\")\n",
    "        if len(df) < 1: \n",
    "            return(None)\n",
    "        my_start, my_end = df.loc[:, ('start', 'end')].values[0]\n",
    "        my_region = f'{contig}:{my_start}-{my_end}'\n",
    "    \n",
    "    print(my_region)\n",
    "    my_seq = ag3.genome_sequence(region=my_region).compute()\n",
    "    my_seq = ''.join(my_seq.astype(str))\n",
    "    return(my_seq)"
   ]
  },
  {
   "cell_type": "code",
   "execution_count": 173,
   "id": "6dd636f8",
   "metadata": {
    "scrolled": false
   },
   "outputs": [
    {
     "name": "stdout",
     "output_type": "stream",
     "text": [
      "\n",
      "\n",
      "AGAP006222\n",
      "five_prime\n",
      "2L:28524225-28524283\n",
      "three_prime\n",
      "2L:28526142-28526317\n",
      "upstream\n",
      "2L:28524025-28524225\n",
      "Position 131: score = 7.554\n",
      "CATTACGCAGCAAAA\n",
      "downstream\n",
      "2L:28526317-28526517\n",
      "Position -23: score = 6.466\n",
      "ATTCGCTGCGTAATC\n",
      "Position 182: score = 3.514\n",
      "GCTGCGTAATCATTA\n",
      "\n",
      "\n",
      "AGAP006223\n",
      "five_prime\n",
      "2L:28526558-28526653\n",
      "three_prime\n",
      "2L:28528492-28528641\n",
      "upstream\n",
      "2L:28526358-28526558\n",
      "Position -64: score = 6.466\n",
      "ATTCGCTGCGTAATC\n",
      "Position 141: score = 3.514\n",
      "GCTGCGTAATCATTA\n",
      "downstream\n",
      "2L:28528641-28528841\n",
      "\n",
      "\n",
      "AGAP006224\n",
      "five_prime\n",
      "2L:28528758-28528881\n",
      "three_prime\n",
      "2L:28533014-28533199\n",
      "upstream\n",
      "2L:28528558-28528758\n",
      "downstream\n",
      "2L:28533199-28533399\n",
      "\n",
      "\n",
      "AGAP006225\n",
      "five_prime\n",
      "2L:28534732-28535005\n",
      "Position 104: score = 4.639\n",
      "AGTGCTACTACGATT\n",
      "three_prime\n",
      "2L:28539261-28539416\n",
      "upstream\n",
      "2L:28534532-28534732\n",
      "Position -150: score = 5.379\n",
      "TGACGCACACGCACA\n",
      "Position 114: score = 14.194\n",
      "GGTGACAGAGCACAT\n",
      "downstream\n",
      "2L:28539416-28539616\n",
      "\n",
      "\n",
      "AGAP006226\n",
      "five_prime\n",
      "2L:28540651-28540893\n",
      "three_prime\n",
      "\n",
      "\n",
      "AGAP006227\n",
      "five_prime\n",
      "2L:28547788-28547938\n",
      "Position 52: score = 8.144\n",
      "TGTGAGACCGCACCA\n",
      "three_prime\n",
      "2L:28545396-28545567\n",
      "upstream\n",
      "2L:28545196-28545396\n",
      "downstream\n",
      "2L:28547938-28548138\n",
      "Position 84: score = 6.276\n",
      "AAAGAGGCGGCAATT\n",
      "\n",
      "\n",
      "AGAP006228\n",
      "five_prime\n",
      "2L:28548433-28548622\n",
      "Position -182: score = 7.787\n",
      "TACTGCACAACCACA\n",
      "three_prime\n",
      "2L:28550689-28550748\n",
      "upstream\n",
      "2L:28548233-28548433\n",
      "downstream\n",
      "2L:28550748-28550948\n",
      "\n",
      "\n",
      "AGAP006229\n",
      "five_prime\n",
      "2L:28550814-28550984\n",
      "three_prime\n",
      "2L:28551841-28552032\n",
      "upstream\n",
      "2L:28550614-28550814\n",
      "downstream\n",
      "2L:28552032-28552232\n"
     ]
    }
   ],
   "source": [
    "for gene in geneIDs:\n",
    "    print(\"\\n\")\n",
    "    print(gene)    \n",
    "    \n",
    "    print(\"five_prime\")\n",
    "    myseq5 = getSeq(fiveprimegff, gene, genes=False)\n",
    "    for position, score in pssm.search(myseq5, threshold=3):\n",
    "        print(\"Position %d: score = %5.3f\" % (position, score))\n",
    "        print(myseq5[position:position+len(cnc)])\n",
    "    \n",
    "    print(\"three_prime\")\n",
    "    myseq3 = getSeq(threeprimegff, gene, genes=False)\n",
    "    if myseq3 == None: continue\n",
    "    for position, score in pssm.search(myseq3, threshold=3):\n",
    "        print(\"Position %d: score = %5.3f\" % (position, score))\n",
    "        print(myseq3[position:position+len(cnc)])\n",
    "      \n",
    "    print(\"upstream\")    \n",
    "    mysequpstream = getSeq(genegff, gene, genes=True, bases=200)\n",
    "    if mysequpstream == None: continue\n",
    "    for position, score in pssm.search(mysequpstream, threshold=3):\n",
    "        print(\"Position %d: score = %5.3f\" % (position, score))\n",
    "        print(mysequpstream[position:position+len(cnc)])\n",
    "    \n",
    "    print(\"downstream\")\n",
    "    myseqdownstream = getSeq(genegff, gene, genes=True, bases=-200)\n",
    "    if myseqdownstream == None: continue\n",
    "    for position, score in pssm.search(myseqdownstream, threshold=3):\n",
    "        print(\"Position %d: score = %5.3f\" % (position, score))\n",
    "        print(myseqdownstream[position:position+len(cnc)])      \n",
    "        \n",
    "        "
   ]
  },
  {
   "cell_type": "code",
   "execution_count": null,
   "id": "05a112af",
   "metadata": {},
   "outputs": [],
   "source": []
  }
 ],
 "metadata": {
  "kernelspec": {
   "display_name": "Python 3 (ipykernel)",
   "language": "python",
   "name": "python3"
  },
  "language_info": {
   "codemirror_mode": {
    "name": "ipython",
    "version": 3
   },
   "file_extension": ".py",
   "mimetype": "text/x-python",
   "name": "python",
   "nbconvert_exporter": "python",
   "pygments_lexer": "ipython3",
   "version": "3.8.13"
  }
 },
 "nbformat": 4,
 "nbformat_minor": 5
}
