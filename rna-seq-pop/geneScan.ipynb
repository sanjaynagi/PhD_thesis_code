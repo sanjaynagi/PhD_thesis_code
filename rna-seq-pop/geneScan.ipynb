{
 "cells": [
  {
   "cell_type": "code",
   "execution_count": 1,
   "metadata": {},
   "outputs": [
    {
     "name": "stdout",
     "output_type": "stream",
     "text": [
      "\n",
      "-------------- Reading VCF for chromosome 2L --------------\n",
      "------- Filtering VCF at QUAL=0 and missingness proportion of 0 -------\n",
      "After QUAL filter, 396426 SNPs retained out of 396426 for chromosome 2L\n",
      "After missingness filter, 396426 SNPs retained out of 396426 for chromosome 2L\n",
      "Locating AGAP004707\n",
      "There are 443 called in AGAP004707\n",
      "Before the missense mask, there are 443 rows\n",
      "Manipulating annotation data\n",
      "Writing frequencies to file...\n"
     ]
    }
   ],
   "source": [
    "\n",
    "import allel\n",
    "import numpy as np\n",
    "import pandas as pd\n",
    "import rnaseqpoptools as rnaseqpop\n",
    "from operator import itemgetter\n",
    "import sys\n",
    "\n",
    "geneID=\"AGAP004707\"\n",
    "gffpath=\"../../resources/reference/Anopheles-gambiae-PEST_BASEFEATURES_AgamP4.12.gff3\"\n",
    "vcfpath= \"../../results/variantAnalysis/vcfs/Ag_Busia.2L.vcf.gz\"\n",
    "metadatapath=\"../../config/samples.tsv\"\n",
    "ploidy = 10\n",
    "\n",
    "\n",
    "metadata = pd.read_csv(metadatapath, sep=\"\\t\")\n",
    "gff = allel.gff3_to_dataframe(gffpath, attributes=['Parent', 'ID'])\n",
    "chrom, start, end = gff.query(\"ID == @geneID\")[['seqid', 'start', 'end']].values[0]\n",
    "\n",
    "numbers = rnaseqpop.get_numbers_dict(ploidy)\n",
    "vcf, geno, ac_subpops, pos, depth, snpeff, subpops, samplenames = rnaseqpop.readAndFilterVcf(vcfpath, chrom, metadata, numbers, ploidy, qualflt=0, missingfltprop=0, verbose=False)\n",
    "ann = allel.read_vcf(vcfpath,  fields=['ANN'], numbers={'ANN':1})\n",
    "\n",
    "\n",
    "gene_bool = pos.locate_ranges([start], [end])\n",
    "gene_ann = ann['variants/ANN'].compress(gene_bool, axis=0)\n",
    "gene_pos = pos[gene_bool]\n",
    "print(f\"Locating {geneID}\")\n",
    "print(f\"There are {len(gene_pos)} called in {geneID}\")\n",
    "\n",
    "df = pd.Series(gene_ann).str.split(\"|\").to_frame()\n",
    "indices = range(len(df[0][0]))\n",
    "df = df[0].transform({f'{i+1}': itemgetter(i) for i in indices})\n",
    "df = df.rename(columns={'1':'alt', '2':'type', '3':'mod', '4':'chr', '5':'chr2', '6':'region'})\n",
    "print(f\"Before the missense mask, there are {len(df)} rows\")\n",
    "missense_mask = df['type'] == 'missense_variant'\n",
    "gene_df = df.query(\"@missense_mask\").drop(columns=['chr2', '7', '8' ,'9', 'region', '12', '13', '14', '15', '16']).reset_index()\n",
    "print(f\"Manipulating annotation data\")\n",
    "\n",
    "assert missense_mask.sum() > 0, f\"There are no missense variants in {geneID}\"\n",
    "\n",
    "for pop,ac in ac_subpops.items():\n",
    "\n",
    "    gene_acs = ac.compress(gene_bool, axis=0).compress(missense_mask, axis=0)\n",
    "    gene_freqs = gene_acs.to_frequencies()\n",
    "\n",
    "    gene_freqs = pd.DataFrame(gene_freqs).rename(columns={1:f'{pop}_2', 2:f'{pop}_3', 3:f'{pop}_4'}).drop(columns=[0,4,5])\n",
    "    gene_df = pd.concat([gene_df, gene_freqs] , axis=1)\n",
    "    \n",
    "gene_df['max_af'] = gene_df.iloc[:,7:].max(axis=1)\n",
    "gene_df.to_csv(f\"{geneID}.aa.frequencies.tsv\", sep=\"\\t\")\n",
    "print(\"Writing frequencies to file...\")"
   ]
  },
  {
   "cell_type": "code",
   "execution_count": null,
   "metadata": {},
   "outputs": [],
   "source": []
  }
 ],
 "metadata": {
  "interpreter": {
   "hash": "26e3c85a5765de9d8612a61f1b38d3b28703d81e71aebb235cb1324b685daf70"
  },
  "kernelspec": {
   "display_name": "Python 3 (ipykernel)",
   "language": "python",
   "name": "python3"
  },
  "language_info": {
   "codemirror_mode": {
    "name": "ipython",
    "version": 3
   },
   "file_extension": ".py",
   "mimetype": "text/x-python",
   "name": "python",
   "nbconvert_exporter": "python",
   "pygments_lexer": "ipython3",
   "version": "3.7.13"
  }
 },
 "nbformat": 4,
 "nbformat_minor": 2
}
