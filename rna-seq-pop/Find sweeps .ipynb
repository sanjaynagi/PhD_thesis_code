{
 "cells": [
  {
   "cell_type": "markdown",
   "metadata": {},
   "source": [
    "### Sweep gene finding\n",
    "\n",
    "We have, a table of sweeps signals, and the genes that lie underneath. \\\n",
    "We also have a list of DE genes. \n",
    "\n",
    "We want to find, out of our DE genes, which ones lie underneath a sweep, and also, what sweeps do they lie under?\n",
    "\n",
    "For each sweep signal, we can record the genes "
   ]
  },
  {
   "cell_type": "code",
   "execution_count": 2,
   "metadata": {},
   "outputs": [],
   "source": [
    "import pandas as pd"
   ]
  },
  {
   "cell_type": "code",
   "execution_count": 3,
   "metadata": {},
   "outputs": [],
   "source": [
    "df = pd.read_csv(\"config/samples.tsv\", sep=\"\\t\")"
   ]
  },
  {
   "cell_type": "code",
   "execution_count": 7,
   "metadata": {},
   "outputs": [
    {
     "data": {
      "text/plain": [
       "0     resources/reads/BusRes1\n",
       "1     resources/reads/BusRes2\n",
       "2     resources/reads/BusRes3\n",
       "3     resources/reads/BusRes4\n",
       "4     resources/reads/BusRes5\n",
       "5     resources/reads/BusRes6\n",
       "6     resources/reads/BusSus1\n",
       "7     resources/reads/BusSus2\n",
       "8     resources/reads/BusSus3\n",
       "9     resources/reads/BusSus4\n",
       "10    resources/reads/BusSus5\n",
       "11    resources/reads/BusSus6\n",
       "12       resources/reads/Kis1\n",
       "13       resources/reads/Kis2\n",
       "14       resources/reads/Kis3\n",
       "15       resources/reads/Kis4\n",
       "Name: samples, dtype: object"
      ]
     },
     "execution_count": 7,
     "metadata": {},
     "output_type": "execute_result"
    }
   ],
   "source": [
    "\"resources/reads/\" + df['samples']"
   ]
  },
  {
   "cell_type": "code",
   "execution_count": 5,
   "metadata": {},
   "outputs": [
    {
     "data": {
      "text/plain": [
       "0     BusRes1\n",
       "1     BusRes2\n",
       "2     BusRes3\n",
       "3     BusRes4\n",
       "4     BusRes5\n",
       "5     BusRes6\n",
       "6     BusSus1\n",
       "7     BusSus2\n",
       "8     BusSus3\n",
       "9     BusSus4\n",
       "10    BusSus5\n",
       "11    BusSus6\n",
       "12       Kis1\n",
       "13       Kis2\n",
       "14       Kis3\n",
       "15       Kis4\n",
       "Name: samples, dtype: object"
      ]
     },
     "execution_count": 5,
     "metadata": {},
     "output_type": "execute_result"
    }
   ],
   "source": [
    "df.assign()"
   ]
  },
  {
   "cell_type": "code",
   "execution_count": null,
   "metadata": {},
   "outputs": [],
   "source": []
  },
  {
   "cell_type": "code",
   "execution_count": 1,
   "metadata": {},
   "outputs": [],
   "source": [
    "%run workflow/scripts/tools.py"
   ]
  },
  {
   "cell_type": "code",
   "execution_count": null,
   "metadata": {},
   "outputs": [],
   "source": []
  },
  {
   "cell_type": "code",
   "execution_count": null,
   "metadata": {},
   "outputs": [],
   "source": []
  },
  {
   "cell_type": "code",
   "execution_count": 2,
   "metadata": {},
   "outputs": [],
   "source": [
    "signals = pd.read_csv(\"../rna-seq-busia/resources/signals.csv\")\n",
    "\n",
    "DEgenes = pd.read_csv(\"results/genediff/BusiaSus_BusiaRes.csv\")\n",
    "sigup = DEgenes[np.logical_and(DEgenes['padj'] < 0.05, DEgenes['FC'] > 1)]"
   ]
  },
  {
   "cell_type": "code",
   "execution_count": 3,
   "metadata": {},
   "outputs": [],
   "source": [
    "sweep = {}\n",
    "nswept = {}\n",
    "\n",
    "for i, cols in signals.iterrows():\n",
    "    \n",
    "    if pd.isnull(cols['overlapping_genes']):\n",
    "        continue\n",
    "    \n",
    "    sweptgenes = np.array(cols['overlapping_genes'].split(\" \"))\n",
    "    \n",
    "    \n",
    "    overlap = np.isin(sweptgenes, sigup['GeneID'])\n",
    "    \n",
    "    sweep[cols['uid']] = sweptgenes[overlap]\n",
    "    nswept[cols['uid']] = sweptgenes"
   ]
  },
  {
   "cell_type": "code",
   "execution_count": 4,
   "metadata": {},
   "outputs": [],
   "source": [
    "genes = np.concatenate(list(sweep.values()))\n",
    "swept = sigup[np.isin(sigup['GeneID'], genes)]"
   ]
  },
  {
   "cell_type": "code",
   "execution_count": 5,
   "metadata": {},
   "outputs": [],
   "source": [
    "for k,v in sweep.items():\n",
    "    sweep[k] = ' '.join(v)\n",
    "\n",
    "sweptDE = pd.DataFrame.from_dict(sweep, orient='index', columns=['overlapping_DE_genes'])\n",
    "sweptDE = sweptDE.reset_index().rename(columns={'index': 'Ag1000g_sweep'})\n",
    "sweptDE['overlapping_genes'] = signals['overlapping_genes'][~pd.isnull(signals['overlapping_genes'])].reset_index(drop=True)\n",
    "sweptDE['chromosome'] = signals['peak_end_seqid'][~pd.isnull(signals['overlapping_genes'])].reset_index(drop=True)\n",
    "sweptDE['epicenter'] = signals['epicenter_coord'][~pd.isnull(signals['overlapping_genes'])].reset_index(drop=True)\n",
    "sweptDE['known_loci'] = signals['known_loci'][~pd.isnull(signals['overlapping_genes'])].reset_index(drop=True)\n",
    "\n",
    "wheresweep = defaultdict(dict)\n",
    "whatsweep = defaultdict(list)\n",
    "    \n",
    "for gene in genes:\n",
    "    \n",
    "    for i, cols in sweptDE.iterrows():\n",
    "        \n",
    "        sweptgenes = np.array(cols['overlapping_DE_genes'].split(\" \"))\n",
    "        \n",
    "        if np.isin(sweptgenes, gene).any():\n",
    "            wheresweep[gene]['chrom'] = cols['chromosome']\n",
    "            wheresweep[gene]['epicenter'] = cols['epicenter']\n",
    "            wheresweep[gene]['known_loci'] = cols['known_loci']\n",
    "\n",
    "            whatsweep[gene].append(cols['Ag1000g_sweep'])\n",
    "\n",
    "for k,v in whatsweep.items():\n",
    "    whatsweep[k] = ' '.join(v)"
   ]
  },
  {
   "cell_type": "code",
   "execution_count": 13,
   "metadata": {},
   "outputs": [],
   "source": [
    "dfwhere = pd.DataFrame.from_dict(wheresweep, orient='index')\n",
    "dfwhat = pd.DataFrame.from_dict(whatsweep, orient='index', columns=['Ag1000g_sweeps'])\n",
    "\n",
    "df = pd.concat([dfwhat, dfwhere], axis=1)\n",
    "df = df.reset_index().rename(columns={'index': 'GeneID'})\n",
    "\n",
    "swept = swept.merge(df)\n",
    "\n",
    "swept.to_csv(\"swept.csv\")"
   ]
  },
  {
   "cell_type": "markdown",
   "metadata": {},
   "source": [
    "### Script"
   ]
  },
  {
   "cell_type": "code",
   "execution_count": 19,
   "metadata": {},
   "outputs": [],
   "source": [
    "pval_threshold = 0.05\n",
    "fc_threshold = 1.5"
   ]
  },
  {
   "cell_type": "code",
   "execution_count": null,
   "metadata": {},
   "outputs": [],
   "source": [
    "pval_threshold = snakemake.params['pval']\n",
    "fc_threshold = snakemake.params['fc']"
   ]
  },
  {
   "cell_type": "code",
   "execution_count": 37,
   "metadata": {},
   "outputs": [],
   "source": [
    "comparisons = pd.read_csv(\"resources/DE.contrast.list\")"
   ]
  },
  {
   "cell_type": "code",
   "execution_count": 40,
   "metadata": {},
   "outputs": [],
   "source": [
    "for comp in comparisons['contrast']:\n",
    "    \n",
    "    DEgenes = pd.read_csv(f\"results/genediff/{comp}.csv\")\n",
    "    sigup = DEgenes[np.logical_and(DEgenes['padj'] < pval_threshold, DEgenes['FC'] > fc_threshold)]\n",
    "    \n",
    "    sweep = {}\n",
    "    nswept = {}\n",
    "\n",
    "    for i, cols in signals.iterrows():\n",
    "\n",
    "        if pd.isnull(cols['overlapping_genes']):\n",
    "            continue\n",
    "\n",
    "        sweptgenes = np.array(cols['overlapping_genes'].split(\" \"))\n",
    "\n",
    "\n",
    "        overlap = np.isin(sweptgenes, sigup['GeneID'])\n",
    "\n",
    "        sweep[cols['uid']] = sweptgenes[overlap]\n",
    "        nswept[cols['uid']] = sweptgenes\n",
    "        \n",
    "    genes = np.concatenate(list(sweep.values()))\n",
    "    swept = sigup[np.isin(sigup['GeneID'], genes)]\n",
    "    \n",
    "    for k,v in sweep.items():\n",
    "        sweep[k] = ' '.join(v)\n",
    "\n",
    "    sweptDE = pd.DataFrame.from_dict(sweep, orient='index', columns=['overlapping_DE_genes'])\n",
    "    sweptDE = sweptDE.reset_index().rename(columns={'index': 'Ag1000g_sweep'})\n",
    "    sweptDE['overlapping_genes'] = signals['overlapping_genes'][~pd.isnull(signals['overlapping_genes'])].reset_index(drop=True)\n",
    "    sweptDE['chromosome'] = signals['peak_end_seqid'][~pd.isnull(signals['overlapping_genes'])].reset_index(drop=True)\n",
    "    sweptDE['epicenter'] = signals['epicenter_coord'][~pd.isnull(signals['overlapping_genes'])].reset_index(drop=True)\n",
    "    sweptDE['known_loci'] = signals['known_loci'][~pd.isnull(signals['overlapping_genes'])].reset_index(drop=True)\n",
    "\n",
    "    wheresweep = defaultdict(dict)\n",
    "    whatsweep = defaultdict(list)\n",
    "\n",
    "    for gene in genes:\n",
    "\n",
    "        for i, cols in sweptDE.iterrows():\n",
    "\n",
    "            sweptgenes = np.array(cols['overlapping_DE_genes'].split(\" \"))\n",
    "\n",
    "            if np.isin(sweptgenes, gene).any():\n",
    "                wheresweep[gene]['chrom'] = cols['chromosome']\n",
    "                wheresweep[gene]['epicenter'] = cols['epicenter']\n",
    "                wheresweep[gene]['known_loci'] = cols['known_loci']\n",
    "\n",
    "                whatsweep[gene].append(cols['Ag1000g_sweep'])\n",
    "\n",
    "    for k,v in whatsweep.items():\n",
    "        whatsweep[k] = ' '.join(v)\n",
    "        \n",
    "    dfwhere = pd.DataFrame.from_dict(wheresweep, orient='index')\n",
    "    dfwhat = pd.DataFrame.from_dict(whatsweep, orient='index', columns=['Ag1000g_sweeps'])\n",
    "\n",
    "    df = pd.concat([dfwhat, dfwhere], axis=1)\n",
    "    df = df.reset_index().rename(columns={'index': 'GeneID'})\n",
    "\n",
    "    swept = swept.merge(df)\n",
    "    swept.to_csv(f\"results/genediff/ag1000gSweeps/{comp}_swept.tsv\", sep=\"\\t\")"
   ]
  },
  {
   "cell_type": "code",
   "execution_count": 42,
   "metadata": {},
   "outputs": [
    {
     "name": "stdout",
     "output_type": "stream",
     "text": [
      "ag1000g_BusiaSus_BusiaRes_swept.tsv\r\n",
      "ag1000g_Kisumu_BusiaRes_swept.tsv\r\n",
      "ag1000g_Kisumu_BusiaSus_swept.tsv\r\n",
      "\u001b[0m\u001b[01;32mBusiaSus_BusiaRes.csv\u001b[0m*\r\n",
      "hits.csv\r\n",
      "\u001b[01;32mKisumu_BusiaRes.csv\u001b[0m*\r\n",
      "Kisumu_BusiaSus_BusiaRes.down.progressive.tsv\r\n",
      "Kisumu_BusiaSus_BusiaRes.up.progressive.tsv\r\n",
      "\u001b[01;32mKisumu_BusiaSus.csv\u001b[0m*\r\n",
      "\u001b[01;32mRNA-Seq_diff.xlsx\u001b[0m*\r\n",
      "\u001b[01;32mVolcano_plot_BusiaSus_BusiaRes.pdf\u001b[0m*\r\n",
      "\u001b[01;32mVolcano_plot_Kisumu_BusiaRes.pdf\u001b[0m*\r\n",
      "\u001b[01;32mVolcano_plot_Kisumu_BusiaSus.pdf\u001b[0m*\r\n"
     ]
    }
   ],
   "source": [
    "ls results/genediff/"
   ]
  }
 ],
 "metadata": {
  "kernelspec": {
   "display_name": "Python 3.7.3 64-bit ('pysanj': conda)",
   "language": "python",
   "name": "python37364bitpysanjconda39958c5ba9ef41c3a5542f2bfe81dc48"
  },
  "language_info": {
   "codemirror_mode": {
    "name": "ipython",
    "version": 3
   },
   "file_extension": ".py",
   "mimetype": "text/x-python",
   "name": "python",
   "nbconvert_exporter": "python",
   "pygments_lexer": "ipython3",
   "version": "3.7.6"
  }
 },
 "nbformat": 4,
 "nbformat_minor": 2
}
