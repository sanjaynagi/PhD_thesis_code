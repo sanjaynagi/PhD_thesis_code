{
 "cells": [
  {
   "cell_type": "code",
   "execution_count": 2,
   "metadata": {},
   "outputs": [],
   "source": [
    "import rnaseqpoptools as rnaseqpop\n",
    "import pandas as pd\n",
    "import numpy as np\n",
    "import allel"
   ]
  },
  {
   "cell_type": "code",
   "execution_count": 3,
   "metadata": {},
   "outputs": [],
   "source": [
    "# Read in parameters from snakemake\n",
    "dataset = \"Ag_Busia\"\n",
    "metadata = pd.read_csv(\"../../config/samples.tsv\", sep=\"\\t\")\n",
    "metadata = metadata.sort_values(by='species')\n",
    "contigs = ['2L', '2R', '3L','3R', 'X']\n",
    "ploidy = 10\n",
    "numbers = rnaseqpop.get_numbers_dict(ploidy)\n",
    "qualflt = 30\n",
    "missingprop = 0"
   ]
  },
  {
   "cell_type": "code",
   "execution_count": null,
   "metadata": {},
   "outputs": [],
   "source": []
  },
  {
   "cell_type": "code",
   "execution_count": 7,
   "metadata": {},
   "outputs": [],
   "source": [
    "def windowedDiversity(geno, pos, subpops, contig, statistic='pi', window_size=20000):\n",
    "    ### Estimate in 20kb windows separately\n",
    "    pi_dict = {}\n",
    "    for pop, idx in subpops.items():\n",
    "        ac = geno.take(idx, axis=1).count_alleles()\n",
    "        if statistic == 'pi':\n",
    "            pi, windows, d, f = allel.windowed_diversity(pos, ac, size=window_size)\n",
    "        elif statistic == 'theta':\n",
    "            pi, windows, d, f = allel.windowed_watterson_theta(pos, ac, size=window_size)\n",
    "        else:\n",
    "            assert \"statistic is neither pi or theta\"\n",
    "        pi_dict[pop] = pd.DataFrame(pi).rename(columns={0:statistic})\n",
    "\n",
    "    pi = pd.concat(pi_dict).reset_index().rename(columns={'level_0':'treatment'})\n",
    "    return(pi)\n",
    "\n",
    "def diversity_ci_table(dl):\n",
    "    import math\n",
    "    div_stat = pd.concat(dl)\n",
    "    stats = div_stat.groupby(['treatment'])['pi'].agg(['mean', 'count', 'std'])\n",
    "    print('-'*30)\n",
    "\n",
    "    ci95_hi = []\n",
    "    ci95_lo = []\n",
    "    for i in stats.index:\n",
    "        m, c, s = stats.loc[i]\n",
    "        ci95_hi.append(m + 1.96*s/math.sqrt(c))\n",
    "        ci95_lo.append(m - 1.96*s/math.sqrt(c))\n",
    "\n",
    "    stats['ci95_hi'] = ci95_hi\n",
    "    stats['ci95_lo'] = ci95_lo\n",
    "    return(stats)"
   ]
  },
  {
   "cell_type": "code",
   "execution_count": 5,
   "metadata": {},
   "outputs": [
    {
     "name": "stdout",
     "output_type": "stream",
     "text": [
      "\n",
      "-------------- Reading VCF for chromosome 2L --------------\n",
      "------- Filtering VCF at QUAL=30 and missingness proportion of 0 -------\n",
      "QUAL filter will retain 322603 SNPs retained out of 396426 for chromosome 2L\n",
      "Missingness filter will retain 396426 SNPs out of 396426 for chromosome 2L\n",
      "The combined filter will retain 322603 SNPs out of 396426 for chromosome 2L\n",
      "\n",
      "-------------- Reading VCF for chromosome 2R --------------\n",
      "------- Filtering VCF at QUAL=30 and missingness proportion of 0 -------\n",
      "QUAL filter will retain 437795 SNPs retained out of 533960 for chromosome 2R\n",
      "Missingness filter will retain 533960 SNPs out of 533960 for chromosome 2R\n",
      "The combined filter will retain 437795 SNPs out of 533960 for chromosome 2R\n",
      "\n",
      "-------------- Reading VCF for chromosome 3L --------------\n",
      "------- Filtering VCF at QUAL=30 and missingness proportion of 0 -------\n",
      "QUAL filter will retain 217180 SNPs retained out of 276206 for chromosome 3L\n",
      "Missingness filter will retain 276206 SNPs out of 276206 for chromosome 3L\n",
      "The combined filter will retain 217180 SNPs out of 276206 for chromosome 3L\n",
      "\n",
      "-------------- Reading VCF for chromosome 3R --------------\n",
      "------- Filtering VCF at QUAL=30 and missingness proportion of 0 -------\n",
      "QUAL filter will retain 314136 SNPs retained out of 381788 for chromosome 3R\n",
      "Missingness filter will retain 381788 SNPs out of 381788 for chromosome 3R\n",
      "The combined filter will retain 314136 SNPs out of 381788 for chromosome 3R\n",
      "\n",
      "-------------- Reading VCF for chromosome X --------------\n",
      "------- Filtering VCF at QUAL=30 and missingness proportion of 0 -------\n",
      "QUAL filter will retain 131579 SNPs retained out of 178389 for chromosome X\n",
      "Missingness filter will retain 178389 SNPs out of 178389 for chromosome X\n",
      "The combined filter will retain 131579 SNPs out of 178389 for chromosome X\n"
     ]
    }
   ],
   "source": [
    "dl = {}\n",
    "for i, contig in enumerate(contigs):\n",
    "    \n",
    "    # Read in and Filter VCF\n",
    "    path = f\"../../results/variantAnalysis/vcfs/{dataset}.{contig}.vcf.gz\"\n",
    "    vcf, geno, acsubpops, pos, depth, snpeff, subpops, populations = rnaseqpop.readAndFilterVcf(path=path,\n",
    "                                                           chrom=contig,\n",
    "                                                           samples=metadata,\n",
    "                                                           numbers=numbers,\n",
    "                                                           ploidy=ploidy,\n",
    "                                                           qualflt=qualflt,\n",
    "                                                           missingfltprop=missingprop)\n",
    "    ### Estimate in 20kb windows separately\n",
    "\n",
    "    dl[contig] = windowedDiversity(geno=geno, subpops=subpops, contig=contig, statistic='pi', window_size=20_000)\n"
   ]
  },
  {
   "cell_type": "code",
   "execution_count": 8,
   "metadata": {},
   "outputs": [
    {
     "name": "stdout",
     "output_type": "stream",
     "text": [
      "------------------------------\n"
     ]
    },
    {
     "data": {
      "text/html": [
       "<div>\n",
       "<style scoped>\n",
       "    .dataframe tbody tr th:only-of-type {\n",
       "        vertical-align: middle;\n",
       "    }\n",
       "\n",
       "    .dataframe tbody tr th {\n",
       "        vertical-align: top;\n",
       "    }\n",
       "\n",
       "    .dataframe thead th {\n",
       "        text-align: right;\n",
       "    }\n",
       "</style>\n",
       "<table border=\"1\" class=\"dataframe\">\n",
       "  <thead>\n",
       "    <tr style=\"text-align: right;\">\n",
       "      <th></th>\n",
       "      <th>mean</th>\n",
       "      <th>count</th>\n",
       "      <th>std</th>\n",
       "      <th>ci95_hi</th>\n",
       "      <th>ci95_lo</th>\n",
       "    </tr>\n",
       "    <tr>\n",
       "      <th>treatment</th>\n",
       "      <th></th>\n",
       "      <th></th>\n",
       "      <th></th>\n",
       "      <th></th>\n",
       "      <th></th>\n",
       "    </tr>\n",
       "  </thead>\n",
       "  <tbody>\n",
       "    <tr>\n",
       "      <th>BusiaParental</th>\n",
       "      <td>0.001099</td>\n",
       "      <td>11525</td>\n",
       "      <td>0.001313</td>\n",
       "      <td>0.001123</td>\n",
       "      <td>0.001075</td>\n",
       "    </tr>\n",
       "    <tr>\n",
       "      <th>BusiaSelected</th>\n",
       "      <td>0.000791</td>\n",
       "      <td>11525</td>\n",
       "      <td>0.001135</td>\n",
       "      <td>0.000811</td>\n",
       "      <td>0.000770</td>\n",
       "    </tr>\n",
       "    <tr>\n",
       "      <th>Kisumu</th>\n",
       "      <td>0.000618</td>\n",
       "      <td>11525</td>\n",
       "      <td>0.000954</td>\n",
       "      <td>0.000635</td>\n",
       "      <td>0.000600</td>\n",
       "    </tr>\n",
       "  </tbody>\n",
       "</table>\n",
       "</div>"
      ],
      "text/plain": [
       "                   mean  count       std   ci95_hi   ci95_lo\n",
       "treatment                                                   \n",
       "BusiaParental  0.001099  11525  0.001313  0.001123  0.001075\n",
       "BusiaSelected  0.000791  11525  0.001135  0.000811  0.000770\n",
       "Kisumu         0.000618  11525  0.000954  0.000635  0.000600"
      ]
     },
     "execution_count": 8,
     "metadata": {},
     "output_type": "execute_result"
    }
   ],
   "source": [
    "diversity_ci_table(dl=dl)"
   ]
  },
  {
   "cell_type": "code",
   "execution_count": 4,
   "metadata": {},
   "outputs": [],
   "source": [
    "pi = pd.concat(dl)"
   ]
  },
  {
   "cell_type": "code",
   "execution_count": 5,
   "metadata": {},
   "outputs": [
    {
     "name": "stdout",
     "output_type": "stream",
     "text": [
      "                   mean  count       std\n",
      "treatment                               \n",
      "BusiaParental  0.001042  11525  0.001283\n",
      "BusiaSelected  0.000707  11525  0.001081\n",
      "Kisumu         0.000618  11525  0.000954\n",
      "------------------------------\n",
      "                   mean  count       std   ci95_hi   ci95_lo\n",
      "treatment                                                   \n",
      "BusiaParental  0.001042  11525  0.001283  0.001065  0.001018\n",
      "BusiaSelected  0.000707  11525  0.001081  0.000727  0.000687\n",
      "Kisumu         0.000618  11525  0.000954  0.000635  0.000600\n"
     ]
    }
   ],
   "source": [
    "stats = pi.groupby(['treatment'])['pi'].agg(['mean', 'count', 'std'])\n",
    "import math\n",
    "print(stats)\n",
    "print('-'*30)\n",
    "\n",
    "ci95_hi = []\n",
    "ci95_lo = []\n",
    "\n",
    "for i in stats.index:\n",
    "    m, c, s = stats.loc[i]\n",
    "    ci95_hi.append(m + 1.96*s/math.sqrt(c))\n",
    "    ci95_lo.append(m - 1.96*s/math.sqrt(c))\n",
    "\n",
    "stats['ci95_hi'] = ci95_hi\n",
    "stats['ci95_lo'] = ci95_lo\n",
    "print(stats)\n",
    "\n"
   ]
  },
  {
   "cell_type": "code",
   "execution_count": 9,
   "metadata": {},
   "outputs": [],
   "source": [
    "%matplotlib inline"
   ]
  },
  {
   "cell_type": "code",
   "execution_count": 17,
   "metadata": {},
   "outputs": [],
   "source": [
    "import matplotlib.pyplot as plt"
   ]
  },
  {
   "cell_type": "code",
   "execution_count": 18,
   "metadata": {},
   "outputs": [
    {
     "data": {
      "text/plain": [
       "<AxesSubplot:xlabel='treatment', ylabel='mean'>"
      ]
     },
     "execution_count": 18,
     "metadata": {},
     "output_type": "execute_result"
    },
    {
     "data": {
      "image/png": "[encoded data removed]",
      "text/plain": [
       "<Figure size 720x144 with 1 Axes>"
      ]
     },
     "metadata": {
      "needs_background": "light"
     },
     "output_type": "display_data"
    }
   ],
   "source": [
    "fig, ax = plt.subplots(1,1, figsize=[10,2])\n",
    "sns.barplot(data=stats.reset_index(), x=\"treatment\", y=\"mean\")"
   ]
  },
  {
   "cell_type": "code",
   "execution_count": 170,
   "metadata": {},
   "outputs": [
    {
     "name": "stdout",
     "output_type": "stream",
     "text": [
      "\n",
      "-------------- Reading VCF for chromosome 2L --------------\n",
      "------- Filtering VCF at QUAL=30 and missingness proportion of 0 -------\n",
      "After QUAL filter, 322603 SNPs retained out of 396426 for chromosome 2L\n",
      "After missingness filter, 322603 SNPs retained out of 322603 for chromosome 2L\n",
      "\n",
      "-------------- Reading VCF for chromosome 2R --------------\n",
      "------- Filtering VCF at QUAL=30 and missingness proportion of 0 -------\n",
      "After QUAL filter, 437795 SNPs retained out of 533960 for chromosome 2R\n",
      "After missingness filter, 437795 SNPs retained out of 437795 for chromosome 2R\n",
      "\n",
      "-------------- Reading VCF for chromosome 3L --------------\n",
      "------- Filtering VCF at QUAL=30 and missingness proportion of 0 -------\n",
      "After QUAL filter, 217180 SNPs retained out of 276206 for chromosome 3L\n",
      "After missingness filter, 217180 SNPs retained out of 217180 for chromosome 3L\n",
      "\n",
      "-------------- Reading VCF for chromosome 3R --------------\n",
      "------- Filtering VCF at QUAL=30 and missingness proportion of 0 -------\n",
      "After QUAL filter, 314136 SNPs retained out of 381788 for chromosome 3R\n",
      "After missingness filter, 314136 SNPs retained out of 314136 for chromosome 3R\n",
      "\n",
      "-------------- Reading VCF for chromosome X --------------\n",
      "------- Filtering VCF at QUAL=30 and missingness proportion of 0 -------\n",
      "After QUAL filter, 131579 SNPs retained out of 178389 for chromosome X\n",
      "After missingness filter, 131579 SNPs retained out of 131579 for chromosome X\n",
      "                   mean  count       std\n",
      "treatment                               \n",
      "BusiaParental  0.000740   4611  0.000739\n",
      "BusiaSelected  0.000551   4611  0.000621\n",
      "Kisumu         0.000406   4611  0.000496\n",
      "------------------------------\n",
      "                   mean  count       std   ci95_hi   ci95_lo\n",
      "treatment                                                   \n",
      "BusiaParental  0.000740   4611  0.000739  0.000761  0.000718\n",
      "BusiaSelected  0.000551   4611  0.000621  0.000569  0.000533\n",
      "Kisumu         0.000406   4611  0.000496  0.000421  0.000392\n"
     ]
    }
   ],
   "source": [
    "### Wattersons theta\n",
    "dl = {}\n",
    "for i, contig in enumerate(contigs):\n",
    "    \n",
    "    # Read in and Filter VCF\n",
    "    path = f\"../../results/variantAnalysis/vcfs/{dataset}.{contig}.vcf.gz\"\n",
    "    vcf, geno, acsubpops, pos, depth, snpeff, subpops, populations = rnaseqpop.readAndFilterVcf(path=path,\n",
    "                                                           chrom=contig,\n",
    "                                                           samples=metadata,\n",
    "                                                           numbers=numbers,\n",
    "                                                           ploidy=ploidy,\n",
    "                                                           qualflt=qualflt,\n",
    "                                                           missingfltprop=missingprop)\n",
    "    pi_dict = {}\n",
    "    for key, idx in subpops.items():\n",
    "        ac = geno.take(idx[:4], axis=1).count_alleles()\n",
    "        pi, windows, d, f = allel.windowed_watterson_theta(pos, ac, size=50_000)\n",
    "        pi_dict[key] = pd.DataFrame(pi).rename(columns={0:'pi'})\n",
    "\n",
    "    pi = pd.concat(pi_dict).reset_index().rename(columns={'level_0':'treatment'})\n",
    "    dl[contig] = pi\n",
    "\n",
    "\n",
    "pi = pd.concat(dl)\n",
    "stats = pi.groupby(['treatment'])['pi'].agg(['mean', 'count', 'std'])\n",
    "import math\n",
    "print(stats)\n",
    "print('-'*30)\n",
    "\n",
    "ci95_hi = []\n",
    "ci95_lo = []\n",
    "\n",
    "for i in stats.index:\n",
    "    m, c, s = stats.loc[i]\n",
    "    ci95_hi.append(m + 1.96*s/math.sqrt(c))\n",
    "    ci95_lo.append(m - 1.96*s/math.sqrt(c))\n",
    "\n",
    "stats['ci95_hi'] = ci95_hi\n",
    "stats['ci95_lo'] = ci95_lo\n",
    "print(stats)"
   ]
  }
 ],
 "metadata": {
  "kernelspec": {
   "display_name": "Python 3.7.13 ('base')",
   "language": "python",
   "name": "python3"
  },
  "language_info": {
   "codemirror_mode": {
    "name": "ipython",
    "version": 3
   },
   "file_extension": ".py",
   "mimetype": "text/x-python",
   "name": "python",
   "nbconvert_exporter": "python",
   "pygments_lexer": "ipython3",
   "version": "3.7.13"
  },
  "vscode": {
   "interpreter": {
    "hash": "ce681de973941d5edd9bd94c9a2926b7fe65e17e578a68317f38265a230b8ca7"
   }
  }
 },
 "nbformat": 4,
 "nbformat_minor": 4
}
