{
 "cells": [
  {
   "cell_type": "markdown",
   "metadata": {},
   "source": [
    "Here, we want to make a script which calculates the number of sites and % that fall in introns, exons, intergenic regions, and genic regions. I will use the gff file provided, writing data to pandas."
   ]
  },
  {
   "cell_type": "code",
   "execution_count": 1,
   "metadata": {},
   "outputs": [],
   "source": [
    "import rnaseqpoptools as rnaseqpop"
   ]
  },
  {
   "cell_type": "code",
   "execution_count": 2,
   "metadata": {},
   "outputs": [],
   "source": [
    "%matplotlib inline\n",
    "import pandas as pd\n",
    "import allel\n",
    "import numpy as np"
   ]
  },
  {
   "cell_type": "code",
   "execution_count": 3,
   "metadata": {},
   "outputs": [],
   "source": [
    "# Read in parameters from snakemake\n",
    "dataset = \"Busia\"\n",
    "metadata = pd.read_csv(\"../../config/samples.tsv\", sep=\"\\t\")\n",
    "metadata = metadata.sort_values(by='species')\n",
    "chroms = ['2L', '2R', '3R', '3L', 'X']\n",
    "ploidy = 10 \n",
    "numbers = rnaseqpop.get_numbers_dict(ploidy)\n",
    "qualflt = 30\n",
    "missingprop = 1\n",
    "gffpath = \"../../resources/reference/Anopheles-gambiae-PEST_BASEFEATURES_AgamP4.12.gff3\""
   ]
  },
  {
   "cell_type": "code",
   "execution_count": 14,
   "metadata": {},
   "outputs": [
    {
     "name": "stdout",
     "output_type": "stream",
     "text": [
      "\n",
      "-------------- Reading VCF for chromosome 2L --------------\n",
      "------- Filtering VCF at QUAL=30 and missingness proportion of 1 -------\n",
      "QUAL filter will retain 322603 SNPs retained out of 396426 for chromosome 2L\n",
      "Missingness filter will retain 215513 SNPs out of 396426 for chromosome 2L\n",
      "The combined filter will retain 165136 SNPs out of 396426 for chromosome 2L\n",
      "\n",
      "-------------- Reading VCF for chromosome 2R --------------\n",
      "------- Filtering VCF at QUAL=30 and missingness proportion of 1 -------\n",
      "QUAL filter will retain 437795 SNPs retained out of 533960 for chromosome 2R\n",
      "Missingness filter will retain 313151 SNPs out of 533960 for chromosome 2R\n",
      "The combined filter will retain 239861 SNPs out of 533960 for chromosome 2R\n",
      "\n",
      "-------------- Reading VCF for chromosome 3R --------------\n",
      "------- Filtering VCF at QUAL=30 and missingness proportion of 1 -------\n",
      "QUAL filter will retain 314136 SNPs retained out of 381788 for chromosome 3R\n",
      "Missingness filter will retain 215018 SNPs out of 381788 for chromosome 3R\n",
      "The combined filter will retain 165326 SNPs out of 381788 for chromosome 3R\n",
      "\n",
      "-------------- Reading VCF for chromosome 3L --------------\n",
      "------- Filtering VCF at QUAL=30 and missingness proportion of 1 -------\n",
      "QUAL filter will retain 217180 SNPs retained out of 276206 for chromosome 3L\n",
      "Missingness filter will retain 156737 SNPs out of 276206 for chromosome 3L\n",
      "The combined filter will retain 112450 SNPs out of 276206 for chromosome 3L\n",
      "\n",
      "-------------- Reading VCF for chromosome X --------------\n",
      "------- Filtering VCF at QUAL=30 and missingness proportion of 1 -------\n",
      "QUAL filter will retain 131579 SNPs retained out of 178389 for chromosome X\n",
      "Missingness filter will retain 87358 SNPs out of 178389 for chromosome X\n",
      "The combined filter will retain 51496 SNPs out of 178389 for chromosome X\n"
     ]
    }
   ],
   "source": [
    "snp_di = {}\n",
    "\n",
    "for chrom in chroms:\n",
    "\n",
    "    # Read in and Filter VCF\n",
    "    path = f\"../../results/variantAnalysis/vcfs/Ag_Busia.{chrom}.vcf.gz\"\n",
    "    vcf, geno, acsubpops, pos, depth, snpeff, subpops, populations = rnaseqpop.readAndFilterVcf(path=path,\n",
    "                                                           chrom=chrom,\n",
    "                                                           samples=metadata,\n",
    "                                                           numbers=numbers,\n",
    "                                                           ploidy=ploidy,\n",
    "                                                           qualflt=qualflt,\n",
    "                                                           missingfltprop=missingprop)\n",
    "    \n",
    "    gff3 = allel.gff3_to_dataframe(gffpath, attributes=['ID', 'Parent']).query(\"seqid == @chrom & type == 'gene'\")\n",
    "    starts = gff3.loc[:, 'start'].to_list()\n",
    "    stops = gff3.loc[:, 'end'].to_list()\n",
    "    pos_bool = pos.locate_intersection_ranges(starts, stops)[0]  \n",
    "    snpeff = snpeff[pos_bool]\n",
    "    \n",
    "    snp_di[chrom] = snpeff"
   ]
  },
  {
   "cell_type": "code",
   "execution_count": 15,
   "metadata": {},
   "outputs": [],
   "source": [
    "snpeff = pd.concat(snp_di)"
   ]
  },
  {
   "cell_type": "code",
   "execution_count": 16,
   "metadata": {},
   "outputs": [
    {
     "data": {
      "text/plain": [
       "protein_coding    607599\n",
       "                   15943\n",
       "miRNA                623\n",
       "snoRNA               201\n",
       "pseudogene           146\n",
       "snRNA                125\n",
       "misc_RNA              86\n",
       "rRNA                  46\n",
       "Name: 7, dtype: int64"
      ]
     },
     "execution_count": 16,
     "metadata": {},
     "output_type": "execute_result"
    }
   ],
   "source": [
    "snpeff[7].value_counts()"
   ]
  },
  {
   "cell_type": "code",
   "execution_count": 20,
   "metadata": {},
   "outputs": [],
   "source": [
    "snpeff = snpeff[snpeff.iloc[:,1] != 'upstream_gene_variant']\n",
    "snpeff = snpeff[snpeff.iloc[:,1] != 'downstream_gene_variant']"
   ]
  },
  {
   "cell_type": "code",
   "execution_count": 21,
   "metadata": {},
   "outputs": [
    {
     "data": {
      "text/plain": [
       "synonymous_variant                                0.580794\n",
       "missense_variant                                  0.164035\n",
       "3_prime_UTR_variant                               0.089646\n",
       "intron_variant                                    0.089372\n",
       "5_prime_UTR_variant                               0.051386\n",
       "5_prime_UTR_premature_start_codon_gain_variant    0.006948\n",
       "splice_region_variant&synonymous_variant          0.004805\n",
       "splice_region_variant&intron_variant              0.003248\n",
       "missense_variant&splice_region_variant            0.001933\n",
       "frameshift_variant                                0.001391\n",
       "splice_region_variant                             0.001209\n",
       "stop_gained                                       0.000630\n",
       "disruptive_inframe_deletion                       0.000473\n",
       "conservative_inframe_deletion                     0.000415\n",
       "conservative_inframe_insertion                    0.000413\n",
       "splice_donor_variant&intron_variant               0.000328\n",
       "splice_acceptor_variant&intron_variant            0.000300\n",
       "disruptive_inframe_insertion                      0.000293\n",
       "frameshift_variant&missense_variant               0.000279\n",
       "frameshift_variant&synonymous_variant             0.000261\n",
       "Name: 1, dtype: float64"
      ]
     },
     "execution_count": 21,
     "metadata": {},
     "output_type": "execute_result"
    }
   ],
   "source": [
    "snpeff[snpeff.iloc[:, 7] == 'protein_coding'].iloc[:,1].value_counts(normalize=True)[:20]"
   ]
  },
  {
   "cell_type": "code",
   "execution_count": 7,
   "metadata": {},
   "outputs": [
    {
     "data": {
      "text/plain": [
       "synonymous_variant                                0.458141\n",
       "missense_variant                                  0.129076\n",
       "downstream_gene_variant                           0.126338\n",
       "upstream_gene_variant                             0.120580\n",
       "3_prime_UTR_variant                               0.070272\n",
       "5_prime_UTR_variant                               0.040252\n",
       "intergenic_region                                 0.026323\n",
       "intron_variant                                    0.011377\n",
       "5_prime_UTR_premature_start_codon_gain_variant    0.005430\n",
       "splice_region_variant&synonymous_variant          0.003788\n",
       "missense_variant&splice_region_variant            0.001521\n",
       "frameshift_variant                                0.001091\n",
       "splice_region_variant                             0.000946\n",
       "splice_region_variant&intron_variant              0.000889\n",
       "stop_gained                                       0.000494\n",
       "disruptive_inframe_deletion                       0.000374\n",
       "conservative_inframe_insertion                    0.000326\n",
       "conservative_inframe_deletion                     0.000324\n",
       "disruptive_inframe_insertion                      0.000228\n",
       "frameshift_variant&missense_variant               0.000213\n",
       "Name: 1, dtype: float64"
      ]
     },
     "execution_count": 7,
     "metadata": {},
     "output_type": "execute_result"
    }
   ],
   "source": [
    "snpeff.iloc[:,1].value_counts(normalize=True)[:20]"
   ]
  },
  {
   "cell_type": "markdown",
   "metadata": {},
   "source": [
    "### PCA no labels"
   ]
  },
  {
   "cell_type": "code",
   "execution_count": 10,
   "metadata": {},
   "outputs": [
    {
     "name": "stdout",
     "output_type": "stream",
     "text": [
      "Performing PCA on Busia chromosome X\n",
      "iteration 1 retaining 11916 removing 57780 variants\n"
     ]
    },
    {
     "ename": "FileNotFoundError",
     "evalue": "[Errno 2] No such file or directory: 'results/variantAnalysis/pca/PCA-X-Busia.png'",
     "output_type": "error",
     "traceback": [
      "\u001b[0;31m---------------------------------------------------------------------------\u001b[0m",
      "\u001b[0;31mFileNotFoundError\u001b[0m                         Traceback (most recent call last)",
      "\u001b[0;32m<ipython-input-10-2f35e5808192>\u001b[0m in \u001b[0;36m<module>\u001b[0;34m\u001b[0m\n\u001b[1;32m     14\u001b[0m \u001b[0;31m# Run PCA function defined in tools.py\u001b[0m\u001b[0;34m\u001b[0m\u001b[0;34m\u001b[0m\u001b[0;34m\u001b[0m\u001b[0m\n\u001b[1;32m     15\u001b[0m \u001b[0mprint\u001b[0m\u001b[0;34m(\u001b[0m\u001b[0;34mf\"Performing PCA on {dataset} chromosome {chrom}\"\u001b[0m\u001b[0;34m)\u001b[0m\u001b[0;34m\u001b[0m\u001b[0;34m\u001b[0m\u001b[0m\n\u001b[0;32m---> 16\u001b[0;31m \u001b[0mpca\u001b[0m\u001b[0;34m(\u001b[0m\u001b[0mgeno\u001b[0m\u001b[0;34m,\u001b[0m \u001b[0mchrom\u001b[0m\u001b[0;34m,\u001b[0m \u001b[0mploidy\u001b[0m\u001b[0;34m,\u001b[0m \u001b[0mdataset\u001b[0m\u001b[0;34m,\u001b[0m \u001b[0mpopulations\u001b[0m\u001b[0;34m,\u001b[0m \u001b[0mmetadata\u001b[0m\u001b[0;34m,\u001b[0m \u001b[0mpop_colours\u001b[0m\u001b[0;34m,\u001b[0m \u001b[0mprune\u001b[0m\u001b[0;34m=\u001b[0m\u001b[0;32mTrue\u001b[0m\u001b[0;34m,\u001b[0m \u001b[0mscaler\u001b[0m\u001b[0;34m=\u001b[0m\u001b[0;32mNone\u001b[0m\u001b[0;34m)\u001b[0m\u001b[0;34m\u001b[0m\u001b[0;34m\u001b[0m\u001b[0m\n\u001b[0m",
      "\u001b[0;32m~/projects/IR/rna-seq-busia/workflow/scripts/tools.py\u001b[0m in \u001b[0;36mpca\u001b[0;34m(geno, chrom, ploidy, dataset, populations, samples, pop_colours, prune, scaler)\u001b[0m\n\u001b[1;32m    367\u001b[0m     \u001b[0mcoords1\u001b[0m\u001b[0;34m,\u001b[0m \u001b[0mmodel1\u001b[0m \u001b[0;34m=\u001b[0m \u001b[0mallel\u001b[0m\u001b[0;34m.\u001b[0m\u001b[0mpca\u001b[0m\u001b[0;34m(\u001b[0m\u001b[0mgeno\u001b[0m\u001b[0;34m,\u001b[0m \u001b[0mn_components\u001b[0m\u001b[0;34m=\u001b[0m\u001b[0;36m10\u001b[0m\u001b[0;34m,\u001b[0m \u001b[0mscaler\u001b[0m\u001b[0;34m=\u001b[0m\u001b[0mscaler\u001b[0m\u001b[0;34m)\u001b[0m\u001b[0;34m\u001b[0m\u001b[0;34m\u001b[0m\u001b[0m\n\u001b[1;32m    368\u001b[0m \u001b[0;34m\u001b[0m\u001b[0m\n\u001b[0;32m--> 369\u001b[0;31m     \u001b[0mfig_pca\u001b[0m\u001b[0;34m(\u001b[0m\u001b[0mcoords1\u001b[0m\u001b[0;34m,\u001b[0m \u001b[0mmodel1\u001b[0m\u001b[0;34m,\u001b[0m \u001b[0;34mf\"PCA {chrom} {dataset}\"\u001b[0m\u001b[0;34m,\u001b[0m \u001b[0;34mf\"results/variantAnalysis/pca/PCA-{chrom}-{dataset}\"\u001b[0m\u001b[0;34m,\u001b[0m \u001b[0msamples\u001b[0m\u001b[0;34m,\u001b[0m \u001b[0mpop_colours\u001b[0m\u001b[0;34m,\u001b[0m \u001b[0msample_population\u001b[0m\u001b[0;34m=\u001b[0m\u001b[0mpopulations\u001b[0m\u001b[0;34m)\u001b[0m\u001b[0;34m\u001b[0m\u001b[0;34m\u001b[0m\u001b[0m\n\u001b[0m\u001b[1;32m    370\u001b[0m \u001b[0;34m\u001b[0m\u001b[0m\n\u001b[1;32m    371\u001b[0m \u001b[0;34m\u001b[0m\u001b[0m\n",
      "\u001b[0;32m~/projects/IR/rna-seq-busia/workflow/scripts/tools.py\u001b[0m in \u001b[0;36mfig_pca\u001b[0;34m(coords, model, title, path, samples, pop_colours, sample_population)\u001b[0m\n\u001b[1;32m    354\u001b[0m         \u001b[0mfig\u001b[0m\u001b[0;34m.\u001b[0m\u001b[0msuptitle\u001b[0m\u001b[0;34m(\u001b[0m\u001b[0mtitle\u001b[0m\u001b[0;34m,\u001b[0m \u001b[0my\u001b[0m\u001b[0;34m=\u001b[0m\u001b[0;36m1.02\u001b[0m\u001b[0;34m)\u001b[0m\u001b[0;34m\u001b[0m\u001b[0;34m\u001b[0m\u001b[0m\n\u001b[1;32m    355\u001b[0m \u001b[0;34m\u001b[0m\u001b[0m\n\u001b[0;32m--> 356\u001b[0;31m         \u001b[0mfig\u001b[0m\u001b[0;34m.\u001b[0m\u001b[0msavefig\u001b[0m\u001b[0;34m(\u001b[0m\u001b[0mpath\u001b[0m\u001b[0;34m,\u001b[0m \u001b[0mbbox_inches\u001b[0m\u001b[0;34m=\u001b[0m\u001b[0;34m'tight'\u001b[0m\u001b[0;34m,\u001b[0m \u001b[0mdpi\u001b[0m\u001b[0;34m=\u001b[0m\u001b[0;36m300\u001b[0m\u001b[0;34m)\u001b[0m\u001b[0;34m\u001b[0m\u001b[0;34m\u001b[0m\u001b[0m\n\u001b[0m\u001b[1;32m    357\u001b[0m \u001b[0;34m\u001b[0m\u001b[0m\n\u001b[1;32m    358\u001b[0m \u001b[0;32mdef\u001b[0m \u001b[0mpca\u001b[0m\u001b[0;34m(\u001b[0m\u001b[0mgeno\u001b[0m\u001b[0;34m,\u001b[0m \u001b[0mchrom\u001b[0m\u001b[0;34m,\u001b[0m \u001b[0mploidy\u001b[0m\u001b[0;34m,\u001b[0m \u001b[0mdataset\u001b[0m\u001b[0;34m,\u001b[0m \u001b[0mpopulations\u001b[0m\u001b[0;34m,\u001b[0m \u001b[0msamples\u001b[0m\u001b[0;34m,\u001b[0m \u001b[0mpop_colours\u001b[0m\u001b[0;34m,\u001b[0m \u001b[0mprune\u001b[0m\u001b[0;34m=\u001b[0m\u001b[0;32mTrue\u001b[0m\u001b[0;34m,\u001b[0m \u001b[0mscaler\u001b[0m\u001b[0;34m=\u001b[0m\u001b[0;32mNone\u001b[0m\u001b[0;34m)\u001b[0m\u001b[0;34m:\u001b[0m\u001b[0;34m\u001b[0m\u001b[0;34m\u001b[0m\u001b[0m\n",
      "\u001b[0;32m~/apps/anaconda3/envs/pysanj/lib/python3.7/site-packages/matplotlib/figure.py\u001b[0m in \u001b[0;36msavefig\u001b[0;34m(self, fname, transparent, **kwargs)\u001b[0m\n\u001b[1;32m   3010\u001b[0m                         ax.patch._cm_set(facecolor='none', edgecolor='none'))\n\u001b[1;32m   3011\u001b[0m \u001b[0;34m\u001b[0m\u001b[0m\n\u001b[0;32m-> 3012\u001b[0;31m             \u001b[0mself\u001b[0m\u001b[0;34m.\u001b[0m\u001b[0mcanvas\u001b[0m\u001b[0;34m.\u001b[0m\u001b[0mprint_figure\u001b[0m\u001b[0;34m(\u001b[0m\u001b[0mfname\u001b[0m\u001b[0;34m,\u001b[0m \u001b[0;34m**\u001b[0m\u001b[0mkwargs\u001b[0m\u001b[0;34m)\u001b[0m\u001b[0;34m\u001b[0m\u001b[0;34m\u001b[0m\u001b[0m\n\u001b[0m\u001b[1;32m   3013\u001b[0m \u001b[0;34m\u001b[0m\u001b[0m\n\u001b[1;32m   3014\u001b[0m     def ginput(self, n=1, timeout=30, show_clicks=True,\n",
      "\u001b[0;32m~/apps/anaconda3/envs/pysanj/lib/python3.7/site-packages/matplotlib/backend_bases.py\u001b[0m in \u001b[0;36mprint_figure\u001b[0;34m(self, filename, dpi, facecolor, edgecolor, orientation, format, bbox_inches, pad_inches, bbox_extra_artists, backend, **kwargs)\u001b[0m\n\u001b[1;32m   2318\u001b[0m                         \u001b[0morientation\u001b[0m\u001b[0;34m=\u001b[0m\u001b[0morientation\u001b[0m\u001b[0;34m,\u001b[0m\u001b[0;34m\u001b[0m\u001b[0;34m\u001b[0m\u001b[0m\n\u001b[1;32m   2319\u001b[0m                         \u001b[0mbbox_inches_restore\u001b[0m\u001b[0;34m=\u001b[0m\u001b[0m_bbox_inches_restore\u001b[0m\u001b[0;34m,\u001b[0m\u001b[0;34m\u001b[0m\u001b[0;34m\u001b[0m\u001b[0m\n\u001b[0;32m-> 2320\u001b[0;31m                         **kwargs)\n\u001b[0m\u001b[1;32m   2321\u001b[0m             \u001b[0;32mfinally\u001b[0m\u001b[0;34m:\u001b[0m\u001b[0;34m\u001b[0m\u001b[0;34m\u001b[0m\u001b[0m\n\u001b[1;32m   2322\u001b[0m                 \u001b[0;32mif\u001b[0m \u001b[0mbbox_inches\u001b[0m \u001b[0;32mand\u001b[0m \u001b[0mrestore_bbox\u001b[0m\u001b[0;34m:\u001b[0m\u001b[0;34m\u001b[0m\u001b[0;34m\u001b[0m\u001b[0m\n",
      "\u001b[0;32m~/apps/anaconda3/envs/pysanj/lib/python3.7/site-packages/matplotlib/backend_bases.py\u001b[0m in \u001b[0;36mwrapper\u001b[0;34m(*args, **kwargs)\u001b[0m\n\u001b[1;32m   1641\u001b[0m             \u001b[0mkwargs\u001b[0m\u001b[0;34m.\u001b[0m\u001b[0mpop\u001b[0m\u001b[0;34m(\u001b[0m\u001b[0marg\u001b[0m\u001b[0;34m)\u001b[0m\u001b[0;34m\u001b[0m\u001b[0;34m\u001b[0m\u001b[0m\n\u001b[1;32m   1642\u001b[0m \u001b[0;34m\u001b[0m\u001b[0m\n\u001b[0;32m-> 1643\u001b[0;31m         \u001b[0;32mreturn\u001b[0m \u001b[0mfunc\u001b[0m\u001b[0;34m(\u001b[0m\u001b[0;34m*\u001b[0m\u001b[0margs\u001b[0m\u001b[0;34m,\u001b[0m \u001b[0;34m**\u001b[0m\u001b[0mkwargs\u001b[0m\u001b[0;34m)\u001b[0m\u001b[0;34m\u001b[0m\u001b[0;34m\u001b[0m\u001b[0m\n\u001b[0m\u001b[1;32m   1644\u001b[0m \u001b[0;34m\u001b[0m\u001b[0m\n\u001b[1;32m   1645\u001b[0m     \u001b[0;32mreturn\u001b[0m \u001b[0mwrapper\u001b[0m\u001b[0;34m\u001b[0m\u001b[0;34m\u001b[0m\u001b[0m\n",
      "\u001b[0;32m~/apps/anaconda3/envs/pysanj/lib/python3.7/site-packages/matplotlib/_api/deprecation.py\u001b[0m in \u001b[0;36mwrapper\u001b[0;34m(*inner_args, **inner_kwargs)\u001b[0m\n\u001b[1;32m    410\u001b[0m                          \u001b[0;32melse\u001b[0m \u001b[0mdeprecation_addendum\u001b[0m\u001b[0;34m,\u001b[0m\u001b[0;34m\u001b[0m\u001b[0;34m\u001b[0m\u001b[0m\n\u001b[1;32m    411\u001b[0m                 **kwargs)\n\u001b[0;32m--> 412\u001b[0;31m         \u001b[0;32mreturn\u001b[0m \u001b[0mfunc\u001b[0m\u001b[0;34m(\u001b[0m\u001b[0;34m*\u001b[0m\u001b[0minner_args\u001b[0m\u001b[0;34m,\u001b[0m \u001b[0;34m**\u001b[0m\u001b[0minner_kwargs\u001b[0m\u001b[0;34m)\u001b[0m\u001b[0;34m\u001b[0m\u001b[0;34m\u001b[0m\u001b[0m\n\u001b[0m\u001b[1;32m    413\u001b[0m \u001b[0;34m\u001b[0m\u001b[0m\n\u001b[1;32m    414\u001b[0m     \u001b[0mDECORATORS\u001b[0m\u001b[0;34m[\u001b[0m\u001b[0mwrapper\u001b[0m\u001b[0;34m]\u001b[0m \u001b[0;34m=\u001b[0m \u001b[0mdecorator\u001b[0m\u001b[0;34m\u001b[0m\u001b[0;34m\u001b[0m\u001b[0m\n",
      "\u001b[0;32m~/apps/anaconda3/envs/pysanj/lib/python3.7/site-packages/matplotlib/backends/backend_agg.py\u001b[0m in \u001b[0;36mprint_png\u001b[0;34m(self, filename_or_obj, metadata, pil_kwargs, *args)\u001b[0m\n\u001b[1;32m    541\u001b[0m         mpl.image.imsave(\n\u001b[1;32m    542\u001b[0m             \u001b[0mfilename_or_obj\u001b[0m\u001b[0;34m,\u001b[0m \u001b[0mself\u001b[0m\u001b[0;34m.\u001b[0m\u001b[0mbuffer_rgba\u001b[0m\u001b[0;34m(\u001b[0m\u001b[0;34m)\u001b[0m\u001b[0;34m,\u001b[0m \u001b[0mformat\u001b[0m\u001b[0;34m=\u001b[0m\u001b[0;34m\"png\"\u001b[0m\u001b[0;34m,\u001b[0m \u001b[0morigin\u001b[0m\u001b[0;34m=\u001b[0m\u001b[0;34m\"upper\"\u001b[0m\u001b[0;34m,\u001b[0m\u001b[0;34m\u001b[0m\u001b[0;34m\u001b[0m\u001b[0m\n\u001b[0;32m--> 543\u001b[0;31m             dpi=self.figure.dpi, metadata=metadata, pil_kwargs=pil_kwargs)\n\u001b[0m\u001b[1;32m    544\u001b[0m \u001b[0;34m\u001b[0m\u001b[0m\n\u001b[1;32m    545\u001b[0m     \u001b[0;32mdef\u001b[0m \u001b[0mprint_to_buffer\u001b[0m\u001b[0;34m(\u001b[0m\u001b[0mself\u001b[0m\u001b[0;34m)\u001b[0m\u001b[0;34m:\u001b[0m\u001b[0;34m\u001b[0m\u001b[0;34m\u001b[0m\u001b[0m\n",
      "\u001b[0;32m~/apps/anaconda3/envs/pysanj/lib/python3.7/site-packages/matplotlib/image.py\u001b[0m in \u001b[0;36mimsave\u001b[0;34m(fname, arr, vmin, vmax, cmap, format, origin, dpi, metadata, pil_kwargs)\u001b[0m\n\u001b[1;32m   1673\u001b[0m         \u001b[0mpil_kwargs\u001b[0m\u001b[0;34m.\u001b[0m\u001b[0msetdefault\u001b[0m\u001b[0;34m(\u001b[0m\u001b[0;34m\"format\"\u001b[0m\u001b[0;34m,\u001b[0m \u001b[0mformat\u001b[0m\u001b[0;34m)\u001b[0m\u001b[0;34m\u001b[0m\u001b[0;34m\u001b[0m\u001b[0m\n\u001b[1;32m   1674\u001b[0m         \u001b[0mpil_kwargs\u001b[0m\u001b[0;34m.\u001b[0m\u001b[0msetdefault\u001b[0m\u001b[0;34m(\u001b[0m\u001b[0;34m\"dpi\"\u001b[0m\u001b[0;34m,\u001b[0m \u001b[0;34m(\u001b[0m\u001b[0mdpi\u001b[0m\u001b[0;34m,\u001b[0m \u001b[0mdpi\u001b[0m\u001b[0;34m)\u001b[0m\u001b[0;34m)\u001b[0m\u001b[0;34m\u001b[0m\u001b[0;34m\u001b[0m\u001b[0m\n\u001b[0;32m-> 1675\u001b[0;31m         \u001b[0mimage\u001b[0m\u001b[0;34m.\u001b[0m\u001b[0msave\u001b[0m\u001b[0;34m(\u001b[0m\u001b[0mfname\u001b[0m\u001b[0;34m,\u001b[0m \u001b[0;34m**\u001b[0m\u001b[0mpil_kwargs\u001b[0m\u001b[0;34m)\u001b[0m\u001b[0;34m\u001b[0m\u001b[0;34m\u001b[0m\u001b[0m\n\u001b[0m\u001b[1;32m   1676\u001b[0m \u001b[0;34m\u001b[0m\u001b[0m\n\u001b[1;32m   1677\u001b[0m \u001b[0;34m\u001b[0m\u001b[0m\n",
      "\u001b[0;32m~/apps/anaconda3/envs/pysanj/lib/python3.7/site-packages/PIL/Image.py\u001b[0m in \u001b[0;36msave\u001b[0;34m(self, fp, format, **params)\u001b[0m\n\u001b[1;32m   2129\u001b[0m                 \u001b[0mfp\u001b[0m \u001b[0;34m=\u001b[0m \u001b[0mbuiltins\u001b[0m\u001b[0;34m.\u001b[0m\u001b[0mopen\u001b[0m\u001b[0;34m(\u001b[0m\u001b[0mfilename\u001b[0m\u001b[0;34m,\u001b[0m \u001b[0;34m\"r+b\"\u001b[0m\u001b[0;34m)\u001b[0m\u001b[0;34m\u001b[0m\u001b[0;34m\u001b[0m\u001b[0m\n\u001b[1;32m   2130\u001b[0m             \u001b[0;32melse\u001b[0m\u001b[0;34m:\u001b[0m\u001b[0;34m\u001b[0m\u001b[0;34m\u001b[0m\u001b[0m\n\u001b[0;32m-> 2131\u001b[0;31m                 \u001b[0mfp\u001b[0m \u001b[0;34m=\u001b[0m \u001b[0mbuiltins\u001b[0m\u001b[0;34m.\u001b[0m\u001b[0mopen\u001b[0m\u001b[0;34m(\u001b[0m\u001b[0mfilename\u001b[0m\u001b[0;34m,\u001b[0m \u001b[0;34m\"w+b\"\u001b[0m\u001b[0;34m)\u001b[0m\u001b[0;34m\u001b[0m\u001b[0;34m\u001b[0m\u001b[0m\n\u001b[0m\u001b[1;32m   2132\u001b[0m \u001b[0;34m\u001b[0m\u001b[0m\n\u001b[1;32m   2133\u001b[0m         \u001b[0;32mtry\u001b[0m\u001b[0;34m:\u001b[0m\u001b[0;34m\u001b[0m\u001b[0;34m\u001b[0m\u001b[0m\n",
      "\u001b[0;31mFileNotFoundError\u001b[0m: [Errno 2] No such file or directory: 'results/variantAnalysis/pca/PCA-X-Busia.png'"
     ]
    },
    {
     "data": {
      "image/png": "[encoded data removed]",
      "text/plain": [
       "<Figure size 720x360 with 2 Axes>"
      ]
     },
     "metadata": {
      "needs_background": "light"
     },
     "output_type": "display_data"
    }
   ],
   "source": [
    "#### Principal Components Analysis (PCA) ####\n",
    "# Set up dict to store indices for colours\n",
    "d={}\n",
    "for name, inds in subpops.items():\n",
    "    for n in range(len(inds)):\n",
    "        p = inds[n]\n",
    "        d[p] = name\n",
    "\n",
    "# Store dict as a dataframe and get colours \n",
    "treatment_indices = pd.DataFrame.from_dict(d, orient='index').reset_index()\n",
    "treatment_indices = treatment_indices.rename(columns = {'index':'sample_index', 0:\"name\"})\n",
    "pop_colours = get_colour_dict(treatment_indices['name'], \"viridis\")\n",
    "\n",
    "# Run PCA function defined in tools.py\n",
    "print(f\"Performing PCA on {dataset} chromosome {chrom}\")\n",
    "pca(geno, chrom, ploidy, dataset, populations, metadata, pop_colours, prune=True, scaler=None)"
   ]
  },
  {
   "cell_type": "code",
   "execution_count": null,
   "metadata": {},
   "outputs": [],
   "source": []
  },
  {
   "cell_type": "code",
   "execution_count": null,
   "metadata": {},
   "outputs": [],
   "source": []
  },
  {
   "cell_type": "code",
   "execution_count": null,
   "metadata": {},
   "outputs": [],
   "source": []
  },
  {
   "cell_type": "markdown",
   "metadata": {},
   "source": [
    "### We want to find intergenic and intron sequence\n",
    "\n",
    "intergenic = complement of genic     \n",
    "\n",
    "intronic = complement of intergenic, and exonic?"
   ]
  },
  {
   "cell_type": "code",
   "execution_count": 11,
   "metadata": {
    "scrolled": true
   },
   "outputs": [],
   "source": [
    "def getSNPGffstats(gff, pos):\n",
    "    \"\"\"\n",
    "    Calculates number of sites found that intersect with a GFF feature and the proportion % \n",
    "    \"\"\"\n",
    "    \n",
    "    refBases = allel.SortedIndex(np.arange(1, gff['end'].max()+1))\n",
    "\n",
    "    exons = gff.query(\"type == 'exon'\")\n",
    "    genes = gff.query(\"type == 'gene'\")\n",
    "    \n",
    "    ## Get intergenic and intronic SNP numbers\n",
    "    snpsInGenesBool = pos.locate_intersection_ranges(genes['start'], genes['end'])[0] # Locate genic snps\n",
    "    intergenicSNPs = pos[~snpsInGenesBool]                 # get complement of genic snps - intergenic\n",
    "    genicSNPs = pos[snpsInGenesBool]             \n",
    "    snpsInExonsBool = genicSNPs.locate_intersection_ranges(exons['start'], exons['end'])[0]\n",
    "    exonicSNPs = genicSNPs[snpsInExonsBool]\n",
    "    intronicSNPs = genicSNPs[~snpsInExonsBool]\n",
    "\n",
    "    ## Get intergenic and intronic SNP numbers in Reference genome\n",
    "    snpsInGenesBool = refBases.locate_intersection_ranges(genes['start'], genes['end'])[0] # Locate genic snps\n",
    "    RefIntergenicSNPs = refBases[~snpsInGenesBool]                 # get complement of genic snps - intergenic\n",
    "    RefGenicSNPs = refBases[snpsInGenesBool]             \n",
    "    snpsInExonsBool = RefGenicSNPs.locate_intersection_ranges(exons['start'], exons['end'])[0]\n",
    "    RefExonicSNPs = RefGenicSNPs[snpsInExonsBool]\n",
    "    RefIntronicSNPs = RefGenicSNPs[~snpsInExonsBool]\n",
    "    \n",
    "    RefDict = {}\n",
    "    SamplesDict = {}\n",
    "    for feature in ['chromosome', 'gene', 'exon', 'intron', 'three_prime_UTR', 'five_prime_UTR']:\n",
    "                RefDict[feature] = getSNPsinType(gff, refBases, feature, verbose=False)\n",
    "                SamplesDict[feature] = getSNPsinType(gff, pos, feature, verbose=False)\n",
    "    \n",
    "    RefDict['intergenic'] = [RefIntergenicSNPs.shape[0], refBases.shape[0], RefIntergenicSNPs.shape[0]/refBases.shape[0]]\n",
    "    SamplesDict['intergenic'] = [intergenicSNPs.shape[0], pos.shape[0], intergenicSNPs.shape[0]/pos.shape[0]]\n",
    "    RefDict['intron'] = [RefIntronicSNPs.shape[0], refBases.shape[0], RefIntronicSNPs.shape[0]/refBases.shape[0]]\n",
    "    SamplesDict['intron'] = [intronicSNPs.shape[0], pos.shape[0], intronicSNPs.shape[0]/pos.shape[0]]\n",
    "    \n",
    "    ref = pd.DataFrame.from_dict(RefDict).T.rename(columns={2:'ReferenceGenomeProportion'})[['ReferenceGenomeProportion']]\n",
    "    res = pd.DataFrame.from_dict(SamplesDict).T.rename(columns={0:'called', 1:'total', 2:'proportion'})\n",
    "    res[['total', 'called']] = res[['total', 'called']].astype(int)\n",
    "    ref = ref.merge(res, left_index=True, right_index=True)\n",
    "    return(ref)\n",
    "\n",
    "\n",
    "def getSNPsinType(gff, pos, feature, verbose=False):\n",
    "    gf = gff.query(\"type == @feature\")\n",
    "\n",
    "    snps = pos.intersect_ranges(gf['start'], gf['end'])\n",
    "    total = pos.shape[0]\n",
    "    called = snps.shape[0]\n",
    "    prop = called/total\n",
    "    return(called, total, prop)"
   ]
  },
  {
   "cell_type": "code",
   "execution_count": 13,
   "metadata": {},
   "outputs": [],
   "source": [
    "gff = allel.gff3_to_dataframe(gffpath, attributes=['Parent', 'ID'])\n",
    "gff = gff.query(\"seqid == @chrom\")"
   ]
  },
  {
   "cell_type": "code",
   "execution_count": 14,
   "metadata": {},
   "outputs": [
    {
     "data": {
      "text/html": [
       "<div>\n",
       "<style scoped>\n",
       "    .dataframe tbody tr th:only-of-type {\n",
       "        vertical-align: middle;\n",
       "    }\n",
       "\n",
       "    .dataframe tbody tr th {\n",
       "        vertical-align: top;\n",
       "    }\n",
       "\n",
       "    .dataframe thead th {\n",
       "        text-align: right;\n",
       "    }\n",
       "</style>\n",
       "<table border=\"1\" class=\"dataframe\">\n",
       "  <thead>\n",
       "    <tr style=\"text-align: right;\">\n",
       "      <th></th>\n",
       "      <th>ReferenceGenomeProportion</th>\n",
       "      <th>called</th>\n",
       "      <th>total</th>\n",
       "      <th>proportion</th>\n",
       "    </tr>\n",
       "  </thead>\n",
       "  <tbody>\n",
       "    <tr>\n",
       "      <th>chromosome</th>\n",
       "      <td>1.000</td>\n",
       "      <td>51496</td>\n",
       "      <td>51496</td>\n",
       "      <td>1.000</td>\n",
       "    </tr>\n",
       "    <tr>\n",
       "      <th>gene</th>\n",
       "      <td>0.444</td>\n",
       "      <td>38891</td>\n",
       "      <td>51496</td>\n",
       "      <td>0.755</td>\n",
       "    </tr>\n",
       "    <tr>\n",
       "      <th>exon</th>\n",
       "      <td>0.134</td>\n",
       "      <td>29648</td>\n",
       "      <td>51496</td>\n",
       "      <td>0.576</td>\n",
       "    </tr>\n",
       "    <tr>\n",
       "      <th>intron</th>\n",
       "      <td>0.311</td>\n",
       "      <td>9267</td>\n",
       "      <td>51496</td>\n",
       "      <td>0.180</td>\n",
       "    </tr>\n",
       "    <tr>\n",
       "      <th>three_prime_UTR</th>\n",
       "      <td>0.035</td>\n",
       "      <td>11748</td>\n",
       "      <td>51496</td>\n",
       "      <td>0.228</td>\n",
       "    </tr>\n",
       "    <tr>\n",
       "      <th>five_prime_UTR</th>\n",
       "      <td>0.018</td>\n",
       "      <td>4292</td>\n",
       "      <td>51496</td>\n",
       "      <td>0.083</td>\n",
       "    </tr>\n",
       "    <tr>\n",
       "      <th>intergenic</th>\n",
       "      <td>0.556</td>\n",
       "      <td>12605</td>\n",
       "      <td>51496</td>\n",
       "      <td>0.245</td>\n",
       "    </tr>\n",
       "  </tbody>\n",
       "</table>\n",
       "</div>"
      ],
      "text/plain": [
       "                 ReferenceGenomeProportion  called  total  proportion\n",
       "chromosome                           1.000   51496  51496       1.000\n",
       "gene                                 0.444   38891  51496       0.755\n",
       "exon                                 0.134   29648  51496       0.576\n",
       "intron                               0.311    9267  51496       0.180\n",
       "three_prime_UTR                      0.035   11748  51496       0.228\n",
       "five_prime_UTR                       0.018    4292  51496       0.083\n",
       "intergenic                           0.556   12605  51496       0.245"
      ]
     },
     "execution_count": 14,
     "metadata": {},
     "output_type": "execute_result"
    }
   ],
   "source": [
    "df = getSNPGffstats(gff, pos)\n",
    "df.round(3)"
   ]
  },
  {
   "cell_type": "code",
   "execution_count": 16,
   "metadata": {},
   "outputs": [],
   "source": [
    "df = pd.read_csv(\"../../results/variantAnalysis/SNPstats/snpsPerGenomicFeature.tsv\", sep=\"\\t\")\n",
    "df = df.rename(columns={'feature': 'type'}).set_index(\"type\")"
   ]
  },
  {
   "cell_type": "code",
   "execution_count": 17,
   "metadata": {},
   "outputs": [],
   "source": [
    "df = df[['ReferenceGenomeProportion', 'proportion']]\n",
    "df = df.reset_index().rename(columns={'index': 'type'}).query(\"type not in ['chromosome', 'gene']\").set_index(\"type\")"
   ]
  },
  {
   "cell_type": "code",
   "execution_count": 18,
   "metadata": {},
   "outputs": [],
   "source": [
    "df = df.sort_values(by='proportion', ascending=False).reset_index().rename(columns={'index':'type'})\n",
    "df = df.rename(columns={'ReferenceGenomeProportion': 'AgamP4 reference', 'proportion': 'Dataset SNPs'})\n",
    "df = df.melt(id_vars=['type'], value_vars=['AgamP4 reference', 'Dataset SNPs'], var_name=\"data\", value_name=\"prop\")"
   ]
  },
  {
   "cell_type": "code",
   "execution_count": 19,
   "metadata": {},
   "outputs": [
    {
     "data": {
      "text/html": [
       "<div>\n",
       "<style scoped>\n",
       "    .dataframe tbody tr th:only-of-type {\n",
       "        vertical-align: middle;\n",
       "    }\n",
       "\n",
       "    .dataframe tbody tr th {\n",
       "        vertical-align: top;\n",
       "    }\n",
       "\n",
       "    .dataframe thead th {\n",
       "        text-align: right;\n",
       "    }\n",
       "</style>\n",
       "<table border=\"1\" class=\"dataframe\">\n",
       "  <thead>\n",
       "    <tr style=\"text-align: right;\">\n",
       "      <th></th>\n",
       "      <th>type</th>\n",
       "      <th>data</th>\n",
       "      <th>prop</th>\n",
       "    </tr>\n",
       "  </thead>\n",
       "  <tbody>\n",
       "    <tr>\n",
       "      <th>0</th>\n",
       "      <td>exon</td>\n",
       "      <td>AgamP4 reference</td>\n",
       "      <td>0.141347</td>\n",
       "    </tr>\n",
       "    <tr>\n",
       "      <th>1</th>\n",
       "      <td>three_prime_UTR</td>\n",
       "      <td>AgamP4 reference</td>\n",
       "      <td>0.031680</td>\n",
       "    </tr>\n",
       "    <tr>\n",
       "      <th>2</th>\n",
       "      <td>intergenic</td>\n",
       "      <td>AgamP4 reference</td>\n",
       "      <td>0.537352</td>\n",
       "    </tr>\n",
       "    <tr>\n",
       "      <th>3</th>\n",
       "      <td>intron</td>\n",
       "      <td>AgamP4 reference</td>\n",
       "      <td>0.321513</td>\n",
       "    </tr>\n",
       "    <tr>\n",
       "      <th>4</th>\n",
       "      <td>five_prime_UTR</td>\n",
       "      <td>AgamP4 reference</td>\n",
       "      <td>0.016448</td>\n",
       "    </tr>\n",
       "    <tr>\n",
       "      <th>5</th>\n",
       "      <td>exon</td>\n",
       "      <td>Dataset SNPs</td>\n",
       "      <td>0.726647</td>\n",
       "    </tr>\n",
       "    <tr>\n",
       "      <th>6</th>\n",
       "      <td>three_prime_UTR</td>\n",
       "      <td>Dataset SNPs</td>\n",
       "      <td>0.202863</td>\n",
       "    </tr>\n",
       "    <tr>\n",
       "      <th>7</th>\n",
       "      <td>intergenic</td>\n",
       "      <td>Dataset SNPs</td>\n",
       "      <td>0.160186</td>\n",
       "    </tr>\n",
       "    <tr>\n",
       "      <th>8</th>\n",
       "      <td>intron</td>\n",
       "      <td>Dataset SNPs</td>\n",
       "      <td>0.113298</td>\n",
       "    </tr>\n",
       "    <tr>\n",
       "      <th>9</th>\n",
       "      <td>five_prime_UTR</td>\n",
       "      <td>Dataset SNPs</td>\n",
       "      <td>0.082495</td>\n",
       "    </tr>\n",
       "  </tbody>\n",
       "</table>\n",
       "</div>"
      ],
      "text/plain": [
       "              type              data      prop\n",
       "0             exon  AgamP4 reference  0.141347\n",
       "1  three_prime_UTR  AgamP4 reference  0.031680\n",
       "2       intergenic  AgamP4 reference  0.537352\n",
       "3           intron  AgamP4 reference  0.321513\n",
       "4   five_prime_UTR  AgamP4 reference  0.016448\n",
       "5             exon      Dataset SNPs  0.726647\n",
       "6  three_prime_UTR      Dataset SNPs  0.202863\n",
       "7       intergenic      Dataset SNPs  0.160186\n",
       "8           intron      Dataset SNPs  0.113298\n",
       "9   five_prime_UTR      Dataset SNPs  0.082495"
      ]
     },
     "execution_count": 19,
     "metadata": {},
     "output_type": "execute_result"
    }
   ],
   "source": [
    "df"
   ]
  },
  {
   "cell_type": "code",
   "execution_count": 20,
   "metadata": {},
   "outputs": [],
   "source": [
    "exon = df.query(\"type == 'exon'\")\n",
    "intergenic = df.query(\"type == 'intergenic'\")\n",
    "intron = df.query(\"type == 'intron'\")\n",
    "threeprime = df.query(\"type == 'three_prime_UTR'\")\n",
    "fiveprime = df.query(\"type == 'five_prime_UTR'\")"
   ]
  },
  {
   "cell_type": "code",
   "execution_count": 21,
   "metadata": {},
   "outputs": [
    {
     "name": "stderr",
     "output_type": "stream",
     "text": [
      "/home/sanj/apps/anaconda3/envs/pysanj/lib/python3.7/site-packages/pandas/core/indexing.py:966: SettingWithCopyWarning: \n",
      "A value is trying to be set on a copy of a slice from a DataFrame.\n",
      "Try using .loc[row_indexer,col_indexer] = value instead\n",
      "\n",
      "See the caveats in the documentation: https://pandas.pydata.org/pandas-docs/stable/user_guide/indexing.html#returning-a-view-versus-a-copy\n",
      "  self.obj[item] = s\n"
     ]
    }
   ],
   "source": [
    "intergenic.loc[:,'prop'] = 1\n",
    "fullexon= (exon['prop'].reset_index(drop=True)).to_list()\n",
    "exon.loc[:,'prop'] = (exon['prop'].reset_index(drop=True) - threeprime['prop'].reset_index(drop=True)).to_list()\n",
    "threeprime.loc[:,'prop'] = (fullexon + intron['prop']).reset_index(drop=True).to_list()\n",
    "intron.loc[:,'prop'] = (intron['prop'].reset_index(drop=True) + exon['prop'].reset_index(drop=True)).to_list()"
   ]
  },
  {
   "cell_type": "code",
   "execution_count": 29,
   "metadata": {},
   "outputs": [],
   "source": [
    "import matplotlib.pyplot as plt\n",
    "import seaborn as sns"
   ]
  },
  {
   "cell_type": "code",
   "execution_count": 22,
   "metadata": {},
   "outputs": [
    {
     "data": {
      "text/html": [
       "<div>\n",
       "<style scoped>\n",
       "    .dataframe tbody tr th:only-of-type {\n",
       "        vertical-align: middle;\n",
       "    }\n",
       "\n",
       "    .dataframe tbody tr th {\n",
       "        vertical-align: top;\n",
       "    }\n",
       "\n",
       "    .dataframe thead th {\n",
       "        text-align: right;\n",
       "    }\n",
       "</style>\n",
       "<table border=\"1\" class=\"dataframe\">\n",
       "  <thead>\n",
       "    <tr style=\"text-align: right;\">\n",
       "      <th></th>\n",
       "      <th>type</th>\n",
       "      <th>data</th>\n",
       "      <th>prop</th>\n",
       "    </tr>\n",
       "  </thead>\n",
       "  <tbody>\n",
       "    <tr>\n",
       "      <th>1</th>\n",
       "      <td>three_prime_UTR</td>\n",
       "      <td>AgamP4 reference</td>\n",
       "      <td>0.462860</td>\n",
       "    </tr>\n",
       "    <tr>\n",
       "      <th>6</th>\n",
       "      <td>three_prime_UTR</td>\n",
       "      <td>Dataset SNPs</td>\n",
       "      <td>0.839944</td>\n",
       "    </tr>\n",
       "  </tbody>\n",
       "</table>\n",
       "</div>"
      ],
      "text/plain": [
       "              type              data      prop\n",
       "1  three_prime_UTR  AgamP4 reference  0.462860\n",
       "6  three_prime_UTR      Dataset SNPs  0.839944"
      ]
     },
     "execution_count": 22,
     "metadata": {},
     "output_type": "execute_result"
    }
   ],
   "source": [
    "threeprime"
   ]
  },
  {
   "cell_type": "code",
   "execution_count": 23,
   "metadata": {},
   "outputs": [
    {
     "data": {
      "text/html": [
       "<div>\n",
       "<style scoped>\n",
       "    .dataframe tbody tr th:only-of-type {\n",
       "        vertical-align: middle;\n",
       "    }\n",
       "\n",
       "    .dataframe tbody tr th {\n",
       "        vertical-align: top;\n",
       "    }\n",
       "\n",
       "    .dataframe thead th {\n",
       "        text-align: right;\n",
       "    }\n",
       "</style>\n",
       "<table border=\"1\" class=\"dataframe\">\n",
       "  <thead>\n",
       "    <tr style=\"text-align: right;\">\n",
       "      <th></th>\n",
       "      <th>type</th>\n",
       "      <th>data</th>\n",
       "      <th>prop</th>\n",
       "    </tr>\n",
       "  </thead>\n",
       "  <tbody>\n",
       "    <tr>\n",
       "      <th>0</th>\n",
       "      <td>exon</td>\n",
       "      <td>AgamP4 reference</td>\n",
       "      <td>0.109666</td>\n",
       "    </tr>\n",
       "    <tr>\n",
       "      <th>5</th>\n",
       "      <td>exon</td>\n",
       "      <td>Dataset SNPs</td>\n",
       "      <td>0.523784</td>\n",
       "    </tr>\n",
       "  </tbody>\n",
       "</table>\n",
       "</div>"
      ],
      "text/plain": [
       "   type              data      prop\n",
       "0  exon  AgamP4 reference  0.109666\n",
       "5  exon      Dataset SNPs  0.523784"
      ]
     },
     "execution_count": 23,
     "metadata": {},
     "output_type": "execute_result"
    }
   ],
   "source": [
    "exon"
   ]
  },
  {
   "cell_type": "code",
   "execution_count": 24,
   "metadata": {},
   "outputs": [
    {
     "data": {
      "text/plain": [
       "[0.14134655542974695, 0.7266468411707674]"
      ]
     },
     "execution_count": 24,
     "metadata": {},
     "output_type": "execute_result"
    }
   ],
   "source": [
    "fullexon"
   ]
  },
  {
   "cell_type": "code",
   "execution_count": 25,
   "metadata": {},
   "outputs": [
    {
     "data": {
      "text/html": [
       "<div>\n",
       "<style scoped>\n",
       "    .dataframe tbody tr th:only-of-type {\n",
       "        vertical-align: middle;\n",
       "    }\n",
       "\n",
       "    .dataframe tbody tr th {\n",
       "        vertical-align: top;\n",
       "    }\n",
       "\n",
       "    .dataframe thead th {\n",
       "        text-align: right;\n",
       "    }\n",
       "</style>\n",
       "<table border=\"1\" class=\"dataframe\">\n",
       "  <thead>\n",
       "    <tr style=\"text-align: right;\">\n",
       "      <th></th>\n",
       "      <th>type</th>\n",
       "      <th>data</th>\n",
       "      <th>prop</th>\n",
       "    </tr>\n",
       "  </thead>\n",
       "  <tbody>\n",
       "    <tr>\n",
       "      <th>3</th>\n",
       "      <td>intron</td>\n",
       "      <td>AgamP4 reference</td>\n",
       "      <td>0.431179</td>\n",
       "    </tr>\n",
       "    <tr>\n",
       "      <th>8</th>\n",
       "      <td>intron</td>\n",
       "      <td>Dataset SNPs</td>\n",
       "      <td>0.637082</td>\n",
       "    </tr>\n",
       "  </tbody>\n",
       "</table>\n",
       "</div>"
      ],
      "text/plain": [
       "     type              data      prop\n",
       "3  intron  AgamP4 reference  0.431179\n",
       "8  intron      Dataset SNPs  0.637082"
      ]
     },
     "execution_count": 25,
     "metadata": {},
     "output_type": "execute_result"
    }
   ],
   "source": [
    "intron"
   ]
  },
  {
   "cell_type": "code",
   "execution_count": null,
   "metadata": {},
   "outputs": [],
   "source": []
  },
  {
   "cell_type": "code",
   "execution_count": 32,
   "metadata": {},
   "outputs": [
    {
     "data": {
      "image/png": "[encoded data removed]",
      "text/plain": [
       "<Figure size 1440x288 with 1 Axes>"
      ]
     },
     "metadata": {
      "needs_background": "light"
     },
     "output_type": "display_data"
    }
   ],
   "source": [
    "plt.figure(figsize=[20,4])\n",
    "ax = plt.gca()\n",
    "plot1 = sns.barplot(data=intergenic, x='prop', y='data', color=\"lightgrey\", edgecolor='white', linewidth=3)\n",
    "plot3 = sns.barplot(data=threeprime, x='prop', y='data', color=\"coral\",edgecolor='white', linewidth=3)\n",
    "plot2 = sns.barplot(data=intron , x='prop', y='data', color=\"teal\" , edgecolor='white', linewidth=3)\n",
    "plot4 = sns.barplot(data=exon, x='prop', y='data', color=\"indianred\", edgecolor='white', linewidth=3)\n",
    "plot5 = sns.barplot(data=fiveprime, x='prop', y='data', color=\"salmon\",  edgecolor='white', linewidth=3)\n",
    "#plt.ylabel(\"Data\", fontdict={'fontsize': 20})\n",
    "plt.ylabel(None)\n",
    "plt.xlabel(\"Proportion of Genome\", fontdict={'fontsize': 20})\n",
    "plt.xticks([0,1], fontsize=20)\n",
    "plt.yticks(fontsize=20)\n",
    "\n",
    "\n",
    "# Using Matplotlib's annotate function and\n",
    "# passing the coordinates where the annotation shall be done\n",
    "# x-coordinate: bar.get_x() + bar.get_width() / 2\n",
    "# y-coordinate: bar.get_height()\n",
    "# free space to be left to make graph pleasing: (0, 8)\n",
    "# ha and va stand for the horizontal and vertical alignment\n",
    "plot1.annotate( \"5' UTR\", xy=(0.018,1.10),\n",
    "               size=15, xytext=(5, 8),\n",
    "               textcoords='offset points')\n",
    "plot1.annotate( \"5' UTR\", xy=(0,0.15), rotation=90,\n",
    "               size=15, xytext=(5, 8),\n",
    "               textcoords='offset points')\n",
    "\n",
    "plot1.annotate( \"CDS\", xy=(0.045,0.10),# rotation=90,\n",
    "               size=15, xytext=(5, 8),\n",
    "               textcoords='offset points')\n",
    "plot1.annotate( \"CDS\", xy=(0.27,1.10), #rotation=90,\n",
    "               size=15, xytext=(5, 8),\n",
    "               textcoords='offset points')\n",
    "    \n",
    "    \n",
    "plot1.annotate( \"3' UTR\", xy=(0.439,0.15), rotation=90,\n",
    "               size=15, xytext=(5, 8),\n",
    "               textcoords='offset points')\n",
    "plot1.annotate( \"3' UTR\", xy=(0.70,1.10),# rotation=90,\n",
    "               size=15, xytext=(5, 8),\n",
    "               textcoords='offset points')\n",
    "\n",
    "    \n",
    "plot1.annotate( \"Intron\", xy=(0.25,0.10),# rotation=90,\n",
    "               size=15, xytext=(5, 8),\n",
    "               textcoords='offset points')\n",
    "plot1.annotate( \"Intron\", xy=(0.55,1.10),# rotation=90,\n",
    "               size=15, xytext=(5, 8),\n",
    "               textcoords='offset points')\n",
    "\n",
    "\n",
    "plot1.annotate( \"Intergenic\", xy=(0.70,0.10),# rotation=90,\n",
    "               size=15, xytext=(5, 8),\n",
    "               textcoords='offset points')\n",
    "plot1.annotate( \"Intergenic\", xy=(0.88,1.10),# rotation=90,\n",
    "               size=15, xytext=(5, 8),\n",
    "               textcoords='offset points')\n",
    "\n",
    "#cds ref\n",
    "ax.text(0.057, 0.25, \"9%\", color='black',\n",
    "        bbox=dict(facecolor='white', edgecolor='black', alpha=0.4, boxstyle='round', pad=0.5))\n",
    "#int data\n",
    "ax.text(0.905,1.25, \"16%\", color='black',\n",
    "        bbox=dict(facecolor='white', edgecolor='black', alpha=0.4, boxstyle='round', pad=0.5))\n",
    "#int ref\n",
    "ax.text(0.729, 0.25, \"54%\", color='black',\n",
    "        bbox=dict(facecolor='white', edgecolor='black', alpha=0.4, boxstyle='round', pad=0.5))\n",
    "# intron ref\n",
    "ax.text(0.265, 0.25, \"32%\", color='black',\n",
    "        bbox=dict(facecolor='white', edgecolor='black', alpha=0.4, boxstyle='round', pad=0.5))\n",
    "# intron d\n",
    "ax.text(0.565, 1.25, \"11%\", color='black',\n",
    "        bbox=dict(facecolor='white', edgecolor='black', alpha=0.4, boxstyle='round', pad=0.5))\n",
    "\n",
    "# cds\n",
    "ax.text(0.280, 1.25, \"44%\", color='black',\n",
    "        bbox=dict(facecolor='white', edgecolor='black', alpha=0.4, boxstyle='round', pad=0.5))\n",
    "\n",
    "# 3utr\n",
    "ax.text(0.719, 1.25, \"20%\", color='black',\n",
    "        bbox=dict(facecolor='white', edgecolor='black', alpha=0.4, boxstyle='round', pad=0.5))\n",
    "\n",
    "# 5utr data\n",
    "ax.text(0.036, 1.25, \"8%\", color='black',\n",
    "        bbox=dict(facecolor='white', edgecolor='black', alpha=0.4, boxstyle='round', pad=0.5))\n",
    "\n",
    "# 5utr ref\n",
    "ax.text(0.003, 0.31, \"2%\", color='black',\n",
    "        bbox=dict(facecolor='white', edgecolor='black', alpha=0.4, boxstyle='round', pad=0.5))\n",
    "\n",
    "# 3utr ref\n",
    "ax.text(0.439, 0.31, \"3%\", color='black',\n",
    "        bbox=dict(facecolor='white', edgecolor='black', alpha=0.4, boxstyle='round', pad=0.5))\n",
    "sns.despine(bottom = True, left = True)\n",
    "\n",
    "plt.savefig(\"../../results/variantAnalysis/SNPstats/barPlot.fractions.pdf\", bbox_inches='tight', dpi=500)\n",
    "plt.show()"
   ]
  },
  {
   "cell_type": "code",
   "execution_count": 96,
   "metadata": {},
   "outputs": [
    {
     "data": {
      "text/html": [
       "<div>\n",
       "<style scoped>\n",
       "    .dataframe tbody tr th:only-of-type {\n",
       "        vertical-align: middle;\n",
       "    }\n",
       "\n",
       "    .dataframe tbody tr th {\n",
       "        vertical-align: top;\n",
       "    }\n",
       "\n",
       "    .dataframe thead th {\n",
       "        text-align: right;\n",
       "    }\n",
       "</style>\n",
       "<table border=\"1\" class=\"dataframe\">\n",
       "  <thead>\n",
       "    <tr style=\"text-align: right;\">\n",
       "      <th></th>\n",
       "      <th>prop</th>\n",
       "    </tr>\n",
       "    <tr>\n",
       "      <th>data</th>\n",
       "      <th></th>\n",
       "    </tr>\n",
       "  </thead>\n",
       "  <tbody>\n",
       "    <tr>\n",
       "      <th>AgamP4 reference</th>\n",
       "      <td>1.048340</td>\n",
       "    </tr>\n",
       "    <tr>\n",
       "      <th>Dataset SNPs</th>\n",
       "      <td>1.285488</td>\n",
       "    </tr>\n",
       "  </tbody>\n",
       "</table>\n",
       "</div>"
      ],
      "text/plain": [
       "                      prop\n",
       "data                      \n",
       "AgamP4 reference  1.048340\n",
       "Dataset SNPs      1.285488"
      ]
     },
     "execution_count": 96,
     "metadata": {},
     "output_type": "execute_result"
    }
   ],
   "source": [
    "df.groupby('data').agg({'prop':'sum'})"
   ]
  }
 ],
 "metadata": {
  "interpreter": {
   "hash": "26e3c85a5765de9d8612a61f1b38d3b28703d81e71aebb235cb1324b685daf70"
  },
  "kernelspec": {
   "display_name": "Python 3.7.6 ('pysanj')",
   "language": "python",
   "name": "python3"
  },
  "language_info": {
   "codemirror_mode": {
    "name": "ipython",
    "version": 3
   },
   "file_extension": ".py",
   "mimetype": "text/x-python",
   "name": "python",
   "nbconvert_exporter": "python",
   "pygments_lexer": "ipython3",
   "version": "3.7.6"
  }
 },
 "nbformat": 4,
 "nbformat_minor": 2
}
