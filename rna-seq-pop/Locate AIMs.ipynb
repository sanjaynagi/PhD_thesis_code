{
 "cells": [
  {
   "cell_type": "code",
   "execution_count": 1,
   "metadata": {},
   "outputs": [],
   "source": [
    "import allel"
   ]
  },
  {
   "cell_type": "code",
   "execution_count": 2,
   "metadata": {},
   "outputs": [],
   "source": [
    "%run workflow/scripts/tools.py\n",
    "import matplotlib\n",
    "matplotlib.use('Tkagg')\n",
    "import matplotlib.pyplot as plt"
   ]
  },
  {
   "cell_type": "code",
   "execution_count": 3,
   "metadata": {},
   "outputs": [],
   "source": [
    "chroms = ['2L', '2R', '3R', '3L', 'X']"
   ]
  },
  {
   "cell_type": "code",
   "execution_count": 4,
   "metadata": {},
   "outputs": [],
   "source": [
    "idx = pd.read_csv(\"resources/reference/Anopheles-gambiae-PEST_CHROMOSOMES_AgamP4.fa.fai\", sep=\"\\t\", header=None)"
   ]
  },
  {
   "cell_type": "code",
   "execution_count": 5,
   "metadata": {},
   "outputs": [],
   "source": [
    "aims = zarr.open(\"resources/gamb_vs_colu.zarr/\", mode='r')"
   ]
  },
  {
   "cell_type": "code",
   "execution_count": 8,
   "metadata": {
    "scrolled": false
   },
   "outputs": [
    {
     "name": "stdout",
     "output_type": "stream",
     "text": [
      "\n",
      "-------------- Reading VCF for chromosome 2L --------------\n",
      "------- Filtering VCF at QUAL=30 and missingness proportion of 0.8 -------\n",
      "After QUAL filter, 370890 SNPs retained out of 439212 for chromosome 2L\n",
      "After missingness filter, 230069 SNPs retained out of 370890 for chromosome 2L\n",
      "\n",
      " In the data, across all samples there are 36 Ancestry Informative markers on Chromosome 2L\n"
     ]
    }
   ],
   "source": [
    "### AIMS ###\n",
    "metadata = pd.read_csv(\"config/samples.tsv\", sep=\"\\t\")\n",
    "metadata = metadata.sort_values(by='species').reset_index(drop=True)\n",
    "numbers = get_numbers_dict(10)\n",
    "ploidy = 10\n",
    "qualflt = 30\n",
    "missingprop = 0.8\n",
    "\n",
    "# read AIMs\n",
    "aims = zarr.open(\"resources/gamb_vs_colu.zarr/\", mode='r')\n",
    "\n",
    "## initialize dicts\n",
    "aims_chrom_gamb = {}\n",
    "aims_chrom_colu = {}\n",
    "all_gamb = defaultdict(list)\n",
    "all_colu = defaultdict(list)\n",
    "n_aims_per_chrom = {}\n",
    "\n",
    "for chrom in chroms[:1]:\n",
    "\n",
    "    # read in and filter data\n",
    "    path = f\"results/variants/vcfs/annot.variants.{chrom}.vcf.gz\"\n",
    "    vcf, geno, acsubpops, pos, depth, snpeff, subpops, pops =  readAndFilterVcf(path=path,\n",
    "                                                               chrom=chrom,\n",
    "                                                               samples=metadata,\n",
    "                                                               numbers=numbers,\n",
    "                                                               ploidy=ploidy,\n",
    "                                                               qualflt=qualflt,\n",
    "                                                               missingfltprop=missingprop)\n",
    "    aimspos = aims[chrom]['POS'][:]\n",
    "\n",
    "    # get intersection of aims and our SNPs\n",
    "    aims_pos_mask, aims_mask_2 = pos.locate_intersection(aimspos)\n",
    "    our_aims = pos[aims_pos_mask]\n",
    "    print(f\"\\n In the data, across all samples there are {our_aims.shape[0]} Ancestry Informative markers on Chromosome {chrom}\")\n",
    "\n",
    "    # get gamb and colu alleles, and subset to aims that we have in the rna-seq data \n",
    "    aimscolu = aims[chrom]['colu_allele'][:][aims_mask_2]\n",
    "    aimsgamb = aims[chrom]['gamb_allele'][:][aims_mask_2]\n",
    "\n",
    "    # get mask that was used in readAndFilterVcf()\n",
    "    mask = pos.locate_intersection(vcf['variants/POS'])[1]\n",
    "    ref  = vcf['variants/REF'][mask][aims_pos_mask]\n",
    "    alt = vcf['variants/ALT'][mask][aims_pos_mask]\n",
    "\n",
    "    # filter geno array to set of aims\n",
    "    geno_aims = geno.compress(aims_pos_mask, axis=0)\n",
    "\n",
    "    totalgambscore = {}\n",
    "    totalcoluscore = {}\n",
    "\n",
    "    for aim in our_aims:\n",
    "\n",
    "        gambscore = {}\n",
    "        coluscore = {}\n",
    "\n",
    "        # filter arrays \n",
    "        mask = our_aims == aim\n",
    "        ref_ = ref[mask]\n",
    "        alt_ = alt[mask]\n",
    "        aimscolu_ = aimscolu[mask]\n",
    "        aimsgamb_ = aimsgamb[mask]\n",
    "\n",
    "        gn_aim = geno_aims.compress(mask, axis=0)\n",
    "\n",
    "        # convert genotypes to nucleotides\n",
    "        gn2nucleotide = {0:ref_[0],\n",
    "                        1:alt_[0][0],\n",
    "                         2:alt_[0][1],\n",
    "                         3:alt_[0][2],\n",
    "                        -1:float(\"nan\")}\n",
    "        gn = replace_with_dict2_generic(gn_aim, gn2nucleotide)\n",
    "\n",
    "        # for each sample, get proportion of gambiae/coluzzii alleles\n",
    "        # alleles that are different to both will be missed here\n",
    "        for sample in metadata.treatment.unique():\n",
    "            alleles = gn.take(subpops[sample], axis=1).flatten()\n",
    "            \n",
    "            # at each AIM, do we have gamb or colu alleles\n",
    "            gamb = alleles[alleles != 'nan'] == aimsgamb_\n",
    "            colu = alleles[alleles != 'nan'] == aimscolu_\n",
    "\n",
    "            # get proportion of gamb v colu alleles at each locus\n",
    "            gambscore[sample] = np.mean(gamb)\n",
    "            coluscore[sample] = np.mean(colu)\n",
    "\n",
    "        totalgambscore[aim] = dict(gambscore)\n",
    "        totalcoluscore[aim] = dict(coluscore)\n",
    "        gambscores = flip_dict(totalgambscore)\n",
    "        coluscores = flip_dict(totalcoluscore)\n",
    "\n",
    "        prop_gambiae = {}\n",
    "        prop_colu = {}\n",
    "        n_aims_per_sample = {}\n",
    "\n",
    "        for sample in metadata.treatment.unique():\n",
    "\n",
    "            prop_gambiae[sample] = np.nanmean(np.array(list(gambscores[sample].values())))\n",
    "            all_gamb[sample].append(np.nanmean(np.array(list(gambscores[sample].values()))))\n",
    "            prop_colu[sample] = np.nanmean(np.array(list(coluscores[sample].values())))\n",
    "            all_colu[sample].append(np.nanmean(np.array(list(coluscores[sample].values()))))\n",
    "            \n",
    "            arr = np.array(list(gambscores[sample].values()))\n",
    "            dim = arr.shape[0]\n",
    "            n_aims_per_sample[sample] = dim-np.sum(np.isnan(arr))\n",
    "            \n",
    "    # store AIM fractions for each chromosome in outer dict \n",
    "    aims_chrom_gamb[chrom] = dict(prop_gambiae)\n",
    "    aims_chrom_colu[chrom] = dict(prop_colu)\n",
    "    n_aims_per_chrom[chrom] = dict(n_aims_per_sample)"
   ]
  },
  {
   "cell_type": "code",
   "execution_count": 9,
   "metadata": {},
   "outputs": [
    {
     "ename": "NameError",
     "evalue": "name 'aimsposdf' is not defined",
     "output_type": "error",
     "traceback": [
      "\u001b[0;31m---------------------------------------------------------------------------\u001b[0m",
      "\u001b[0;31mNameError\u001b[0m                                 Traceback (most recent call last)",
      "\u001b[0;32m<ipython-input-9-e55ceab427b3>\u001b[0m in \u001b[0;36m<module>\u001b[0;34m\u001b[0m\n\u001b[1;32m      1\u001b[0m \u001b[0mcolu\u001b[0m \u001b[0;34m=\u001b[0m \u001b[0mpd\u001b[0m\u001b[0;34m.\u001b[0m\u001b[0mDataFrame\u001b[0m\u001b[0;34m.\u001b[0m\u001b[0mfrom_dict\u001b[0m\u001b[0;34m(\u001b[0m\u001b[0mcoluscores\u001b[0m\u001b[0;34m)\u001b[0m\u001b[0;34m\u001b[0m\u001b[0;34m\u001b[0m\u001b[0m\n\u001b[0;32m----> 2\u001b[0;31m \u001b[0maimscolourdf\u001b[0m \u001b[0;34m=\u001b[0m \u001b[0mpd\u001b[0m\u001b[0;34m.\u001b[0m\u001b[0mmerge\u001b[0m\u001b[0;34m(\u001b[0m\u001b[0maimsposdf\u001b[0m\u001b[0;34m,\u001b[0m \u001b[0mcolu\u001b[0m\u001b[0;34m,\u001b[0m \u001b[0mhow\u001b[0m\u001b[0;34m=\u001b[0m\u001b[0;34m\"outer\"\u001b[0m\u001b[0;34m,\u001b[0m \u001b[0mleft_index\u001b[0m\u001b[0;34m=\u001b[0m\u001b[0;32mTrue\u001b[0m\u001b[0;34m,\u001b[0m \u001b[0mright_index\u001b[0m\u001b[0;34m=\u001b[0m\u001b[0;32mTrue\u001b[0m\u001b[0;34m)\u001b[0m\u001b[0;34m\u001b[0m\u001b[0;34m\u001b[0m\u001b[0m\n\u001b[0m\u001b[1;32m      3\u001b[0m \u001b[0maimscolourdf\u001b[0m \u001b[0;34m=\u001b[0m \u001b[0maimscolourdf\u001b[0m\u001b[0;34m.\u001b[0m\u001b[0mrename\u001b[0m\u001b[0;34m(\u001b[0m\u001b[0mcolumns\u001b[0m\u001b[0;34m=\u001b[0m\u001b[0;34m{\u001b[0m\u001b[0;36m0\u001b[0m\u001b[0;34m:\u001b[0m\u001b[0;34m\"aimspos\"\u001b[0m\u001b[0;34m}\u001b[0m\u001b[0;34m)\u001b[0m\u001b[0;34m\u001b[0m\u001b[0;34m\u001b[0m\u001b[0m\n\u001b[1;32m      4\u001b[0m \u001b[0;34m\u001b[0m\u001b[0m\n\u001b[1;32m      5\u001b[0m \u001b[0maimcolourdf\u001b[0m \u001b[0;34m=\u001b[0m \u001b[0maimscolourdf\u001b[0m\u001b[0;34m.\u001b[0m\u001b[0mmelt\u001b[0m\u001b[0;34m(\u001b[0m\u001b[0mid_vars\u001b[0m\u001b[0;34m=\u001b[0m\u001b[0;34m\"aimspos\"\u001b[0m\u001b[0;34m)\u001b[0m\u001b[0;34m\u001b[0m\u001b[0;34m\u001b[0m\u001b[0m\n",
      "\u001b[0;31mNameError\u001b[0m: name 'aimsposdf' is not defined"
     ]
    }
   ],
   "source": [
    "colu = pd.DataFrame.from_dict(coluscores)\n",
    "aimscolourdf = pd.merge(aimsposdf, colu, how=\"outer\", left_index=True, right_index=True)\n",
    "aimscolourdf = aimscolourdf.rename(columns={0:\"aimspos\"})\n",
    "\n",
    "aimcolourdf = aimscolourdf.melt(id_vars=\"aimspos\")\n",
    "\n",
    "for chrom in chroms[:1]:\n",
    "    #print(chrom)\n",
    "    length = idx[idx[0] == chrom][1]\n",
    "    chromaims = aims[f'{chrom}/POS'][:]\n",
    "    \n",
    "   # print(length, chromaims)\n",
    "    plt.figure()\n",
    "    g=sns.scatterplot(data=aimcolourdf, x='aimspos', y='value', hue=\"variable\", alpha=0.5)\n",
    "    g.set(ylim=(0, 1))\n",
    "    g.set_xlim(0, length.iloc[0])\n",
    "    plt.title(f\"AIMs {chrom}\")\n",
    "    plt.show()\n",
    "    #plt.savefig(f\"results/AIMs_arab_{chrom}.locs.png\")"
   ]
  },
  {
   "cell_type": "code",
   "execution_count": 10,
   "metadata": {},
   "outputs": [],
   "source": [
    "aims = zarr.open(\"resources/gamb_vs_colu.zarr/\", mode='r')\n"
   ]
  },
  {
   "cell_type": "code",
   "execution_count": 17,
   "metadata": {},
   "outputs": [
    {
     "data": {
      "text/html": [
       "<link rel=\"stylesheet\" href=\"//cdnjs.cloudflare.com/ajax/libs/jstree/3.3.3/themes/default/style.min.css\"/><div id=\"d44d6dc2-9378-43dc-baec-77a2f0886ae3\" class=\"zarr-tree\"><ul><li data-jstree='{\"type\": \"Group\"}' class='jstree-open'><span>/</span><ul><li data-jstree='{\"type\": \"Group\"}' class=''><span>2L</span><ul><li data-jstree='{\"type\": \"Array\"}' class=''><span>POS (95,) int64</span></li><li data-jstree='{\"type\": \"Array\"}' class=''><span>colu_allele (95,) object</span></li><li data-jstree='{\"type\": \"Array\"}' class=''><span>gamb_allele (95,) object</span></li></ul></li><li data-jstree='{\"type\": \"Group\"}' class=''><span>2R</span><ul><li data-jstree='{\"type\": \"Array\"}' class=''><span>POS (58,) int64</span></li><li data-jstree='{\"type\": \"Array\"}' class=''><span>colu_allele (58,) object</span></li><li data-jstree='{\"type\": \"Array\"}' class=''><span>gamb_allele (58,) object</span></li></ul></li><li data-jstree='{\"type\": \"Group\"}' class=''><span>3L</span><ul><li data-jstree='{\"type\": \"Array\"}' class=''><span>POS (30,) int64</span></li><li data-jstree='{\"type\": \"Array\"}' class=''><span>colu_allele (30,) object</span></li><li data-jstree='{\"type\": \"Array\"}' class=''><span>gamb_allele (30,) object</span></li></ul></li><li data-jstree='{\"type\": \"Group\"}' class=''><span>3R</span><ul><li data-jstree='{\"type\": \"Array\"}' class=''><span>POS (57,) int64</span></li><li data-jstree='{\"type\": \"Array\"}' class=''><span>colu_allele (57,) object</span></li><li data-jstree='{\"type\": \"Array\"}' class=''><span>gamb_allele (57,) object</span></li></ul></li><li data-jstree='{\"type\": \"Group\"}' class=''><span>X</span><ul><li data-jstree='{\"type\": \"Array\"}' class=''><span>POS (489,) int64</span></li><li data-jstree='{\"type\": \"Array\"}' class=''><span>colu_allele (489,) object</span></li><li data-jstree='{\"type\": \"Array\"}' class=''><span>gamb_allele (489,) object</span></li></ul></li></ul></li></ul></div>\n",
       "<script>\n",
       "    if (!require.defined('jquery')) {\n",
       "        require.config({\n",
       "            paths: {\n",
       "                jquery: '//cdnjs.cloudflare.com/ajax/libs/jquery/1.12.1/jquery.min'\n",
       "            },\n",
       "        });\n",
       "    }\n",
       "    if (!require.defined('jstree')) {\n",
       "        require.config({\n",
       "            paths: {\n",
       "                jstree: '//cdnjs.cloudflare.com/ajax/libs/jstree/3.3.3/jstree.min'\n",
       "            },\n",
       "        });\n",
       "    }\n",
       "    require(['jstree'], function() {\n",
       "        $('#d44d6dc2-9378-43dc-baec-77a2f0886ae3').jstree({\n",
       "            types: {\n",
       "                Group: {\n",
       "                    icon: \"fa fa-folder\"\n",
       "                },\n",
       "                Array: {\n",
       "                    icon: \"fa fa-table\"\n",
       "                }\n",
       "            },\n",
       "            plugins: [\"types\"]\n",
       "        });\n",
       "    });\n",
       "</script>\n"
      ],
      "text/plain": [
       "/\n",
       " ├── 2L\n",
       " │   ├── POS (95,) int64\n",
       " │   ├── colu_allele (95,) object\n",
       " │   └── gamb_allele (95,) object\n",
       " ├── 2R\n",
       " │   ├── POS (58,) int64\n",
       " │   ├── colu_allele (58,) object\n",
       " │   └── gamb_allele (58,) object\n",
       " ├── 3L\n",
       " │   ├── POS (30,) int64\n",
       " │   ├── colu_allele (30,) object\n",
       " │   └── gamb_allele (30,) object\n",
       " ├── 3R\n",
       " │   ├── POS (57,) int64\n",
       " │   ├── colu_allele (57,) object\n",
       " │   └── gamb_allele (57,) object\n",
       " └── X\n",
       "     ├── POS (489,) int64\n",
       "     ├── colu_allele (489,) object\n",
       "     └── gamb_allele (489,) object"
      ]
     },
     "execution_count": 17,
     "metadata": {},
     "output_type": "execute_result"
    }
   ],
   "source": [
    "aims.tree()"
   ]
  },
  {
   "cell_type": "code",
   "execution_count": null,
   "metadata": {},
   "outputs": [],
   "source": []
  },
  {
   "cell_type": "code",
   "execution_count": 25,
   "metadata": {},
   "outputs": [],
   "source": [
    "s = {}\n",
    "for chrom in chroms:\n",
    "    \n",
    "    s[chrom] = pd.DataFrame({\"chrom\" : chrom, \n",
    "                  \"position\": aims[chrom]['POS'][:]})\n",
    "    \n",
    "    "
   ]
  },
  {
   "cell_type": "code",
   "execution_count": 33,
   "metadata": {},
   "outputs": [],
   "source": [
    "pd.concat(s).reset_index(drop=True).to_csv(\"AIMs_positions.tsv\", sep=\"\\t\")"
   ]
  },
  {
   "cell_type": "code",
   "execution_count": null,
   "metadata": {},
   "outputs": [],
   "source": []
  }
 ],
 "metadata": {
  "kernelspec": {
   "display_name": "Python 3.7.3 64-bit ('pysanj': conda)",
   "language": "python",
   "name": "python37364bitpysanjconda39958c5ba9ef41c3a5542f2bfe81dc48"
  },
  "language_info": {
   "codemirror_mode": {
    "name": "ipython",
    "version": 3
   },
   "file_extension": ".py",
   "mimetype": "text/x-python",
   "name": "python",
   "nbconvert_exporter": "python",
   "pygments_lexer": "ipython3",
   "version": "3.7.6"
  }
 },
 "nbformat": 4,
 "nbformat_minor": 2
}
