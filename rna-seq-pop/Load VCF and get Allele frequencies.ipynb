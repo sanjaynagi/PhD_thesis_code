{
 "cells": [
  {
   "cell_type": "code",
   "execution_count": 1,
   "id": "b08cf869",
   "metadata": {},
   "outputs": [],
   "source": [
    "import malariagen_data"
   ]
  },
  {
   "cell_type": "code",
   "execution_count": 2,
   "id": "23214087",
   "metadata": {},
   "outputs": [],
   "source": [
    "# Load packages\n",
    "import numpy as np\n",
    "import pandas as pd \n",
    "import allel"
   ]
  },
  {
   "cell_type": "code",
   "execution_count": 3,
   "id": "8badda95",
   "metadata": {},
   "outputs": [],
   "source": [
    "# Use scikit-allel to load VCF data\n",
    "vcf = allel.read_vcf(\"results/variantAnalysis/vcfs/Ag_Busia.X.vcf.gz\")"
   ]
  },
  {
   "cell_type": "code",
   "execution_count": 7,
   "id": "da2eb376",
   "metadata": {},
   "outputs": [],
   "source": [
    "# Extract genotypes from VCF\n",
    "geno = allel.GenotypeArray(vcf['calldata/GT'])"
   ]
  },
  {
   "cell_type": "code",
   "execution_count": 9,
   "id": "fc73736d",
   "metadata": {},
   "outputs": [
    {
     "data": {
      "text/plain": [
       "array(['BusiaSelected1', 'BusiaSelected2', 'BusiaSelected3', 'Kisumu2',\n",
       "       'BusiaSelected4', 'BusiaParental3', 'BusiaSelected5',\n",
       "       'BusiaSelected6', 'Kisumu3', 'BusiaParental2', 'Kisumu4',\n",
       "       'BusiaParental1', 'Kisumu1', 'BusiaParental4', 'BusiaParental5',\n",
       "       'BusiaParental6'], dtype=object)"
      ]
     },
     "execution_count": 9,
     "metadata": {},
     "output_type": "execute_result"
    }
   ],
   "source": [
    "# Extract sample names\n",
    "samples = vcf['samples']\n",
    "samples"
   ]
  },
  {
   "cell_type": "code",
   "execution_count": 12,
   "id": "9b51113d",
   "metadata": {},
   "outputs": [
    {
     "data": {
      "text/html": [
       "<div class=\"allel allel-DisplayAs1D\"><span>&lt;SortedIndex shape=(178389,) dtype=int32&gt;</span><table><thead><tr><th style=\"text-align: center\">0</th><th style=\"text-align: center\">1</th><th style=\"text-align: center\">2</th><th style=\"text-align: center\">3</th><th style=\"text-align: center\">4</th><th style=\"text-align: center\">...</th><th style=\"text-align: center\">178384</th><th style=\"text-align: center\">178385</th><th style=\"text-align: center\">178386</th><th style=\"text-align: center\">178387</th><th style=\"text-align: center\">178388</th></tr></thead><tbody><tr><td style=\"text-align: center\">82</td><td style=\"text-align: center\">96</td><td style=\"text-align: center\">149</td><td style=\"text-align: center\">247</td><td style=\"text-align: center\">258</td><td style=\"text-align: center\">...</td><td style=\"text-align: center\">24391790</td><td style=\"text-align: center\">24392133</td><td style=\"text-align: center\">24392201</td><td style=\"text-align: center\">24392320</td><td style=\"text-align: center\">24392384</td></tr></tbody></table></div>"
      ],
      "text/plain": [
       "<SortedIndex shape=(178389,) dtype=int32>\n",
       "[82, 96, 149, 247, 258, ..., 24391790, 24392133, 24392201, 24392320, 24392384]"
      ]
     },
     "execution_count": 12,
     "metadata": {},
     "output_type": "execute_result"
    }
   ],
   "source": [
    "# Extract SNP positions\n",
    "pos = allel.SortedIndex(vcf['variants/POS'])\n",
    "pos"
   ]
  },
  {
   "cell_type": "code",
   "execution_count": null,
   "id": "9f2771d3",
   "metadata": {},
   "outputs": [],
   "source": [
    "#inspect the data\n",
    "geno"
   ]
  },
  {
   "cell_type": "code",
   "execution_count": 21,
   "id": "ac79e9c9",
   "metadata": {},
   "outputs": [],
   "source": [
    "# Lets say we want to subset to a region of choice\n",
    "cyp9k1_start = 15_000_000\n",
    "cyp9k1_end = 15_100_000"
   ]
  },
  {
   "cell_type": "code",
   "execution_count": 26,
   "id": "98e2860d",
   "metadata": {},
   "outputs": [],
   "source": [
    "# locate the region where cyp9k1 is in positions array \n",
    "cyp9k1_mask = pos.locate_ranges([cyp9k1_start], [cyp9k1_end])"
   ]
  },
  {
   "cell_type": "code",
   "execution_count": 28,
   "id": "b0d900bb",
   "metadata": {},
   "outputs": [],
   "source": [
    "# Filter the positions array\n",
    "cyp9k1_pos = pos[cyp9k1_mask]"
   ]
  },
  {
   "cell_type": "code",
   "execution_count": 29,
   "id": "3f3a3b0f",
   "metadata": {},
   "outputs": [
    {
     "data": {
      "text/html": [
       "<div class=\"allel allel-DisplayAs2D\"><span>&lt;AlleleCountsArray shape=(23, 2) dtype=int32&gt;</span><table><thead><tr><th></th><th style=\"text-align: center\">0</th><th style=\"text-align: center\">1</th></tr></thead><tbody><tr><th style=\"text-align: center; background-color: white; border-right: 1px solid black; \">0</th><td style=\"text-align: center\">2</td><td style=\"text-align: center\">2</td></tr><tr><th style=\"text-align: center; background-color: white; border-right: 1px solid black; \">1</th><td style=\"text-align: center\">8</td><td style=\"text-align: center\">2</td></tr><tr><th style=\"text-align: center; background-color: white; border-right: 1px solid black; \">2</th><td style=\"text-align: center\">4</td><td style=\"text-align: center\">2</td></tr><tr><th style=\"text-align: center; background-color: white; border-right: 1px solid black; \">...</th><td style=\"text-align: center\" colspan=\"3\">...</td></tr><tr><th style=\"text-align: center; background-color: white; border-right: 1px solid black; \">20</th><td style=\"text-align: center\">12</td><td style=\"text-align: center\"> 2</td></tr><tr><th style=\"text-align: center; background-color: white; border-right: 1px solid black; \">21</th><td style=\"text-align: center\"> 6</td><td style=\"text-align: center\"> 6</td></tr><tr><th style=\"text-align: center; background-color: white; border-right: 1px solid black; \">22</th><td style=\"text-align: center\"> 4</td><td style=\"text-align: center\"> 6</td></tr></tbody></table></div>"
      ],
      "text/plain": [
       "<AlleleCountsArray shape=(23, 2) dtype=int32>\n",
       "2 2\n",
       "8 2\n",
       "4 2\n",
       "...\n",
       "12  2\n",
       " 6  6\n",
       " 4  6"
      ]
     },
     "execution_count": 29,
     "metadata": {},
     "output_type": "execute_result"
    }
   ],
   "source": [
    "# Filter the genotype array and then count alleles\n",
    "ac = geno.compress(cyp9k1_mask, axis=0).count_alleles()\n",
    "ac"
   ]
  },
  {
   "cell_type": "code",
   "execution_count": 42,
   "id": "7f3e62a7",
   "metadata": {},
   "outputs": [
    {
     "data": {
      "text/html": [
       "<div>\n",
       "<style scoped>\n",
       "    .dataframe tbody tr th:only-of-type {\n",
       "        vertical-align: middle;\n",
       "    }\n",
       "\n",
       "    .dataframe tbody tr th {\n",
       "        vertical-align: top;\n",
       "    }\n",
       "\n",
       "    .dataframe thead th {\n",
       "        text-align: right;\n",
       "    }\n",
       "</style>\n",
       "<table border=\"1\" class=\"dataframe\">\n",
       "  <thead>\n",
       "    <tr style=\"text-align: right;\">\n",
       "      <th></th>\n",
       "      <th>0</th>\n",
       "      <th>1</th>\n",
       "      <th>pos</th>\n",
       "    </tr>\n",
       "  </thead>\n",
       "  <tbody>\n",
       "    <tr>\n",
       "      <th>0</th>\n",
       "      <td>0.500000</td>\n",
       "      <td>0.500000</td>\n",
       "      <td>15016210</td>\n",
       "    </tr>\n",
       "    <tr>\n",
       "      <th>1</th>\n",
       "      <td>0.800000</td>\n",
       "      <td>0.200000</td>\n",
       "      <td>15016318</td>\n",
       "    </tr>\n",
       "    <tr>\n",
       "      <th>2</th>\n",
       "      <td>0.666667</td>\n",
       "      <td>0.333333</td>\n",
       "      <td>15016334</td>\n",
       "    </tr>\n",
       "    <tr>\n",
       "      <th>3</th>\n",
       "      <td>0.500000</td>\n",
       "      <td>0.500000</td>\n",
       "      <td>15027408</td>\n",
       "    </tr>\n",
       "    <tr>\n",
       "      <th>4</th>\n",
       "      <td>0.000000</td>\n",
       "      <td>1.000000</td>\n",
       "      <td>15030002</td>\n",
       "    </tr>\n",
       "    <tr>\n",
       "      <th>5</th>\n",
       "      <td>0.000000</td>\n",
       "      <td>1.000000</td>\n",
       "      <td>15030028</td>\n",
       "    </tr>\n",
       "    <tr>\n",
       "      <th>6</th>\n",
       "      <td>0.000000</td>\n",
       "      <td>1.000000</td>\n",
       "      <td>15060447</td>\n",
       "    </tr>\n",
       "    <tr>\n",
       "      <th>7</th>\n",
       "      <td>0.000000</td>\n",
       "      <td>1.000000</td>\n",
       "      <td>15060479</td>\n",
       "    </tr>\n",
       "    <tr>\n",
       "      <th>8</th>\n",
       "      <td>0.250000</td>\n",
       "      <td>0.750000</td>\n",
       "      <td>15060516</td>\n",
       "    </tr>\n",
       "    <tr>\n",
       "      <th>9</th>\n",
       "      <td>0.000000</td>\n",
       "      <td>1.000000</td>\n",
       "      <td>15060584</td>\n",
       "    </tr>\n",
       "    <tr>\n",
       "      <th>10</th>\n",
       "      <td>0.333333</td>\n",
       "      <td>0.666667</td>\n",
       "      <td>15060673</td>\n",
       "    </tr>\n",
       "    <tr>\n",
       "      <th>11</th>\n",
       "      <td>0.000000</td>\n",
       "      <td>1.000000</td>\n",
       "      <td>15060703</td>\n",
       "    </tr>\n",
       "    <tr>\n",
       "      <th>12</th>\n",
       "      <td>0.000000</td>\n",
       "      <td>1.000000</td>\n",
       "      <td>15069728</td>\n",
       "    </tr>\n",
       "    <tr>\n",
       "      <th>13</th>\n",
       "      <td>0.800000</td>\n",
       "      <td>0.200000</td>\n",
       "      <td>15069821</td>\n",
       "    </tr>\n",
       "    <tr>\n",
       "      <th>14</th>\n",
       "      <td>0.400000</td>\n",
       "      <td>0.600000</td>\n",
       "      <td>15069829</td>\n",
       "    </tr>\n",
       "    <tr>\n",
       "      <th>15</th>\n",
       "      <td>0.857143</td>\n",
       "      <td>0.142857</td>\n",
       "      <td>15069907</td>\n",
       "    </tr>\n",
       "    <tr>\n",
       "      <th>16</th>\n",
       "      <td>0.900000</td>\n",
       "      <td>0.100000</td>\n",
       "      <td>15082382</td>\n",
       "    </tr>\n",
       "    <tr>\n",
       "      <th>17</th>\n",
       "      <td>1.000000</td>\n",
       "      <td>0.000000</td>\n",
       "      <td>15082384</td>\n",
       "    </tr>\n",
       "    <tr>\n",
       "      <th>18</th>\n",
       "      <td>0.428571</td>\n",
       "      <td>0.571429</td>\n",
       "      <td>15082504</td>\n",
       "    </tr>\n",
       "    <tr>\n",
       "      <th>19</th>\n",
       "      <td>0.000000</td>\n",
       "      <td>1.000000</td>\n",
       "      <td>15082511</td>\n",
       "    </tr>\n",
       "    <tr>\n",
       "      <th>20</th>\n",
       "      <td>0.857143</td>\n",
       "      <td>0.142857</td>\n",
       "      <td>15089788</td>\n",
       "    </tr>\n",
       "    <tr>\n",
       "      <th>21</th>\n",
       "      <td>0.500000</td>\n",
       "      <td>0.500000</td>\n",
       "      <td>15089913</td>\n",
       "    </tr>\n",
       "    <tr>\n",
       "      <th>22</th>\n",
       "      <td>0.400000</td>\n",
       "      <td>0.600000</td>\n",
       "      <td>15089921</td>\n",
       "    </tr>\n",
       "  </tbody>\n",
       "</table>\n",
       "</div>"
      ],
      "text/plain": [
       "           0         1       pos\n",
       "0   0.500000  0.500000  15016210\n",
       "1   0.800000  0.200000  15016318\n",
       "2   0.666667  0.333333  15016334\n",
       "3   0.500000  0.500000  15027408\n",
       "4   0.000000  1.000000  15030002\n",
       "5   0.000000  1.000000  15030028\n",
       "6   0.000000  1.000000  15060447\n",
       "7   0.000000  1.000000  15060479\n",
       "8   0.250000  0.750000  15060516\n",
       "9   0.000000  1.000000  15060584\n",
       "10  0.333333  0.666667  15060673\n",
       "11  0.000000  1.000000  15060703\n",
       "12  0.000000  1.000000  15069728\n",
       "13  0.800000  0.200000  15069821\n",
       "14  0.400000  0.600000  15069829\n",
       "15  0.857143  0.142857  15069907\n",
       "16  0.900000  0.100000  15082382\n",
       "17  1.000000  0.000000  15082384\n",
       "18  0.428571  0.571429  15082504\n",
       "19  0.000000  1.000000  15082511\n",
       "20  0.857143  0.142857  15089788\n",
       "21  0.500000  0.500000  15089913\n",
       "22  0.400000  0.600000  15089921"
      ]
     },
     "execution_count": 42,
     "metadata": {},
     "output_type": "execute_result"
    }
   ],
   "source": [
    "# Make a pandas dataframe of the frequencies\n",
    "freq_df = pd.DataFrame(ac.to_frequencies())\n",
    "freq_df['pos'] = cyp9k1_pos.values\n",
    "freq_df"
   ]
  },
  {
   "cell_type": "code",
   "execution_count": null,
   "id": "ddebe786",
   "metadata": {},
   "outputs": [],
   "source": []
  }
 ],
 "metadata": {
  "kernelspec": {
   "display_name": "Python 3 (ipykernel)",
   "language": "python",
   "name": "python3"
  },
  "language_info": {
   "codemirror_mode": {
    "name": "ipython",
    "version": 3
   },
   "file_extension": ".py",
   "mimetype": "text/x-python",
   "name": "python",
   "nbconvert_exporter": "python",
   "pygments_lexer": "ipython3",
   "version": "3.7.4"
  }
 },
 "nbformat": 4,
 "nbformat_minor": 5
}
