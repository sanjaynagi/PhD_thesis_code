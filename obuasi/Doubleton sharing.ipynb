{
 "cells": [
  {
   "cell_type": "code",
   "execution_count": 3,
   "metadata": {},
   "outputs": [],
   "source": [
    "import probe\n",
    "import pandas as pd\n",
    "%matplotlib inline"
   ]
  },
  {
   "cell_type": "markdown",
   "metadata": {},
   "source": [
    "## Doubleton sharing"
   ]
  },
  {
   "cell_type": "markdown",
   "metadata": {},
   "source": [
    "Lets look at doubleton sharing as a measure of population structure."
   ]
  },
  {
   "cell_type": "code",
   "execution_count": 4,
   "metadata": {},
   "outputs": [],
   "source": [
    "# Read metadata \n",
    "metadata = pd.read_csv(\"../../config/metadata.tsv\", sep=\"\\t\")"
   ]
  },
  {
   "cell_type": "code",
   "execution_count": 15,
   "metadata": {},
   "outputs": [
    {
     "data": {
      "text/plain": [
       "<AxesSubplot:>"
      ]
     },
     "execution_count": 15,
     "metadata": {},
     "output_type": "execute_result"
    },
    {
     "data": {
      "image/png": "[encoded data removed]",
      "text/plain": [
       "<Figure size 640x480 with 1 Axes>"
      ]
     },
     "metadata": {},
     "output_type": "display_data"
    }
   ],
   "source": [
    "metadata['month'].hist()"
   ]
  },
  {
   "cell_type": "code",
   "execution_count": 5,
   "metadata": {
    "collapsed": true
   },
   "outputs": [
    {
     "ename": "KeyboardInterrupt",
     "evalue": "",
     "output_type": "error",
     "traceback": [
      "\u001b[0;31m---------------------------------------------------------------------------\u001b[0m",
      "\u001b[0;31mKeyboardInterrupt\u001b[0m                         Traceback (most recent call last)",
      "\u001b[0;32m/tmp/ipykernel_30189/3584554553.py\u001b[0m in \u001b[0;36m<module>\u001b[0;34m\u001b[0m\n\u001b[1;32m     10\u001b[0m \u001b[0;34m\u001b[0m\u001b[0m\n\u001b[1;32m     11\u001b[0m \u001b[0;34m\u001b[0m\u001b[0m\n\u001b[0;32m---> 12\u001b[0;31m     \u001b[0mac\u001b[0m \u001b[0;34m=\u001b[0m \u001b[0msnps\u001b[0m\u001b[0;34m[\u001b[0m\u001b[0mcontig\u001b[0m\u001b[0;34m]\u001b[0m\u001b[0;34m.\u001b[0m\u001b[0mcount_alleles\u001b[0m\u001b[0;34m(\u001b[0m\u001b[0;34m)\u001b[0m\u001b[0;34m\u001b[0m\u001b[0;34m\u001b[0m\u001b[0m\n\u001b[0m\u001b[1;32m     13\u001b[0m     \u001b[0mseg\u001b[0m \u001b[0;34m=\u001b[0m \u001b[0mac\u001b[0m\u001b[0;34m.\u001b[0m\u001b[0mis_segregating\u001b[0m\u001b[0;34m(\u001b[0m\u001b[0;34m)\u001b[0m\u001b[0;34m\u001b[0m\u001b[0;34m\u001b[0m\u001b[0m\n\u001b[1;32m     14\u001b[0m     \u001b[0msnps\u001b[0m\u001b[0;34m[\u001b[0m\u001b[0mcontig\u001b[0m\u001b[0;34m]\u001b[0m \u001b[0;34m=\u001b[0m \u001b[0msnps\u001b[0m\u001b[0;34m[\u001b[0m\u001b[0mcontig\u001b[0m\u001b[0;34m]\u001b[0m\u001b[0;34m.\u001b[0m\u001b[0mcompress\u001b[0m\u001b[0;34m(\u001b[0m\u001b[0mseg\u001b[0m\u001b[0;34m,\u001b[0m \u001b[0maxis\u001b[0m\u001b[0;34m=\u001b[0m\u001b[0;36m0\u001b[0m\u001b[0;34m)\u001b[0m\u001b[0;34m\u001b[0m\u001b[0;34m\u001b[0m\u001b[0m\n",
      "\u001b[0;32m~/miniconda3/lib/python3.7/site-packages/allel/model/dask.py\u001b[0m in \u001b[0;36mcount_alleles\u001b[0;34m(self, max_allele, subpop)\u001b[0m\n\u001b[1;32m    394\u001b[0m         \u001b[0;31m# if max_allele not specified, count all alleles\u001b[0m\u001b[0;34m\u001b[0m\u001b[0;34m\u001b[0m\u001b[0;34m\u001b[0m\u001b[0m\n\u001b[1;32m    395\u001b[0m         \u001b[0;32mif\u001b[0m \u001b[0mmax_allele\u001b[0m \u001b[0;32mis\u001b[0m \u001b[0;32mNone\u001b[0m\u001b[0;34m:\u001b[0m\u001b[0;34m\u001b[0m\u001b[0;34m\u001b[0m\u001b[0m\n\u001b[0;32m--> 396\u001b[0;31m             \u001b[0mmax_allele\u001b[0m \u001b[0;34m=\u001b[0m \u001b[0mself\u001b[0m\u001b[0;34m.\u001b[0m\u001b[0mmax\u001b[0m\u001b[0;34m(\u001b[0m\u001b[0;34m)\u001b[0m\u001b[0;34m.\u001b[0m\u001b[0mcompute\u001b[0m\u001b[0;34m(\u001b[0m\u001b[0;34m)\u001b[0m\u001b[0;34m[\u001b[0m\u001b[0;34m(\u001b[0m\u001b[0;34m)\u001b[0m\u001b[0;34m]\u001b[0m\u001b[0;34m\u001b[0m\u001b[0;34m\u001b[0m\u001b[0m\n\u001b[0m\u001b[1;32m    397\u001b[0m \u001b[0;34m\u001b[0m\u001b[0m\n\u001b[1;32m    398\u001b[0m         \u001b[0;31m# deal with subpop\u001b[0m\u001b[0;34m\u001b[0m\u001b[0;34m\u001b[0m\u001b[0;34m\u001b[0m\u001b[0m\n",
      "\u001b[0;32m~/miniconda3/lib/python3.7/site-packages/dask/base.py\u001b[0m in \u001b[0;36mcompute\u001b[0;34m(self, **kwargs)\u001b[0m\n\u001b[1;32m    286\u001b[0m         \u001b[0mdask\u001b[0m\u001b[0;34m.\u001b[0m\u001b[0mbase\u001b[0m\u001b[0;34m.\u001b[0m\u001b[0mcompute\u001b[0m\u001b[0;34m\u001b[0m\u001b[0;34m\u001b[0m\u001b[0m\n\u001b[1;32m    287\u001b[0m         \"\"\"\n\u001b[0;32m--> 288\u001b[0;31m         \u001b[0;34m(\u001b[0m\u001b[0mresult\u001b[0m\u001b[0;34m,\u001b[0m\u001b[0;34m)\u001b[0m \u001b[0;34m=\u001b[0m \u001b[0mcompute\u001b[0m\u001b[0;34m(\u001b[0m\u001b[0mself\u001b[0m\u001b[0;34m,\u001b[0m \u001b[0mtraverse\u001b[0m\u001b[0;34m=\u001b[0m\u001b[0;32mFalse\u001b[0m\u001b[0;34m,\u001b[0m \u001b[0;34m**\u001b[0m\u001b[0mkwargs\u001b[0m\u001b[0;34m)\u001b[0m\u001b[0;34m\u001b[0m\u001b[0;34m\u001b[0m\u001b[0m\n\u001b[0m\u001b[1;32m    289\u001b[0m         \u001b[0;32mreturn\u001b[0m \u001b[0mresult\u001b[0m\u001b[0;34m\u001b[0m\u001b[0;34m\u001b[0m\u001b[0m\n\u001b[1;32m    290\u001b[0m \u001b[0;34m\u001b[0m\u001b[0m\n",
      "\u001b[0;32m~/miniconda3/lib/python3.7/site-packages/dask/base.py\u001b[0m in \u001b[0;36mcompute\u001b[0;34m(*args, **kwargs)\u001b[0m\n\u001b[1;32m    568\u001b[0m         \u001b[0mpostcomputes\u001b[0m\u001b[0;34m.\u001b[0m\u001b[0mappend\u001b[0m\u001b[0;34m(\u001b[0m\u001b[0mx\u001b[0m\u001b[0;34m.\u001b[0m\u001b[0m__dask_postcompute__\u001b[0m\u001b[0;34m(\u001b[0m\u001b[0;34m)\u001b[0m\u001b[0;34m)\u001b[0m\u001b[0;34m\u001b[0m\u001b[0;34m\u001b[0m\u001b[0m\n\u001b[1;32m    569\u001b[0m \u001b[0;34m\u001b[0m\u001b[0m\n\u001b[0;32m--> 570\u001b[0;31m     \u001b[0mresults\u001b[0m \u001b[0;34m=\u001b[0m \u001b[0mschedule\u001b[0m\u001b[0;34m(\u001b[0m\u001b[0mdsk\u001b[0m\u001b[0;34m,\u001b[0m \u001b[0mkeys\u001b[0m\u001b[0;34m,\u001b[0m \u001b[0;34m**\u001b[0m\u001b[0mkwargs\u001b[0m\u001b[0;34m)\u001b[0m\u001b[0;34m\u001b[0m\u001b[0;34m\u001b[0m\u001b[0m\n\u001b[0m\u001b[1;32m    571\u001b[0m     \u001b[0;32mreturn\u001b[0m \u001b[0mrepack\u001b[0m\u001b[0;34m(\u001b[0m\u001b[0;34m[\u001b[0m\u001b[0mf\u001b[0m\u001b[0;34m(\u001b[0m\u001b[0mr\u001b[0m\u001b[0;34m,\u001b[0m \u001b[0;34m*\u001b[0m\u001b[0ma\u001b[0m\u001b[0;34m)\u001b[0m \u001b[0;32mfor\u001b[0m \u001b[0mr\u001b[0m\u001b[0;34m,\u001b[0m \u001b[0;34m(\u001b[0m\u001b[0mf\u001b[0m\u001b[0;34m,\u001b[0m \u001b[0ma\u001b[0m\u001b[0;34m)\u001b[0m \u001b[0;32min\u001b[0m \u001b[0mzip\u001b[0m\u001b[0;34m(\u001b[0m\u001b[0mresults\u001b[0m\u001b[0;34m,\u001b[0m \u001b[0mpostcomputes\u001b[0m\u001b[0;34m)\u001b[0m\u001b[0;34m]\u001b[0m\u001b[0;34m)\u001b[0m\u001b[0;34m\u001b[0m\u001b[0;34m\u001b[0m\u001b[0m\n\u001b[1;32m    572\u001b[0m \u001b[0;34m\u001b[0m\u001b[0m\n",
      "\u001b[0;32m~/miniconda3/lib/python3.7/site-packages/dask/threaded.py\u001b[0m in \u001b[0;36mget\u001b[0;34m(dsk, result, cache, num_workers, pool, **kwargs)\u001b[0m\n\u001b[1;32m     85\u001b[0m         \u001b[0mget_id\u001b[0m\u001b[0;34m=\u001b[0m\u001b[0m_thread_get_id\u001b[0m\u001b[0;34m,\u001b[0m\u001b[0;34m\u001b[0m\u001b[0;34m\u001b[0m\u001b[0m\n\u001b[1;32m     86\u001b[0m         \u001b[0mpack_exception\u001b[0m\u001b[0;34m=\u001b[0m\u001b[0mpack_exception\u001b[0m\u001b[0;34m,\u001b[0m\u001b[0;34m\u001b[0m\u001b[0;34m\u001b[0m\u001b[0m\n\u001b[0;32m---> 87\u001b[0;31m         \u001b[0;34m**\u001b[0m\u001b[0mkwargs\u001b[0m\u001b[0;34m,\u001b[0m\u001b[0;34m\u001b[0m\u001b[0;34m\u001b[0m\u001b[0m\n\u001b[0m\u001b[1;32m     88\u001b[0m     )\n\u001b[1;32m     89\u001b[0m \u001b[0;34m\u001b[0m\u001b[0m\n",
      "\u001b[0;32m~/miniconda3/lib/python3.7/site-packages/dask/local.py\u001b[0m in \u001b[0;36mget_async\u001b[0;34m(submit, num_workers, dsk, result, cache, get_id, rerun_exceptions_locally, pack_exception, raise_exception, callbacks, dumps, loads, chunksize, **kwargs)\u001b[0m\n\u001b[1;32m    494\u001b[0m             \u001b[0;32mwhile\u001b[0m \u001b[0mstate\u001b[0m\u001b[0;34m[\u001b[0m\u001b[0;34m\"waiting\"\u001b[0m\u001b[0;34m]\u001b[0m \u001b[0;32mor\u001b[0m \u001b[0mstate\u001b[0m\u001b[0;34m[\u001b[0m\u001b[0;34m\"ready\"\u001b[0m\u001b[0;34m]\u001b[0m \u001b[0;32mor\u001b[0m \u001b[0mstate\u001b[0m\u001b[0;34m[\u001b[0m\u001b[0;34m\"running\"\u001b[0m\u001b[0;34m]\u001b[0m\u001b[0;34m:\u001b[0m\u001b[0;34m\u001b[0m\u001b[0;34m\u001b[0m\u001b[0m\n\u001b[1;32m    495\u001b[0m                 \u001b[0mfire_tasks\u001b[0m\u001b[0;34m(\u001b[0m\u001b[0mchunksize\u001b[0m\u001b[0;34m)\u001b[0m\u001b[0;34m\u001b[0m\u001b[0;34m\u001b[0m\u001b[0m\n\u001b[0;32m--> 496\u001b[0;31m                 \u001b[0;32mfor\u001b[0m \u001b[0mkey\u001b[0m\u001b[0;34m,\u001b[0m \u001b[0mres_info\u001b[0m\u001b[0;34m,\u001b[0m \u001b[0mfailed\u001b[0m \u001b[0;32min\u001b[0m \u001b[0mqueue_get\u001b[0m\u001b[0;34m(\u001b[0m\u001b[0mqueue\u001b[0m\u001b[0;34m)\u001b[0m\u001b[0;34m.\u001b[0m\u001b[0mresult\u001b[0m\u001b[0;34m(\u001b[0m\u001b[0;34m)\u001b[0m\u001b[0;34m:\u001b[0m\u001b[0;34m\u001b[0m\u001b[0;34m\u001b[0m\u001b[0m\n\u001b[0m\u001b[1;32m    497\u001b[0m                     \u001b[0;32mif\u001b[0m \u001b[0mfailed\u001b[0m\u001b[0;34m:\u001b[0m\u001b[0;34m\u001b[0m\u001b[0;34m\u001b[0m\u001b[0m\n\u001b[1;32m    498\u001b[0m                         \u001b[0mexc\u001b[0m\u001b[0;34m,\u001b[0m \u001b[0mtb\u001b[0m \u001b[0;34m=\u001b[0m \u001b[0mloads\u001b[0m\u001b[0;34m(\u001b[0m\u001b[0mres_info\u001b[0m\u001b[0;34m)\u001b[0m\u001b[0;34m\u001b[0m\u001b[0;34m\u001b[0m\u001b[0m\n",
      "\u001b[0;32m~/miniconda3/lib/python3.7/site-packages/dask/local.py\u001b[0m in \u001b[0;36mqueue_get\u001b[0;34m(q)\u001b[0m\n\u001b[1;32m    132\u001b[0m \u001b[0;34m\u001b[0m\u001b[0m\n\u001b[1;32m    133\u001b[0m     \u001b[0;32mdef\u001b[0m \u001b[0mqueue_get\u001b[0m\u001b[0;34m(\u001b[0m\u001b[0mq\u001b[0m\u001b[0;34m)\u001b[0m\u001b[0;34m:\u001b[0m\u001b[0;34m\u001b[0m\u001b[0;34m\u001b[0m\u001b[0m\n\u001b[0;32m--> 134\u001b[0;31m         \u001b[0;32mreturn\u001b[0m \u001b[0mq\u001b[0m\u001b[0;34m.\u001b[0m\u001b[0mget\u001b[0m\u001b[0;34m(\u001b[0m\u001b[0;34m)\u001b[0m\u001b[0;34m\u001b[0m\u001b[0;34m\u001b[0m\u001b[0m\n\u001b[0m\u001b[1;32m    135\u001b[0m \u001b[0;34m\u001b[0m\u001b[0m\n\u001b[1;32m    136\u001b[0m \u001b[0;34m\u001b[0m\u001b[0m\n",
      "\u001b[0;32m~/miniconda3/lib/python3.7/queue.py\u001b[0m in \u001b[0;36mget\u001b[0;34m(self, block, timeout)\u001b[0m\n\u001b[1;32m    168\u001b[0m             \u001b[0;32melif\u001b[0m \u001b[0mtimeout\u001b[0m \u001b[0;32mis\u001b[0m \u001b[0;32mNone\u001b[0m\u001b[0;34m:\u001b[0m\u001b[0;34m\u001b[0m\u001b[0;34m\u001b[0m\u001b[0m\n\u001b[1;32m    169\u001b[0m                 \u001b[0;32mwhile\u001b[0m \u001b[0;32mnot\u001b[0m \u001b[0mself\u001b[0m\u001b[0;34m.\u001b[0m\u001b[0m_qsize\u001b[0m\u001b[0;34m(\u001b[0m\u001b[0;34m)\u001b[0m\u001b[0;34m:\u001b[0m\u001b[0;34m\u001b[0m\u001b[0;34m\u001b[0m\u001b[0m\n\u001b[0;32m--> 170\u001b[0;31m                     \u001b[0mself\u001b[0m\u001b[0;34m.\u001b[0m\u001b[0mnot_empty\u001b[0m\u001b[0;34m.\u001b[0m\u001b[0mwait\u001b[0m\u001b[0;34m(\u001b[0m\u001b[0;34m)\u001b[0m\u001b[0;34m\u001b[0m\u001b[0;34m\u001b[0m\u001b[0m\n\u001b[0m\u001b[1;32m    171\u001b[0m             \u001b[0;32melif\u001b[0m \u001b[0mtimeout\u001b[0m \u001b[0;34m<\u001b[0m \u001b[0;36m0\u001b[0m\u001b[0;34m:\u001b[0m\u001b[0;34m\u001b[0m\u001b[0;34m\u001b[0m\u001b[0m\n\u001b[1;32m    172\u001b[0m                 \u001b[0;32mraise\u001b[0m \u001b[0mValueError\u001b[0m\u001b[0;34m(\u001b[0m\u001b[0;34m\"'timeout' must be a non-negative number\"\u001b[0m\u001b[0;34m)\u001b[0m\u001b[0;34m\u001b[0m\u001b[0;34m\u001b[0m\u001b[0m\n",
      "\u001b[0;32m~/miniconda3/lib/python3.7/threading.py\u001b[0m in \u001b[0;36mwait\u001b[0;34m(self, timeout)\u001b[0m\n\u001b[1;32m    294\u001b[0m         \u001b[0;32mtry\u001b[0m\u001b[0;34m:\u001b[0m    \u001b[0;31m# restore state no matter what (e.g., KeyboardInterrupt)\u001b[0m\u001b[0;34m\u001b[0m\u001b[0;34m\u001b[0m\u001b[0m\n\u001b[1;32m    295\u001b[0m             \u001b[0;32mif\u001b[0m \u001b[0mtimeout\u001b[0m \u001b[0;32mis\u001b[0m \u001b[0;32mNone\u001b[0m\u001b[0;34m:\u001b[0m\u001b[0;34m\u001b[0m\u001b[0;34m\u001b[0m\u001b[0m\n\u001b[0;32m--> 296\u001b[0;31m                 \u001b[0mwaiter\u001b[0m\u001b[0;34m.\u001b[0m\u001b[0macquire\u001b[0m\u001b[0;34m(\u001b[0m\u001b[0;34m)\u001b[0m\u001b[0;34m\u001b[0m\u001b[0;34m\u001b[0m\u001b[0m\n\u001b[0m\u001b[1;32m    297\u001b[0m                 \u001b[0mgotit\u001b[0m \u001b[0;34m=\u001b[0m \u001b[0;32mTrue\u001b[0m\u001b[0;34m\u001b[0m\u001b[0;34m\u001b[0m\u001b[0m\n\u001b[1;32m    298\u001b[0m             \u001b[0;32melse\u001b[0m\u001b[0;34m:\u001b[0m\u001b[0;34m\u001b[0m\u001b[0;34m\u001b[0m\u001b[0m\n",
      "\u001b[0;31mKeyboardInterrupt\u001b[0m: "
     ]
    }
   ],
   "source": [
    "contigs = ['2L', '2R', '3R', '3L', 'X']\n",
    "snps = {}\n",
    "pos = {}\n",
    "\n",
    "for contig in contigs:\n",
    "    # Load Arrays\n",
    "    snps[contig], pos[contig] = probe.loadZarrArrays(genotypePath=f\"../../resources/snp_genotypes/all/1244-VO-GH-YAWSON-VMF00149/{contig}/calldata/GT\", \n",
    "                                             positionsPath=f\"../../resources/snp_genotypes/all/sites/{contig}/variants/POS/\",\n",
    "                                             siteFilterPath=f\"../../resources/site_filters/dt_20200416/gamb_colu/{contig}/variants/filter_pass/\")\n",
    "                                        \n",
    "\n",
    "    ac = snps[contig].count_alleles()\n",
    "    seg = ac.is_segregating()\n",
    "    snps[contig] = snps[contig].compress(seg, axis=0)\n",
    "    pos[contig] = pos[contig][seg]\n"
   ]
  },
  {
   "cell_type": "code",
   "execution_count": 8,
   "metadata": {},
   "outputs": [
    {
     "data": {
      "text/html": [
       "<div>\n",
       "<style scoped>\n",
       "    .dataframe tbody tr th:only-of-type {\n",
       "        vertical-align: middle;\n",
       "    }\n",
       "\n",
       "    .dataframe tbody tr th {\n",
       "        vertical-align: top;\n",
       "    }\n",
       "\n",
       "    .dataframe thead th {\n",
       "        text-align: right;\n",
       "    }\n",
       "</style>\n",
       "<table border=\"1\" class=\"dataframe\">\n",
       "  <thead>\n",
       "    <tr style=\"text-align: right;\">\n",
       "      <th></th>\n",
       "      <th>species_gambiae_coluzzii</th>\n",
       "      <th>location</th>\n",
       "      <th>indices</th>\n",
       "      <th>cohortText</th>\n",
       "      <th>cohortNoSpaceText</th>\n",
       "      <th>colour</th>\n",
       "    </tr>\n",
       "  </thead>\n",
       "  <tbody>\n",
       "    <tr>\n",
       "      <th>0</th>\n",
       "      <td>coluzzii</td>\n",
       "      <td>Adansi Apagya</td>\n",
       "      <td>[63, 64, 65, 66, 67, 68, 69, 70, 238, 239, 240...</td>\n",
       "      <td>coluzzii | Adansi Apagya</td>\n",
       "      <td>coluzzii.AdansiApagya</td>\n",
       "      <td>#e41a1c</td>\n",
       "    </tr>\n",
       "    <tr>\n",
       "      <th>1</th>\n",
       "      <td>coluzzii</td>\n",
       "      <td>Adansi-Krom</td>\n",
       "      <td>[20, 21, 22, 178, 372, 373]</td>\n",
       "      <td>coluzzii | Adansi-Krom</td>\n",
       "      <td>coluzzii.Adansi-Krom</td>\n",
       "      <td>#e41a1c</td>\n",
       "    </tr>\n",
       "  </tbody>\n",
       "</table>\n",
       "</div>"
      ],
      "text/plain": [
       "  species_gambiae_coluzzii       location  \\\n",
       "0                 coluzzii  Adansi Apagya   \n",
       "1                 coluzzii    Adansi-Krom   \n",
       "\n",
       "                                             indices  \\\n",
       "0  [63, 64, 65, 66, 67, 68, 69, 70, 238, 239, 240...   \n",
       "1                        [20, 21, 22, 178, 372, 373]   \n",
       "\n",
       "                 cohortText      cohortNoSpaceText   colour  \n",
       "0  coluzzii | Adansi Apagya  coluzzii.AdansiApagya  #e41a1c  \n",
       "1    coluzzii | Adansi-Krom   coluzzii.Adansi-Krom  #e41a1c  "
      ]
     },
     "execution_count": 8,
     "metadata": {},
     "output_type": "execute_result"
    }
   ],
   "source": [
    "cohorts = getCohorts(metadata, columns=['species_gambiae_coluzzii', 'location'], minPopSize=5)\n",
    "cohorts.head(2)"
   ]
  },
  {
   "cell_type": "markdown",
   "metadata": {},
   "source": [
    "Lets first count alleles and find some doubletons! "
   ]
  },
  {
   "cell_type": "code",
   "execution_count": 9,
   "metadata": {},
   "outputs": [],
   "source": [
    "def is_variant01(gn, allele):\n",
    "    return((gn == allele).any())\n",
    "\n",
    "def checkSampleID(x, metadata=metadata):\n",
    "    name = metadata.loc[x,'partner_sample_id']\n",
    "    return(name)"
   ]
  },
  {
   "cell_type": "code",
   "execution_count": 10,
   "metadata": {
    "scrolled": false
   },
   "outputs": [
    {
     "name": "stdout",
     "output_type": "stream",
     "text": [
      "2L\n",
      "Recorded dblton loc\n",
      "443355\n",
      "locating dblton sharers\n",
      "879396 3657 886710\n",
      "organising arrays\n",
      "2R\n",
      "Recorded dblton loc\n",
      "581119\n",
      "locating dblton sharers\n",
      "1152606 4816 1162238\n",
      "organising arrays\n",
      "3R\n",
      "Recorded dblton loc\n",
      "621527\n",
      "locating dblton sharers\n",
      "1231524 5765 1243054\n",
      "organising arrays\n",
      "3L\n",
      "Recorded dblton loc\n",
      "445171\n",
      "locating dblton sharers\n",
      "881760 4291 890342\n",
      "organising arrays\n",
      "X\n",
      "Recorded dblton loc\n",
      "214294\n",
      "locating dblton sharers\n",
      "418606 4991 428588\n",
      "organising arrays\n"
     ]
    }
   ],
   "source": [
    "pos_dbltons = {}\n",
    "inds_dbltons = {}\n",
    "\n",
    "for contig in contigs:\n",
    "    log(contig)\n",
    "    ac = snps[contig].count_alleles()\n",
    "    doubletons_bool = ac.is_doubleton(allele=1).compute() # Need to do for each allele\n",
    "    geno = snps[contig].compress(doubletons_bool, axis=0)\n",
    "    log(\"Recorded dblton loc\")\n",
    "    pos_dbltons[contig] = pos[contig][doubletons_bool]\n",
    "    \n",
    "    n_doubletons = doubletons_bool.sum()\n",
    "    log(n_doubletons)\n",
    "    log(\"locating dblton sharers\")\n",
    "\n",
    "    \n",
    "    # get 1 hets and 1 homs to each ind of the genotype data\n",
    "    res = geno.is_het(1).compute()\n",
    "    res2 = geno.is_hom(1).compute()\n",
    "    \n",
    "    dbhets = res.sum()\n",
    "    dbhoms = res2.sum()\n",
    "    totdbinds = dbhets + (2*dbhoms)\n",
    "    log(dbhets, dbhoms, totdbinds)\n",
    "    assert (n_doubletons*2) == totdbinds, \"Unequal individual samples v n_dbltons!!!\"\n",
    "    \n",
    "    res = np.logical_or(res, res2)\n",
    "    # and use np where to get indices. Pandas apply is fast.\n",
    "    pairs = pd.DataFrame(res).apply(np.where, axis=1).apply(np.asarray).apply(lambda x: x.flatten())\n",
    "    hom_filter = pairs.apply(len) == 2\n",
    "    pos_dbltons[contig] = pos_dbltons[contig][hom_filter]\n",
    "    pairs = pairs[hom_filter]\n",
    "    \n",
    "    #make 1d array into two column pd df\n",
    "    log(\"organising arrays\")\n",
    "    idxs = pd.DataFrame(np.vstack(pairs.values))\n",
    "    dblton = pd.DataFrame(np.vstack(pairs.values), columns=['partner_sample_id','partner_sample_id2'])\n",
    "    # shouldnt be any but remove hom/homs\n",
    "    dblton = dblton.query(\"partner_sample_id != partner_sample_id2\").reset_index(drop=True)\n",
    "    dblton = dblton.applymap(checkSampleID) #store WA-XXXX ID\n",
    "    inds_dbltons[contig] = pd.concat([idxs, dblton], axis=1)\n",
    "    inds_dbltons[contig]['pos'] = pos_dbltons[contig]"
   ]
  },
  {
   "cell_type": "markdown",
   "metadata": {},
   "source": [
    "We have our SNPs that are doubletons. Now we just need to get the indices of the individuals who share those doubletons. "
   ]
  },
  {
   "cell_type": "code",
   "execution_count": 11,
   "metadata": {},
   "outputs": [],
   "source": [
    "dblton = pd.concat(inds_dbltons).reset_index().drop(columns=['level_1']).rename(columns={'level_0':'contig', 0:'idx1', 1:'idx2'})"
   ]
  },
  {
   "cell_type": "markdown",
   "metadata": {},
   "source": [
    "Merge with the metadata to get lats, longs"
   ]
  },
  {
   "cell_type": "markdown",
   "metadata": {},
   "source": [
    "Merge again with renamed metadata to get lats and longs for the second column"
   ]
  },
  {
   "cell_type": "code",
   "execution_count": 14,
   "metadata": {},
   "outputs": [],
   "source": [
    "dblton = dblton.merge(metadata[['partner_sample_id', 'latitude', 'longitude']])\n",
    "dblton = dblton.merge(metadata.rename(columns={'partner_sample_id':'partner_sample_id2', \n",
    "                                      'latitude': 'latitude2', \n",
    "                                      'longitude':  'longitude2'})[['partner_sample_id2', 'latitude2', 'longitude2']])\n",
    "dblton = dblton.sort_values(by=['contig', 'pos']).reset_index(drop=True)\n",
    "#Write to CSV"
   ]
  },
  {
   "cell_type": "markdown",
   "metadata": {},
   "source": [
    "## READ CSV"
   ]
  },
  {
   "cell_type": "code",
   "execution_count": 6,
   "metadata": {},
   "outputs": [],
   "source": [
    "#dblton.to_csv(\"../../results/f2variantPairs.tsv\", sep=\"\\t\", index=None)\n",
    "dblton = pd.read_csv(\"../../results/f2variantPairs.tsv\", sep=\"\\t\")"
   ]
  },
  {
   "cell_type": "code",
   "execution_count": 7,
   "metadata": {},
   "outputs": [],
   "source": [
    "# vectorized haversine function\n",
    "def haversine(lat1, lon1, lat2, lon2, to_radians=True, earth_radius=6371):\n",
    "    \"\"\"\n",
    "    slightly modified version: of http://stackoverflow.com/a/29546836/2901002\n",
    "\n",
    "    Calculate the great circle distance between two points\n",
    "    on the earth (specified in decimal degrees or in radians)\n",
    "\n",
    "    All (lat, lon) coordinates must have numeric dtypes and be of equal length.\n",
    "\n",
    "    \"\"\"\n",
    "    if to_radians:\n",
    "        lat1, lon1, lat2, lon2 = np.radians([lat1, lon1, lat2, lon2])\n",
    "\n",
    "    a = np.sin((lat2-lat1)/2.0)**2 + \\\n",
    "        np.cos(lat1) * np.cos(lat2) * np.sin((lon2-lon1)/2.0)**2\n",
    "\n",
    "    return earth_radius * 2 * np.arcsin(np.sqrt(a))\n"
   ]
  },
  {
   "cell_type": "markdown",
   "metadata": {},
   "source": [
    "Draw histogram of doubletons shared by distance."
   ]
  },
  {
   "cell_type": "code",
   "execution_count": 16,
   "metadata": {},
   "outputs": [],
   "source": [
    "import numpy as np\n",
    "import matplotlib.pyplot as plt\n",
    "import itertools\n",
    "import seaborn as sns"
   ]
  },
  {
   "cell_type": "code",
   "execution_count": 17,
   "metadata": {},
   "outputs": [
    {
     "name": "stderr",
     "output_type": "stream",
     "text": [
      "/home/sanj/miniconda3/lib/python3.7/site-packages/seaborn/_decorators.py:43: FutureWarning: Pass the following variables as keyword args: x, y. From version 0.12, the only valid positional argument will be `data`, and passing other arguments without an explicit keyword will result in an error or misinterpretation.\n",
      "  FutureWarning\n"
     ]
    },
    {
     "data": {
      "text/plain": [
       "LinregressResult(slope=-0.01848771703074296, intercept=34.07647208548889, rvalue=-0.06792953777609327, pvalue=4.553455319950537e-120, stderr=0.0007925842643655427, intercept_stderr=0.056150404581477076)"
      ]
     },
     "execution_count": 17,
     "metadata": {},
     "output_type": "execute_result"
    },
    {
     "data": {
      "image/png": "[encoded data removed]",
      "text/plain": [
       "<Figure size 1000x500 with 1 Axes>"
      ]
     },
     "metadata": {},
     "output_type": "display_data"
    },
    {
     "data": {
      "image/png": "[encoded data removed]",
      "text/plain": [
       "<Figure size 1000x600 with 1 Axes>"
      ]
     },
     "metadata": {},
     "output_type": "display_data"
    }
   ],
   "source": [
    "dblton['distance'] = haversine(dblton['latitude'], dblton['longitude'], dblton['latitude2'], dblton['longitude2'])\n",
    "dblton.hist(\"distance\", bins=50, figsize=[10,5])\n",
    "#Now we need a list of every possible distance from point to point in the dataset.\n",
    "coords = metadata[['latitude', 'longitude']].to_numpy()\n",
    "coord_list = [] \n",
    "\n",
    "for x,y in itertools.combinations(coords, 2):\n",
    "    \n",
    "    coord_list.append([x,y])\n",
    "\n",
    "names_list = []\n",
    "\n",
    "for x,y in itertools.combinations(metadata['partner_sample_id'], 2):\n",
    "    \n",
    "    names_list.append([x,y])\n",
    "\n",
    "names_list = np.array(names_list)\n",
    "coord_list = np.array(coord_list)\n",
    "\n",
    "assert len(names_list) == len(coord_list)\n",
    "km_list = haversine(coord_list[:,0,0], coord_list[:,0,1], coord_list[:,1,0], coord_list[:,1,1])\n",
    "metadata_coords = pd.DataFrame({\"partner_sample_id\":names_list[:,0], \n",
    "                                \"partner_sample_id2\": names_list[:,1], \n",
    "                                \"latitude\": coord_list[:,0,0], \n",
    "                                \"longitude\": coord_list[:,0,1], \n",
    "                                \"latitude2\": coord_list[:,1,0], \n",
    "                                \"longitude2\": coord_list[:,1,1], \n",
    "                                \"km\":km_list})\n",
    "\n",
    "metadata_coords\n",
    "dblton_meta = dblton.groupby(['partner_sample_id', 'partner_sample_id2']).count().reset_index().drop(columns=['latitude', 'longitude', 'latitude2', 'longitude2', 'contig', 'idx1', 'idx2', 'pos'])\n",
    "dblton_meta = dblton_meta.rename(columns={'distance': 'doubletons'})\n",
    "dblton_meta = metadata_coords.merge(dblton_meta, how='left').fillna(0)\n",
    "dblton_meta = dblton_meta.sort_values(by='doubletons')\n",
    "\n",
    "plt.figure(figsize=[10,6])\n",
    "sns.scatterplot(dblton_meta['km'], dblton_meta['doubletons'], alpha=0.5)\n",
    "import scipy\n",
    "res = scipy.stats.linregress(dblton_meta['doubletons'], dblton_meta['km'])\n",
    "res\n",
    "#How about if we remove doubleton sharing from the same site?"
   ]
  },
  {
   "cell_type": "code",
   "execution_count": 18,
   "metadata": {},
   "outputs": [
    {
     "data": {
      "text/html": [
       "<div>\n",
       "<style scoped>\n",
       "    .dataframe tbody tr th:only-of-type {\n",
       "        vertical-align: middle;\n",
       "    }\n",
       "\n",
       "    .dataframe tbody tr th {\n",
       "        vertical-align: top;\n",
       "    }\n",
       "\n",
       "    .dataframe thead th {\n",
       "        text-align: right;\n",
       "    }\n",
       "</style>\n",
       "<table border=\"1\" class=\"dataframe\">\n",
       "  <thead>\n",
       "    <tr style=\"text-align: right;\">\n",
       "      <th></th>\n",
       "      <th>contig</th>\n",
       "      <th>idx1</th>\n",
       "      <th>idx2</th>\n",
       "      <th>partner_sample_id</th>\n",
       "      <th>partner_sample_id2</th>\n",
       "      <th>pos</th>\n",
       "      <th>latitude</th>\n",
       "      <th>longitude</th>\n",
       "      <th>latitude2</th>\n",
       "      <th>longitude2</th>\n",
       "      <th>distance</th>\n",
       "    </tr>\n",
       "  </thead>\n",
       "  <tbody>\n",
       "    <tr>\n",
       "      <th>0</th>\n",
       "      <td>2L</td>\n",
       "      <td>141</td>\n",
       "      <td>348</td>\n",
       "      <td>WA-2145</td>\n",
       "      <td>WA-2358</td>\n",
       "      <td>2393</td>\n",
       "      <td>6.049</td>\n",
       "      <td>-1.961</td>\n",
       "      <td>6.254</td>\n",
       "      <td>-1.841</td>\n",
       "      <td>26.374450</td>\n",
       "    </tr>\n",
       "    <tr>\n",
       "      <th>1</th>\n",
       "      <td>2L</td>\n",
       "      <td>39</td>\n",
       "      <td>334</td>\n",
       "      <td>WA-2042</td>\n",
       "      <td>WA-2344</td>\n",
       "      <td>5819</td>\n",
       "      <td>6.370</td>\n",
       "      <td>-1.461</td>\n",
       "      <td>6.207</td>\n",
       "      <td>-1.692</td>\n",
       "      <td>31.310751</td>\n",
       "    </tr>\n",
       "    <tr>\n",
       "      <th>2</th>\n",
       "      <td>2L</td>\n",
       "      <td>56</td>\n",
       "      <td>223</td>\n",
       "      <td>WA-2059</td>\n",
       "      <td>WA-2230</td>\n",
       "      <td>5887</td>\n",
       "      <td>6.058</td>\n",
       "      <td>-1.390</td>\n",
       "      <td>6.058</td>\n",
       "      <td>-1.390</td>\n",
       "      <td>0.000000</td>\n",
       "    </tr>\n",
       "    <tr>\n",
       "      <th>3</th>\n",
       "      <td>2L</td>\n",
       "      <td>134</td>\n",
       "      <td>282</td>\n",
       "      <td>WA-2138</td>\n",
       "      <td>WA-2292</td>\n",
       "      <td>6212</td>\n",
       "      <td>6.049</td>\n",
       "      <td>-1.963</td>\n",
       "      <td>5.970</td>\n",
       "      <td>-1.779</td>\n",
       "      <td>22.162660</td>\n",
       "    </tr>\n",
       "    <tr>\n",
       "      <th>4</th>\n",
       "      <td>2L</td>\n",
       "      <td>210</td>\n",
       "      <td>406</td>\n",
       "      <td>WA-2217</td>\n",
       "      <td>WA-2419</td>\n",
       "      <td>8221</td>\n",
       "      <td>6.089</td>\n",
       "      <td>-1.516</td>\n",
       "      <td>6.059</td>\n",
       "      <td>-1.392</td>\n",
       "      <td>14.110739</td>\n",
       "    </tr>\n",
       "    <tr>\n",
       "      <th>...</th>\n",
       "      <td>...</td>\n",
       "      <td>...</td>\n",
       "      <td>...</td>\n",
       "      <td>...</td>\n",
       "      <td>...</td>\n",
       "      <td>...</td>\n",
       "      <td>...</td>\n",
       "      <td>...</td>\n",
       "      <td>...</td>\n",
       "      <td>...</td>\n",
       "      <td>...</td>\n",
       "    </tr>\n",
       "    <tr>\n",
       "      <th>2281941</th>\n",
       "      <td>X</td>\n",
       "      <td>196</td>\n",
       "      <td>251</td>\n",
       "      <td>WA-2203</td>\n",
       "      <td>WA-2258</td>\n",
       "      <td>24389924</td>\n",
       "      <td>6.371</td>\n",
       "      <td>-1.462</td>\n",
       "      <td>6.085</td>\n",
       "      <td>-1.697</td>\n",
       "      <td>41.062547</td>\n",
       "    </tr>\n",
       "    <tr>\n",
       "      <th>2281942</th>\n",
       "      <td>X</td>\n",
       "      <td>233</td>\n",
       "      <td>234</td>\n",
       "      <td>WA-2240</td>\n",
       "      <td>WA-2241</td>\n",
       "      <td>24389976</td>\n",
       "      <td>6.059</td>\n",
       "      <td>-1.392</td>\n",
       "      <td>6.059</td>\n",
       "      <td>-1.392</td>\n",
       "      <td>0.000000</td>\n",
       "    </tr>\n",
       "    <tr>\n",
       "      <th>2281943</th>\n",
       "      <td>X</td>\n",
       "      <td>421</td>\n",
       "      <td>466</td>\n",
       "      <td>WA-2434</td>\n",
       "      <td>WA-2481</td>\n",
       "      <td>24390066</td>\n",
       "      <td>5.970</td>\n",
       "      <td>-1.697</td>\n",
       "      <td>6.047</td>\n",
       "      <td>-1.961</td>\n",
       "      <td>30.423819</td>\n",
       "    </tr>\n",
       "    <tr>\n",
       "      <th>2281944</th>\n",
       "      <td>X</td>\n",
       "      <td>0</td>\n",
       "      <td>78</td>\n",
       "      <td>WA-2001</td>\n",
       "      <td>WA-2081</td>\n",
       "      <td>24390277</td>\n",
       "      <td>6.304</td>\n",
       "      <td>-1.681</td>\n",
       "      <td>5.970</td>\n",
       "      <td>-1.697</td>\n",
       "      <td>37.181208</td>\n",
       "    </tr>\n",
       "    <tr>\n",
       "      <th>2281945</th>\n",
       "      <td>X</td>\n",
       "      <td>266</td>\n",
       "      <td>360</td>\n",
       "      <td>WA-2274</td>\n",
       "      <td>WA-2370</td>\n",
       "      <td>24390571</td>\n",
       "      <td>5.970</td>\n",
       "      <td>-1.697</td>\n",
       "      <td>6.254</td>\n",
       "      <td>-1.841</td>\n",
       "      <td>35.365736</td>\n",
       "    </tr>\n",
       "  </tbody>\n",
       "</table>\n",
       "<p>2281946 rows × 11 columns</p>\n",
       "</div>"
      ],
      "text/plain": [
       "        contig  idx1  idx2 partner_sample_id partner_sample_id2       pos  \\\n",
       "0           2L   141   348           WA-2145            WA-2358      2393   \n",
       "1           2L    39   334           WA-2042            WA-2344      5819   \n",
       "2           2L    56   223           WA-2059            WA-2230      5887   \n",
       "3           2L   134   282           WA-2138            WA-2292      6212   \n",
       "4           2L   210   406           WA-2217            WA-2419      8221   \n",
       "...        ...   ...   ...               ...                ...       ...   \n",
       "2281941      X   196   251           WA-2203            WA-2258  24389924   \n",
       "2281942      X   233   234           WA-2240            WA-2241  24389976   \n",
       "2281943      X   421   466           WA-2434            WA-2481  24390066   \n",
       "2281944      X     0    78           WA-2001            WA-2081  24390277   \n",
       "2281945      X   266   360           WA-2274            WA-2370  24390571   \n",
       "\n",
       "         latitude  longitude  latitude2  longitude2   distance  \n",
       "0           6.049     -1.961      6.254      -1.841  26.374450  \n",
       "1           6.370     -1.461      6.207      -1.692  31.310751  \n",
       "2           6.058     -1.390      6.058      -1.390   0.000000  \n",
       "3           6.049     -1.963      5.970      -1.779  22.162660  \n",
       "4           6.089     -1.516      6.059      -1.392  14.110739  \n",
       "...           ...        ...        ...         ...        ...  \n",
       "2281941     6.371     -1.462      6.085      -1.697  41.062547  \n",
       "2281942     6.059     -1.392      6.059      -1.392   0.000000  \n",
       "2281943     5.970     -1.697      6.047      -1.961  30.423819  \n",
       "2281944     6.304     -1.681      5.970      -1.697  37.181208  \n",
       "2281945     5.970     -1.697      6.254      -1.841  35.365736  \n",
       "\n",
       "[2281946 rows x 11 columns]"
      ]
     },
     "execution_count": 18,
     "metadata": {},
     "output_type": "execute_result"
    }
   ],
   "source": [
    "dblton"
   ]
  },
  {
   "cell_type": "code",
   "execution_count": 24,
   "metadata": {},
   "outputs": [
    {
     "data": {
      "text/plain": [
       "LinregressResult(slope=0.005147820736304177, intercept=35.79887108568369, rvalue=0.02575583142057137, pvalue=1.296215101688952e-17, stderr=0.0006024037456376602, intercept_stderr=0.05453990222098363)"
      ]
     },
     "execution_count": 24,
     "metadata": {},
     "output_type": "execute_result"
    }
   ],
   "source": [
    "x = dblton_meta.query(\"km > 0.5\")\n",
    "res2 = scipy.stats.linregress(x['doubletons'], x['km'])\n",
    "res2"
   ]
  },
  {
   "cell_type": "markdown",
   "metadata": {},
   "source": [
    "### Find doubletons shared per cohort and proportions"
   ]
  },
  {
   "cell_type": "code",
   "execution_count": 26,
   "metadata": {},
   "outputs": [],
   "source": [
    "loc1 = metadata[['partner_sample_id', 'location', 'species_gambiae_coluzzii']]\n",
    "loc2 = loc1.rename(columns={'partner_sample_id':'partner_sample_id2', 'location':'location2', 'species_gambiae_coluzzii': 'species2'})\n",
    "dblton_meta = dblton_meta.merge(loc1).merge(loc2)\n",
    "dblton_meta['cohort1'] = dblton_meta['species_gambiae_coluzzii'] + \" | \" + dblton_meta['location']\n",
    "dblton_meta['cohort2'] = dblton_meta['species2'] + \" | \" + dblton_meta['location2']\n",
    "coh = cohorts['cohortText']"
   ]
  },
  {
   "cell_type": "code",
   "execution_count": 30,
   "metadata": {},
   "outputs": [],
   "source": [
    "mask1 = dblton_meta.cohort1.isin(coh)\n",
    "mask2 = dblton_meta.cohort2.isin(coh)\n",
    "dblton_meta = dblton_meta.query(\"@mask1 & @mask2\")\n",
    "dblton_tots = dblton_meta.groupby(['cohort1', 'cohort2']).agg({'doubletons':'sum'}).reset_index()\n",
    "dblton_sq = dblton_tots.pivot('cohort1', 'cohort2', 'doubletons')\n",
    "dblton_sq.update(dblton_sq.T)\n",
    "dblton_norm = dblton_sq.div(dblton_sq.sum(axis=1), axis=0)\n",
    "plotRectangular(dblton_norm, path=\"../../results/doubletonPlot.png\", annot=False)\n",
    "## Getting the length of shared haplotypes in doubleton sharers"
   ]
  }
 ],
 "metadata": {
  "kernelspec": {
   "display_name": "Python 3 (ipykernel)",
   "language": "python",
   "name": "python3"
  },
  "language_info": {
   "codemirror_mode": {
    "name": "ipython",
    "version": 3
   },
   "file_extension": ".py",
   "mimetype": "text/x-python",
   "name": "python",
   "nbconvert_exporter": "python",
   "pygments_lexer": "ipython3",
   "version": "3.7.13"
  }
 },
 "nbformat": 4,
 "nbformat_minor": 2
}
