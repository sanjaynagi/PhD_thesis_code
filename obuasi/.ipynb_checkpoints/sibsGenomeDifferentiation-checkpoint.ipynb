{
 "cells": [
  {
   "cell_type": "code",
   "execution_count": null,
   "metadata": {},
   "outputs": [],
   "source": [
    "import allel"
   ]
  },
  {
   "cell_type": "code",
   "execution_count": null,
   "metadata": {},
   "outputs": [],
   "source": [
    "import numpy as np\n",
    "import pandas as pd\n",
    "%matplotlib inline\n",
    "from numba import njit\n",
    "import seaborn as sns\n",
    "import matplotlib.pyplot as plt\n",
    "import numpy as np\n",
    "import probe as probe\n",
    "\n",
    "# vectorized haversine function\n",
    "def haversine(lat1, lon1, lat2, lon2, to_radians=True, earth_radius=6371):\n",
    "    \"\"\"\n",
    "    slightly modified version: of http://stackoverflow.com/a/29546836/2901002\n",
    "\n",
    "    Calculate the great circle distance between two points\n",
    "    on the earth (specified in decimal degrees or in radians)\n",
    "\n",
    "    All (lat, lon) coordinates must have numeric dtypes and be of equal length.\n",
    "\n",
    "    \"\"\"\n",
    "    if to_radians:\n",
    "        lat1, lon1, lat2, lon2 = np.radians([lat1, lon1, lat2, lon2])\n",
    "\n",
    "    a = np.sin((lat2-lat1)/2.0)**2 + \\\n",
    "        np.cos(lat1) * np.cos(lat2) * np.sin((lon2-lon1)/2.0)**2\n",
    "\n",
    "    return earth_radius * 2 * np.arcsin(np.sqrt(a))"
   ]
  },
  {
   "cell_type": "code",
   "execution_count": null,
   "metadata": {},
   "outputs": [],
   "source": [
    "contigs = ['2L', '2R', '3R', '3L', 'X']\n",
    "metadata = pd.read_csv(\"../../config/metadata.tsv\", sep=\"\\t\")\n",
    "dblton = pd.read_csv(\"../../results/f2variantPairs.tsv\", sep=\"\\t\")"
   ]
  },
  {
   "cell_type": "code",
   "execution_count": null,
   "metadata": {},
   "outputs": [],
   "source": [
    "idx1 = 351\n",
    "idx2 = 353"
   ]
  },
  {
   "cell_type": "code",
   "execution_count": null,
   "metadata": {},
   "outputs": [],
   "source": [
    "snps = {}\n",
    "pos = {}\n",
    "\n",
    "for contig in contigs:\n",
    "\n",
    "\n",
    "    # Load Arrays\n",
    "    snps[contig], pos[contig] = probe.loadZarrArrays(genotypePath=f\"../../resources/snp_genotypes/all/1244-VO-GH-YAWSON-VMF00149/{contig}/calldata/GT/\", \n",
    "                                            positionsPath=f\"../../resources/snp_genotypes/all/sites/{contig}/variants/POS/\",\n",
    "                                            siteFilterPath=f\"../../resources/site_filters/dt_20200416/gamb_colu/{contig}/variants/filter_pass/\")\n",
    "          \n",
    "  "
   ]
  },
  {
   "cell_type": "markdown",
   "metadata": {},
   "source": [
    "### Load Relatedness and doubleton data"
   ]
  },
  {
   "cell_type": "code",
   "execution_count": null,
   "metadata": {},
   "outputs": [],
   "source": [
    "rel = pd.read_csv(\"../../results/relatedness/ngsRelate.ag3_gaardian\", sep=\"\\t\")\n",
    "metadata['order'] = np.arange(0,len(metadata))\n",
    "n_dbltons = dblton.value_counts(['idx1', 'idx2']).to_frame().reset_index().rename(columns={0:'n_doubletons'})\n",
    "rel = rel.merge(metadata, left_on='a', right_on='order').merge(metadata, left_on='b', right_on='order')\n",
    "rel = rel.rename(columns={'a':'idx1', 'b':'idx2'})\n",
    "rel = rel.merge(n_dbltons)\n",
    "rel['spcomp'] = rel['species_gambiae_coluzzii_x'] + rel['species_gambiae_coluzzii_y']\n",
    "#rel = rel.query(\"spcomp == 'coluzziicoluzzii' | spcomp == 'gambiaegambiae'\")\n",
    "\n",
    "f2Haps = {}\n",
    "for contig in contigs:\n",
    "    f2Haps[contig] = pd.read_csv(f\"../../results/f2variants/f2HapLengths.{contig}.tsv\", sep=\"\\t\", index_col=0)\n",
    "    f2Haps[contig]['contig'] = contig\n",
    "    f2Haps[contig]['size'] = f2Haps[contig]['end'] - f2Haps[contig]['start']\n",
    " \n",
    "f2df = pd.concat(f2Haps, axis=0).reset_index(drop=True)\n",
    "f2haps = dblton.merge(f2df.rename(columns={'dblton_pos':'pos'}))\n",
    "f2haps['distance'] = haversine(f2haps['latitude'], f2haps['longitude'], f2haps['latitude2'], f2haps['longitude2'])\n",
    "\n",
    "## distance column \n",
    "rel['distance'] = haversine(rel['latitude_y'], rel['longitude_y'], rel['latitude_x'], rel['longitude_x'])\n",
    "totf2HapLength = f2haps.groupby(['idx1','idx2']).agg({'size':'sum'}).reset_index()\n",
    "rel = rel.merge(totf2HapLength)\n",
    "\n",
    "\n",
    "rel['kinship'] = np.select(\n",
    "    [\n",
    "        rel['KING'].between(-1, 0.0442, inclusive='both'), \n",
    "        rel['KING'].between(0.0443, 0.0884, inclusive='both'),\n",
    "        rel['KING'].between(0.0885, 0.177, inclusive='both'),\n",
    "        rel['KING'].between(0.178, 0.354, inclusive='both'),\n",
    "        rel['KING'].between(0.355, 0.5, inclusive='both')\n",
    "    ], \n",
    "    [\n",
    "        'Unrelated', \n",
    "        '3rd-Degree',\n",
    "        '2nd-Degree',\n",
    "        '1st Degree (full sib)',\n",
    "        'Dup/Twin'\n",
    "    ], \n",
    "    default='Unknown'\n",
    ")"
   ]
  },
  {
   "cell_type": "code",
   "execution_count": null,
   "metadata": {},
   "outputs": [],
   "source": [
    "rel.query(\"spcomp == 'gambiaegambiae'\")['KING'].hist()"
   ]
  },
  {
   "cell_type": "code",
   "execution_count": null,
   "metadata": {},
   "outputs": [],
   "source": [
    "rel.query(\"spcomp == 'coluzziicoluzzii'\")['KING'].hist()"
   ]
  },
  {
   "cell_type": "code",
   "execution_count": null,
   "metadata": {
    "scrolled": false
   },
   "outputs": [],
   "source": [
    "rel.query(\"spcomp == 'coluzziigambiae'\")['KING'].hist()"
   ]
  },
  {
   "cell_type": "code",
   "execution_count": null,
   "metadata": {},
   "outputs": [],
   "source": [
    "import plotly.express as px"
   ]
  },
  {
   "cell_type": "code",
   "execution_count": null,
   "metadata": {},
   "outputs": [],
   "source": [
    "rel['partner_sample_id_x']"
   ]
  },
  {
   "cell_type": "code",
   "execution_count": null,
   "metadata": {
    "scrolled": false
   },
   "outputs": [],
   "source": [
    "px.scatter(x=rel.distance,\n",
    "           y=rel.KING, \n",
    "           color='kinship', \n",
    "           data_frame=rel, \n",
    "           hover_data=['idx1', \n",
    "                       'idx2', \n",
    "                       'location_x',\n",
    "                       'location_y',\n",
    "                       'species_gambiae_coluzzii_x',\n",
    "                       'partner_sample_id_x',\n",
    "                       'species_gambiae_coluzzii_y',\n",
    "                      'partner_sample_id_y']\n",
    "          )"
   ]
  },
  {
   "cell_type": "code",
   "execution_count": null,
   "metadata": {},
   "outputs": [],
   "source": [
    "(rel['n_doubletons'] > 1800).sum()"
   ]
  },
  {
   "cell_type": "code",
   "execution_count": null,
   "metadata": {},
   "outputs": [],
   "source": [
    "rel['n_doubletons'].max()"
   ]
  },
  {
   "cell_type": "code",
   "execution_count": null,
   "metadata": {},
   "outputs": [],
   "source": [
    "rel.query(\"partner_sample_id_y == 'WA-2014' & partner_sample_id_x == 'WA-2009'\")"
   ]
  },
  {
   "cell_type": "code",
   "execution_count": null,
   "metadata": {},
   "outputs": [],
   "source": [
    "karyo_df = pd.read_csv(\"../../results/karyotypes/gaardian_karyotypes.tsv\", sep=\"\\t\", index_col=0)\n",
    "karyo_df.query(\"partner_sample_id in ['WA-2361', 'WA-2363'] & inversion == '2La'\")"
   ]
  },
  {
   "cell_type": "code",
   "execution_count": null,
   "metadata": {},
   "outputs": [],
   "source": [
    "karyo_df = karyo_df.query(\"inversion == '2La'\")\n",
    "karyo_df1 = karyo_df[['partner_sample_id', 'mean_genotype']].rename(columns={\"partner_sample_id\":'partner_sample_id_x', 'mean_genotype':'karyo_x'}) \n",
    "karyo_df2 = karyo_df[['partner_sample_id', 'mean_genotype']].rename(columns={\"partner_sample_id\":'partner_sample_id_y', 'mean_genotype':'karyo_y'}) "
   ]
  },
  {
   "cell_type": "code",
   "execution_count": null,
   "metadata": {},
   "outputs": [],
   "source": [
    "rel = rel.merge(karyo_df1).merge(karyo_df2)"
   ]
  },
  {
   "cell_type": "code",
   "execution_count": null,
   "metadata": {},
   "outputs": [],
   "source": [
    "rel.columns"
   ]
  },
  {
   "cell_type": "code",
   "execution_count": null,
   "metadata": {},
   "outputs": [],
   "source": [
    "ax = rel.query(\"KING < 0.05 and KING > -0.05\")[['karyo_x', 'karyo_y']].assign(karyotype_difference=np.round(np.abs(rel['karyo_x'] - rel['karyo_y'])))['karyotype_difference'].hist()\n",
    "ax.set_xlabel(\"Pairwise 2La karyotype difference\")\n",
    "ax.set_title(\"KING < 0.05 and KING > -0.05\")"
   ]
  },
  {
   "cell_type": "code",
   "execution_count": null,
   "metadata": {},
   "outputs": [],
   "source": [
    "rel['KING'].max()"
   ]
  },
  {
   "cell_type": "code",
   "execution_count": null,
   "metadata": {},
   "outputs": [],
   "source": [
    "ax = rel.query(\"KING < -0.05\")[['karyo_x', 'karyo_y']].assign(karyotype_difference=np.round(np.abs(rel['karyo_x'] - rel['karyo_y'])))['karyotype_difference'].hist()\n",
    "ax.set_xlabel(\"Pairwise 2La karyotype difference\")\n",
    "ax.set_title(\"KING < -0.05\")"
   ]
  },
  {
   "cell_type": "code",
   "execution_count": null,
   "metadata": {},
   "outputs": [],
   "source": [
    "def genome_wide_dxy(snps, pos, idx1, idx2, size, fst=False):    \n",
    "  \n",
    "    dxy = {}\n",
    "    midpoints = {}\n",
    "  \n",
    "    for contig in contigs:\n",
    "\n",
    "        geno = snps[contig].take([idx1,idx2], axis=1)\n",
    "        ac = geno.count_alleles()\n",
    "        seg = ac.is_segregating()\n",
    "        geno = geno.compress(seg, axis=0)\n",
    "        posi = pos[contig][seg]\n",
    "    \n",
    "        ac1 = geno.take([0], axis=1).count_alleles()\n",
    "        ac2 = geno.take([1], axis=1).count_alleles()\n",
    "\n",
    "        if fst is True:\n",
    "            dxy[contig] = allel.moving_hudson_fst(ac1,ac2, size=size)\n",
    "            midpoints[contig] = allel.moving_statistic(posi, np.median, size=size)\n",
    "        else:\n",
    "            dxy[contig], dxypos,_ ,_  = allel.windowed_divergence(posi, ac1, ac2, size=size) \n",
    "            midpoints[contig] =  np.median(dxypos, axis=1) \n",
    "            \n",
    "    ## plotting \n",
    "    chrom2fst = np.append(dxy['2R'], dxy['2L'])\n",
    "    chrom2pos = np.append(midpoints['2R'], midpoints['2R'].max() + midpoints['2L'])\n",
    "\n",
    "    chrom3fst = np.append(dxy['3R'], dxy['3L'])\n",
    "    chrom3pos = np.append(midpoints['3R'], midpoints['3R'].max() + midpoints['3L'])\n",
    "\n",
    "    chromxfst = dxy['X']\n",
    "    chromxpos = midpoints['X']\n",
    "\n",
    "    f, (ax0, ax1, ax2) = plt.subplots(1, 3, figsize=[20,4], gridspec_kw={'width_ratios': [chrom2pos.max(), chrom3pos.max(), chromxpos.max()]})\n",
    "\n",
    "    for ax in ax0, ax1, ax2:\n",
    "      sns.despine(top=True, right=True, left=True, bottom=False, ax=ax)\n",
    "\n",
    "    sns.scatterplot(ax=ax0, x=chrom2pos, y=chrom2fst, color='red')\n",
    "    xtick = np.arange(0, chrom2pos.max(), 10000000)\n",
    "    ax0.set_xticks(xtick, fontsize=42)\n",
    "    ax0.set_title(\"Chromosome 2\")\n",
    "    ax0.ticklabel_format(style='sci',scilimits=(6,6),axis='x')\n",
    "\n",
    "    sns.scatterplot(ax=ax1, x=chrom3pos, y=chrom3fst, color='dodgerblue')\n",
    "    xtick = np.arange(0, chrom3pos.max(), 10000000)\n",
    "    ax1.set_title(\"Chromosome 3\")\n",
    "    ax1.set_xticks(xtick, fontsize=42)\n",
    "    ax1.ticklabel_format(style='sci',scilimits=(6,6),axis='x')\n",
    "\n",
    "    sns.scatterplot(ax=ax2, x=chromxpos, y=chromxfst, color='green')\n",
    "    xtick = np.arange(0, chromxpos.max(), 10000000)\n",
    "    ax2.set_title(\"Chromosome X\")\n",
    "    ax2.set_xticks(xtick, fontsize=42)\n",
    "    ax2.ticklabel_format(style='sci',scilimits=(6,6),axis='x')\n",
    "\n",
    "    f.supxlabel('Genome Position')\n",
    "    ax0.set_ylim(-1,1) if fst else ax0.set_ylim(0,0.05)\n",
    "    ax1.set_ylim(-1,1) if fst else ax1.set_ylim(0,0.05)\n",
    "    ax2.set_ylim(-1,1) if fst else ax2.set_ylim(0,0.05)\n",
    "\n",
    "    plt.show()\n"
   ]
  },
  {
   "cell_type": "markdown",
   "metadata": {},
   "source": [
    "## genome_wide_dxy(snps, pos, 351, 353, 10_000, fst=True)"
   ]
  },
  {
   "cell_type": "code",
   "execution_count": null,
   "metadata": {},
   "outputs": [],
   "source": [
    "genome_wide_dxy(snps, pos, 351, 353, 500_000, fst=False)"
   ]
  },
  {
   "cell_type": "code",
   "execution_count": null,
   "metadata": {},
   "outputs": [],
   "source": [
    "genome_wide_dxy(snps, pos, 85, 277, 10_000, fst=True)"
   ]
  },
  {
   "cell_type": "code",
   "execution_count": null,
   "metadata": {},
   "outputs": [],
   "source": [
    "rel.query(\"partner_sample_id_y == 'WA-2014' & partner_sample_id_x == 'WA-2009'\")['KING']"
   ]
  },
  {
   "cell_type": "code",
   "execution_count": null,
   "metadata": {},
   "outputs": [],
   "source": [
    "rel.query(\"KING > 0.15\")['sex_call_x']"
   ]
  },
  {
   "cell_type": "code",
   "execution_count": null,
   "metadata": {},
   "outputs": [],
   "source": []
  },
  {
   "cell_type": "code",
   "execution_count": null,
   "metadata": {},
   "outputs": [],
   "source": []
  },
  {
   "cell_type": "code",
   "execution_count": null,
   "metadata": {},
   "outputs": [],
   "source": [
    "genome_wide_dxy(snps, pos, 217, 408, 10_000, fst=True)"
   ]
  },
  {
   "cell_type": "code",
   "execution_count": null,
   "metadata": {},
   "outputs": [],
   "source": [
    "genome_wide_dxy(snps, pos, 8, 12, 500_000)"
   ]
  },
  {
   "cell_type": "code",
   "execution_count": null,
   "metadata": {},
   "outputs": [],
   "source": [
    "genome_wide_dxy(snps, pos, 23, 44, 10_000, fst=True)"
   ]
  },
  {
   "cell_type": "code",
   "execution_count": null,
   "metadata": {},
   "outputs": [],
   "source": [
    "genome_wide_dxy(snps, pos, 23, 44, 500_000)"
   ]
  },
  {
   "cell_type": "code",
   "execution_count": null,
   "metadata": {},
   "outputs": [],
   "source": [
    "genome_wide_dxy(snps, pos, 33, 278, size=100_000)"
   ]
  },
  {
   "cell_type": "code",
   "execution_count": null,
   "metadata": {},
   "outputs": [],
   "source": [
    "genome_wide_dxy(snps, pos, idx1, idx2, size=100_000)"
   ]
  },
  {
   "cell_type": "code",
   "execution_count": null,
   "metadata": {},
   "outputs": [],
   "source": [
    "rel.query(\"size > 200_000_000\")"
   ]
  },
  {
   "cell_type": "code",
   "execution_count": null,
   "metadata": {},
   "outputs": [],
   "source": [
    "rel.query(\"idx1 == 8 & idx2 == 12\")"
   ]
  },
  {
   "cell_type": "code",
   "execution_count": null,
   "metadata": {},
   "outputs": [],
   "source": [
    "genome_wide_dxy(snps, pos, 8, 12, 10_000, fst=True)"
   ]
  },
  {
   "cell_type": "code",
   "execution_count": null,
   "metadata": {},
   "outputs": [],
   "source": [
    "genome_wide_dxy(snps, pos, idx1, idx2, size=10_000, fst=True)"
   ]
  },
  {
   "cell_type": "code",
   "execution_count": null,
   "metadata": {},
   "outputs": [],
   "source": [
    "genome_wide_dxy(snps, pos, idx1, idx2, size=10_000, fst=True)"
   ]
  }
 ],
 "metadata": {
  "interpreter": {
   "hash": "710100144729ec1057471750b60f3250df4296be7eb29e7e87fec32ed718ec4b"
  },
  "kernelspec": {
   "display_name": "Python 3 (ipykernel)",
   "language": "python",
   "name": "python3"
  },
  "language_info": {
   "codemirror_mode": {
    "name": "ipython",
    "version": 3
   },
   "file_extension": ".py",
   "mimetype": "text/x-python",
   "name": "python",
   "nbconvert_exporter": "python",
   "pygments_lexer": "ipython3",
   "version": "3.7.13"
  }
 },
 "nbformat": 4,
 "nbformat_minor": 2
}
