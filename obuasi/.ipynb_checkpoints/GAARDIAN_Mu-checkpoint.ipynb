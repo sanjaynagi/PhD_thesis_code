{
 "cells": [
  {
   "cell_type": "code",
   "execution_count": null,
   "metadata": {},
   "outputs": [],
   "source": [
    "%run tools.py"
   ]
  },
  {
   "cell_type": "markdown",
   "metadata": {},
   "source": [
    "### Mu analyses - GAARDIAN"
   ]
  },
  {
   "cell_type": "code",
   "execution_count": null,
   "metadata": {},
   "outputs": [],
   "source": [
    "sample_set = \"1244-VO-GH-YAWSON-VMF00149\"\n",
    "chroms = ['2L', '2R', '3L', '3R', 'X']"
   ]
  },
  {
   "cell_type": "code",
   "execution_count": null,
   "metadata": {},
   "outputs": [],
   "source": [
    "snps = {}\n",
    "pos = {}\n",
    "\n",
    "for chrom in chroms:\n",
    "    \n",
    "    snps[chrom], pos[chrom], metadata = load_arrays_and_metadata(\"../resources\", sample_set, chrom)\n",
    "    \n",
    "metadata['location'] = metadata['location'].str.split(\".\").str.get(0)"
   ]
  },
  {
   "cell_type": "markdown",
   "metadata": {},
   "source": [
    "### Genetic Diversity windowed"
   ]
  },
  {
   "cell_type": "markdown",
   "metadata": {},
   "source": [
    "This is without a site filter"
   ]
  },
  {
   "cell_type": "code",
   "execution_count": null,
   "metadata": {
    "scrolled": false
   },
   "outputs": [],
   "source": [
    "%%time\n",
    "pi = {}\n",
    "theta = {}\n",
    "\n",
    "for chrom in chroms:\n",
    "    for sp in ['gambiae', 'coluzzii']:\n",
    "        \n",
    "        # Get boolean indices of species\n",
    "        sp_bool = metadata['species_gambiae_coluzzii'] == sp \n",
    "        \n",
    "        # Manipulate arrays\n",
    "        geno = snps[chrom].compress(sp_bool, axis=1)\n",
    "        \n",
    "        if sp == 'coluzzii':\n",
    "            inds = np.random.choice(geno.shape[1], size=100)\n",
    "            geno = geno.take(inds, axis=1)\n",
    "            \n",
    "        ac = geno.count_alleles()\n",
    "        \n",
    "        size = 200000\n",
    "        step = 50000\n",
    "        # Calculate statistics \n",
    "        pi[chrom] = allel.windowed_diversity(pos[chrom], ac, size=size, step=step)\n",
    "        midpoint = allel.moving_statistic(np.arange(0, pos[chrom][-1:]+step), np.median, size=size, step=step)\n",
    "\n",
    "        saveAndPlot(statName=\"Pi\", \n",
    "                    values=pi[chrom][0], \n",
    "                    midpoints=midpoint,\n",
    "                    prefix=\"../results/diversity\", \n",
    "                    species = sp,\n",
    "                    chrom=chrom,\n",
    "                    ylim=0.05, \n",
    "                   save=True)\n",
    "        \n",
    "        \n",
    "        theta[chrom] = allel.windowed_watterson_theta(pos[chrom], ac, size=size, step=step)\n",
    "        \n",
    "        saveAndPlot(statName=\"Theta\", \n",
    "            values=theta[chrom][0], \n",
    "            midpoints=midpoint,\n",
    "            prefix=\"../results/diversity\", \n",
    "            species = sp,\n",
    "            chrom=chrom,\n",
    "            ylim=0.05, \n",
    "           save=True)"
   ]
  },
  {
   "cell_type": "markdown",
   "metadata": {},
   "source": [
    "#### Windowed Divergence (coluzzii v gambiae)"
   ]
  },
  {
   "cell_type": "code",
   "execution_count": null,
   "metadata": {},
   "outputs": [],
   "source": [
    "pos[chrom][:].max()"
   ]
  },
  {
   "cell_type": "code",
   "execution_count": null,
   "metadata": {},
   "outputs": [],
   "source": [
    "pos[chrom][-1:]"
   ]
  },
  {
   "cell_type": "code",
   "execution_count": null,
   "metadata": {
    "scrolled": false
   },
   "outputs": [],
   "source": [
    "dxy = {}\n",
    "\n",
    "for chrom in chroms:\n",
    "\n",
    "    # Get boolean indices of species\n",
    "    gamb_bool = metadata['species_gambiae_coluzzii'] == \"gambiae\" \n",
    "    colu_bool = metadata['species_gambiae_coluzzii'] == \"coluzzii\" \n",
    "\n",
    "    # Manipulate arrays\n",
    "    ac_gamb = allel.GenotypeDaskArray(snps[chrom]).compress(gamb_bool, axis=1).count_alleles()\n",
    "    ac_colu = allel.GenotypeDaskArray(snps[chrom]).compress(colu_bool, axis=1).count_alleles()\n",
    "\n",
    "    # Calculate statistics \n",
    "    dxy[chrom] = allel.windowed_divergence(pos[chrom], ac_gamb, ac_colu, size=100000, step=50000)\n",
    "    midpoint = allel.moving_statistic(np.arange(0, pos[chrom][-1:]), np.median, size=100000, step=50000)\n",
    "    \n",
    "    if midpoint.shape != dxy[chrom][0].shape:\n",
    "        midpoint = allel.moving_statistic(np.arange(0, pos[chrom][-1:]+50000), np.median, size=100000, step=50000)\n",
    "                                          \n",
    "    saveAndPlot(statName=\"Dxy\", \n",
    "                values=dxy[chrom][0], \n",
    "                midpoints=midpoint,\n",
    "                prefix=\"../results/diversity\", \n",
    "                species = \"gamb_v_colu\",\n",
    "                chrom=chrom,\n",
    "                ylim=0.02)"
   ]
  },
  {
   "cell_type": "code",
   "execution_count": null,
   "metadata": {},
   "outputs": [],
   "source": []
  },
  {
   "cell_type": "code",
   "execution_count": null,
   "metadata": {},
   "outputs": [],
   "source": []
  }
 ],
 "metadata": {
  "colab": {
   "collapsed_sections": [],
   "machine_shape": "hm",
   "name": "GAARD_v32_QC-LTC.ipynb",
   "provenance": []
  },
  "kernelspec": {
   "display_name": "Python 3 (ipykernel)",
   "language": "python",
   "name": "python3"
  },
  "language_info": {
   "codemirror_mode": {
    "name": "ipython",
    "version": 3
   },
   "file_extension": ".py",
   "mimetype": "text/x-python",
   "name": "python",
   "nbconvert_exporter": "python",
   "pygments_lexer": "ipython3",
   "version": "3.7.13"
  }
 },
 "nbformat": 4,
 "nbformat_minor": 4
}
