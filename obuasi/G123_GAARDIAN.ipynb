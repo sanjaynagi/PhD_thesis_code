{
 "cells": [
  {
   "cell_type": "code",
   "execution_count": null,
   "id": "197fa434",
   "metadata": {},
   "outputs": [],
   "source": [
    "%matplotlib inline\n",
    "\n",
    "import allel\n",
    "import numpy as np\n",
    "import pandas as pd\n",
    "import zarr\n",
    "from pathlib import Path\n",
    "import scipy\n",
    "import seaborn as sns\n",
    "import matplotlib\n",
    "import matplotlib.pyplot as plt\n",
    "\n",
    "%run tools.py"
   ]
  },
  {
   "cell_type": "markdown",
   "id": "185d2adf",
   "metadata": {},
   "source": [
    "### GAARDIAN - Ghana - G123"
   ]
  },
  {
   "cell_type": "code",
   "execution_count": null,
   "id": "ae0cf7d4",
   "metadata": {},
   "outputs": [],
   "source": [
    "vcf = allel.read_vcf(\"../resources/vcfs/ag3_gaardian_X.biallelic.vcf.gz\")"
   ]
  },
  {
   "cell_type": "code",
   "execution_count": null,
   "id": "6a9d89e1",
   "metadata": {},
   "outputs": [],
   "source": [
    "geno = allel.GenotypeArray(vcf['calldata/GT']).to_haplotypes()"
   ]
  },
  {
   "cell_type": "code",
   "execution_count": null,
   "id": "4cd255f1",
   "metadata": {},
   "outputs": [],
   "source": [
    "geno"
   ]
  },
  {
   "cell_type": "code",
   "execution_count": null,
   "id": "c62039d0",
   "metadata": {},
   "outputs": [],
   "source": [
    "sample_set = \"1244-VO-GH-YAWSON-VMF00149\"\n",
    "chroms = ['2L', '2R', '3L', '3R', 'X']\n",
    "\n",
    "snps = {}\n",
    "pos = {}\n",
    "\n",
    "for chrom in chroms:\n",
    "    \n",
    "    snps[chrom], pos[chrom], metadata = load_arrays_and_metadata(\"../resources\", sample_set, chrom)\n",
    "    \n",
    "metadata['location2'] = metadata['location'].str.split(\".\").str.get(0)"
   ]
  },
  {
   "cell_type": "code",
   "execution_count": null,
   "id": "4e0e6659",
   "metadata": {},
   "outputs": [],
   "source": [
    "from itertools import combinations"
   ]
  },
  {
   "cell_type": "code",
   "execution_count": null,
   "id": "e743a83c",
   "metadata": {},
   "outputs": [],
   "source": [
    "def getPopulations(metadata, columns=['species_gambiae_coluzzii', 'location2'], minPopSize=15):\n",
    "    \n",
    "    # subset metadata dataFrame and find combinations with more than minPopSize individuals\n",
    "    df = metadata[columns]\n",
    "    df = df.groupby(columns).size().reset_index().rename(columns={0:'size'})\n",
    "    cohorts = df[df['size'] > minPopSize][columns]\n",
    "    \n",
    "    idxs = []\n",
    "    for idx, row in cohorts.iterrows():   \n",
    "        # create the pandas query for each comparison\n",
    "        query = \" & \".join([col + \" == \" + \"'\" + row.astype(str)[col] + \"'\" for col in cohorts.columns])\n",
    "        # get indices of individuals for each comparison\n",
    "        idxs.append(metadata.query(query).index.tolist())\n",
    "    \n",
    "    cohorts['cohortText'] = cohorts[columns].agg(' | '.join, axis=1)\n",
    "    cohorts['cohortNoSpaceText'] = cohorts['cohortText'].str.replace(\"|\", \".\").str.replace(\" \", \"\")\n",
    "    cohorts['indices'] = idxs    \n",
    "    return(cohorts.reset_index(drop=True))"
   ]
  },
  {
   "cell_type": "code",
   "execution_count": null,
   "id": "d38f9fc6",
   "metadata": {},
   "outputs": [],
   "source": [
    "cohorts = getPopulations(metadata,columns=['species_gambiae_coluzzii','location2'], minPopSize=5)\n",
    "cohorts"
   ]
  },
  {
   "cell_type": "code",
   "execution_count": null,
   "id": "675167b4",
   "metadata": {},
   "outputs": [],
   "source": [
    "stat = 'G12'\n",
    "\n",
    "if stat in ['G12', 'G123']:\n",
    "    print(\"True\")"
   ]
  },
  {
   "cell_type": "code",
   "execution_count": null,
   "id": "5641dfe9",
   "metadata": {},
   "outputs": [],
   "source": [
    "for idx, coh in cohorts[:1].iterrows():\n",
    "    print(coh['indices'])"
   ]
  },
  {
   "cell_type": "code",
   "execution_count": null,
   "id": "73a995da",
   "metadata": {},
   "outputs": [],
   "source": [
    "df['species_gambiae_coluzzii']+ \"|\" + df['location2']"
   ]
  },
  {
   "cell_type": "code",
   "execution_count": null,
   "id": "3f658ad9",
   "metadata": {},
   "outputs": [],
   "source": [
    "inds = np.array([0,1,200,201,205,210])\n",
    "a2 = np.arange(0,300)"
   ]
  },
  {
   "cell_type": "code",
   "execution_count": null,
   "id": "847eae9a",
   "metadata": {},
   "outputs": [],
   "source": [
    "hapInds = np.sort(np.concatenate(((inds*2),((inds*2)+1))))\n",
    "hapInds"
   ]
  },
  {
   "cell_type": "code",
   "execution_count": null,
   "id": "57dcba74",
   "metadata": {},
   "outputs": [],
   "source": [
    "?np.sort"
   ]
  },
  {
   "cell_type": "markdown",
   "id": "d99bf653",
   "metadata": {},
   "source": [
    "How many do we have from each species?"
   ]
  },
  {
   "cell_type": "code",
   "execution_count": null,
   "id": "60ebbaf3",
   "metadata": {},
   "outputs": [],
   "source": []
  },
  {
   "cell_type": "code",
   "execution_count": null,
   "id": "429ab727",
   "metadata": {},
   "outputs": [],
   "source": [
    "metadata.species_gambiae_coluzzii.value_counts()"
   ]
  },
  {
   "cell_type": "markdown",
   "id": "22053251",
   "metadata": {},
   "source": [
    "How many samples do we have from each village??"
   ]
  },
  {
   "cell_type": "code",
   "execution_count": null,
   "id": "985030ea",
   "metadata": {},
   "outputs": [],
   "source": [
    "pd.cro"
   ]
  },
  {
   "cell_type": "code",
   "execution_count": null,
   "id": "ffe3815b",
   "metadata": {
    "scrolled": true
   },
   "outputs": [],
   "source": [
    "metadata.location2.value_counts()"
   ]
  },
  {
   "cell_type": "markdown",
   "id": "80312961",
   "metadata": {},
   "source": [
    "## G12"
   ]
  },
  {
   "cell_type": "code",
   "execution_count": null,
   "id": "17752dc7",
   "metadata": {},
   "outputs": [],
   "source": [
    "def cluster_G(gnalt, cut_height=0.1, metric='euclidean', g=2):\n",
    "    \"\"\"\n",
    "    Hierarchically clusters genotypes and calculates G12 statistic. \n",
    "    \"\"\"\n",
    "    # cluster the genotypes in the window\n",
    "    dist = scipy.spatial.distance.pdist(gnalt.T, metric=metric)\n",
    "    if metric in {'hamming', 'jaccard'}:\n",
    "        # convert distance to number of SNPs, easier to interpret\n",
    "        dist *= gnalt.shape[0]\n",
    "\n",
    "    Z = scipy.cluster.hierarchy.linkage(dist, method='single')\n",
    "    cut = scipy.cluster.hierarchy.cut_tree(Z, height=cut_height)[:, 0]\n",
    "    cluster_sizes = np.bincount(cut)\n",
    "    clusters = [np.nonzero(cut == i)[0] for i in range(cut.max() + 1)]\n",
    "    \n",
    "    # get freq of clusters and sort by largest freq\n",
    "    freqs = cluster_sizes/gnalt.shape[1]\n",
    "    freqs = np.sort(freqs)[::-1]\n",
    "    \n",
    "    # calculate g12\n",
    "    g12 = np.sum(freqs[:g])**2 + np.sum(freqs[g:]**2)\n",
    "    \n",
    "    return(g12)\n",
    "\n",
    "def garuds_G(gnalt, pos, cut_height=None, metric='euclidean', window_size=1000, step_size=500, cluster=False, g = 2):\n",
    "    \n",
    "    \"\"\"\n",
    "    Calculates G12, stores windows in .tsv and plots\n",
    "    \"\"\"\n",
    "        \n",
    "    # Do we want to cluster the Multi-locus genotypes (MLGs), or just group MLGs if they are identical\n",
    "    if cluster:\n",
    "        g12 = allel.moving_statistic(gnalt, cluster_G, size=window_size, step=step_size, metric=metric, cut_height=cut_height, g=g)\n",
    "    else:\n",
    "        g12,_,_,_ = allel.moving_garud_h(gnalt, size=window_size, step=step_size)\n",
    "\n",
    "    midpoint = allel.moving_statistic(pos, np.median, size=window_size, step=step_size)\n",
    "    \n",
    "    return(g12, midpoint)\n"
   ]
  },
  {
   "cell_type": "markdown",
   "id": "633b23d4",
   "metadata": {},
   "source": [
    "### Run G123 on all coluzzii, and all gambiae"
   ]
  },
  {
   "cell_type": "code",
   "execution_count": null,
   "id": "bbf9f4a7",
   "metadata": {
    "scrolled": true
   },
   "outputs": [],
   "source": [
    "for chrom in chroms:\n",
    "    \n",
    "    # have edited .species_gambiae_coluzzii column to contain 'arabiensis' instead of NA \n",
    "    for sp in metadata.species_gambiae_coluzzii.unique():\n",
    "\n",
    "        # filter to species \n",
    "        nmeta3 = metadata[metadata.species_gambiae_coluzzii == sp]\n",
    "        flt = np.array(nmeta3.index)\n",
    "        # filter to correct loc, year, species individuals\n",
    "        gt_cohort = snps[chrom].take(flt, axis=1)\n",
    "\n",
    "        log(f\"--------- Running G123 on {sp} Chromosome {chrom} ----------\")\n",
    "        log(\"filter to biallelic segregating sites\")\n",
    "        ac_cohort = gt_cohort.count_alleles(max_allele=3).compute()\n",
    "        # N.B., if going to use to_n_alt later, need to make sure sites are \n",
    "        # biallelic and one of the alleles is the reference allele\n",
    "        ref_ac = ac_cohort[:, 0]\n",
    "        loc_sites = ac_cohort.is_biallelic() & (ref_ac > 0)\n",
    "        gt_seg = da.compress(loc_sites, gt_cohort, axis=0)\n",
    "        pos_seg = da.compress(loc_sites, pos[chrom], axis=0)\n",
    "\n",
    "        log(\"compute input data for G123\")\n",
    "        pos_seg = pos_seg.compute()\n",
    "        gn_seg = allel.GenotypeDaskArray(gt_seg).to_n_alt().compute()\n",
    "\n",
    "        # calculate G12 and plot figs \n",
    "        g123, midpoint = garuds_G(gnalt=gn_seg, \n",
    "                                   pos=pos_seg, \n",
    "                                   cut_height=6,\n",
    "                                   metric='euclidean',\n",
    "                                   window_size=1200,\n",
    "                                   step_size=600, \n",
    "                                   cluster=True,\n",
    "                                  g=3)\n",
    "        \n",
    "        saveAndPlot(statName=\"G123\", \n",
    "                    values=g123, \n",
    "                    midpoints=midpoint,\n",
    "                    prefix=\"../results/selection/G123\", \n",
    "                    species=sp,\n",
    "                    chrom=chrom,\n",
    "                    ylim=0.02)"
   ]
  },
  {
   "cell_type": "markdown",
   "id": "f5a80d92",
   "metadata": {},
   "source": [
    "### Run G123 on all locations"
   ]
  },
  {
   "cell_type": "code",
   "execution_count": null,
   "id": "eb57ca8a",
   "metadata": {
    "scrolled": false
   },
   "outputs": [],
   "source": [
    "min_cohort_size = 20\n",
    "\n",
    "for chrom in chroms:\n",
    "    \n",
    "            ### loop through locations, then years, then species  \n",
    "    for loc in metadata.location2.unique():\n",
    "\n",
    "        nmeta = metadata[metadata.location2 == loc]\n",
    "        \n",
    "        # have edited .species_gambiae_coluzzii column to contain 'arabiensis' instead of NA \n",
    "        for sp in nmeta.species_gambiae_coluzzii.unique():\n",
    "\n",
    "            # filter to species \n",
    "            nmeta3 = nmeta[nmeta.species_gambiae_coluzzii == sp]\n",
    "            if nmeta3.shape[0] < min_cohort_size:\n",
    "                continue\n",
    "            flt = np.array(nmeta3.index)\n",
    "            # filter to correct loc, year, species individuals\n",
    "            gt_cohort = snps[chrom].take(flt, axis=1)\n",
    "\n",
    "            log(f\"--------- Running G123 on {sp} Chromosome {chrom} {loc} ----------\")\n",
    "            log(\"filter to biallelic segregating sites\")\n",
    "            ac_cohort = gt_cohort.count_alleles(max_allele=3).compute()\n",
    "            # N.B., if going to use to_n_alt later, need to make sure sites are \n",
    "            # biallelic and one of the alleles is the reference allele\n",
    "            ref_ac = ac_cohort[:, 0]\n",
    "            loc_sites = ac_cohort.is_biallelic() & (ref_ac > 0)\n",
    "            gt_seg = da.compress(loc_sites, gt_cohort, axis=0)\n",
    "            pos_seg = da.compress(loc_sites, pos[chrom], axis=0)\n",
    "\n",
    "            log(\"compute input data for G123\")\n",
    "            pos_seg = pos_seg.compute()\n",
    "            gn_seg = allel.GenotypeArray(gt_seg).to_n_alt()\n",
    "\n",
    "            # calculate G12 and plot figs \n",
    "            g123, midpoint = garuds_G(gnalt=gn_seg, \n",
    "                                       pos=pos_seg, \n",
    "                                       cut_height=6,\n",
    "                                       metric='euclidean',\n",
    "                                       window_size=1200,\n",
    "                                       step_size=600, \n",
    "                                       cluster=True,\n",
    "                                      g=3)\n",
    "\n",
    "            saveAndPlot(statName=f\"G123_{loc}\", \n",
    "                        values=g123, \n",
    "                        midpoints=midpoint,\n",
    "                        prefix=\"../results/selection/G123\", \n",
    "                        species=sp,\n",
    "                        chrom=chrom,\n",
    "                        ylim=0.5)"
   ]
  },
  {
   "cell_type": "code",
   "execution_count": null,
   "id": "a843294a",
   "metadata": {},
   "outputs": [],
   "source": []
  }
 ],
 "metadata": {
  "kernelspec": {
   "display_name": "Python 3 (ipykernel)",
   "language": "python",
   "name": "python3"
  },
  "language_info": {
   "codemirror_mode": {
    "name": "ipython",
    "version": 3
   },
   "file_extension": ".py",
   "mimetype": "text/x-python",
   "name": "python",
   "nbconvert_exporter": "python",
   "pygments_lexer": "ipython3",
   "version": "3.7.13"
  }
 },
 "nbformat": 4,
 "nbformat_minor": 5
}
