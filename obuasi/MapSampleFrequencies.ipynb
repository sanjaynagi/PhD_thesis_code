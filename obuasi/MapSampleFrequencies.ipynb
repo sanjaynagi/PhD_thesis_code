{
 "cells": [
  {
   "cell_type": "code",
   "execution_count": null,
   "metadata": {},
   "outputs": [],
   "source": [
    "import numpy as np \n",
    "import pandas as pd\n",
    "import seaborn as sns\n",
    "import matplotlib.pyplot as plt\n",
    "import matplotlib\n",
    "import matplotlib.patches as patches\n",
    "import sys\n",
    "import cartopy.crs as ccrs\n",
    "import cartopy.feature as cfeature"
   ]
  },
  {
   "cell_type": "code",
   "execution_count": null,
   "metadata": {
    "scrolled": true
   },
   "outputs": [],
   "source": [
    "%matplotlib inline\n",
    "import geopandas as gpd\n",
    "import contextily as cx"
   ]
  },
  {
   "cell_type": "markdown",
   "metadata": {},
   "source": [
    "### Load region ecological metadata"
   ]
  },
  {
   "cell_type": "code",
   "execution_count": null,
   "metadata": {},
   "outputs": [],
   "source": [
    "metadata = pd.read_csv(\"../../config/metadata.tsv\", sep=\"\\t\")\n",
    "#eco['mining'] = eco.Ecology.str.contains(\"mining\")\n",
    "#eco = eco.rename(columns={'Community ': 'location'})\n",
    "#eco = eco[['District', 'location', 'Ecology', 'mining', 'IRS STATUS']]"
   ]
  },
  {
   "cell_type": "markdown",
   "metadata": {},
   "source": [
    "### Read metadata and get locs"
   ]
  },
  {
   "cell_type": "code",
   "execution_count": null,
   "metadata": {},
   "outputs": [],
   "source": [
    "# Read metadata \n",
    "metadata = pd.read_csv(\"../../config/metadata.tsv\", sep=\"\\t\")"
   ]
  },
  {
   "cell_type": "code",
   "execution_count": null,
   "metadata": {},
   "outputs": [],
   "source": [
    "meta_locs = metadata.groupby('location').agg({'latitude':'mean', 'longitude':'mean'}).reset_index()\n",
    "meta = pd.crosstab(metadata['species_gambiae_coluzzii'], metadata['location']).T.reset_index()\n",
    "meta = meta.merge(meta_locs)"
   ]
  },
  {
   "cell_type": "code",
   "execution_count": null,
   "metadata": {},
   "outputs": [],
   "source": [
    "eco = metadata[['location', 'mining']].drop_duplicates().reset_index(drop=True)\n",
    "meta = meta.merge(eco)"
   ]
  },
  {
   "cell_type": "code",
   "execution_count": null,
   "metadata": {},
   "outputs": [],
   "source": [
    "meta = meta.merge(eco)"
   ]
  },
  {
   "cell_type": "code",
   "execution_count": null,
   "metadata": {},
   "outputs": [],
   "source": [
    "meta.plot(x='latitude', y='longitude', kind='scatter', c='coluzzii', colormap='Greys', s=meta['coluzzii'], figsize=[15,10])"
   ]
  },
  {
   "cell_type": "code",
   "execution_count": null,
   "metadata": {},
   "outputs": [],
   "source": [
    "# Sample positions\n",
    "GaardianGeo = gpd.GeoDataFrame(\n",
    "    metadata, geometry=gpd.points_from_xy(metadata.longitude, metadata.latitude, crs=\"EPSG:4326\"))\n",
    "\n",
    "GaardianGeo = GaardianGeo.to_crs(epsg=3857)\n",
    "\n",
    "ax = GaardianGeo.plot(figsize=(15, 13), alpha=0.5, edgecolor='k', c=pd.factorize(GaardianGeo['species_gambiae_coluzzii'])[0])\n",
    "cx.add_basemap(ax)"
   ]
  },
  {
   "cell_type": "code",
   "execution_count": null,
   "metadata": {},
   "outputs": [],
   "source": [
    "meta_wide = meta.melt(id_vars=['location', 'mining', 'latitude', 'longitude'], value_vars=['coluzzii', 'gambiae'], var_name=\"species\", value_name=\"counts\")"
   ]
  },
  {
   "cell_type": "code",
   "execution_count": null,
   "metadata": {},
   "outputs": [],
   "source": [
    "import matplotlib.patches as mpatches\n"
   ]
  },
  {
   "cell_type": "code",
   "execution_count": null,
   "metadata": {},
   "outputs": [],
   "source": [
    "meta"
   ]
  },
  {
   "cell_type": "code",
   "execution_count": null,
   "metadata": {},
   "outputs": [],
   "source": [
    "# Sample positions\n",
    "GaardianGeo = gpd.GeoDataFrame(\n",
    "    meta, geometry=gpd.points_from_xy(meta.longitude, meta.latitude, crs=\"EPSG:4326\"))\n",
    "\n",
    "GaardianGeo = GaardianGeo.to_crs(epsg=4326)\n",
    "\n",
    "GaardianGeo.loc[:, 'total'] = GaardianGeo.loc[:, 'gambiae'] + GaardianGeo.loc[:, 'coluzzii'] \n",
    "\n",
    "GaardianGeo.loc[:,\"coluzzii_fraction\"] = GaardianGeo.loc[:,\"coluzzii\"]/ GaardianGeo.loc[:,'total']  \n",
    "GaardianGeo.loc[:,\"gambiae_fraction\"] = GaardianGeo.loc[:,\"gambiae\"]/ GaardianGeo.loc[:,'total']  \n",
    "\n",
    "labels = ['coluzzii', 'gambiae']\n",
    "palette = sns.color_palette(['dodgerblue', 'indianred'], n_colors=len(labels))\n",
    "# add a colour for other_resistant\n",
    "#palette.append((0, 0, 0))\n",
    "# add a colour for wt # check\n",
    "sns.palplot(palette)\n",
    "plt.gca().set_xticklabels(labels);"
   ]
  },
  {
   "cell_type": "code",
   "execution_count": null,
   "metadata": {},
   "outputs": [],
   "source": [
    "subplot_kw = dict(projection=ccrs.PlateCarree())\n",
    "# figsize here is the entire figure size in inches, reduced later by bbox_inches\n",
    "# This dpi setting affects the display size of the figure in the notebook\n",
    "fig, ax = plt.subplots(figsize=(20, 20), subplot_kw=subplot_kw)\n",
    "GaardianGeo.to_crs(ccrs.PlateCarree())\n",
    "GaardianGeo.plot(ax=ax)\n",
    "cx.add_basemap(ax=ax, crs=ccrs.PlateCarree())\n",
    "\n",
    "pie_scale_factor = 0.00003\n",
    "for idx, row in GaardianGeo.iterrows():\n",
    "    \n",
    "    ratios = np.asarray([row[f\"{k}_fraction\"] for k in labels])\n",
    "    ratios = np.append(ratios, 1 - np.sum(ratios))\n",
    "    # wedgeprops is used here just to pass the zorder command\n",
    "    centre = (row['longitude'], row['latitude']) #(row.geometry.x + row.offset_lon, row.geometry.y + row.offset_lat)\n",
    "    radius= np.sqrt(row.total * pie_scale_factor)\n",
    "    \n",
    "    if row['mining'] == 'mining':\n",
    "        ax.add_patch(plt.Circle(xy=centre, radius=radius, facecolor='none', edgecolor='gold', zorder=8, lw=4))\n",
    "    else:\n",
    "        ax.add_patch(plt.Circle(xy=centre, radius=radius, facecolor='none', edgecolor='k', zorder=8, lw=3))\n",
    "    ax.pie(ratios, wedgeprops=dict(zorder=7, linewidth=0), colors=palette, center=centre, radius=radius, shadow=False)\n",
    "\n",
    "    lbl = row['location']\n",
    "    #if row.label == 'bottom':\n",
    "    #    ax.text(centre[0], centre[1] + (radius + (0.1 * radius)), lbl, ha='center', va='bottom', fontsize=16, fontweight='bold', bbox=dict(edgecolor='w', facecolor='w', pad=1, alpha=0, ), zorder=6)\n",
    "   # if row.label == 'top':\n",
    "    ax.text(centre[0], centre[1] - (radius + (0.1 * radius)), lbl, ha='center', va='top', fontsize=16, fontweight='bold', bbox=dict(edgecolor='w', facecolor='w', pad=1, alpha=0, ), zorder=6)\n",
    "\n",
    "   # if row.offset_lat != 0 or row.offset_lon != 0:\n",
    "   #     ax.plot([row.geometry.x, row.geometry.x + row.offset_lon],[row.geometry.y, row.geometry.y + row.offset_lat], 'k-', lw=2, zorder=5)\n",
    "    \n",
    "ax.set_extent([-2.1, -1.2, 5.9, 6.45])\n",
    "\n",
    "# where some data has already been plotted to ax\n",
    "handles, labels = ax.get_legend_handles_labels()\n",
    "# manually define a new patch \n",
    "patch = mpatches.Patch(color='dodgerblue', label='An. coluzzii')\n",
    "# handles is a list, so append manual patch\n",
    "handles.append(patch) \n",
    "patch = mpatches.Patch(color='indianred', label='An. gambiae')\n",
    "# handles is a list, so append manual patch\n",
    "handles.append(patch) \n",
    "patch = mpatches.Patch(color='gold', label='Informal Gold mining')\n",
    "# handles is a list, so append manual patch\n",
    "handles.append(patch)\n",
    "plt.legend(handles=handles, loc='upper left',fontsize=16)\n"
   ]
  },
  {
   "cell_type": "code",
   "execution_count": null,
   "metadata": {},
   "outputs": [],
   "source": [
    "def makegpd(meta):\n",
    "\n",
    "    # Sample positions\n",
    "    GaardianGeo = gpd.GeoDataFrame(\n",
    "        meta, geometry=gpd.points_from_xy(meta.longitude, meta.latitude, crs=\"EPSG:4326\"))\n",
    "\n",
    "    GaardianGeo = GaardianGeo.to_crs(epsg=4326)\n",
    "\n",
    "    GaardianGeo.loc[:, 'total'] = GaardianGeo.loc[:, 'gambiae'] + GaardianGeo.loc[:, 'coluzzii'] \n",
    "\n",
    "    GaardianGeo.loc[:,\"coluzzii_fraction\"] = GaardianGeo.loc[:,\"coluzzii\"]/ GaardianGeo.loc[:,'total']  \n",
    "    GaardianGeo.loc[:,\"gambiae_fraction\"] = GaardianGeo.loc[:,\"gambiae\"]/ GaardianGeo.loc[:,'total']  \n",
    "\n",
    "    labels = ['coluzzii', 'gambiae']\n",
    "    palette = sns.color_palette(['dodgerblue', 'indianred'], n_colors=len(labels))\n",
    "    # add a colour for other_resistant\n",
    "    #palette.append((0, 0, 0))\n",
    "    # add a colour for wt # check\n",
    "    return(GaardianGeo, labels, palette)\n",
    "\n",
    "def plotSampleMap(GaardianGeo):\n",
    "    subplot_kw = dict(projection=ccrs.PlateCarree())\n",
    "    # figsize here is the entire figure size in inches, reduced later by bbox_inches\n",
    "    # This dpi setting affects the display size of the figure in the notebook\n",
    "    fig, ax = plt.subplots(figsize=(20, 20), subplot_kw=subplot_kw)\n",
    "    GaardianGeo.to_crs(ccrs.PlateCarree())\n",
    "    GaardianGeo.plot(ax=ax)\n",
    "    cx.add_basemap(ax=ax, crs=ccrs.PlateCarree())\n",
    "\n",
    "    pie_scale_factor = 0.00003\n",
    "    for idx, row in GaardianGeo.iterrows():\n",
    "        \n",
    "        ratios = np.asarray([row[f\"{k}_fraction\"] for k in labels])\n",
    "        ratios = np.append(ratios, 1 - np.sum(ratios))\n",
    "        # wedgeprops is used here just to pass the zorder command\n",
    "        centre = (row['longitude'], row['latitude']) #(row.geometry.x + row.offset_lon, row.geometry.y + row.offset_lat)\n",
    "        radius= np.sqrt(row.total * pie_scale_factor)\n",
    "        \n",
    "        if row['mining'] == 'mining':\n",
    "            ax.add_patch(plt.Circle(xy=centre, radius=radius, facecolor='none', edgecolor='gold', zorder=8, lw=4))\n",
    "        else:\n",
    "            ax.add_patch(plt.Circle(xy=centre, radius=radius, facecolor='none', edgecolor='k', zorder=8, lw=3))\n",
    "        ax.pie(ratios, wedgeprops=dict(zorder=7, linewidth=0), colors=palette, center=centre, radius=radius, shadow=False)\n",
    "\n",
    "        lbl = row['location']\n",
    "        #if row.label == 'bottom':\n",
    "        #    ax.text(centre[0], centre[1] + (radius + (0.1 * radius)), lbl, ha='center', va='bottom', fontsize=16, fontweight='bold', bbox=dict(edgecolor='w', facecolor='w', pad=1, alpha=0, ), zorder=6)\n",
    "    # if row.label == 'top':\n",
    "        ax.text(centre[0], centre[1] - (radius + (0.1 * radius)), lbl, ha='center', va='top', fontsize=16, fontweight='bold', bbox=dict(edgecolor='w', facecolor='w', pad=1, alpha=0, ), zorder=6)\n",
    "\n",
    "    # if row.offset_lat != 0 or row.offset_lon != 0:\n",
    "    #     ax.plot([row.geometry.x, row.geometry.x + row.offset_lon],[row.geometry.y, row.geometry.y + row.offset_lat], 'k-', lw=2, zorder=5)\n",
    "        \n",
    "    ax.set_extent([-2.1, -1.2, 5.9, 6.45])\n",
    "\n",
    "    # where some data has already been plotted to ax\n",
    "    handles, labels = ax.get_legend_handles_labels()\n",
    "    # manually define a new patch \n",
    "    patch = mpatches.Patch(color='dodgerblue', label='An. coluzzii')\n",
    "    # handles is a list, so append manual patch\n",
    "    handles.append(patch) \n",
    "    patch = mpatches.Patch(color='indianred', label='An. gambiae')\n",
    "    # handles is a list, so append manual patch\n",
    "    handles.append(patch) \n",
    "    patch = mpatches.Patch(color='gold', label='Informal Gold mining')\n",
    "    # handles is a list, so append manual patch\n",
    "    handles.append(patch)\n",
    "    plt.legend(handles=handles, loc='upper left',fontsize=16)\n",
    "return(fig, ax)"
   ]
  },
  {
   "cell_type": "code",
   "execution_count": null,
   "metadata": {},
   "outputs": [],
   "source": [
    "fst =pd.read_csv(\"../../results/Fst_replicates.tsv\")"
   ]
  }
 ],
 "metadata": {
  "interpreter": {
   "hash": "9ac030382706c5c1321063ce03a1b0e81218a98dccb70b29707832c0f1b70d08"
  },
  "kernelspec": {
   "display_name": "Python 3 (ipykernel)",
   "language": "python",
   "name": "python3"
  },
  "language_info": {
   "codemirror_mode": {
    "name": "ipython",
    "version": 3
   },
   "file_extension": ".py",
   "mimetype": "text/x-python",
   "name": "python",
   "nbconvert_exporter": "python",
   "pygments_lexer": "ipython3",
   "version": "3.7.13"
  }
 },
 "nbformat": 4,
 "nbformat_minor": 4
}
