{
 "cells": [
  {
   "cell_type": "markdown",
   "metadata": {},
   "source": [
    "### IBD lengths"
   ]
  },
  {
   "cell_type": "code",
   "execution_count": 2,
   "metadata": {},
   "outputs": [],
   "source": [
    "import numpy as np\n",
    "import pandas as pd\n",
    "%matplotlib inline\n",
    "from numba import njit\n",
    "import numpy as np\n",
    "# importing sys\n",
    "import itertools\n",
    "import sys\n",
    "# adding Folder_2 to the system path\n",
    "sys.path.insert(0, '/home/sanj/projects/gaardian/workflow/scripts/')\n",
    "import probetools as probe"
   ]
  },
  {
   "cell_type": "code",
   "execution_count": 3,
   "metadata": {},
   "outputs": [],
   "source": [
    "@njit()\n",
    "def ibdscans(snps, pos, idx1, idx2):\n",
    "\n",
    "    geno1 = snps[:, idx1]\n",
    "    geno2 = snps[:, idx2]\n",
    "\n",
    "    breakpoints = []\n",
    "\n",
    "    # Scan right along genome, as long as two inds are not both homozygous but different\n",
    "    for pos_idx in range(pos.shape[0]):\n",
    "        \n",
    "        gn1 = geno1[pos_idx]\n",
    "        gn2 = geno2[pos_idx]        \n",
    "\n",
    "        # Scan right along genome, as long as two inds are not both homozygous but different\n",
    "        if (gn1[0] == gn1[1]) & (gn2[0] == gn2[1]) & ((gn1 != gn2).all()) & (-1 not in gn1 and -1 not in gn2):\n",
    "            breakpoints.append(pos_idx)\n",
    "    \n",
    "    return(np.array(breakpoints))\n"
   ]
  },
  {
   "cell_type": "code",
   "execution_count": 4,
   "metadata": {},
   "outputs": [],
   "source": [
    "metadata = pd.read_csv(\"../../config/metadata.tsv\", sep=\"\\t\", index_col=0)"
   ]
  },
  {
   "cell_type": "code",
   "execution_count": 5,
   "metadata": {},
   "outputs": [],
   "source": [
    "contig = '3L'\n",
    "idx1 = 0\n",
    "idx2 = 1\n",
    "\n",
    "snps, pos = probe.loadZarrArrays(genotypePath=f\"../../resources/snp_genotypes/all/1244-VO-GH-YAWSON-VMF00149/{contig}/calldata/GT/\", \n",
    "                                        positionsPath=f\"../../resources/snp_genotypes/all/sites/{contig}/variants/POS/\",\n",
    "                                        siteFilterPath=f\"../../resources/site_filters/dt_20200416/gamb_colu/{contig}/variants/filter_pass/\")\n",
    "\n",
    "ac = snps.count_alleles()\n",
    "seg = ac.is_segregating()\n",
    "snps = snps.compress(seg, axis=0).compute().values\n",
    "pos = pos[seg]"
   ]
  },
  {
   "cell_type": "markdown",
   "metadata": {},
   "source": [
    "#### Scan whole chromosome"
   ]
  },
  {
   "cell_type": "code",
   "execution_count": 6,
   "metadata": {},
   "outputs": [],
   "source": [
    "cohorts = probe.getCohorts(metadata, minPopSize=10)"
   ]
  },
  {
   "cell_type": "code",
   "execution_count": 7,
   "metadata": {},
   "outputs": [],
   "source": [
    "cohorts['indices10'] = cohorts['indices'].apply(lambda x: np.sort(np.random.choice(x, 10, replace=False)))"
   ]
  },
  {
   "cell_type": "code",
   "execution_count": 8,
   "metadata": {},
   "outputs": [],
   "source": [
    "ibd_sizes = []\n",
    "n_breaks = []\n",
    "xs = []\n",
    "ys = []\n",
    "\n",
    "idxs = np.concatenate(cohorts['indices10'])\n",
    "\n",
    "for x,y in itertools.combinations(idxs, 2):\n",
    "\n",
    "    breakpoints = ibdscans(snps, pos, x, y)\n",
    "    breakpoints = pos[breakpoints]\n",
    "\n",
    "    xs.append(x)\n",
    "    ys.append(y)\n",
    "    ibd_sizes.append(np.ediff1d(breakpoints))\n",
    "    n_breaks.append(len(breakpoints))\n"
   ]
  },
  {
   "cell_type": "code",
   "execution_count": 11,
   "metadata": {},
   "outputs": [],
   "source": [
    "df = pd.DataFrame({'idx1':xs, 'idx2':ys, 'hap_sizes': ibd_sizes, 'breaks':n_breaks})\n"
   ]
  },
  {
   "cell_type": "code",
   "execution_count": 14,
   "metadata": {},
   "outputs": [
    {
     "data": {
      "text/plain": [
       "(11175, 4)"
      ]
     },
     "execution_count": 14,
     "metadata": {},
     "output_type": "execute_result"
    }
   ],
   "source": [
    "df.shape"
   ]
  },
  {
   "cell_type": "code",
   "execution_count": 12,
   "metadata": {},
   "outputs": [],
   "source": [
    "df.to_csv(\"../../results/ibd_distributions.tsv\", sep=\"\\t\")"
   ]
  },
  {
   "cell_type": "code",
   "execution_count": 15,
   "metadata": {},
   "outputs": [],
   "source": [
    "import seaborn as sns\n",
    "import matplotlib.pyplot as plt"
   ]
  },
  {
   "cell_type": "code",
   "execution_count": 31,
   "metadata": {},
   "outputs": [
    {
     "data": {
      "text/plain": [
       "0       729782\n",
       "1       294416\n",
       "2       265786\n",
       "3       363701\n",
       "4       364688\n",
       "        ...   \n",
       "995    1120778\n",
       "996     323997\n",
       "997     138540\n",
       "998     380277\n",
       "999     364632\n",
       "Name: hap_sizes, Length: 1000, dtype: int32"
      ]
     },
     "execution_count": 31,
     "metadata": {},
     "output_type": "execute_result"
    }
   ],
   "source": [
    "df['hap_sizes'][:1000].apply(max)"
   ]
  },
  {
   "cell_type": "code",
   "execution_count": 25,
   "metadata": {},
   "outputs": [
    {
     "name": "stdout",
     "output_type": "stream",
     "text": [
      "count     38496.000000\n",
      "mean       1071.985973\n",
      "std        6373.804988\n",
      "min           1.000000\n",
      "25%          32.000000\n",
      "50%         240.000000\n",
      "75%         996.000000\n",
      "max      729782.000000\n",
      "dtype: float64\n"
     ]
    },
    {
     "name": "stderr",
     "output_type": "stream",
     "text": [
      "/home/sanj/apps/anaconda3/lib/python3.7/site-packages/seaborn/distributions.py:2619: FutureWarning: `distplot` is a deprecated function and will be removed in a future version. Please adapt your code to use either `displot` (a figure-level function with similar flexibility) or `histplot` (an axes-level function for histograms).\n",
      "  warnings.warn(msg, FutureWarning)\n"
     ]
    },
    {
     "name": "stdout",
     "output_type": "stream",
     "text": [
      "count     50439.000000\n",
      "mean        830.767402\n",
      "std        3493.383730\n",
      "min           1.000000\n",
      "25%          28.000000\n",
      "50%         175.000000\n",
      "75%         767.000000\n",
      "max      294416.000000\n",
      "dtype: float64\n"
     ]
    },
    {
     "name": "stderr",
     "output_type": "stream",
     "text": [
      "/home/sanj/apps/anaconda3/lib/python3.7/site-packages/seaborn/distributions.py:2619: FutureWarning: `distplot` is a deprecated function and will be removed in a future version. Please adapt your code to use either `displot` (a figure-level function with similar flexibility) or `histplot` (an axes-level function for histograms).\n",
      "  warnings.warn(msg, FutureWarning)\n"
     ]
    },
    {
     "name": "stdout",
     "output_type": "stream",
     "text": [
      "count     50356.000000\n",
      "mean        831.680614\n",
      "std        3462.346705\n",
      "min           1.000000\n",
      "25%          28.000000\n",
      "50%         185.000000\n",
      "75%         797.000000\n",
      "max      265786.000000\n",
      "dtype: float64\n"
     ]
    },
    {
     "name": "stderr",
     "output_type": "stream",
     "text": [
      "/home/sanj/apps/anaconda3/lib/python3.7/site-packages/seaborn/distributions.py:2619: FutureWarning: `distplot` is a deprecated function and will be removed in a future version. Please adapt your code to use either `displot` (a figure-level function with similar flexibility) or `histplot` (an axes-level function for histograms).\n",
      "  warnings.warn(msg, FutureWarning)\n"
     ]
    },
    {
     "data": {
      "image/png": "[encoded data removed]",
      "text/plain": [
       "<Figure size 720x720 with 1 Axes>"
      ]
     },
     "metadata": {
      "needs_background": "light"
     },
     "output_type": "display_data"
    }
   ],
   "source": [
    "fig, ax = plt.subplots(1, figsize=[10,10])\n",
    "for idx in range(3):\n",
    "    a = pd.Series(df.loc[idx, 'hap_sizes']).describe()\n",
    "    print(a)\n",
    "    sns.distplot(np.log(df.loc[idx, 'hap_sizes']))"
   ]
  },
  {
   "cell_type": "code",
   "execution_count": 106,
   "metadata": {},
   "outputs": [
    {
     "name": "stdout",
     "output_type": "stream",
     "text": [
      "Scanning 2L, individuals - 0, 1\n",
      "Done...\n"
     ]
    }
   ],
   "source": [
    "probe.log(f\"Scanning {contig}, individuals - {idx1}, {idx2}\")\n",
    "breakpoints = ibdscans(snps, pos, idx1, idx2)\n",
    "breakpoints = pos[breakpoints]\n",
    "sizes = pd.Series(np.ediff1d(breakpoints))\n",
    "probe.log(\"Done...\")"
   ]
  },
  {
   "cell_type": "code",
   "execution_count": null,
   "metadata": {},
   "outputs": [],
   "source": [
    "df = pd.DataFrame({'start':starts, 'end':ends, 'dblton_pos': dbltonpos})\n",
    "df.to_csv(f\"../../results/f2variants/f2HapLengths.{contig}.tsv\", sep=\"\\t\")"
   ]
  }
 ],
 "metadata": {
  "interpreter": {
   "hash": "710100144729ec1057471750b60f3250df4296be7eb29e7e87fec32ed718ec4b"
  },
  "kernelspec": {
   "display_name": "Python 3.7.4 ('base')",
   "language": "python",
   "name": "python3"
  },
  "language_info": {
   "codemirror_mode": {
    "name": "ipython",
    "version": 3
   },
   "file_extension": ".py",
   "mimetype": "text/x-python",
   "name": "python",
   "nbconvert_exporter": "python",
   "pygments_lexer": "ipython3",
   "version": "3.7.12"
  },
  "orig_nbformat": 4
 },
 "nbformat": 4,
 "nbformat_minor": 2
}
