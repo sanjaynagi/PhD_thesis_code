{
 "cells": [
  {
   "cell_type": "markdown",
   "metadata": {
    "id": "FojZU_TjRi-o"
   },
   "source": [
    "# FEEMS - Ag\n",
    "\n",
    "Attempt to adapt [FEEMS example notebook](https://nbviewer.org/github/NovembreLab/feems/blob/main/docsrc/notebooks/getting-started.ipynb) to work with data from Ag1000G."
   ]
  },
  {
   "cell_type": "code",
   "execution_count": null,
   "metadata": {
    "colab": {
     "base_uri": "https://localhost:8080/"
    },
    "id": "WSpFbr23dXDL",
    "outputId": "95954e12-ef5f-4f1e-dbf8-0b36fd86893a"
   },
   "outputs": [],
   "source": [
    "# install feems - N.B., do this first, because it causes a numpy downgrade\n",
    "!pip install -q git+https://github.com/NovembreLab/feems"
   ]
  },
  {
   "cell_type": "code",
   "execution_count": null,
   "metadata": {
    "colab": {
     "base_uri": "https://localhost:8080/"
    },
    "id": "H-s72x4bS0t_",
    "outputId": "17ea042c-8d33-440a-9042-d0d1373d035e"
   },
   "outputs": [],
   "source": [
    "# install cartopy (special faff for colab)\n",
    "!apt-get -q install libgdal-dev libproj-dev libgeos-dev proj-data proj-bin\n",
    "!pip uninstall -q -y shapely  # make sure we have a fresh shapely install\n",
    "!pip install -q shapely==1.7.1 --no-binary shapely\n",
    "!pip install -q cartopy==0.18.0"
   ]
  },
  {
   "cell_type": "code",
   "execution_count": null,
   "metadata": {
    "colab": {
     "base_uri": "https://localhost:8080/"
    },
    "id": "osjUGlxchGHs",
    "outputId": "7a0e009f-2ac0-44d2-d741-18ad30bb11bf"
   },
   "outputs": [],
   "source": [
    "# install scikit-sparse\n",
    "!apt-get -q install libsuitesparse-dev\n",
    "!pip install -q scikit-sparse"
   ]
  },
  {
   "cell_type": "code",
   "execution_count": null,
   "metadata": {
    "id": "eaR3D0fzgYcV"
   },
   "outputs": [],
   "source": [
    "import warnings\n",
    "warnings.filterwarnings(\"ignore\")"
   ]
  },
  {
   "cell_type": "code",
   "execution_count": null,
   "metadata": {
    "colab": {
     "base_uri": "https://localhost:8080/",
     "height": 303
    },
    "id": "ZCu0XEuBZaC-",
    "outputId": "7d227c5c-2247-47e8-8423-7d6cf5555f53"
   },
   "outputs": [],
   "source": [
    "# check cartopy is working\n",
    "import matplotlib.pyplot as plt\n",
    "import cartopy.crs as ccrs\n",
    "fig = plt.figure(figsize=(10, 5))\n",
    "ax = fig.add_subplot(1, 1, 1, projection=ccrs.Robinson())\n",
    "\n",
    "# make the map global rather than have it zoom in to\n",
    "# the extents of any plotted data\n",
    "ax.set_global()\n",
    "\n",
    "ax.stock_img()\n",
    "ax.coastlines()\n",
    "\n",
    "ax.plot(-0.08, 51.53, 'o', transform=ccrs.PlateCarree())\n",
    "ax.plot([-0.08, 132], [51.53, 43.17], transform=ccrs.PlateCarree())\n",
    "ax.plot([-0.08, 132], [51.53, 43.17], transform=ccrs.Geodetic());"
   ]
  },
  {
   "cell_type": "code",
   "execution_count": null,
   "metadata": {
    "id": "bhUBm1OSRgtC"
   },
   "outputs": [],
   "source": [
    "# base\n",
    "import numpy as np\n",
    "import pkg_resources\n",
    "from sklearn.impute import SimpleImputer\n",
    "from pandas_plink import read_plink\n",
    "\n",
    "# viz\n",
    "import matplotlib.pyplot as plt\n",
    "import cartopy.crs as ccrs\n",
    "\n",
    "# feems\n",
    "from feems.utils import prepare_graph_inputs\n",
    "from feems import SpatialGraph, Viz"
   ]
  },
  {
   "cell_type": "markdown",
   "metadata": {
    "id": "EfE2rvedr216"
   },
   "source": [
    "**Make sure numpy version is 1.18.5...**"
   ]
  },
  {
   "cell_type": "code",
   "execution_count": null,
   "metadata": {
    "colab": {
     "base_uri": "https://localhost:8080/",
     "height": 35
    },
    "id": "wiXbPu_HXAz5",
    "outputId": "4d48ae67-19a5-4177-ff09-bfd76ad15155"
   },
   "outputs": [],
   "source": [
    "np.__version__"
   ]
  },
  {
   "cell_type": "code",
   "execution_count": null,
   "metadata": {
    "colab": {
     "base_uri": "https://localhost:8080/"
    },
    "id": "BbDGem_niUyt",
    "outputId": "f6a6ea0b-32ea-4777-b5e1-136dbc34c6a0"
   },
   "outputs": [],
   "source": [
    "!pip list | grep numpy\n",
    "!pip list | grep scipy"
   ]
  },
  {
   "cell_type": "code",
   "execution_count": null,
   "metadata": {
    "id": "ith1ABE1RKbW"
   },
   "outputs": [],
   "source": [
    "data_path = pkg_resources.resource_filename(\"feems\", \"data/\")"
   ]
  },
  {
   "cell_type": "code",
   "execution_count": null,
   "metadata": {
    "id": "sF0iC2hQyqbB"
   },
   "outputs": [],
   "source": [
    "# setup graph\n",
    "# coord = np.loadtxt(\"{}/wolvesadmix.coord\".format(data_path))  # sample coordinates\n",
    "# outer = np.loadtxt(\"{}/wolvesadmix.outer\".format(data_path))  # outer coordinates\n",
    "grid_path = \"{}/grid_100.shp\".format(data_path)  # path to discrete global grid"
   ]
  },
  {
   "cell_type": "code",
   "execution_count": null,
   "metadata": {
    "id": "aZbDXaYUkwJq"
   },
   "outputs": [],
   "source": [
    "import malariagen_data"
   ]
  },
  {
   "cell_type": "code",
   "execution_count": null,
   "metadata": {
    "colab": {
     "base_uri": "https://localhost:8080/",
     "height": 207
    },
    "id": "iLGP9FtRkyWE",
    "outputId": "b0c12058-df3b-4b4f-fb38-3f7be55fe811"
   },
   "outputs": [],
   "source": [
    "ag3 = malariagen_data.Ag3()\n",
    "ag3"
   ]
  },
  {
   "cell_type": "code",
   "execution_count": null,
   "metadata": {
    "id": "jItG5kTkk5qI"
   },
   "outputs": [],
   "source": [
    "sample_sets = [\"AG1000G-BF-A\", \"AG1000G-CM-B\", \"AG1000G-CD\", \"AG1000G-UG\", \"AG1000G-TZ\", \"AG1000G-MZ\"]\n",
    "sample_query = \"taxon == 'gambiae'\""
   ]
  },
  {
   "cell_type": "code",
   "execution_count": null,
   "metadata": {
    "colab": {
     "base_uri": "https://localhost:8080/",
     "height": 661
    },
    "id": "BT_NAR3VlI2U",
    "outputId": "31f51860-2922-4c41-e1ed-fef062270ff3"
   },
   "outputs": [],
   "source": [
    "df_samples = ag3.sample_metadata(sample_sets=sample_sets)\n",
    "df_samples"
   ]
  },
  {
   "cell_type": "code",
   "execution_count": null,
   "metadata": {
    "id": "JNZv3SdNlZoZ"
   },
   "outputs": [],
   "source": [
    "loc_cohort = df_samples.eval(sample_query).values\n",
    "df_samples_cohort = df_samples.loc[loc_cohort]"
   ]
  },
  {
   "cell_type": "code",
   "execution_count": null,
   "metadata": {
    "colab": {
     "base_uri": "https://localhost:8080/"
    },
    "id": "_0gL3paXl9jM",
    "outputId": "c953c1d0-247a-40af-fdd9-4b88fbb2d59d"
   },
   "outputs": [],
   "source": [
    "ag_coord = np.array(df_samples_cohort[[\"longitude\", \"latitude\"]])\n",
    "ag_coord.shape"
   ]
  },
  {
   "cell_type": "code",
   "execution_count": null,
   "metadata": {
    "id": "BFkR8Cf8mrdK"
   },
   "outputs": [],
   "source": [
    "ag_outer = np.array([\n",
    "    [-10, 20],\n",
    "    [-10, 0],\n",
    "    [10, 0],\n",
    "    [10, -25],\n",
    "    [40, -25],\n",
    "    [40, 20],\n",
    "])"
   ]
  },
  {
   "cell_type": "code",
   "execution_count": null,
   "metadata": {
    "colab": {
     "base_uri": "https://localhost:8080/",
     "height": 604
    },
    "id": "C63TTzuQmP2I",
    "outputId": "fdb8bf6e-3788-4221-b79c-13a4c084011f"
   },
   "outputs": [],
   "source": [
    "# check cartopy is working\n",
    "import matplotlib.pyplot as plt\n",
    "import cartopy.crs as ccrs\n",
    "import cartopy.feature as cfeature\n",
    "\n",
    "fig = plt.figure(figsize=(15, 15))\n",
    "projection = ccrs.EquidistantConic(central_longitude=20, central_latitude=0)\n",
    "ax = fig.add_subplot(1, 1, 1, projection=projection)\n",
    "\n",
    "ax.stock_img()\n",
    "ax.coastlines(resolution='50m', linewidth=1)\n",
    "ax.add_feature(cfeature.BORDERS, linewidth=1)\n",
    "ax.gridlines(\n",
    "    crs=ccrs.PlateCarree(), \n",
    "    xlocs=np.arange(-180, 180, 10), \n",
    "    ylocs=np.arange(-180, 180, 10), \n",
    "    draw_labels=True)\n",
    "ax.set_extent([ag_outer[:, 0].min()-5, ag_outer[:, 0].max()+5, ag_outer[:, 1].min()-5, ag_outer[:, 1].max()+5], crs=ccrs.PlateCarree())\n",
    "ax.plot(ag_coord[:, 0], ag_coord[:, 1], 'o', color=\"red\", transform=ccrs.PlateCarree());\n",
    "ax.plot(ag_outer[:, 0], ag_outer[:, 1], 'o-', color=\"green\", transform=ccrs.PlateCarree());\n"
   ]
  },
  {
   "cell_type": "code",
   "execution_count": null,
   "metadata": {
    "colab": {
     "base_uri": "https://localhost:8080/",
     "height": 430
    },
    "id": "y9LXT0Jnnn1c",
    "outputId": "cd50d23d-e9ee-4af9-8db7-72e99cab9ca8"
   },
   "outputs": [],
   "source": [
    "region = \"3L:10_000_000-11_000_000\"\n",
    "ds_snps = ag3.snp_calls(\n",
    "    region=region,\n",
    "    sample_sets=sample_sets\n",
    ")\n",
    "ds_snps"
   ]
  },
  {
   "cell_type": "code",
   "execution_count": null,
   "metadata": {
    "colab": {
     "base_uri": "https://localhost:8080/",
     "height": 430
    },
    "id": "kRZSZhkhl8Q2",
    "outputId": "0a80c445-d6c5-4bda-d3f1-f1a128b3c3be"
   },
   "outputs": [],
   "source": [
    "ds_snps_cohort = ds_snps.sel(samples=loc_cohort)\n",
    "ds_snps_cohort"
   ]
  },
  {
   "cell_type": "code",
   "execution_count": null,
   "metadata": {
    "colab": {
     "base_uri": "https://localhost:8080/",
     "height": 173
    },
    "id": "2MeEYntHlpQK",
    "outputId": "d06c1e3e-cedb-4037-9651-e15e4594ff18"
   },
   "outputs": [],
   "source": [
    "gt = ds_snps_cohort[\"call_genotype\"].data\n",
    "gt"
   ]
  },
  {
   "cell_type": "code",
   "execution_count": null,
   "metadata": {
    "id": "kCpk2pyklvAM"
   },
   "outputs": [],
   "source": [
    "import allel"
   ]
  },
  {
   "cell_type": "code",
   "execution_count": null,
   "metadata": {
    "colab": {
     "base_uri": "https://localhost:8080/"
    },
    "id": "9VQjHHmClxsC",
    "outputId": "81766edb-7af7-4da6-9307-2c5bcbe299b2"
   },
   "outputs": [],
   "source": [
    "%%time\n",
    "ac = allel.GenotypeDaskArray(gt).count_alleles(max_allele=3).compute()"
   ]
  },
  {
   "cell_type": "code",
   "execution_count": null,
   "metadata": {
    "id": "YHGz8EHupAmt"
   },
   "outputs": [],
   "source": [
    "an = ac.sum(axis=1)"
   ]
  },
  {
   "cell_type": "code",
   "execution_count": null,
   "metadata": {
    "colab": {
     "base_uri": "https://localhost:8080/"
    },
    "id": "M_nGh_u9l3z_",
    "outputId": "d7eca232-c3a2-4d34-85e1-04c6ced356f4"
   },
   "outputs": [],
   "source": [
    "loc_seg = ac.is_biallelic_01() & ac.is_segregating() & (an == len(df_samples_cohort) * 2)\n",
    "np.sum(loc_seg)"
   ]
  },
  {
   "cell_type": "code",
   "execution_count": null,
   "metadata": {
    "colab": {
     "base_uri": "https://localhost:8080/",
     "height": 173
    },
    "id": "vl16_UT7lw87",
    "outputId": "2ca70224-4483-409c-f059-69449f6849cb"
   },
   "outputs": [],
   "source": [
    "gt_seg = gt[loc_seg]\n",
    "gt_seg"
   ]
  },
  {
   "cell_type": "code",
   "execution_count": null,
   "metadata": {
    "colab": {
     "base_uri": "https://localhost:8080/"
    },
    "id": "qKbA0svMo9vq",
    "outputId": "fdb9131b-c7c9-4e1a-9214-ea171a4b84ed"
   },
   "outputs": [],
   "source": [
    "gn = allel.GenotypeDaskArray(gt_seg).to_n_alt().compute()\n",
    "gn.shape"
   ]
  },
  {
   "cell_type": "code",
   "execution_count": null,
   "metadata": {
    "colab": {
     "base_uri": "https://localhost:8080/"
    },
    "id": "we3FIMIBprqI",
    "outputId": "26ad30d9-93e6-4c86-c281-ba08f85a1e22"
   },
   "outputs": [],
   "source": [
    "ag_coord.shape"
   ]
  },
  {
   "cell_type": "code",
   "execution_count": null,
   "metadata": {
    "colab": {
     "base_uri": "https://localhost:8080/"
    },
    "id": "LfCxVcTvpttZ",
    "outputId": "60c4856e-8b5e-4ff8-da60-e334f78de4d4"
   },
   "outputs": [],
   "source": [
    "ag_outer.shape"
   ]
  },
  {
   "cell_type": "code",
   "execution_count": null,
   "metadata": {
    "id": "DxMd3I5ZTvk4"
   },
   "outputs": [],
   "source": [
    "# graph input files\n",
    "new_outer, edges, grid, _ = prepare_graph_inputs(\n",
    "    coord=ag_coord, \n",
    "    ggrid=grid_path,\n",
    "    translated=False, \n",
    "    buffer=2,\n",
    "    outer=None,\n",
    ")"
   ]
  },
  {
   "cell_type": "code",
   "execution_count": null,
   "metadata": {
    "colab": {
     "base_uri": "https://localhost:8080/"
    },
    "id": "WOQsEmUuUB1u",
    "outputId": "86fe8836-2682-4b16-b23e-5b38098b30dc"
   },
   "outputs": [],
   "source": [
    "%%time\n",
    "sp_graph = SpatialGraph(gn.T, ag_coord, grid, edges, scale_snps=True)"
   ]
  },
  {
   "cell_type": "code",
   "execution_count": null,
   "metadata": {
    "colab": {
     "base_uri": "https://localhost:8080/",
     "height": 679
    },
    "id": "oqrpsP1zUIER",
    "outputId": "2914a770-b56c-4e22-d97c-5d271bdcb013"
   },
   "outputs": [],
   "source": [
    "projection = ccrs.EquidistantConic(central_longitude=20, central_latitude=0)\n",
    "fig = plt.figure(dpi=300)\n",
    "ax = fig.add_subplot(1, 1, 1, projection=projection)  \n",
    "v = Viz(ax, sp_graph, projection=projection, edge_width=.5, \n",
    "        edge_alpha=1, edge_zorder=100, sample_pt_size=10, \n",
    "        obs_node_size=7.5, sample_pt_color=\"black\", \n",
    "        cbar_font_size=10)\n",
    "v.draw_map()\n",
    "v.draw_samples()\n",
    "v.draw_edges(use_weights=False)\n",
    "v.draw_obs_nodes(use_ids=False)"
   ]
  },
  {
   "cell_type": "code",
   "execution_count": null,
   "metadata": {
    "colab": {
     "base_uri": "https://localhost:8080/"
    },
    "id": "TlSnakobUKrq",
    "outputId": "147030bd-61e2-498c-da11-7961f2bbcdba"
   },
   "outputs": [],
   "source": [
    "%%time\n",
    "sp_graph.fit(lamb=20.0)"
   ]
  },
  {
   "cell_type": "code",
   "execution_count": null,
   "metadata": {
    "colab": {
     "base_uri": "https://localhost:8080/",
     "height": 679
    },
    "id": "O8AbmENeUaCV",
    "outputId": "be7f82fd-cba0-4125-f2a4-26147291447d"
   },
   "outputs": [],
   "source": [
    "fig = plt.figure(dpi=300)\n",
    "ax = fig.add_subplot(1, 1, 1, projection=projection)  \n",
    "v = Viz(ax, sp_graph, projection=projection, edge_width=.5, \n",
    "        edge_alpha=1, edge_zorder=100, sample_pt_size=20, \n",
    "        obs_node_size=7.5, sample_pt_color=\"black\", \n",
    "        cbar_font_size=10)\n",
    "v.draw_map()\n",
    "v.draw_edges(use_weights=True)\n",
    "v.draw_obs_nodes(use_ids=False) \n",
    "v.draw_edge_colorbar()"
   ]
  },
  {
   "cell_type": "code",
   "execution_count": null,
   "metadata": {
    "colab": {
     "base_uri": "https://localhost:8080/"
    },
    "id": "0hV9ddbZUeHp",
    "outputId": "e3cab625-de15-40de-b4ab-bf9ec20a285b"
   },
   "outputs": [],
   "source": [
    "%%time\n",
    "sp_graph.fit(lamb=2.0)"
   ]
  },
  {
   "cell_type": "code",
   "execution_count": null,
   "metadata": {
    "colab": {
     "base_uri": "https://localhost:8080/",
     "height": 679
    },
    "id": "txy3Q2r4UiyB",
    "outputId": "9f0cceff-40ba-4342-ba3e-d626cb36490a"
   },
   "outputs": [],
   "source": [
    "fig = plt.figure(dpi=300)\n",
    "ax = fig.add_subplot(1, 1, 1, projection=projection)  \n",
    "v = Viz(ax, sp_graph, projection=projection, edge_width=.5, \n",
    "        edge_alpha=1, edge_zorder=100, sample_pt_size=20, \n",
    "        obs_node_size=7.5, sample_pt_color=\"black\", \n",
    "        cbar_font_size=10)\n",
    "v.draw_map()\n",
    "v.draw_edges(use_weights=True)\n",
    "v.draw_obs_nodes(use_ids=False) \n",
    "v.draw_edge_colorbar()"
   ]
  },
  {
   "cell_type": "code",
   "execution_count": null,
   "metadata": {
    "id": "0K68aVbjUly3"
   },
   "outputs": [],
   "source": []
  }
 ],
 "metadata": {
  "colab": {
   "collapsed_sections": [],
   "name": "2022-03-28-feems-ag.ipynb",
   "provenance": []
  },
  "interpreter": {
   "hash": "adbf2157957c16ad2c9b9dd5e0b5915fda1a42a56b97ef2a4dd6ebdb12f13c60"
  },
  "kernelspec": {
   "display_name": "Python 3 (ipykernel)",
   "language": "python",
   "name": "python3"
  },
  "language_info": {
   "codemirror_mode": {
    "name": "ipython",
    "version": 3
   },
   "file_extension": ".py",
   "mimetype": "text/x-python",
   "name": "python",
   "nbconvert_exporter": "python",
   "pygments_lexer": "ipython3",
   "version": "3.7.13"
  }
 },
 "nbformat": 4,
 "nbformat_minor": 1
}
