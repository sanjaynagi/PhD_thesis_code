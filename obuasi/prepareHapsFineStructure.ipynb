{
 "cells": [
  {
   "cell_type": "code",
   "execution_count": 1,
   "id": "e69b52f4",
   "metadata": {},
   "outputs": [],
   "source": [
    "%matplotlib inline\n",
    "#import malariagen_data\n",
    "import allel\n",
    "import malariagen_data\n",
    "import numpy as np\n",
    "import pandas as pd\n",
    "import seaborn as sns\n",
    "\n",
    "import sys\n",
    "# adding Folder_2 to the system path\n",
    "sys.path.insert(0, '/home/sanj/projects/gaardian/workflow/scripts/')\n",
    "import probetools as probe"
   ]
  },
  {
   "cell_type": "code",
   "execution_count": 2,
   "id": "0a7d1fac",
   "metadata": {},
   "outputs": [],
   "source": [
    "def load_metahaps(cohorts, names, metaquery = None):\n",
    "    meta = ag3.sample_metadata(cohorts)\n",
    "    meta = meta.query(\"sample_id in @names\")\n",
    "    meta['sample_id'] = pd.Categorical(meta['sample_id'], categories = names, ordered = True)\n",
    "    if metaquery != None: meta = meta.query(metaquery)\n",
    "    meta = meta.sort_values(by='sample_id')\n",
    "    metahaps = pd.DataFrame(np.repeat(meta.values, 2, axis=0))\n",
    "    metahaps.columns = meta.columns\n",
    "    return(metahaps)"
   ]
  },
  {
   "cell_type": "markdown",
   "id": "ea9eceb9",
   "metadata": {},
   "source": [
    "### Preparing the haplotype data for fineStructure"
   ]
  },
  {
   "cell_type": "code",
   "execution_count": 3,
   "id": "7ca91f29",
   "metadata": {},
   "outputs": [
    {
     "data": {
      "application/javascript": "\n(function(root) {\n  function now() {\n    return new Date();\n  }\n\n  const force = true;\n\n  if (typeof root._bokeh_onload_callbacks === \"undefined\" || force === true) {\n    root._bokeh_onload_callbacks = [];\n    root._bokeh_is_loading = undefined;\n  }\n\n  const JS_MIME_TYPE = 'application/javascript';\n  const HTML_MIME_TYPE = 'text/html';\n  const EXEC_MIME_TYPE = 'application/vnd.bokehjs_exec.v0+json';\n  const CLASS_NAME = 'output_bokeh rendered_html';\n\n  /**\n   * Render data to the DOM node\n   */\n  function render(props, node) {\n    const script = document.createElement(\"script\");\n    node.appendChild(script);\n  }\n\n  /**\n   * Handle when an output is cleared or removed\n   */\n  function handleClearOutput(event, handle) {\n    const cell = handle.cell;\n\n    const id = cell.output_area._bokeh_element_id;\n    const server_id = cell.output_area._bokeh_server_id;\n    // Clean up Bokeh references\n    if (id != null && id in Bokeh.index) {\n      Bokeh.index[id].model.document.clear();\n      delete Bokeh.index[id];\n    }\n\n    if (server_id !== undefined) {\n      // Clean up Bokeh references\n      const cmd_clean = \"from bokeh.io.state import curstate; print(curstate().uuid_to_server['\" + server_id + \"'].get_sessions()[0].document.roots[0]._id)\";\n      cell.notebook.kernel.execute(cmd_clean, {\n        iopub: {\n          output: function(msg) {\n            const id = msg.content.text.trim();\n            if (id in Bokeh.index) {\n              Bokeh.index[id].model.document.clear();\n              delete Bokeh.index[id];\n            }\n          }\n        }\n      });\n      // Destroy server and session\n      const cmd_destroy = \"import bokeh.io.notebook as ion; ion.destroy_server('\" + server_id + \"')\";\n      cell.notebook.kernel.execute(cmd_destroy);\n    }\n  }\n\n  /**\n   * Handle when a new output is added\n   */\n  function handleAddOutput(event, handle) {\n    const output_area = handle.output_area;\n    const output = handle.output;\n\n    // limit handleAddOutput to display_data with EXEC_MIME_TYPE content only\n    if ((output.output_type != \"display_data\") || (!Object.prototype.hasOwnProperty.call(output.data, EXEC_MIME_TYPE))) {\n      return\n    }\n\n    const toinsert = output_area.element.find(\".\" + CLASS_NAME.split(' ')[0]);\n\n    if (output.metadata[EXEC_MIME_TYPE][\"id\"] !== undefined) {\n      toinsert[toinsert.length - 1].firstChild.textContent = output.data[JS_MIME_TYPE];\n      // store reference to embed id on output_area\n      output_area._bokeh_element_id = output.metadata[EXEC_MIME_TYPE][\"id\"];\n    }\n    if (output.metadata[EXEC_MIME_TYPE][\"server_id\"] !== undefined) {\n      const bk_div = document.createElement(\"div\");\n      bk_div.innerHTML = output.data[HTML_MIME_TYPE];\n      const script_attrs = bk_div.children[0].attributes;\n      for (let i = 0; i < script_attrs.length; i++) {\n        toinsert[toinsert.length - 1].firstChild.setAttribute(script_attrs[i].name, script_attrs[i].value);\n        toinsert[toinsert.length - 1].firstChild.textContent = bk_div.children[0].textContent\n      }\n      // store reference to server id on output_area\n      output_area._bokeh_server_id = output.metadata[EXEC_MIME_TYPE][\"server_id\"];\n    }\n  }\n\n  function register_renderer(events, OutputArea) {\n\n    function append_mime(data, metadata, element) {\n      // create a DOM node to render to\n      const toinsert = this.create_output_subarea(\n        metadata,\n        CLASS_NAME,\n        EXEC_MIME_TYPE\n      );\n      this.keyboard_manager.register_events(toinsert);\n      // Render to node\n      const props = {data: data, metadata: metadata[EXEC_MIME_TYPE]};\n      render(props, toinsert[toinsert.length - 1]);\n      element.append(toinsert);\n      return toinsert\n    }\n\n    /* Handle when an output is cleared or removed */\n    events.on('clear_output.CodeCell', handleClearOutput);\n    events.on('delete.Cell', handleClearOutput);\n\n    /* Handle when a new output is added */\n    events.on('output_added.OutputArea', handleAddOutput);\n\n    /**\n     * Register the mime type and append_mime function with output_area\n     */\n    OutputArea.prototype.register_mime_type(EXEC_MIME_TYPE, append_mime, {\n      /* Is output safe? */\n      safe: true,\n      /* Index of renderer in `output_area.display_order` */\n      index: 0\n    });\n  }\n\n  // register the mime type if in Jupyter Notebook environment and previously unregistered\n  if (root.Jupyter !== undefined) {\n    const events = require('base/js/events');\n    const OutputArea = require('notebook/js/outputarea').OutputArea;\n\n    if (OutputArea.prototype.mime_types().indexOf(EXEC_MIME_TYPE) == -1) {\n      register_renderer(events, OutputArea);\n    }\n  }\n\n  \n  if (typeof (root._bokeh_timeout) === \"undefined\" || force === true) {\n    root._bokeh_timeout = Date.now() + 5000;\n    root._bokeh_failed_load = false;\n  }\n\n  const NB_LOAD_WARNING = {'data': {'text/html':\n     \"<div style='background-color: #fdd'>\\n\"+\n     \"<p>\\n\"+\n     \"BokehJS does not appear to have successfully loaded. If loading BokehJS from CDN, this \\n\"+\n     \"may be due to a slow or bad network connection. Possible fixes:\\n\"+\n     \"</p>\\n\"+\n     \"<ul>\\n\"+\n     \"<li>re-rerun `output_notebook()` to attempt to load from CDN again, or</li>\\n\"+\n     \"<li>use INLINE resources instead, as so:</li>\\n\"+\n     \"</ul>\\n\"+\n     \"<code>\\n\"+\n     \"from bokeh.resources import INLINE\\n\"+\n     \"output_notebook(resources=INLINE)\\n\"+\n     \"</code>\\n\"+\n     \"</div>\"}};\n\n  function display_loaded() {\n    const el = document.getElementById(null);\n    if (el != null) {\n      el.textContent = \"BokehJS is loading...\";\n    }\n    if (root.Bokeh !== undefined) {\n      if (el != null) {\n        el.textContent = \"BokehJS \" + root.Bokeh.version + \" successfully loaded.\";\n      }\n    } else if (Date.now() < root._bokeh_timeout) {\n      setTimeout(display_loaded, 100)\n    }\n  }\n\n\n  function run_callbacks() {\n    try {\n      root._bokeh_onload_callbacks.forEach(function(callback) {\n        if (callback != null)\n          callback();\n      });\n    } finally {\n      delete root._bokeh_onload_callbacks\n    }\n    console.debug(\"Bokeh: all callbacks have finished\");\n  }\n\n  function load_libs(css_urls, js_urls, callback) {\n    if (css_urls == null) css_urls = [];\n    if (js_urls == null) js_urls = [];\n\n    root._bokeh_onload_callbacks.push(callback);\n    if (root._bokeh_is_loading > 0) {\n      console.debug(\"Bokeh: BokehJS is being loaded, scheduling callback at\", now());\n      return null;\n    }\n    if (js_urls == null || js_urls.length === 0) {\n      run_callbacks();\n      return null;\n    }\n    console.debug(\"Bokeh: BokehJS not loaded, scheduling load and callback at\", now());\n    root._bokeh_is_loading = css_urls.length + js_urls.length;\n\n    function on_load() {\n      root._bokeh_is_loading--;\n      if (root._bokeh_is_loading === 0) {\n        console.debug(\"Bokeh: all BokehJS libraries/stylesheets loaded\");\n        run_callbacks()\n      }\n    }\n\n    function on_error(url) {\n      console.error(\"failed to load \" + url);\n    }\n\n    for (let i = 0; i < css_urls.length; i++) {\n      const url = css_urls[i];\n      const element = document.createElement(\"link\");\n      element.onload = on_load;\n      element.onerror = on_error.bind(null, url);\n      element.rel = \"stylesheet\";\n      element.type = \"text/css\";\n      element.href = url;\n      console.debug(\"Bokeh: injecting link tag for BokehJS stylesheet: \", url);\n      document.body.appendChild(element);\n    }\n\n    for (let i = 0; i < js_urls.length; i++) {\n      const url = js_urls[i];\n      const element = document.createElement('script');\n      element.onload = on_load;\n      element.onerror = on_error.bind(null, url);\n      element.async = false;\n      element.src = url;\n      console.debug(\"Bokeh: injecting script tag for BokehJS library: \", url);\n      document.head.appendChild(element);\n    }\n  };\n\n  function inject_raw_css(css) {\n    const element = document.createElement(\"style\");\n    element.appendChild(document.createTextNode(css));\n    document.body.appendChild(element);\n  }\n\n  \n  const js_urls = [\"https://cdn.bokeh.org/bokeh/release/bokeh-2.4.2.min.js\", \"https://cdn.bokeh.org/bokeh/release/bokeh-gl-2.4.2.min.js\", \"https://cdn.bokeh.org/bokeh/release/bokeh-widgets-2.4.2.min.js\", \"https://cdn.bokeh.org/bokeh/release/bokeh-tables-2.4.2.min.js\", \"https://cdn.bokeh.org/bokeh/release/bokeh-mathjax-2.4.2.min.js\"];\n  const css_urls = [];\n  \n\n  const inline_js = [\n    function(Bokeh) {\n      Bokeh.set_log_level(\"info\");\n    },\n    function(Bokeh) {\n    \n    \n    }\n  ];\n\n  function run_inline_js() {\n    \n    if (root.Bokeh !== undefined || force === true) {\n      \n    for (let i = 0; i < inline_js.length; i++) {\n      inline_js[i].call(root, root.Bokeh);\n    }\n    } else if (Date.now() < root._bokeh_timeout) {\n      setTimeout(run_inline_js, 100);\n    } else if (!root._bokeh_failed_load) {\n      console.log(\"Bokeh: BokehJS failed to load within specified timeout.\");\n      root._bokeh_failed_load = true;\n    } else if (force !== true) {\n      const cell = $(document.getElementById(null)).parents('.cell').data().cell;\n      cell.output_area.append_execute_result(NB_LOAD_WARNING)\n    }\n\n  }\n\n  if (root._bokeh_is_loading === 0) {\n    console.debug(\"Bokeh: BokehJS loaded, going straight to plotting\");\n    run_inline_js();\n  } else {\n    load_libs(css_urls, js_urls, function() {\n      console.debug(\"Bokeh: BokehJS plotting callback run at\", now());\n      run_inline_js();\n    });\n  }\n}(window));",
      "application/vnd.bokehjs_load.v0+json": ""
     },
     "metadata": {},
     "output_type": "display_data"
    }
   ],
   "source": [
    "dataset = 'gaardian'\n",
    "contig='3L'\n",
    "gaardian_sample_set = ['1244-VO-GH-YAWSON-VMF00149']\n",
    "\n",
    "ag3 = malariagen_data.Ag3(pre=True)"
   ]
  },
  {
   "cell_type": "code",
   "execution_count": 23,
   "id": "32b60177",
   "metadata": {},
   "outputs": [],
   "source": [
    "haps = ag3.haplotypes(region=contig, sample_sets=gaardian_sample_set, analysis='gamb_colu')\n",
    "sp_ids = haps['sample_id'].compute().values"
   ]
  },
  {
   "cell_type": "code",
   "execution_count": 25,
   "id": "d9be6084",
   "metadata": {},
   "outputs": [
    {
     "data": {
      "text/plain": [
       "(11354020,)"
      ]
     },
     "execution_count": 25,
     "metadata": {},
     "output_type": "execute_result"
    }
   ],
   "source": [
    "haps['variant_position'].shape"
   ]
  },
  {
   "cell_type": "code",
   "execution_count": 28,
   "id": "d25ba56d",
   "metadata": {},
   "outputs": [
    {
     "data": {
      "text/plain": [
       "(11354020,)"
      ]
     },
     "execution_count": 28,
     "metadata": {},
     "output_type": "execute_result"
    }
   ],
   "source": [
    "np.unique(haps['variant_position']).shape"
   ]
  },
  {
   "cell_type": "code",
   "execution_count": 5,
   "id": "52834f98",
   "metadata": {},
   "outputs": [
    {
     "name": "stdout",
     "output_type": "stream",
     "text": [
      "(485, 3)\n"
     ]
    },
    {
     "data": {
      "text/html": [
       "<div>\n",
       "<style scoped>\n",
       "    .dataframe tbody tr th:only-of-type {\n",
       "        vertical-align: middle;\n",
       "    }\n",
       "\n",
       "    .dataframe tbody tr th {\n",
       "        vertical-align: top;\n",
       "    }\n",
       "\n",
       "    .dataframe thead th {\n",
       "        text-align: right;\n",
       "    }\n",
       "</style>\n",
       "<table border=\"1\" class=\"dataframe\">\n",
       "  <thead>\n",
       "    <tr style=\"text-align: right;\">\n",
       "      <th></th>\n",
       "      <th>partner_sample_id</th>\n",
       "      <th>location</th>\n",
       "      <th>keep</th>\n",
       "    </tr>\n",
       "  </thead>\n",
       "  <tbody>\n",
       "    <tr>\n",
       "      <th>0</th>\n",
       "      <td>WA-2001</td>\n",
       "      <td>Adumanu</td>\n",
       "      <td>1</td>\n",
       "    </tr>\n",
       "    <tr>\n",
       "      <th>1</th>\n",
       "      <td>WA-2002</td>\n",
       "      <td>Adumanu</td>\n",
       "      <td>1</td>\n",
       "    </tr>\n",
       "    <tr>\n",
       "      <th>2</th>\n",
       "      <td>WA-2003</td>\n",
       "      <td>Kente</td>\n",
       "      <td>1</td>\n",
       "    </tr>\n",
       "  </tbody>\n",
       "</table>\n",
       "</div>"
      ],
      "text/plain": [
       "  partner_sample_id location  keep\n",
       "0           WA-2001  Adumanu     1\n",
       "1           WA-2002  Adumanu     1\n",
       "2           WA-2003    Kente     1"
      ]
     },
     "execution_count": 5,
     "metadata": {},
     "output_type": "execute_result"
    }
   ],
   "source": [
    "meta = ag3.sample_metadata(gaardian_sample_set)\n",
    "meta = meta.query(\"sample_id in @sp_ids\")\n",
    "meta['sample_id'] = pd.Categorical(meta['sample_id'], categories = sp_ids, ordered = True)\n",
    "meta = meta.sort_values(by='sample_id')\n",
    "\n",
    "samples = meta[['partner_sample_id', 'location']].copy()\n",
    "samples.loc[:, 'location'] = samples.loc[:, 'location'].str.split(\".\").str.get(0)\n",
    "samples.loc[:, 'keep'] = 1\n",
    "\n",
    "print(samples.shape)\n",
    "samples.head(3)"
   ]
  },
  {
   "cell_type": "code",
   "execution_count": 103,
   "id": "6469326c",
   "metadata": {},
   "outputs": [],
   "source": [
    "samples.to_csv(\"../../resources/phaseHaplotypes/sample.ids\", sep=\" \", index=None, header=False)"
   ]
  },
  {
   "cell_type": "markdown",
   "id": "8786e0a3",
   "metadata": {},
   "source": [
    "### Haplotypes in phase format"
   ]
  },
  {
   "cell_type": "code",
   "execution_count": 20,
   "id": "8cf26273",
   "metadata": {},
   "outputs": [
    {
     "name": "stdout",
     "output_type": "stream",
     "text": [
      "mkdir: created directory '../../resources/phaseHaplotypes'\r\n"
     ]
    }
   ],
   "source": [
    "!mkdir -pv ../../resources/phaseHaplotypes"
   ]
  },
  {
   "cell_type": "code",
   "execution_count": 41,
   "id": "e3b31bcc",
   "metadata": {},
   "outputs": [],
   "source": [
    "selection = np.random.choice(haps['variant_position'].shape[0], size=1_000_000, replace=False)\n",
    "selection = np.sort(selection)"
   ]
  },
  {
   "cell_type": "code",
   "execution_count": 44,
   "id": "6ae4e6a6",
   "metadata": {},
   "outputs": [],
   "source": [
    "haps = haps.isel(variants=selection)\n",
    "pos = haps['variant_position'].values"
   ]
  },
  {
   "cell_type": "code",
   "execution_count": 46,
   "id": "22746a32",
   "metadata": {},
   "outputs": [],
   "source": [
    "with open(f\"../../resources/phaseHaplotypes/{dataset}_{contig}.phase\", 'w') as outfile:\n",
    "    outfile.write(str(samples.shape[0]*2))\n",
    "    outfile.write(\"\\n\")\n",
    "    outfile.write(str(haps['call_genotype'].shape[0]))\n",
    "    outfile.write(\"\\n\")\n",
    "    outfile.write(\"P \")\n",
    "    for p in pos:\n",
    "        outfile.write(f\"{p} \")\n",
    "    outfile.write(\"\\n\")\n",
    "    for i in range(haps['call_genotype'].shape[1]):\n",
    "        for allele in [0,1]:\n",
    "            outfile.write(''.join(haps['call_genotype'][:, i, allele].values.astype(str)))\n",
    "            outfile.write(\"\\n\")"
   ]
  },
  {
   "cell_type": "code",
   "execution_count": 47,
   "id": "b14d8f63",
   "metadata": {},
   "outputs": [],
   "source": [
    "with open(f\"../../resources/phaseHaplotypes/{dataset}_{contig}.recomb\", \"w\") as outfile:\n",
    "    outfile.write(\"snp_pos\\trecomb_per_bp\\n\")\n",
    "    for p in pos:\n",
    "        outfile.write(f\"{p}\\t0.0000000001\")\n",
    "        outfile.write(\"\\n\")"
   ]
  },
  {
   "cell_type": "code",
   "execution_count": null,
   "id": "b33157b4",
   "metadata": {},
   "outputs": [],
   "source": []
  }
 ],
 "metadata": {
  "interpreter": {
   "hash": "710100144729ec1057471750b60f3250df4296be7eb29e7e87fec32ed718ec4b"
  },
  "kernelspec": {
   "display_name": "Python 3.7.12 ('base')",
   "language": "python",
   "name": "python3"
  },
  "language_info": {
   "codemirror_mode": {
    "name": "ipython",
    "version": 3
   },
   "file_extension": ".py",
   "mimetype": "text/x-python",
   "name": "python",
   "nbconvert_exporter": "python",
   "pygments_lexer": "ipython3",
   "version": "3.7.12"
  }
 },
 "nbformat": 4,
 "nbformat_minor": 5
}
