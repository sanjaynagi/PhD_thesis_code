{
 "cells": [
  {
   "cell_type": "code",
   "execution_count": 1,
   "metadata": {},
   "outputs": [],
   "source": [
    "import sys\n",
    "\n",
    "%run tools.py \n",
    "from pathlib import Path\n",
    "import numpy as np\n",
    "import pandas as pd\n",
    "import plotly.express as px\n",
    "import dask.array as da\n",
    "import seaborn as sns\n",
    "import matplotlib.pyplot as plt"
   ]
  },
  {
   "cell_type": "code",
   "execution_count": 26,
   "metadata": {},
   "outputs": [],
   "source": [
    "meta = pd.read_csv(\"../../resources/metadata/samples.meta.csv\")\n",
    "spp= pd.read_csv(\"../../resources/metadata/samples.meta.spp.csv\")"
   ]
  },
  {
   "cell_type": "code",
   "execution_count": 28,
   "metadata": {},
   "outputs": [],
   "source": [
    "spp.to_csv(\"../../config/metadata.tsv\", sep=\"\\t\")"
   ]
  },
  {
   "cell_type": "code",
   "execution_count": 25,
   "metadata": {},
   "outputs": [
    {
     "data": {
      "text/html": [
       "<div>\n",
       "<style scoped>\n",
       "    .dataframe tbody tr th:only-of-type {\n",
       "        vertical-align: middle;\n",
       "    }\n",
       "\n",
       "    .dataframe tbody tr th {\n",
       "        vertical-align: top;\n",
       "    }\n",
       "\n",
       "    .dataframe thead th {\n",
       "        text-align: right;\n",
       "    }\n",
       "</style>\n",
       "<table border=\"1\" class=\"dataframe\">\n",
       "  <thead>\n",
       "    <tr style=\"text-align: right;\">\n",
       "      <th></th>\n",
       "      <th>sample_id</th>\n",
       "      <th>partner_sample_id</th>\n",
       "      <th>contributor</th>\n",
       "      <th>country</th>\n",
       "      <th>location</th>\n",
       "      <th>location2</th>\n",
       "      <th>year</th>\n",
       "      <th>month</th>\n",
       "      <th>latitude</th>\n",
       "      <th>longitude</th>\n",
       "      <th>sex_call</th>\n",
       "      <th>species_gambiae_coluzzii</th>\n",
       "      <th>District</th>\n",
       "      <th>Ecology</th>\n",
       "      <th>mining</th>\n",
       "      <th>IRS STATUS</th>\n",
       "    </tr>\n",
       "  </thead>\n",
       "  <tbody>\n",
       "    <tr>\n",
       "      <th>0</th>\n",
       "      <td>VBS45187-5563STDY8782450</td>\n",
       "      <td>WA-2001</td>\n",
       "      <td>Alexander Egyir-Yawson</td>\n",
       "      <td>Ghana</td>\n",
       "      <td>Adumanu</td>\n",
       "      <td>Adumanu.House.A</td>\n",
       "      <td>2018</td>\n",
       "      <td>3</td>\n",
       "      <td>6.304</td>\n",
       "      <td>-1.681</td>\n",
       "      <td>F</td>\n",
       "      <td>gambiae</td>\n",
       "      <td>Adansi North</td>\n",
       "      <td>Forest, farming, Illegal mining open pits</td>\n",
       "      <td>mining</td>\n",
       "      <td>Non-IRS</td>\n",
       "    </tr>\n",
       "    <tr>\n",
       "      <th>1</th>\n",
       "      <td>VBS45188-5563STDY8782451</td>\n",
       "      <td>WA-2002</td>\n",
       "      <td>Alexander Egyir-Yawson</td>\n",
       "      <td>Ghana</td>\n",
       "      <td>Adumanu</td>\n",
       "      <td>Adumanu.House.C</td>\n",
       "      <td>2018</td>\n",
       "      <td>10</td>\n",
       "      <td>6.302</td>\n",
       "      <td>-1.682</td>\n",
       "      <td>F</td>\n",
       "      <td>coluzzii</td>\n",
       "      <td>Adansi North</td>\n",
       "      <td>Forest, farming, Illegal mining open pits</td>\n",
       "      <td>mining</td>\n",
       "      <td>Non-IRS</td>\n",
       "    </tr>\n",
       "    <tr>\n",
       "      <th>2</th>\n",
       "      <td>VBS45336-5563STDY8794276</td>\n",
       "      <td>WA-2150</td>\n",
       "      <td>Alexander Egyir-Yawson</td>\n",
       "      <td>Ghana</td>\n",
       "      <td>Adumanu</td>\n",
       "      <td>Adumanu.House.B</td>\n",
       "      <td>2018</td>\n",
       "      <td>11</td>\n",
       "      <td>6.304</td>\n",
       "      <td>-1.682</td>\n",
       "      <td>F</td>\n",
       "      <td>coluzzii</td>\n",
       "      <td>Adansi North</td>\n",
       "      <td>Forest, farming, Illegal mining open pits</td>\n",
       "      <td>mining</td>\n",
       "      <td>Non-IRS</td>\n",
       "    </tr>\n",
       "    <tr>\n",
       "      <th>3</th>\n",
       "      <td>VBS45337-5563STDY8794277</td>\n",
       "      <td>WA-2151</td>\n",
       "      <td>Alexander Egyir-Yawson</td>\n",
       "      <td>Ghana</td>\n",
       "      <td>Adumanu</td>\n",
       "      <td>Adumanu.House.B</td>\n",
       "      <td>2018</td>\n",
       "      <td>11</td>\n",
       "      <td>6.304</td>\n",
       "      <td>-1.682</td>\n",
       "      <td>F</td>\n",
       "      <td>coluzzii</td>\n",
       "      <td>Adansi North</td>\n",
       "      <td>Forest, farming, Illegal mining open pits</td>\n",
       "      <td>mining</td>\n",
       "      <td>Non-IRS</td>\n",
       "    </tr>\n",
       "    <tr>\n",
       "      <th>4</th>\n",
       "      <td>VBS45338-5563STDY8794278</td>\n",
       "      <td>WA-2152</td>\n",
       "      <td>Alexander Egyir-Yawson</td>\n",
       "      <td>Ghana</td>\n",
       "      <td>Adumanu</td>\n",
       "      <td>Adumanu.House.B</td>\n",
       "      <td>2018</td>\n",
       "      <td>11</td>\n",
       "      <td>6.304</td>\n",
       "      <td>-1.682</td>\n",
       "      <td>F</td>\n",
       "      <td>coluzzii</td>\n",
       "      <td>Adansi North</td>\n",
       "      <td>Forest, farming, Illegal mining open pits</td>\n",
       "      <td>mining</td>\n",
       "      <td>Non-IRS</td>\n",
       "    </tr>\n",
       "    <tr>\n",
       "      <th>...</th>\n",
       "      <td>...</td>\n",
       "      <td>...</td>\n",
       "      <td>...</td>\n",
       "      <td>...</td>\n",
       "      <td>...</td>\n",
       "      <td>...</td>\n",
       "      <td>...</td>\n",
       "      <td>...</td>\n",
       "      <td>...</td>\n",
       "      <td>...</td>\n",
       "      <td>...</td>\n",
       "      <td>...</td>\n",
       "      <td>...</td>\n",
       "      <td>...</td>\n",
       "      <td>...</td>\n",
       "      <td>...</td>\n",
       "    </tr>\n",
       "    <tr>\n",
       "      <th>480</th>\n",
       "      <td>VBS45532-5563STDY9249457</td>\n",
       "      <td>WA-2346</td>\n",
       "      <td>Alexander Egyir-Yawson</td>\n",
       "      <td>Ghana</td>\n",
       "      <td>Jacobu</td>\n",
       "      <td>Jacobu.House.C</td>\n",
       "      <td>2018</td>\n",
       "      <td>11</td>\n",
       "      <td>6.345</td>\n",
       "      <td>-1.672</td>\n",
       "      <td>F</td>\n",
       "      <td>gambiae</td>\n",
       "      <td>Amansie Central</td>\n",
       "      <td>Forest, farming, Illegal mining open pits</td>\n",
       "      <td>mining</td>\n",
       "      <td>Non-IRS</td>\n",
       "    </tr>\n",
       "    <tr>\n",
       "      <th>481</th>\n",
       "      <td>VBS45533-5563STDY9249458</td>\n",
       "      <td>WA-2347</td>\n",
       "      <td>Alexander Egyir-Yawson</td>\n",
       "      <td>Ghana</td>\n",
       "      <td>Jacobu</td>\n",
       "      <td>Jacobu.House.C</td>\n",
       "      <td>2018</td>\n",
       "      <td>11</td>\n",
       "      <td>6.345</td>\n",
       "      <td>-1.672</td>\n",
       "      <td>F</td>\n",
       "      <td>coluzzii</td>\n",
       "      <td>Amansie Central</td>\n",
       "      <td>Forest, farming, Illegal mining open pits</td>\n",
       "      <td>mining</td>\n",
       "      <td>Non-IRS</td>\n",
       "    </tr>\n",
       "    <tr>\n",
       "      <th>482</th>\n",
       "      <td>VBS45534-5563STDY9249459</td>\n",
       "      <td>WA-2348</td>\n",
       "      <td>Alexander Egyir-Yawson</td>\n",
       "      <td>Ghana</td>\n",
       "      <td>Jacobu</td>\n",
       "      <td>Jacobu.House.C</td>\n",
       "      <td>2018</td>\n",
       "      <td>11</td>\n",
       "      <td>6.345</td>\n",
       "      <td>-1.672</td>\n",
       "      <td>F</td>\n",
       "      <td>coluzzii</td>\n",
       "      <td>Amansie Central</td>\n",
       "      <td>Forest, farming, Illegal mining open pits</td>\n",
       "      <td>mining</td>\n",
       "      <td>Non-IRS</td>\n",
       "    </tr>\n",
       "    <tr>\n",
       "      <th>483</th>\n",
       "      <td>VBS45535-5563STDY9249460</td>\n",
       "      <td>WA-2349</td>\n",
       "      <td>Alexander Egyir-Yawson</td>\n",
       "      <td>Ghana</td>\n",
       "      <td>Jacobu</td>\n",
       "      <td>Jacobu.House.C</td>\n",
       "      <td>2018</td>\n",
       "      <td>11</td>\n",
       "      <td>6.345</td>\n",
       "      <td>-1.672</td>\n",
       "      <td>F</td>\n",
       "      <td>gambiae</td>\n",
       "      <td>Amansie Central</td>\n",
       "      <td>Forest, farming, Illegal mining open pits</td>\n",
       "      <td>mining</td>\n",
       "      <td>Non-IRS</td>\n",
       "    </tr>\n",
       "    <tr>\n",
       "      <th>484</th>\n",
       "      <td>VBS45536-5563STDY9249461</td>\n",
       "      <td>WA-2350</td>\n",
       "      <td>Alexander Egyir-Yawson</td>\n",
       "      <td>Ghana</td>\n",
       "      <td>Jacobu</td>\n",
       "      <td>Jacobu.House.C</td>\n",
       "      <td>2018</td>\n",
       "      <td>11</td>\n",
       "      <td>6.345</td>\n",
       "      <td>-1.672</td>\n",
       "      <td>F</td>\n",
       "      <td>gambiae</td>\n",
       "      <td>Amansie Central</td>\n",
       "      <td>Forest, farming, Illegal mining open pits</td>\n",
       "      <td>mining</td>\n",
       "      <td>Non-IRS</td>\n",
       "    </tr>\n",
       "  </tbody>\n",
       "</table>\n",
       "<p>485 rows × 16 columns</p>\n",
       "</div>"
      ],
      "text/plain": [
       "                    sample_id partner_sample_id             contributor  \\\n",
       "0    VBS45187-5563STDY8782450           WA-2001  Alexander Egyir-Yawson   \n",
       "1    VBS45188-5563STDY8782451           WA-2002  Alexander Egyir-Yawson   \n",
       "2    VBS45336-5563STDY8794276           WA-2150  Alexander Egyir-Yawson   \n",
       "3    VBS45337-5563STDY8794277           WA-2151  Alexander Egyir-Yawson   \n",
       "4    VBS45338-5563STDY8794278           WA-2152  Alexander Egyir-Yawson   \n",
       "..                        ...               ...                     ...   \n",
       "480  VBS45532-5563STDY9249457           WA-2346  Alexander Egyir-Yawson   \n",
       "481  VBS45533-5563STDY9249458           WA-2347  Alexander Egyir-Yawson   \n",
       "482  VBS45534-5563STDY9249459           WA-2348  Alexander Egyir-Yawson   \n",
       "483  VBS45535-5563STDY9249460           WA-2349  Alexander Egyir-Yawson   \n",
       "484  VBS45536-5563STDY9249461           WA-2350  Alexander Egyir-Yawson   \n",
       "\n",
       "    country location        location2  year  month  latitude  longitude  \\\n",
       "0     Ghana  Adumanu  Adumanu.House.A  2018      3     6.304     -1.681   \n",
       "1     Ghana  Adumanu  Adumanu.House.C  2018     10     6.302     -1.682   \n",
       "2     Ghana  Adumanu  Adumanu.House.B  2018     11     6.304     -1.682   \n",
       "3     Ghana  Adumanu  Adumanu.House.B  2018     11     6.304     -1.682   \n",
       "4     Ghana  Adumanu  Adumanu.House.B  2018     11     6.304     -1.682   \n",
       "..      ...      ...              ...   ...    ...       ...        ...   \n",
       "480   Ghana   Jacobu   Jacobu.House.C  2018     11     6.345     -1.672   \n",
       "481   Ghana   Jacobu   Jacobu.House.C  2018     11     6.345     -1.672   \n",
       "482   Ghana   Jacobu   Jacobu.House.C  2018     11     6.345     -1.672   \n",
       "483   Ghana   Jacobu   Jacobu.House.C  2018     11     6.345     -1.672   \n",
       "484   Ghana   Jacobu   Jacobu.House.C  2018     11     6.345     -1.672   \n",
       "\n",
       "    sex_call species_gambiae_coluzzii         District  \\\n",
       "0          F                  gambiae     Adansi North   \n",
       "1          F                 coluzzii     Adansi North   \n",
       "2          F                 coluzzii     Adansi North   \n",
       "3          F                 coluzzii     Adansi North   \n",
       "4          F                 coluzzii     Adansi North   \n",
       "..       ...                      ...              ...   \n",
       "480        F                  gambiae  Amansie Central   \n",
       "481        F                 coluzzii  Amansie Central   \n",
       "482        F                 coluzzii  Amansie Central   \n",
       "483        F                  gambiae  Amansie Central   \n",
       "484        F                  gambiae  Amansie Central   \n",
       "\n",
       "                                       Ecology  mining IRS STATUS  \n",
       "0    Forest, farming, Illegal mining open pits  mining    Non-IRS  \n",
       "1    Forest, farming, Illegal mining open pits  mining    Non-IRS  \n",
       "2    Forest, farming, Illegal mining open pits  mining    Non-IRS  \n",
       "3    Forest, farming, Illegal mining open pits  mining    Non-IRS  \n",
       "4    Forest, farming, Illegal mining open pits  mining    Non-IRS  \n",
       "..                                         ...     ...        ...  \n",
       "480  Forest, farming, Illegal mining open pits  mining    Non-IRS  \n",
       "481  Forest, farming, Illegal mining open pits  mining    Non-IRS  \n",
       "482  Forest, farming, Illegal mining open pits  mining    Non-IRS  \n",
       "483  Forest, farming, Illegal mining open pits  mining    Non-IRS  \n",
       "484  Forest, farming, Illegal mining open pits  mining    Non-IRS  \n",
       "\n",
       "[485 rows x 16 columns]"
      ]
     },
     "execution_count": 25,
     "metadata": {},
     "output_type": "execute_result"
    }
   ],
   "source": [
    "metadata"
   ]
  },
  {
   "cell_type": "code",
   "execution_count": null,
   "metadata": {},
   "outputs": [],
   "source": []
  },
  {
   "cell_type": "code",
   "execution_count": null,
   "metadata": {},
   "outputs": [],
   "source": []
  },
  {
   "cell_type": "code",
   "execution_count": 11,
   "metadata": {},
   "outputs": [],
   "source": [
    "pcaColumn = [\"species_gambiae_coluzzii\"]\n",
    "contig = \"3L\"\n",
    "dataset = \"gaardian\"\n",
    "genotypePath = f\"/home/sanj/projects/gaardian/resources/snp_genotypes/all/1244-VO-GH-YAWSON-VMF00149/{contig}/calldata/GT\"\n",
    "positionsPath = f\"/home/sanj/projects/gaardian/resources/snp_genotypes/all/sites/{contig}/variants/POS/\"\n",
    "siteFilterPath = None# snakemake.input['siteFilters'] if not cloud else []\n",
    "\n",
    "metadata = pd.read_csv(\"../../config/metadata.tsv\", sep=\"\\t\")\n",
    "\n",
    "# Load Arrays\n",
    "snps, pos = loadZarrArrays(genotypePath, positionsPath, siteFilterPath=siteFilterPath, cloud=False, haplotypes=False, contig=contig)\n",
    "\n",
    "# Determine cohorts\n",
    "cohorts = getCohorts(metadata, columns=pcaColumn)\n",
    "\n",
    "\n",
    "# choose colours for species\n",
    "species_palette = px.colors.qualitative.Plotly\n",
    "species_color_map = {\n",
    "    'gambiae': species_palette[0],\n",
    "    'coluzzii': species_palette[1],\n",
    "    'arabiensis': species_palette[2],\n",
    "    'intermediate_gambiae_coluzzii': species_palette[3],\n",
    "    'intermediate_arabiensis_gambiae': species_palette[4],\n",
    "}\n"
   ]
  },
  {
   "cell_type": "code",
   "execution_count": 14,
   "metadata": {},
   "outputs": [],
   "source": [
    "results_dir = \"../../results/PCA/data/\""
   ]
  },
  {
   "cell_type": "code",
   "execution_count": 15,
   "metadata": {},
   "outputs": [
    {
     "name": "stdout",
     "output_type": "stream",
     "text": [
      "running analysis: 1367248e7f050d44872b305cb5097b06\n",
      "setting up inputs\n",
      "locating segregating sites within desired frequency range\n",
      "preparing PCA input data\n",
      "running PCA\n",
      "saved results: 1367248e7f050d44872b305cb5097b06\n"
     ]
    },
    {
     "data": {
      "application/vnd.plotly.v1+json": {
       "config": {
        "plotlyServerURL": "https://plot.ly"
       },
       "data": [
        {
         "customdata": [
          [
           "WA-2001",
           "gambiae",
           "Ghana",
           "Adumanu",
           2018
          ],
          [
           "WA-2156",
           "gambiae",
           "Ghana",
           "Kente",
           2018
          ],
          [
           "WA-2173",
           "gambiae",
           "Ghana",
           "Odumto",
           2018
          ],
          [
           "WA-2368",
           "gambiae",
           "Ghana",
           "Odumto",
           2018
          ],
          [
           "WA-2032",
           "gambiae",
           "Ghana",
           "Koniyaw",
           2018
          ],
          [
           "WA-2042",
           "gambiae",
           "Ghana",
           "Kokotro",
           2018
          ],
          [
           "WA-2208",
           "gambiae",
           "Ghana",
           "Kokotro",
           2018
          ],
          [
           "WA-2402",
           "gambiae",
           "Ghana",
           "Kokotro",
           2018
          ],
          [
           "WA-2407",
           "gambiae",
           "Ghana",
           "Kokotro",
           2018
          ],
          [
           "WA-2046",
           "gambiae",
           "Ghana",
           "Bogyawe",
           2018
          ],
          [
           "WA-2410",
           "gambiae",
           "Ghana",
           "Bogyawe",
           2018
          ],
          [
           "WA-2047",
           "gambiae",
           "Ghana",
           "Dompoase",
           2018
          ],
          [
           "WA-2215",
           "gambiae",
           "Ghana",
           "Dompoase",
           2018
          ],
          [
           "WA-2217",
           "gambiae",
           "Ghana",
           "Anwona",
           2018
          ],
          [
           "WA-2219",
           "gambiae",
           "Ghana",
           "Anwona",
           2018
          ],
          [
           "WA-2413",
           "gambiae",
           "Ghana",
           "Anwona",
           2018
          ],
          [
           "WA-2051",
           "gambiae",
           "Ghana",
           "Fumso",
           2018
          ],
          [
           "WA-2052",
           "gambiae",
           "Ghana",
           "Fumso",
           2018
          ],
          [
           "WA-2222",
           "gambiae",
           "Ghana",
           "Fumso",
           2018
          ],
          [
           "WA-2053",
           "gambiae",
           "Ghana",
           "New Edubiase",
           2018
          ],
          [
           "WA-2058",
           "gambiae",
           "Ghana",
           "New Edubiase",
           2018
          ],
          [
           "WA-2059",
           "gambiae",
           "Ghana",
           "New Edubiase",
           2018
          ],
          [
           "WA-2060",
           "gambiae",
           "Ghana",
           "New Edubiase",
           2018
          ],
          [
           "WA-2062",
           "gambiae",
           "Ghana",
           "New Edubiase",
           2018
          ],
          [
           "WA-2063",
           "gambiae",
           "Ghana",
           "New Edubiase",
           2018
          ],
          [
           "WA-2064",
           "gambiae",
           "Ghana",
           "New Edubiase",
           2018
          ],
          [
           "WA-2223",
           "gambiae",
           "Ghana",
           "New Edubiase",
           2018
          ],
          [
           "WA-2224",
           "gambiae",
           "Ghana",
           "New Edubiase",
           2018
          ],
          [
           "WA-2226",
           "gambiae",
           "Ghana",
           "New Edubiase",
           2018
          ],
          [
           "WA-2227",
           "gambiae",
           "Ghana",
           "New Edubiase",
           2018
          ],
          [
           "WA-2228",
           "gambiae",
           "Ghana",
           "New Edubiase",
           2018
          ],
          [
           "WA-2230",
           "gambiae",
           "Ghana",
           "New Edubiase",
           2018
          ],
          [
           "WA-2231",
           "gambiae",
           "Ghana",
           "New Edubiase",
           2018
          ],
          [
           "WA-2232",
           "gambiae",
           "Ghana",
           "New Edubiase",
           2018
          ],
          [
           "WA-2233",
           "gambiae",
           "Ghana",
           "New Edubiase",
           2018
          ],
          [
           "WA-2234",
           "gambiae",
           "Ghana",
           "New Edubiase",
           2018
          ],
          [
           "WA-2238",
           "gambiae",
           "Ghana",
           "New Edubiase",
           2018
          ],
          [
           "WA-2240",
           "gambiae",
           "Ghana",
           "New Edubiase",
           2018
          ],
          [
           "WA-2241",
           "gambiae",
           "Ghana",
           "New Edubiase",
           2018
          ],
          [
           "WA-2242",
           "gambiae",
           "Ghana",
           "New Edubiase",
           2018
          ],
          [
           "WA-2243",
           "gambiae",
           "Ghana",
           "New Edubiase",
           2018
          ],
          [
           "WA-2244",
           "gambiae",
           "Ghana",
           "New Edubiase",
           2018
          ],
          [
           "WA-2418",
           "gambiae",
           "Ghana",
           "New Edubiase",
           2018
          ],
          [
           "WA-2419",
           "gambiae",
           "Ghana",
           "New Edubiase",
           2018
          ],
          [
           "WA-2420",
           "gambiae",
           "Ghana",
           "New Edubiase",
           2018
          ],
          [
           "WA-2421",
           "gambiae",
           "Ghana",
           "New Edubiase",
           2018
          ],
          [
           "WA-2250",
           "gambiae",
           "Ghana",
           "Adansi Apagya",
           2018
          ],
          [
           "WA-2079",
           "gambiae",
           "Ghana",
           "Mensonso",
           2018
          ],
          [
           "WA-2081",
           "gambiae",
           "Ghana",
           "Annorkrom",
           2018
          ],
          [
           "WA-2272",
           "gambiae",
           "Ghana",
           "Annorkrom",
           2018
          ],
          [
           "WA-2433",
           "gambiae",
           "Ghana",
           "Annorkrom",
           2018
          ],
          [
           "WA-2147",
           "gambiae",
           "Ghana",
           "Asonkore",
           2018
          ],
          [
           "WA-2148",
           "gambiae",
           "Ghana",
           "Asonkore",
           2018
          ],
          [
           "WA-2149",
           "gambiae",
           "Ghana",
           "Asonkore",
           2018
          ],
          [
           "WA-2342",
           "gambiae",
           "Ghana",
           "Asonkore",
           2018
          ],
          [
           "WA-2343",
           "gambiae",
           "Ghana",
           "Asonkore",
           2018
          ],
          [
           "WA-2254",
           "gambiae",
           "Ghana",
           "Subin Camp",
           2018
          ],
          [
           "WA-2431",
           "gambiae",
           "Ghana",
           "Mprakyire",
           2018
          ],
          [
           "WA-2344",
           "gambiae",
           "Ghana",
           "Bogobiri West",
           2018
          ],
          [
           "WA-2345",
           "gambiae",
           "Ghana",
           "Bogobiri West",
           2018
          ],
          [
           "WA-2346",
           "gambiae",
           "Ghana",
           "Jacobu",
           2018
          ],
          [
           "WA-2349",
           "gambiae",
           "Ghana",
           "Jacobu",
           2018
          ],
          [
           "WA-2350",
           "gambiae",
           "Ghana",
           "Jacobu",
           2018
          ]
         ],
         "hovertemplate": "<b>%{hovertext}</b><br><br>species_gambiae_coluzzii=%{customdata[1]}<br>PC1 - 0.0227 % variance explained=%{x}<br>PC2 - 0.005 % variance explained=%{y}<br>size=%{marker.size}<br>partner_sample_id=%{customdata[0]}<br>country=%{customdata[2]}<br>location=%{customdata[3]}<br>year=%{customdata[4]}<extra></extra>",
         "hovertext": [
          "VBS45187-5563STDY8782450",
          "VBS45342-5563STDY8794282",
          "VBS45359-5563STDY8794299",
          "VBS45554-5563STDY9249479",
          "VBS45218-5563STDY8782481",
          "VBS45228-5563STDY8782491",
          "VBS45394-5563STDY8794336",
          "VBS45588-5563STDY9249515",
          "VBS45593-5563STDY9249520",
          "VBS45232-5563STDY8782495",
          "VBS45596-5563STDY9249523",
          "VBS45233-5563STDY8782496",
          "VBS45401-5563STDY8794343",
          "VBS45403-5563STDY8794345",
          "VBS45405-5563STDY8794347",
          "VBS45599-5563STDY9249526",
          "VBS45237-5563STDY8782500",
          "VBS45238-5563STDY8782501",
          "VBS45408-5563STDY8794350",
          "VBS45239-5563STDY8782502",
          "VBS45244-5563STDY8782507",
          "VBS45245-5563STDY8782508",
          "VBS45246-5563STDY8782509",
          "VBS45248-5563STDY8782511",
          "VBS45249-5563STDY8782512",
          "VBS45250-5563STDY8782513",
          "VBS45409-5563STDY8794351",
          "VBS45410-5563STDY8794352",
          "VBS45412-5563STDY8794354",
          "VBS45413-5563STDY8794355",
          "VBS45414-5563STDY8794356",
          "VBS45416-5563STDY8794358",
          "VBS45417-5563STDY8794359",
          "VBS45418-5563STDY8794360",
          "VBS45419-5563STDY8794361",
          "VBS45420-5563STDY8794362",
          "VBS45424-5563STDY8794366",
          "VBS45426-5563STDY8794368",
          "VBS45427-5563STDY8794369",
          "VBS45428-5563STDY8794370",
          "VBS45429-5563STDY8794371",
          "VBS45430-5563STDY8794372",
          "VBS45604-5563STDY9249531",
          "VBS45605-5563STDY9249532",
          "VBS45606-5563STDY9249533",
          "VBS45607-5563STDY9249534",
          "VBS45436-5563STDY8794378",
          "VBS45265-5563STDY8782528",
          "VBS45267-5563STDY8782530",
          "VBS45458-5563STDY8794400",
          "VBS45619-5563STDY9249546",
          "VBS45333-5563STDY8794273",
          "VBS45334-5563STDY8794274",
          "VBS45335-5563STDY8794275",
          "VBS45528-5563STDY9249453",
          "VBS45529-5563STDY9249454",
          "VBS45440-5563STDY8794382",
          "VBS45617-5563STDY9249544",
          "VBS45530-5563STDY9249455",
          "VBS45531-5563STDY9249456",
          "VBS45532-5563STDY9249457",
          "VBS45535-5563STDY9249460",
          "VBS45536-5563STDY9249461"
         ],
         "legendgroup": "gambiae",
         "marker": {
          "color": "#636efa",
          "opacity": 0.9,
          "size": [
           1,
           1,
           1,
           1,
           1,
           1,
           1,
           1,
           1,
           1,
           1,
           1,
           1,
           1,
           1,
           1,
           1,
           1,
           1,
           1,
           1,
           1,
           1,
           1,
           1,
           1,
           1,
           1,
           1,
           1,
           1,
           1,
           1,
           1,
           1,
           1,
           1,
           1,
           1,
           1,
           1,
           1,
           1,
           1,
           1,
           1,
           1,
           1,
           1,
           1,
           1,
           1,
           1,
           1,
           1,
           1,
           1,
           1,
           1,
           1,
           1,
           1,
           1
          ],
          "sizemode": "area",
          "sizeref": 0.015625,
          "symbol": "circle"
         },
         "mode": "markers",
         "name": "gambiae",
         "orientation": "v",
         "showlegend": true,
         "type": "scatter",
         "x": [
          -184.5100691809014,
          31.732462935579125,
          -199.29075385212016,
          -168.21655340944722,
          26.17545895161958,
          23.417214416529855,
          27.071413255443417,
          26.80592636830077,
          24.015226702837985,
          26.717231585213753,
          30.23859739662072,
          24.243770721579747,
          23.49723993544006,
          28.08455343340762,
          28.327321190108293,
          26.06997066107778,
          23.420899123266206,
          23.683555171445327,
          32.25853890755471,
          30.974084755115186,
          25.691076922665275,
          22.4336788168078,
          20.358430487393328,
          30.55021483717671,
          25.82551169736391,
          25.38532503598695,
          29.854387921002232,
          27.803905668693208,
          25.63507020705088,
          26.18542629005804,
          -178.5824016759764,
          31.98704101899174,
          27.393387407487964,
          24.061481798137763,
          24.244082567499113,
          28.849092244620245,
          26.449967379502667,
          24.94527552607359,
          28.624928829250976,
          -181.93472455723642,
          -185.11389886694374,
          -191.3679309762241,
          -128.04044559855032,
          22.167013012551088,
          -175.66944447981987,
          -173.24365627827416,
          26.8435515059806,
          27.19788476914708,
          28.709954017535814,
          29.607226354728013,
          26.807454398199326,
          29.29481867742286,
          30.374279172295278,
          25.920600099302977,
          32.96144647016614,
          26.505804399743077,
          30.05061079650072,
          22.08468059781661,
          28.942558352504246,
          25.03886233179178,
          30.379670443727065,
          28.251474039599355,
          27.762303447778702
         ],
         "xaxis": "x",
         "y": [
          213.86709832719225,
          3.132639287765985,
          246.77481524264908,
          -43.48736956020408,
          -3.7674329875825414,
          3.665736240230772,
          3.4800443543600568,
          -4.72012945929086,
          -1.7804569358823334,
          3.468427181733883,
          -4.909847434634329,
          0.9898202996827286,
          2.3340107211992485,
          -1.9504449602588705,
          -0.22332152478225797,
          3.4336483866761673,
          -4.484903633273758,
          -2.565893757333853,
          -2.207310006071425,
          -3.567992768973384,
          -0.9098776153413417,
          -0.8596851486325887,
          7.14730028376453,
          -2.8495008346099873,
          4.220015874932406,
          6.54438463017113,
          -4.413111212691929,
          -5.2212288538616285,
          8.492430998309636,
          1.6267229404056822,
          -40.84286722131246,
          7.3644429434682435,
          -3.072662738877198,
          0.11946699317681908,
          -0.32266122945802644,
          0.7884973199924036,
          -1.3948494119350956,
          -5.723062146768805,
          -0.985868249915734,
          -24.902108919767873,
          -39.616031465056636,
          -99.34836312513139,
          -25.4452237017284,
          4.704147490312549,
          -49.91599750742827,
          -25.26158959814504,
          4.916280703340935,
          6.321146217755652,
          -6.6757571595767855,
          -5.3732801997051505,
          2.801733481641053,
          -2.042185942228846,
          6.042083387284188,
          4.360737074125602,
          2.649388885949797,
          2.340782967188968,
          -4.995350786353735,
          2.6754225685181563,
          -0.5103237674609125,
          -3.023750821159091,
          -2.112154906074193,
          0.44800645319024057,
          1.774691542461651
         ],
         "yaxis": "y"
        },
        {
         "customdata": [
          [
           "WA-2002",
           "coluzzii",
           "Ghana",
           "Adumanu",
           2018
          ],
          [
           "WA-2150",
           "coluzzii",
           "Ghana",
           "Adumanu",
           2018
          ],
          [
           "WA-2151",
           "coluzzii",
           "Ghana",
           "Adumanu",
           2018
          ],
          [
           "WA-2152",
           "coluzzii",
           "Ghana",
           "Adumanu",
           2018
          ],
          [
           "WA-2153",
           "coluzzii",
           "Ghana",
           "Adumanu",
           2018
          ],
          [
           "WA-2003",
           "coluzzii",
           "Ghana",
           "Kente",
           2018
          ],
          [
           "WA-2004",
           "coluzzii",
           "Ghana",
           "Kente",
           2018
          ],
          [
           "WA-2005",
           "coluzzii",
           "Ghana",
           "Kente",
           2018
          ],
          [
           "WA-2154",
           "coluzzii",
           "Ghana",
           "Kente",
           2018
          ],
          [
           "WA-2155",
           "coluzzii",
           "Ghana",
           "Kente",
           2018
          ],
          [
           "WA-2157",
           "coluzzii",
           "Ghana",
           "Kente",
           2018
          ],
          [
           "WA-2158",
           "coluzzii",
           "Ghana",
           "Kente",
           2018
          ],
          [
           "WA-2159",
           "coluzzii",
           "Ghana",
           "Kente",
           2018
          ],
          [
           "WA-2160",
           "coluzzii",
           "Ghana",
           "Kente",
           2018
          ],
          [
           "WA-2162",
           "coluzzii",
           "Ghana",
           "Kente",
           2018
          ],
          [
           "WA-2163",
           "coluzzii",
           "Ghana",
           "Kente",
           2018
          ],
          [
           "WA-2164",
           "coluzzii",
           "Ghana",
           "Kente",
           2018
          ],
          [
           "WA-2165",
           "coluzzii",
           "Ghana",
           "Kente",
           2018
          ],
          [
           "WA-2166",
           "coluzzii",
           "Ghana",
           "Kente",
           2018
          ],
          [
           "WA-2167",
           "coluzzii",
           "Ghana",
           "Kente",
           2018
          ],
          [
           "WA-2168",
           "coluzzii",
           "Ghana",
           "Kente",
           2018
          ],
          [
           "WA-2351",
           "coluzzii",
           "Ghana",
           "Kente",
           2018
          ],
          [
           "WA-2352",
           "coluzzii",
           "Ghana",
           "Kente",
           2018
          ],
          [
           "WA-2353",
           "coluzzii",
           "Ghana",
           "Kente",
           2018
          ],
          [
           "WA-2354",
           "coluzzii",
           "Ghana",
           "Kente",
           2018
          ],
          [
           "WA-2355",
           "coluzzii",
           "Ghana",
           "Kente",
           2018
          ],
          [
           "WA-2356",
           "coluzzii",
           "Ghana",
           "Kente",
           2018
          ],
          [
           "WA-2357",
           "coluzzii",
           "Ghana",
           "Kente",
           2018
          ],
          [
           "WA-2006",
           "coluzzii",
           "Ghana",
           "Odumto",
           2018
          ],
          [
           "WA-2007",
           "coluzzii",
           "Ghana",
           "Odumto",
           2018
          ],
          [
           "WA-2008",
           "coluzzii",
           "Ghana",
           "Odumto",
           2018
          ],
          [
           "WA-2009",
           "coluzzii",
           "Ghana",
           "Odumto",
           2018
          ],
          [
           "WA-2011",
           "coluzzii",
           "Ghana",
           "Odumto",
           2018
          ],
          [
           "WA-2012",
           "coluzzii",
           "Ghana",
           "Odumto",
           2018
          ],
          [
           "WA-2013",
           "coluzzii",
           "Ghana",
           "Odumto",
           2018
          ],
          [
           "WA-2014",
           "coluzzii",
           "Ghana",
           "Odumto",
           2018
          ],
          [
           "WA-2015",
           "coluzzii",
           "Ghana",
           "Odumto",
           2018
          ],
          [
           "WA-2169",
           "coluzzii",
           "Ghana",
           "Odumto",
           2018
          ],
          [
           "WA-2170",
           "coluzzii",
           "Ghana",
           "Odumto",
           2018
          ],
          [
           "WA-2171",
           "coluzzii",
           "Ghana",
           "Odumto",
           2018
          ],
          [
           "WA-2172",
           "coluzzii",
           "Ghana",
           "Odumto",
           2018
          ],
          [
           "WA-2175",
           "coluzzii",
           "Ghana",
           "Odumto",
           2018
          ],
          [
           "WA-2176",
           "coluzzii",
           "Ghana",
           "Odumto",
           2018
          ],
          [
           "WA-2177",
           "coluzzii",
           "Ghana",
           "Odumto",
           2018
          ],
          [
           "WA-2178",
           "coluzzii",
           "Ghana",
           "Odumto",
           2018
          ],
          [
           "WA-2179",
           "coluzzii",
           "Ghana",
           "Odumto",
           2018
          ],
          [
           "WA-2358",
           "coluzzii",
           "Ghana",
           "Odumto",
           2018
          ],
          [
           "WA-2359",
           "coluzzii",
           "Ghana",
           "Odumto",
           2018
          ],
          [
           "WA-2360",
           "coluzzii",
           "Ghana",
           "Odumto",
           2018
          ],
          [
           "WA-2361",
           "coluzzii",
           "Ghana",
           "Odumto",
           2018
          ],
          [
           "WA-2362",
           "coluzzii",
           "Ghana",
           "Odumto",
           2018
          ],
          [
           "WA-2363",
           "coluzzii",
           "Ghana",
           "Odumto",
           2018
          ],
          [
           "WA-2364",
           "coluzzii",
           "Ghana",
           "Odumto",
           2018
          ],
          [
           "WA-2365",
           "coluzzii",
           "Ghana",
           "Odumto",
           2018
          ],
          [
           "WA-2366",
           "coluzzii",
           "Ghana",
           "Odumto",
           2018
          ],
          [
           "WA-2367",
           "coluzzii",
           "Ghana",
           "Odumto",
           2018
          ],
          [
           "WA-2369",
           "coluzzii",
           "Ghana",
           "Odumto",
           2018
          ],
          [
           "WA-2370",
           "coluzzii",
           "Ghana",
           "Odumto",
           2018
          ],
          [
           "WA-2371",
           "coluzzii",
           "Ghana",
           "Odumto",
           2018
          ],
          [
           "WA-2372",
           "coluzzii",
           "Ghana",
           "Odumto",
           2018
          ],
          [
           "WA-2016",
           "coluzzii",
           "Ghana",
           "Watreso",
           2018
          ],
          [
           "WA-2017",
           "coluzzii",
           "Ghana",
           "Watreso",
           2018
          ],
          [
           "WA-2018",
           "coluzzii",
           "Ghana",
           "Watreso",
           2018
          ],
          [
           "WA-2019",
           "coluzzii",
           "Ghana",
           "Watreso",
           2018
          ],
          [
           "WA-2020",
           "coluzzii",
           "Ghana",
           "Watreso",
           2018
          ],
          [
           "WA-2021",
           "coluzzii",
           "Ghana",
           "Watreso",
           2018
          ],
          [
           "WA-2180",
           "coluzzii",
           "Ghana",
           "Watreso",
           2018
          ],
          [
           "WA-2181",
           "coluzzii",
           "Ghana",
           "Watreso",
           2018
          ],
          [
           "WA-2182",
           "coluzzii",
           "Ghana",
           "Watreso",
           2018
          ],
          [
           "WA-2183",
           "coluzzii",
           "Ghana",
           "Watreso",
           2018
          ],
          [
           "WA-2373",
           "coluzzii",
           "Ghana",
           "Watreso",
           2018
          ],
          [
           "WA-2374",
           "coluzzii",
           "Ghana",
           "Watreso",
           2018
          ],
          [
           "WA-2375",
           "coluzzii",
           "Ghana",
           "Watreso",
           2018
          ],
          [
           "WA-2376",
           "coluzzii",
           "Ghana",
           "Watreso",
           2018
          ],
          [
           "WA-2377",
           "coluzzii",
           "Ghana",
           "Watreso",
           2018
          ],
          [
           "WA-2378",
           "coluzzii",
           "Ghana",
           "Watreso",
           2018
          ],
          [
           "WA-2379",
           "coluzzii",
           "Ghana",
           "Watreso",
           2018
          ],
          [
           "WA-2380",
           "coluzzii",
           "Ghana",
           "Watreso",
           2018
          ],
          [
           "WA-2381",
           "coluzzii",
           "Ghana",
           "Watreso",
           2018
          ],
          [
           "WA-2022",
           "coluzzii",
           "Ghana",
           "Adansi-Krom",
           2018
          ],
          [
           "WA-2024",
           "coluzzii",
           "Ghana",
           "Adansi-Krom",
           2018
          ],
          [
           "WA-2025",
           "coluzzii",
           "Ghana",
           "Adansi-Krom",
           2018
          ],
          [
           "WA-2184",
           "coluzzii",
           "Ghana",
           "Adansi-Krom",
           2018
          ],
          [
           "WA-2382",
           "coluzzii",
           "Ghana",
           "Adansi-Krom",
           2018
          ],
          [
           "WA-2383",
           "coluzzii",
           "Ghana",
           "Adansi-Krom",
           2018
          ],
          [
           "WA-2026",
           "coluzzii",
           "Ghana",
           "Ankaako",
           2018
          ],
          [
           "WA-2027",
           "coluzzii",
           "Ghana",
           "Ankaako",
           2018
          ],
          [
           "WA-2028",
           "coluzzii",
           "Ghana",
           "Ankaako",
           2018
          ],
          [
           "WA-2029",
           "coluzzii",
           "Ghana",
           "Ankaako",
           2018
          ],
          [
           "WA-2185",
           "coluzzii",
           "Ghana",
           "Ankaako",
           2018
          ],
          [
           "WA-2186",
           "coluzzii",
           "Ghana",
           "Ankaako",
           2018
          ],
          [
           "WA-2187",
           "coluzzii",
           "Ghana",
           "Ankaako",
           2018
          ],
          [
           "WA-2188",
           "coluzzii",
           "Ghana",
           "Ankaako",
           2018
          ],
          [
           "WA-2385",
           "coluzzii",
           "Ghana",
           "Ankaako",
           2018
          ],
          [
           "WA-2386",
           "coluzzii",
           "Ghana",
           "Ankaako",
           2018
          ],
          [
           "WA-2387",
           "coluzzii",
           "Ghana",
           "Ankaako",
           2018
          ],
          [
           "WA-2388",
           "coluzzii",
           "Ghana",
           "Ankaako",
           2018
          ],
          [
           "WA-2030",
           "coluzzii",
           "Ghana",
           "Koniyaw",
           2018
          ],
          [
           "WA-2031",
           "coluzzii",
           "Ghana",
           "Koniyaw",
           2018
          ],
          [
           "WA-2033",
           "coluzzii",
           "Ghana",
           "Koniyaw",
           2018
          ],
          [
           "WA-2034",
           "coluzzii",
           "Ghana",
           "Koniyaw",
           2018
          ],
          [
           "WA-2035",
           "coluzzii",
           "Ghana",
           "Koniyaw",
           2018
          ],
          [
           "WA-2036",
           "coluzzii",
           "Ghana",
           "Koniyaw",
           2018
          ],
          [
           "WA-2037",
           "coluzzii",
           "Ghana",
           "Koniyaw",
           2018
          ],
          [
           "WA-2038",
           "coluzzii",
           "Ghana",
           "Koniyaw",
           2018
          ],
          [
           "WA-2039",
           "coluzzii",
           "Ghana",
           "Koniyaw",
           2018
          ],
          [
           "WA-2040",
           "coluzzii",
           "Ghana",
           "Koniyaw",
           2018
          ],
          [
           "WA-2041",
           "coluzzii",
           "Ghana",
           "Koniyaw",
           2018
          ],
          [
           "WA-2189",
           "coluzzii",
           "Ghana",
           "Koniyaw",
           2018
          ],
          [
           "WA-2190",
           "coluzzii",
           "Ghana",
           "Koniyaw",
           2018
          ],
          [
           "WA-2191",
           "coluzzii",
           "Ghana",
           "Koniyaw",
           2018
          ],
          [
           "WA-2192",
           "coluzzii",
           "Ghana",
           "Koniyaw",
           2018
          ],
          [
           "WA-2193",
           "coluzzii",
           "Ghana",
           "Koniyaw",
           2018
          ],
          [
           "WA-2195",
           "coluzzii",
           "Ghana",
           "Koniyaw",
           2018
          ],
          [
           "WA-2196",
           "coluzzii",
           "Ghana",
           "Koniyaw",
           2018
          ],
          [
           "WA-2197",
           "coluzzii",
           "Ghana",
           "Koniyaw",
           2018
          ],
          [
           "WA-2198",
           "coluzzii",
           "Ghana",
           "Koniyaw",
           2018
          ],
          [
           "WA-2199",
           "coluzzii",
           "Ghana",
           "Koniyaw",
           2018
          ],
          [
           "WA-2200",
           "coluzzii",
           "Ghana",
           "Koniyaw",
           2018
          ],
          [
           "WA-2201",
           "coluzzii",
           "Ghana",
           "Koniyaw",
           2018
          ],
          [
           "WA-2202",
           "coluzzii",
           "Ghana",
           "Koniyaw",
           2018
          ],
          [
           "WA-2389",
           "coluzzii",
           "Ghana",
           "Koniyaw",
           2018
          ],
          [
           "WA-2390",
           "coluzzii",
           "Ghana",
           "Koniyaw",
           2018
          ],
          [
           "WA-2391",
           "coluzzii",
           "Ghana",
           "Koniyaw",
           2018
          ],
          [
           "WA-2392",
           "coluzzii",
           "Ghana",
           "Koniyaw",
           2018
          ],
          [
           "WA-2393",
           "coluzzii",
           "Ghana",
           "Koniyaw",
           2018
          ],
          [
           "WA-2394",
           "coluzzii",
           "Ghana",
           "Koniyaw",
           2018
          ],
          [
           "WA-2395",
           "coluzzii",
           "Ghana",
           "Koniyaw",
           2018
          ],
          [
           "WA-2043",
           "coluzzii",
           "Ghana",
           "Kokotro",
           2018
          ],
          [
           "WA-2044",
           "coluzzii",
           "Ghana",
           "Kokotro",
           2018
          ],
          [
           "WA-2045",
           "coluzzii",
           "Ghana",
           "Kokotro",
           2018
          ],
          [
           "WA-2203",
           "coluzzii",
           "Ghana",
           "Kokotro",
           2018
          ],
          [
           "WA-2204",
           "coluzzii",
           "Ghana",
           "Kokotro",
           2018
          ],
          [
           "WA-2205",
           "coluzzii",
           "Ghana",
           "Kokotro",
           2018
          ],
          [
           "WA-2206",
           "coluzzii",
           "Ghana",
           "Kokotro",
           2018
          ],
          [
           "WA-2207",
           "coluzzii",
           "Ghana",
           "Kokotro",
           2018
          ],
          [
           "WA-2209",
           "coluzzii",
           "Ghana",
           "Kokotro",
           2018
          ],
          [
           "WA-2210",
           "coluzzii",
           "Ghana",
           "Kokotro",
           2018
          ],
          [
           "WA-2211",
           "coluzzii",
           "Ghana",
           "Kokotro",
           2018
          ],
          [
           "WA-2212",
           "coluzzii",
           "Ghana",
           "Kokotro",
           2018
          ],
          [
           "WA-2396",
           "coluzzii",
           "Ghana",
           "Kokotro",
           2018
          ],
          [
           "WA-2397",
           "coluzzii",
           "Ghana",
           "Kokotro",
           2018
          ],
          [
           "WA-2398",
           "coluzzii",
           "Ghana",
           "Kokotro",
           2018
          ],
          [
           "WA-2399",
           "coluzzii",
           "Ghana",
           "Kokotro",
           2018
          ],
          [
           "WA-2400",
           "coluzzii",
           "Ghana",
           "Kokotro",
           2018
          ],
          [
           "WA-2401",
           "coluzzii",
           "Ghana",
           "Kokotro",
           2018
          ],
          [
           "WA-2403",
           "coluzzii",
           "Ghana",
           "Kokotro",
           2018
          ],
          [
           "WA-2404",
           "coluzzii",
           "Ghana",
           "Kokotro",
           2018
          ],
          [
           "WA-2405",
           "coluzzii",
           "Ghana",
           "Kokotro",
           2018
          ],
          [
           "WA-2406",
           "coluzzii",
           "Ghana",
           "Kokotro",
           2018
          ],
          [
           "WA-2459",
           "coluzzii",
           "Ghana",
           "Kokotro",
           2018
          ],
          [
           "WA-2478",
           "coluzzii",
           "Ghana",
           "Kokotro",
           2018
          ],
          [
           "WA-2213",
           "coluzzii",
           "Ghana",
           "Bogyawe",
           2018
          ],
          [
           "WA-2214",
           "coluzzii",
           "Ghana",
           "Bogyawe",
           2018
          ],
          [
           "WA-2409",
           "coluzzii",
           "Ghana",
           "Bogyawe",
           2018
          ],
          [
           "WA-2412",
           "coluzzii",
           "Ghana",
           "Dompoase",
           2018
          ],
          [
           "WA-2048",
           "coluzzii",
           "Ghana",
           "Anhwiaso",
           2018
          ],
          [
           "WA-2216",
           "coluzzii",
           "Ghana",
           "Anhwiaso",
           2018
          ],
          [
           "WA-2049",
           "coluzzii",
           "Ghana",
           "Anwona",
           2018
          ],
          [
           "WA-2218",
           "coluzzii",
           "Ghana",
           "Anwona",
           2018
          ],
          [
           "WA-2220",
           "coluzzii",
           "Ghana",
           "Anwona",
           2018
          ],
          [
           "WA-2221",
           "coluzzii",
           "Ghana",
           "Anwona",
           2018
          ],
          [
           "WA-2414",
           "coluzzii",
           "Ghana",
           "Anwona",
           2018
          ],
          [
           "WA-2050",
           "coluzzii",
           "Ghana",
           "Fumso",
           2018
          ],
          [
           "WA-2054",
           "coluzzii",
           "Ghana",
           "New Edubiase",
           2018
          ],
          [
           "WA-2055",
           "coluzzii",
           "Ghana",
           "New Edubiase",
           2018
          ],
          [
           "WA-2056",
           "coluzzii",
           "Ghana",
           "New Edubiase",
           2018
          ],
          [
           "WA-2057",
           "coluzzii",
           "Ghana",
           "New Edubiase",
           2018
          ],
          [
           "WA-2061",
           "coluzzii",
           "Ghana",
           "New Edubiase",
           2018
          ],
          [
           "WA-2065",
           "coluzzii",
           "Ghana",
           "New Edubiase",
           2018
          ],
          [
           "WA-2225",
           "coluzzii",
           "Ghana",
           "New Edubiase",
           2018
          ],
          [
           "WA-2229",
           "coluzzii",
           "Ghana",
           "New Edubiase",
           2018
          ],
          [
           "WA-2235",
           "coluzzii",
           "Ghana",
           "New Edubiase",
           2018
          ],
          [
           "WA-2236",
           "coluzzii",
           "Ghana",
           "New Edubiase",
           2018
          ],
          [
           "WA-2237",
           "coluzzii",
           "Ghana",
           "New Edubiase",
           2018
          ],
          [
           "WA-2239",
           "coluzzii",
           "Ghana",
           "New Edubiase",
           2018
          ],
          [
           "WA-2415",
           "coluzzii",
           "Ghana",
           "New Edubiase",
           2018
          ],
          [
           "WA-2416",
           "coluzzii",
           "Ghana",
           "New Edubiase",
           2018
          ],
          [
           "WA-2417",
           "coluzzii",
           "Ghana",
           "New Edubiase",
           2018
          ],
          [
           "WA-2066",
           "coluzzii",
           "Ghana",
           "Adansi Apagya",
           2018
          ],
          [
           "WA-2067",
           "coluzzii",
           "Ghana",
           "Adansi Apagya",
           2018
          ],
          [
           "WA-2068",
           "coluzzii",
           "Ghana",
           "Adansi Apagya",
           2018
          ],
          [
           "WA-2069",
           "coluzzii",
           "Ghana",
           "Adansi Apagya",
           2018
          ],
          [
           "WA-2070",
           "coluzzii",
           "Ghana",
           "Adansi Apagya",
           2018
          ],
          [
           "WA-2071",
           "coluzzii",
           "Ghana",
           "Adansi Apagya",
           2018
          ],
          [
           "WA-2072",
           "coluzzii",
           "Ghana",
           "Adansi Apagya",
           2018
          ],
          [
           "WA-2073",
           "coluzzii",
           "Ghana",
           "Adansi Apagya",
           2018
          ],
          [
           "WA-2245",
           "coluzzii",
           "Ghana",
           "Adansi Apagya",
           2018
          ],
          [
           "WA-2246",
           "coluzzii",
           "Ghana",
           "Adansi Apagya",
           2018
          ],
          [
           "WA-2247",
           "coluzzii",
           "Ghana",
           "Adansi Apagya",
           2018
          ],
          [
           "WA-2248",
           "coluzzii",
           "Ghana",
           "Adansi Apagya",
           2018
          ],
          [
           "WA-2249",
           "coluzzii",
           "Ghana",
           "Adansi Apagya",
           2018
          ],
          [
           "WA-2251",
           "coluzzii",
           "Ghana",
           "Adansi Apagya",
           2018
          ],
          [
           "WA-2252",
           "coluzzii",
           "Ghana",
           "Adansi Apagya",
           2018
          ],
          [
           "WA-2074",
           "coluzzii",
           "Ghana",
           "Wamase",
           2018
          ],
          [
           "WA-2075",
           "coluzzii",
           "Ghana",
           "Wamase",
           2018
          ],
          [
           "WA-2076",
           "coluzzii",
           "Ghana",
           "Wamase",
           2018
          ],
          [
           "WA-2255",
           "coluzzii",
           "Ghana",
           "Wamase",
           2018
          ],
          [
           "WA-2256",
           "coluzzii",
           "Ghana",
           "Wamase",
           2018
          ],
          [
           "WA-2257",
           "coluzzii",
           "Ghana",
           "Wamase",
           2018
          ],
          [
           "WA-2258",
           "coluzzii",
           "Ghana",
           "Wamase",
           2018
          ],
          [
           "WA-2259",
           "coluzzii",
           "Ghana",
           "Wamase",
           2018
          ],
          [
           "WA-2260",
           "coluzzii",
           "Ghana",
           "Wamase",
           2018
          ],
          [
           "WA-2261",
           "coluzzii",
           "Ghana",
           "Wamase",
           2018
          ],
          [
           "WA-2262",
           "coluzzii",
           "Ghana",
           "Wamase",
           2018
          ],
          [
           "WA-2422",
           "coluzzii",
           "Ghana",
           "Wamase",
           2018
          ],
          [
           "WA-2423",
           "coluzzii",
           "Ghana",
           "Wamase",
           2018
          ],
          [
           "WA-2424",
           "coluzzii",
           "Ghana",
           "Wamase",
           2018
          ],
          [
           "WA-2425",
           "coluzzii",
           "Ghana",
           "Wamase",
           2018
          ],
          [
           "WA-2426",
           "coluzzii",
           "Ghana",
           "Wamase",
           2018
          ],
          [
           "WA-2077",
           "coluzzii",
           "Ghana",
           "Yadome",
           2018
          ],
          [
           "WA-2078",
           "coluzzii",
           "Ghana",
           "Yadome",
           2018
          ],
          [
           "WA-2263",
           "coluzzii",
           "Ghana",
           "Yadome",
           2018
          ],
          [
           "WA-2264",
           "coluzzii",
           "Ghana",
           "Yadome",
           2018
          ],
          [
           "WA-2265",
           "coluzzii",
           "Ghana",
           "Yadome",
           2018
          ],
          [
           "WA-2266",
           "coluzzii",
           "Ghana",
           "Yadome",
           2018
          ],
          [
           "WA-2080",
           "coluzzii",
           "Ghana",
           "Annorkrom",
           2018
          ],
          [
           "WA-2082",
           "coluzzii",
           "Ghana",
           "Annorkrom",
           2018
          ],
          [
           "WA-2083",
           "coluzzii",
           "Ghana",
           "Annorkrom",
           2018
          ],
          [
           "WA-2084",
           "coluzzii",
           "Ghana",
           "Annorkrom",
           2018
          ],
          [
           "WA-2085",
           "coluzzii",
           "Ghana",
           "Annorkrom",
           2018
          ],
          [
           "WA-2086",
           "coluzzii",
           "Ghana",
           "Annorkrom",
           2018
          ],
          [
           "WA-2087",
           "coluzzii",
           "Ghana",
           "Annorkrom",
           2018
          ],
          [
           "WA-2088",
           "coluzzii",
           "Ghana",
           "Annorkrom",
           2018
          ],
          [
           "WA-2090",
           "coluzzii",
           "Ghana",
           "Annorkrom",
           2018
          ],
          [
           "WA-2091",
           "coluzzii",
           "Ghana",
           "Annorkrom",
           2018
          ],
          [
           "WA-2092",
           "coluzzii",
           "Ghana",
           "Annorkrom",
           2018
          ],
          [
           "WA-2093",
           "coluzzii",
           "Ghana",
           "Annorkrom",
           2018
          ],
          [
           "WA-2094",
           "coluzzii",
           "Ghana",
           "Annorkrom",
           2018
          ],
          [
           "WA-2095",
           "coluzzii",
           "Ghana",
           "Annorkrom",
           2018
          ],
          [
           "WA-2273",
           "coluzzii",
           "Ghana",
           "Annorkrom",
           2018
          ],
          [
           "WA-2274",
           "coluzzii",
           "Ghana",
           "Annorkrom",
           2018
          ],
          [
           "WA-2275",
           "coluzzii",
           "Ghana",
           "Annorkrom",
           2018
          ],
          [
           "WA-2276",
           "coluzzii",
           "Ghana",
           "Annorkrom",
           2018
          ],
          [
           "WA-2277",
           "coluzzii",
           "Ghana",
           "Annorkrom",
           2018
          ],
          [
           "WA-2278",
           "coluzzii",
           "Ghana",
           "Annorkrom",
           2018
          ],
          [
           "WA-2279",
           "coluzzii",
           "Ghana",
           "Annorkrom",
           2018
          ],
          [
           "WA-2280",
           "coluzzii",
           "Ghana",
           "Annorkrom",
           2018
          ],
          [
           "WA-2281",
           "coluzzii",
           "Ghana",
           "Annorkrom",
           2018
          ],
          [
           "WA-2282",
           "coluzzii",
           "Ghana",
           "Annorkrom",
           2018
          ],
          [
           "WA-2283",
           "coluzzii",
           "Ghana",
           "Annorkrom",
           2018
          ],
          [
           "WA-2284",
           "coluzzii",
           "Ghana",
           "Annorkrom",
           2018
          ],
          [
           "WA-2285",
           "coluzzii",
           "Ghana",
           "Annorkrom",
           2018
          ],
          [
           "WA-2286",
           "coluzzii",
           "Ghana",
           "Annorkrom",
           2018
          ],
          [
           "WA-2287",
           "coluzzii",
           "Ghana",
           "Annorkrom",
           2018
          ],
          [
           "WA-2434",
           "coluzzii",
           "Ghana",
           "Annorkrom",
           2018
          ],
          [
           "WA-2435",
           "coluzzii",
           "Ghana",
           "Annorkrom",
           2018
          ],
          [
           "WA-2436",
           "coluzzii",
           "Ghana",
           "Annorkrom",
           2018
          ],
          [
           "WA-2437",
           "coluzzii",
           "Ghana",
           "Annorkrom",
           2018
          ],
          [
           "WA-2438",
           "coluzzii",
           "Ghana",
           "Annorkrom",
           2018
          ],
          [
           "WA-2439",
           "coluzzii",
           "Ghana",
           "Annorkrom",
           2018
          ],
          [
           "WA-2440",
           "coluzzii",
           "Ghana",
           "Annorkrom",
           2018
          ],
          [
           "WA-2441",
           "coluzzii",
           "Ghana",
           "Annorkrom",
           2018
          ],
          [
           "WA-2442",
           "coluzzii",
           "Ghana",
           "Annorkrom",
           2018
          ],
          [
           "WA-2443",
           "coluzzii",
           "Ghana",
           "Annorkrom",
           2018
          ],
          [
           "WA-2444",
           "coluzzii",
           "Ghana",
           "Annorkrom",
           2018
          ],
          [
           "WA-2445",
           "coluzzii",
           "Ghana",
           "Annorkrom",
           2018
          ],
          [
           "WA-2446",
           "coluzzii",
           "Ghana",
           "Annorkrom",
           2018
          ],
          [
           "WA-2447",
           "coluzzii",
           "Ghana",
           "Annorkrom",
           2018
          ],
          [
           "WA-2448",
           "coluzzii",
           "Ghana",
           "Annorkrom",
           2018
          ],
          [
           "WA-2449",
           "coluzzii",
           "Ghana",
           "Annorkrom",
           2018
          ],
          [
           "WA-2450",
           "coluzzii",
           "Ghana",
           "Annorkrom",
           2018
          ],
          [
           "WA-2096",
           "coluzzii",
           "Ghana",
           "Prisintease",
           2018
          ],
          [
           "WA-2097",
           "coluzzii",
           "Ghana",
           "Prisintease",
           2018
          ],
          [
           "WA-2098",
           "coluzzii",
           "Ghana",
           "Prisintease",
           2018
          ],
          [
           "WA-2099",
           "coluzzii",
           "Ghana",
           "Prisintease",
           2018
          ],
          [
           "WA-2100",
           "coluzzii",
           "Ghana",
           "Prisintease",
           2018
          ],
          [
           "WA-2101",
           "coluzzii",
           "Ghana",
           "Prisintease",
           2018
          ],
          [
           "WA-2102",
           "coluzzii",
           "Ghana",
           "Prisintease",
           2018
          ],
          [
           "WA-2103",
           "coluzzii",
           "Ghana",
           "Prisintease",
           2018
          ],
          [
           "WA-2289",
           "coluzzii",
           "Ghana",
           "Prisintease",
           2018
          ],
          [
           "WA-2291",
           "coluzzii",
           "Ghana",
           "Prisintease",
           2018
          ],
          [
           "WA-2292",
           "coluzzii",
           "Ghana",
           "Prisintease",
           2018
          ],
          [
           "WA-2293",
           "coluzzii",
           "Ghana",
           "Prisintease",
           2018
          ],
          [
           "WA-2294",
           "coluzzii",
           "Ghana",
           "Prisintease",
           2018
          ],
          [
           "WA-2295",
           "coluzzii",
           "Ghana",
           "Prisintease",
           2018
          ],
          [
           "WA-2296",
           "coluzzii",
           "Ghana",
           "Prisintease",
           2018
          ],
          [
           "WA-2297",
           "coluzzii",
           "Ghana",
           "Prisintease",
           2018
          ],
          [
           "WA-2298",
           "coluzzii",
           "Ghana",
           "Prisintease",
           2018
          ],
          [
           "WA-2299",
           "coluzzii",
           "Ghana",
           "Prisintease",
           2018
          ],
          [
           "WA-2300",
           "coluzzii",
           "Ghana",
           "Prisintease",
           2018
          ],
          [
           "WA-2301",
           "coluzzii",
           "Ghana",
           "Prisintease",
           2018
          ],
          [
           "WA-2302",
           "coluzzii",
           "Ghana",
           "Prisintease",
           2018
          ],
          [
           "WA-2303",
           "coluzzii",
           "Ghana",
           "Prisintease",
           2018
          ],
          [
           "WA-2451",
           "coluzzii",
           "Ghana",
           "Prisintease",
           2018
          ],
          [
           "WA-2452",
           "coluzzii",
           "Ghana",
           "Prisintease",
           2018
          ],
          [
           "WA-2104",
           "coluzzii",
           "Ghana",
           "Pokukrom",
           2018
          ],
          [
           "WA-2105",
           "coluzzii",
           "Ghana",
           "Pokukrom",
           2018
          ],
          [
           "WA-2106",
           "coluzzii",
           "Ghana",
           "Pokukrom",
           2018
          ],
          [
           "WA-2107",
           "coluzzii",
           "Ghana",
           "Pokukrom",
           2018
          ],
          [
           "WA-2108",
           "coluzzii",
           "Ghana",
           "Pokukrom",
           2018
          ],
          [
           "WA-2109",
           "coluzzii",
           "Ghana",
           "Pokukrom",
           2018
          ],
          [
           "WA-2110",
           "coluzzii",
           "Ghana",
           "Pokukrom",
           2018
          ],
          [
           "WA-2111",
           "coluzzii",
           "Ghana",
           "Pokukrom",
           2018
          ],
          [
           "WA-2112",
           "coluzzii",
           "Ghana",
           "Pokukrom",
           2018
          ],
          [
           "WA-2113",
           "coluzzii",
           "Ghana",
           "Pokukrom",
           2018
          ],
          [
           "WA-2304",
           "coluzzii",
           "Ghana",
           "Pokukrom",
           2018
          ],
          [
           "WA-2305",
           "coluzzii",
           "Ghana",
           "Pokukrom",
           2018
          ],
          [
           "WA-2306",
           "coluzzii",
           "Ghana",
           "Pokukrom",
           2018
          ],
          [
           "WA-2307",
           "coluzzii",
           "Ghana",
           "Pokukrom",
           2018
          ],
          [
           "WA-2308",
           "coluzzii",
           "Ghana",
           "Pokukrom",
           2018
          ],
          [
           "WA-2309",
           "coluzzii",
           "Ghana",
           "Pokukrom",
           2018
          ],
          [
           "WA-2310",
           "coluzzii",
           "Ghana",
           "Pokukrom",
           2018
          ],
          [
           "WA-2311",
           "coluzzii",
           "Ghana",
           "Pokukrom",
           2018
          ],
          [
           "WA-2312",
           "coluzzii",
           "Ghana",
           "Pokukrom",
           2018
          ],
          [
           "WA-2313",
           "coluzzii",
           "Ghana",
           "Pokukrom",
           2018
          ],
          [
           "WA-2314",
           "coluzzii",
           "Ghana",
           "Pokukrom",
           2018
          ],
          [
           "WA-2315",
           "coluzzii",
           "Ghana",
           "Pokukrom",
           2018
          ],
          [
           "WA-2316",
           "coluzzii",
           "Ghana",
           "Pokukrom",
           2018
          ],
          [
           "WA-2453",
           "coluzzii",
           "Ghana",
           "Pokukrom",
           2018
          ],
          [
           "WA-2454",
           "coluzzii",
           "Ghana",
           "Pokukrom",
           2018
          ],
          [
           "WA-2455",
           "coluzzii",
           "Ghana",
           "Pokukrom",
           2018
          ],
          [
           "WA-2456",
           "coluzzii",
           "Ghana",
           "Pokukrom",
           2018
          ],
          [
           "WA-2457",
           "coluzzii",
           "Ghana",
           "Pokukrom",
           2018
          ],
          [
           "WA-2458",
           "coluzzii",
           "Ghana",
           "Pokukrom",
           2018
          ],
          [
           "WA-2460",
           "coluzzii",
           "Ghana",
           "Pokukrom",
           2018
          ],
          [
           "WA-2461",
           "coluzzii",
           "Ghana",
           "Pokukrom",
           2018
          ],
          [
           "WA-2463",
           "coluzzii",
           "Ghana",
           "Pokukrom",
           2018
          ],
          [
           "WA-2464",
           "coluzzii",
           "Ghana",
           "Pokukrom",
           2018
          ],
          [
           "WA-2465",
           "coluzzii",
           "Ghana",
           "Pokukrom",
           2018
          ],
          [
           "WA-2466",
           "coluzzii",
           "Ghana",
           "Pokukrom",
           2018
          ],
          [
           "WA-2467",
           "coluzzii",
           "Ghana",
           "Pokukrom",
           2018
          ],
          [
           "WA-2468",
           "coluzzii",
           "Ghana",
           "Pokukrom",
           2018
          ],
          [
           "WA-2114",
           "coluzzii",
           "Ghana",
           "Nkotumso",
           2018
          ],
          [
           "WA-2115",
           "coluzzii",
           "Ghana",
           "Nkotumso",
           2018
          ],
          [
           "WA-2116",
           "coluzzii",
           "Ghana",
           "Nkotumso",
           2018
          ],
          [
           "WA-2117",
           "coluzzii",
           "Ghana",
           "Nkotumso",
           2018
          ],
          [
           "WA-2118",
           "coluzzii",
           "Ghana",
           "Nkotumso",
           2018
          ],
          [
           "WA-2119",
           "coluzzii",
           "Ghana",
           "Nkotumso",
           2018
          ],
          [
           "WA-2120",
           "coluzzii",
           "Ghana",
           "Nkotumso",
           2018
          ],
          [
           "WA-2121",
           "coluzzii",
           "Ghana",
           "Nkotumso",
           2018
          ],
          [
           "WA-2122",
           "coluzzii",
           "Ghana",
           "Nkotumso",
           2018
          ],
          [
           "WA-2123",
           "coluzzii",
           "Ghana",
           "Nkotumso",
           2018
          ],
          [
           "WA-2124",
           "coluzzii",
           "Ghana",
           "Nkotumso",
           2018
          ],
          [
           "WA-2125",
           "coluzzii",
           "Ghana",
           "Nkotumso",
           2018
          ],
          [
           "WA-2317",
           "coluzzii",
           "Ghana",
           "Nkotumso",
           2018
          ],
          [
           "WA-2318",
           "coluzzii",
           "Ghana",
           "Nkotumso",
           2018
          ],
          [
           "WA-2319",
           "coluzzii",
           "Ghana",
           "Nkotumso",
           2018
          ],
          [
           "WA-2320",
           "coluzzii",
           "Ghana",
           "Nkotumso",
           2018
          ],
          [
           "WA-2321",
           "coluzzii",
           "Ghana",
           "Nkotumso",
           2018
          ],
          [
           "WA-2322",
           "coluzzii",
           "Ghana",
           "Nkotumso",
           2018
          ],
          [
           "WA-2323",
           "coluzzii",
           "Ghana",
           "Nkotumso",
           2018
          ],
          [
           "WA-2324",
           "coluzzii",
           "Ghana",
           "Nkotumso",
           2018
          ],
          [
           "WA-2469",
           "coluzzii",
           "Ghana",
           "Nkotumso",
           2018
          ],
          [
           "WA-2470",
           "coluzzii",
           "Ghana",
           "Nkotumso",
           2018
          ],
          [
           "WA-2471",
           "coluzzii",
           "Ghana",
           "Nkotumso",
           2018
          ],
          [
           "WA-2472",
           "coluzzii",
           "Ghana",
           "Nkotumso",
           2018
          ],
          [
           "WA-2473",
           "coluzzii",
           "Ghana",
           "Nkotumso",
           2018
          ],
          [
           "WA-2474",
           "coluzzii",
           "Ghana",
           "Nkotumso",
           2018
          ],
          [
           "WA-2475",
           "coluzzii",
           "Ghana",
           "Nkotumso",
           2018
          ],
          [
           "WA-2476",
           "coluzzii",
           "Ghana",
           "Nkotumso",
           2018
          ],
          [
           "WA-2479",
           "coluzzii",
           "Ghana",
           "Nkotumso",
           2018
          ],
          [
           "WA-2480",
           "coluzzii",
           "Ghana",
           "Nkotumso",
           2018
          ],
          [
           "WA-2126",
           "coluzzii",
           "Ghana",
           "Domenase",
           2018
          ],
          [
           "WA-2127",
           "coluzzii",
           "Ghana",
           "Domenase",
           2018
          ],
          [
           "WA-2128",
           "coluzzii",
           "Ghana",
           "Domenase",
           2018
          ],
          [
           "WA-2129",
           "coluzzii",
           "Ghana",
           "Domenase",
           2018
          ],
          [
           "WA-2130",
           "coluzzii",
           "Ghana",
           "Domenase",
           2018
          ],
          [
           "WA-2131",
           "coluzzii",
           "Ghana",
           "Domenase",
           2018
          ],
          [
           "WA-2132",
           "coluzzii",
           "Ghana",
           "Domenase",
           2018
          ],
          [
           "WA-2133",
           "coluzzii",
           "Ghana",
           "Domenase",
           2018
          ],
          [
           "WA-2134",
           "coluzzii",
           "Ghana",
           "Domenase",
           2018
          ],
          [
           "WA-2135",
           "coluzzii",
           "Ghana",
           "Domenase",
           2018
          ],
          [
           "WA-2136",
           "coluzzii",
           "Ghana",
           "Domenase",
           2018
          ],
          [
           "WA-2137",
           "coluzzii",
           "Ghana",
           "Domenase",
           2018
          ],
          [
           "WA-2138",
           "coluzzii",
           "Ghana",
           "Domenase",
           2018
          ],
          [
           "WA-2139",
           "coluzzii",
           "Ghana",
           "Domenase",
           2018
          ],
          [
           "WA-2140",
           "coluzzii",
           "Ghana",
           "Domenase",
           2018
          ],
          [
           "WA-2141",
           "coluzzii",
           "Ghana",
           "Domenase",
           2018
          ],
          [
           "WA-2142",
           "coluzzii",
           "Ghana",
           "Domenase",
           2018
          ],
          [
           "WA-2143",
           "coluzzii",
           "Ghana",
           "Domenase",
           2018
          ],
          [
           "WA-2144",
           "coluzzii",
           "Ghana",
           "Domenase",
           2018
          ],
          [
           "WA-2145",
           "coluzzii",
           "Ghana",
           "Domenase",
           2018
          ],
          [
           "WA-2146",
           "coluzzii",
           "Ghana",
           "Domenase",
           2018
          ],
          [
           "WA-2325",
           "coluzzii",
           "Ghana",
           "Domenase",
           2018
          ],
          [
           "WA-2326",
           "coluzzii",
           "Ghana",
           "Domenase",
           2018
          ],
          [
           "WA-2327",
           "coluzzii",
           "Ghana",
           "Domenase",
           2018
          ],
          [
           "WA-2328",
           "coluzzii",
           "Ghana",
           "Domenase",
           2018
          ],
          [
           "WA-2329",
           "coluzzii",
           "Ghana",
           "Domenase",
           2018
          ],
          [
           "WA-2330",
           "coluzzii",
           "Ghana",
           "Domenase",
           2018
          ],
          [
           "WA-2331",
           "coluzzii",
           "Ghana",
           "Domenase",
           2018
          ],
          [
           "WA-2332",
           "coluzzii",
           "Ghana",
           "Domenase",
           2018
          ],
          [
           "WA-2333",
           "coluzzii",
           "Ghana",
           "Domenase",
           2018
          ],
          [
           "WA-2334",
           "coluzzii",
           "Ghana",
           "Domenase",
           2018
          ],
          [
           "WA-2335",
           "coluzzii",
           "Ghana",
           "Domenase",
           2018
          ],
          [
           "WA-2336",
           "coluzzii",
           "Ghana",
           "Domenase",
           2018
          ],
          [
           "WA-2337",
           "coluzzii",
           "Ghana",
           "Domenase",
           2018
          ],
          [
           "WA-2338",
           "coluzzii",
           "Ghana",
           "Domenase",
           2018
          ],
          [
           "WA-2339",
           "coluzzii",
           "Ghana",
           "Domenase",
           2018
          ],
          [
           "WA-2340",
           "coluzzii",
           "Ghana",
           "Domenase",
           2018
          ],
          [
           "WA-2341",
           "coluzzii",
           "Ghana",
           "Domenase",
           2018
          ],
          [
           "WA-2481",
           "coluzzii",
           "Ghana",
           "Domenase",
           2018
          ],
          [
           "WA-2482",
           "coluzzii",
           "Ghana",
           "Domenase",
           2018
          ],
          [
           "WA-2483",
           "coluzzii",
           "Ghana",
           "Domenase",
           2018
          ],
          [
           "WA-2484",
           "coluzzii",
           "Ghana",
           "Domenase",
           2018
          ],
          [
           "WA-2485",
           "coluzzii",
           "Ghana",
           "Domenase",
           2018
          ],
          [
           "WA-2486",
           "coluzzii",
           "Ghana",
           "Domenase",
           2018
          ],
          [
           "WA-2487",
           "coluzzii",
           "Ghana",
           "Domenase",
           2018
          ],
          [
           "WA-2488",
           "coluzzii",
           "Ghana",
           "Domenase",
           2018
          ],
          [
           "WA-2489",
           "coluzzii",
           "Ghana",
           "Domenase",
           2018
          ],
          [
           "WA-2490",
           "coluzzii",
           "Ghana",
           "Domenase",
           2018
          ],
          [
           "WA-2491",
           "coluzzii",
           "Ghana",
           "Domenase",
           2018
          ],
          [
           "WA-2492",
           "coluzzii",
           "Ghana",
           "Domenase",
           2018
          ],
          [
           "WA-2493",
           "coluzzii",
           "Ghana",
           "Domenase",
           2018
          ],
          [
           "WA-2495",
           "coluzzii",
           "Ghana",
           "Domenase",
           2018
          ],
          [
           "WA-2496",
           "coluzzii",
           "Ghana",
           "Domenase",
           2018
          ],
          [
           "WA-2497",
           "coluzzii",
           "Ghana",
           "Domenase",
           2018
          ],
          [
           "WA-2498",
           "coluzzii",
           "Ghana",
           "Domenase",
           2018
          ],
          [
           "WA-2499",
           "coluzzii",
           "Ghana",
           "Domenase",
           2018
          ],
          [
           "WA-2500",
           "coluzzii",
           "Ghana",
           "Domenase",
           2018
          ],
          [
           "WA-2253",
           "coluzzii",
           "Ghana",
           "Subin Camp",
           2018
          ],
          [
           "WA-2268",
           "coluzzii",
           "Ghana",
           "Mprakyire",
           2018
          ],
          [
           "WA-2269",
           "coluzzii",
           "Ghana",
           "Mprakyire",
           2018
          ],
          [
           "WA-2270",
           "coluzzii",
           "Ghana",
           "Mprakyire",
           2018
          ],
          [
           "WA-2271",
           "coluzzii",
           "Ghana",
           "Mprakyire",
           2018
          ],
          [
           "WA-2427",
           "coluzzii",
           "Ghana",
           "Mprakyire",
           2018
          ],
          [
           "WA-2428",
           "coluzzii",
           "Ghana",
           "Mprakyire",
           2018
          ],
          [
           "WA-2429",
           "coluzzii",
           "Ghana",
           "Mprakyire",
           2018
          ],
          [
           "WA-2430",
           "coluzzii",
           "Ghana",
           "Mprakyire",
           2018
          ],
          [
           "WA-2432",
           "coluzzii",
           "Ghana",
           "Mprakyire",
           2018
          ],
          [
           "WA-2347",
           "coluzzii",
           "Ghana",
           "Jacobu",
           2018
          ],
          [
           "WA-2348",
           "coluzzii",
           "Ghana",
           "Jacobu",
           2018
          ]
         ],
         "hovertemplate": "<b>%{hovertext}</b><br><br>species_gambiae_coluzzii=%{customdata[1]}<br>PC1 - 0.0227 % variance explained=%{x}<br>PC2 - 0.005 % variance explained=%{y}<br>size=%{marker.size}<br>partner_sample_id=%{customdata[0]}<br>country=%{customdata[2]}<br>location=%{customdata[3]}<br>year=%{customdata[4]}<extra></extra>",
         "hovertext": [
          "VBS45188-5563STDY8782451",
          "VBS45336-5563STDY8794276",
          "VBS45337-5563STDY8794277",
          "VBS45338-5563STDY8794278",
          "VBS45339-5563STDY8794279",
          "VBS45189-5563STDY8782452",
          "VBS45190-5563STDY8782453",
          "VBS45191-5563STDY8782454",
          "VBS45340-5563STDY8794280",
          "VBS45341-5563STDY8794281",
          "VBS45343-5563STDY8794283",
          "VBS45344-5563STDY8794284",
          "VBS45345-5563STDY8794285",
          "VBS45346-5563STDY8794286",
          "VBS45348-5563STDY8794288",
          "VBS45349-5563STDY8794289",
          "VBS45350-5563STDY8794290",
          "VBS45351-5563STDY8794291",
          "VBS45352-5563STDY8794292",
          "VBS45353-5563STDY8794293",
          "VBS45354-5563STDY8794294",
          "VBS45537-5563STDY9249462",
          "VBS45538-5563STDY9249463",
          "VBS45539-5563STDY9249464",
          "VBS45540-5563STDY9249465",
          "VBS45541-5563STDY9249466",
          "VBS45542-5563STDY9249467",
          "VBS45543-5563STDY9249468",
          "VBS45192-5563STDY8782455",
          "VBS45193-5563STDY8782456",
          "VBS45194-5563STDY8782457",
          "VBS45195-5563STDY8782458",
          "VBS45197-5563STDY8782460",
          "VBS45198-5563STDY8782461",
          "VBS45199-5563STDY8782462",
          "VBS45200-5563STDY8782463",
          "VBS45201-5563STDY8782464",
          "VBS45355-5563STDY8794295",
          "VBS45356-5563STDY8794296",
          "VBS45357-5563STDY8794297",
          "VBS45358-5563STDY8794298",
          "VBS45361-5563STDY8794301",
          "VBS45362-5563STDY8794302",
          "VBS45363-5563STDY8794303",
          "VBS45364-5563STDY8794304",
          "VBS45365-5563STDY8794305",
          "VBS45544-5563STDY9249469",
          "VBS45545-5563STDY9249470",
          "VBS45546-5563STDY9249471",
          "VBS45547-5563STDY9249472",
          "VBS45548-5563STDY9249473",
          "VBS45549-5563STDY9249474",
          "VBS45550-5563STDY9249475",
          "VBS45551-5563STDY9249476",
          "VBS45552-5563STDY9249477",
          "VBS45553-5563STDY9249478",
          "VBS45555-5563STDY9249480",
          "VBS45556-5563STDY9249481",
          "VBS45557-5563STDY9249482",
          "VBS45558-5563STDY9249483",
          "VBS45202-5563STDY8782465",
          "VBS45203-5563STDY8782466",
          "VBS45204-5563STDY8782467",
          "VBS45205-5563STDY8782468",
          "VBS45206-5563STDY8782469",
          "VBS45207-5563STDY8782470",
          "VBS45366-5563STDY8794306",
          "VBS45367-5563STDY8794307",
          "VBS45368-5563STDY8794308",
          "VBS45369-5563STDY8794309",
          "VBS45559-5563STDY9249484",
          "VBS45560-5563STDY9249485",
          "VBS45561-5563STDY9249486",
          "VBS45562-5563STDY9249487",
          "VBS45563-5563STDY9249490",
          "VBS45564-5563STDY9249491",
          "VBS45565-5563STDY9249492",
          "VBS45566-5563STDY9249493",
          "VBS45567-5563STDY9249494",
          "VBS45208-5563STDY8782471",
          "VBS45210-5563STDY8782473",
          "VBS45211-5563STDY8782474",
          "VBS45370-5563STDY8794310",
          "VBS45568-5563STDY9249495",
          "VBS45569-5563STDY9249496",
          "VBS45212-5563STDY8782475",
          "VBS45213-5563STDY8782476",
          "VBS45214-5563STDY8782477",
          "VBS45215-5563STDY8782478",
          "VBS45371-5563STDY8794311",
          "VBS45372-5563STDY8794312",
          "VBS45373-5563STDY8794313",
          "VBS45374-5563STDY8794314",
          "VBS45571-5563STDY9249498",
          "VBS45572-5563STDY9249499",
          "VBS45573-5563STDY9249500",
          "VBS45574-5563STDY9249501",
          "VBS45216-5563STDY8782479",
          "VBS45217-5563STDY8782480",
          "VBS45219-5563STDY8782482",
          "VBS45220-5563STDY8782483",
          "VBS45221-5563STDY8782484",
          "VBS45222-5563STDY8782485",
          "VBS45223-5563STDY8782486",
          "VBS45224-5563STDY8782487",
          "VBS45225-5563STDY8782488",
          "VBS45226-5563STDY8782489",
          "VBS45227-5563STDY8782490",
          "VBS45375-5563STDY8794317",
          "VBS45376-5563STDY8794318",
          "VBS45377-5563STDY8794319",
          "VBS45378-5563STDY8794320",
          "VBS45379-5563STDY8794321",
          "VBS45381-5563STDY8794323",
          "VBS45382-5563STDY8794324",
          "VBS45383-5563STDY8794325",
          "VBS45384-5563STDY8794326",
          "VBS45385-5563STDY8794327",
          "VBS45386-5563STDY8794328",
          "VBS45387-5563STDY8794329",
          "VBS45388-5563STDY8794330",
          "VBS45575-5563STDY9249502",
          "VBS45576-5563STDY9249503",
          "VBS45577-5563STDY9249504",
          "VBS45578-5563STDY9249505",
          "VBS45579-5563STDY9249506",
          "VBS45580-5563STDY9249507",
          "VBS45581-5563STDY9249508",
          "VBS45229-5563STDY8782492",
          "VBS45230-5563STDY8782493",
          "VBS45231-5563STDY8782494",
          "VBS45389-5563STDY8794331",
          "VBS45390-5563STDY8794332",
          "VBS45391-5563STDY8794333",
          "VBS45392-5563STDY8794334",
          "VBS45393-5563STDY8794335",
          "VBS45395-5563STDY8794337",
          "VBS45396-5563STDY8794338",
          "VBS45397-5563STDY8794339",
          "VBS45398-5563STDY8794340",
          "VBS45582-5563STDY9249509",
          "VBS45583-5563STDY9249510",
          "VBS45584-5563STDY9249511",
          "VBS45585-5563STDY9249512",
          "VBS45586-5563STDY9249513",
          "VBS45587-5563STDY9249514",
          "VBS45589-5563STDY9249516",
          "VBS45590-5563STDY9249517",
          "VBS45591-5563STDY9249518",
          "VBS45592-5563STDY9249519",
          "VBS45645-5563STDY9249572",
          "VBS45664-5563STDY9249593",
          "VBS45399-5563STDY8794341",
          "VBS45400-5563STDY8794342",
          "VBS45595-5563STDY9249522",
          "VBS45598-5563STDY9249525",
          "VBS45234-5563STDY8782497",
          "VBS45402-5563STDY8794344",
          "VBS45235-5563STDY8782498",
          "VBS45404-5563STDY8794346",
          "VBS45406-5563STDY8794348",
          "VBS45407-5563STDY8794349",
          "VBS45600-5563STDY9249527",
          "VBS45236-5563STDY8782499",
          "VBS45240-5563STDY8782503",
          "VBS45241-5563STDY8782504",
          "VBS45242-5563STDY8782505",
          "VBS45243-5563STDY8782506",
          "VBS45247-5563STDY8782510",
          "VBS45251-5563STDY8782514",
          "VBS45411-5563STDY8794353",
          "VBS45415-5563STDY8794357",
          "VBS45421-5563STDY8794363",
          "VBS45422-5563STDY8794364",
          "VBS45423-5563STDY8794365",
          "VBS45425-5563STDY8794367",
          "VBS45601-5563STDY9249528",
          "VBS45602-5563STDY9249529",
          "VBS45603-5563STDY9249530",
          "VBS45252-5563STDY8782515",
          "VBS45253-5563STDY8782516",
          "VBS45254-5563STDY8782517",
          "VBS45255-5563STDY8782518",
          "VBS45256-5563STDY8782519",
          "VBS45257-5563STDY8782520",
          "VBS45258-5563STDY8782521",
          "VBS45259-5563STDY8782522",
          "VBS45431-5563STDY8794373",
          "VBS45432-5563STDY8794374",
          "VBS45433-5563STDY8794375",
          "VBS45434-5563STDY8794376",
          "VBS45435-5563STDY8794377",
          "VBS45437-5563STDY8794379",
          "VBS45438-5563STDY8794380",
          "VBS45260-5563STDY8782523",
          "VBS45261-5563STDY8782524",
          "VBS45262-5563STDY8782525",
          "VBS45441-5563STDY8794383",
          "VBS45442-5563STDY8794384",
          "VBS45443-5563STDY8794385",
          "VBS45444-5563STDY8794386",
          "VBS45445-5563STDY8794387",
          "VBS45446-5563STDY8794388",
          "VBS45447-5563STDY8794389",
          "VBS45448-5563STDY8794390",
          "VBS45608-5563STDY9249535",
          "VBS45609-5563STDY9249536",
          "VBS45610-5563STDY9249537",
          "VBS45611-5563STDY9249538",
          "VBS45612-5563STDY9249539",
          "VBS45263-5563STDY8782526",
          "VBS45264-5563STDY8782527",
          "VBS45449-5563STDY8794391",
          "VBS45450-5563STDY8794392",
          "VBS45451-5563STDY8794393",
          "VBS45452-5563STDY8794394",
          "VBS45266-5563STDY8782529",
          "VBS45268-5563STDY8782531",
          "VBS45269-5563STDY8782532",
          "VBS45270-5563STDY8782533",
          "VBS45271-5563STDY8782534",
          "VBS45272-5563STDY8782535",
          "VBS45273-5563STDY8782536",
          "VBS45274-5563STDY8782537",
          "VBS45276-5563STDY8782539",
          "VBS45277-5563STDY8782540",
          "VBS45278-5563STDY8782541",
          "VBS45279-5563STDY8782542",
          "VBS45280-5563STDY8782543",
          "VBS45281-5563STDY8794221",
          "VBS45459-5563STDY8794401",
          "VBS45460-5563STDY8794402",
          "VBS45461-5563STDY8794403",
          "VBS45462-5563STDY8794404",
          "VBS45463-5563STDY8794405",
          "VBS45464-5563STDY8794406",
          "VBS45465-5563STDY8794407",
          "VBS45466-5563STDY8794408",
          "VBS45467-5563STDY8794409",
          "VBS45468-5563STDY8794410",
          "VBS45469-5563STDY9249394",
          "VBS45470-5563STDY9249395",
          "VBS45471-5563STDY9249396",
          "VBS45472-5563STDY9249397",
          "VBS45473-5563STDY9249398",
          "VBS45620-5563STDY9249547",
          "VBS45621-5563STDY9249548",
          "VBS45622-5563STDY9249549",
          "VBS45623-5563STDY9249550",
          "VBS45624-5563STDY9249551",
          "VBS45625-5563STDY9249552",
          "VBS45626-5563STDY9249553",
          "VBS45627-5563STDY9249554",
          "VBS45628-5563STDY9249555",
          "VBS45629-5563STDY9249556",
          "VBS45630-5563STDY9249557",
          "VBS45631-5563STDY9249558",
          "VBS45632-5563STDY9249559",
          "VBS45633-5563STDY9249560",
          "VBS45634-5563STDY9249561",
          "VBS45635-5563STDY9249562",
          "VBS45636-5563STDY9249563",
          "VBS45282-5563STDY8794222",
          "VBS45283-5563STDY8794223",
          "VBS45284-5563STDY8794224",
          "VBS45285-5563STDY8794225",
          "VBS45286-5563STDY8794226",
          "VBS45287-5563STDY8794227",
          "VBS45288-5563STDY8794228",
          "VBS45289-5563STDY8794229",
          "VBS45475-5563STDY9249400",
          "VBS45477-5563STDY9249402",
          "VBS45478-5563STDY9249403",
          "VBS45479-5563STDY9249404",
          "VBS45480-5563STDY9249405",
          "VBS45481-5563STDY9249406",
          "VBS45482-5563STDY9249407",
          "VBS45483-5563STDY9249408",
          "VBS45484-5563STDY9249409",
          "VBS45485-5563STDY9249410",
          "VBS45486-5563STDY9249411",
          "VBS45487-5563STDY9249412",
          "VBS45488-5563STDY9249413",
          "VBS45489-5563STDY9249414",
          "VBS45637-5563STDY9249564",
          "VBS45638-5563STDY9249565",
          "VBS45290-5563STDY8794230",
          "VBS45291-5563STDY8794231",
          "VBS45292-5563STDY8794232",
          "VBS45293-5563STDY8794233",
          "VBS45294-5563STDY8794234",
          "VBS45295-5563STDY8794235",
          "VBS45296-5563STDY8794236",
          "VBS45297-5563STDY8794237",
          "VBS45298-5563STDY8794238",
          "VBS45299-5563STDY8794239",
          "VBS45490-5563STDY9249415",
          "VBS45491-5563STDY9249416",
          "VBS45492-5563STDY9249417",
          "VBS45493-5563STDY9249418",
          "VBS45494-5563STDY9249419",
          "VBS45495-5563STDY9249420",
          "VBS45496-5563STDY9249421",
          "VBS45497-5563STDY9249422",
          "VBS45498-5563STDY9249423",
          "VBS45499-5563STDY9249424",
          "VBS45500-5563STDY9249425",
          "VBS45501-5563STDY9249426",
          "VBS45502-5563STDY9249427",
          "VBS45639-5563STDY9249566",
          "VBS45640-5563STDY9249567",
          "VBS45641-5563STDY9249568",
          "VBS45642-5563STDY9249569",
          "VBS45643-5563STDY9249570",
          "VBS45644-5563STDY9249571",
          "VBS45646-5563STDY9249573",
          "VBS45647-5563STDY9249574",
          "VBS45649-5563STDY9249576",
          "VBS45650-5563STDY9249577",
          "VBS45651-5563STDY9249578",
          "VBS45652-5563STDY9249579",
          "VBS45653-5563STDY9249580",
          "VBS45654-5563STDY9249581",
          "VBS45300-5563STDY8794240",
          "VBS45301-5563STDY8794241",
          "VBS45302-5563STDY8794242",
          "VBS45303-5563STDY8794243",
          "VBS45304-5563STDY8794244",
          "VBS45305-5563STDY8794245",
          "VBS45306-5563STDY8794246",
          "VBS45307-5563STDY8794247",
          "VBS45308-5563STDY8794248",
          "VBS45309-5563STDY8794249",
          "VBS45310-5563STDY8794250",
          "VBS45311-5563STDY8794251",
          "VBS45503-5563STDY9249428",
          "VBS45504-5563STDY9249429",
          "VBS45505-5563STDY9249430",
          "VBS45506-5563STDY9249431",
          "VBS45507-5563STDY9249432",
          "VBS45508-5563STDY9249433",
          "VBS45509-5563STDY9249434",
          "VBS45510-5563STDY9249435",
          "VBS45655-5563STDY9249582",
          "VBS45656-5563STDY9249583",
          "VBS45657-5563STDY9249586",
          "VBS45658-5563STDY9249587",
          "VBS45659-5563STDY9249588",
          "VBS45660-5563STDY9249589",
          "VBS45661-5563STDY9249590",
          "VBS45662-5563STDY9249591",
          "VBS45665-5563STDY9249594",
          "VBS45666-5563STDY9249595",
          "VBS45312-5563STDY8794252",
          "VBS45313-5563STDY8794253",
          "VBS45314-5563STDY8794254",
          "VBS45315-5563STDY8794255",
          "VBS45316-5563STDY8794256",
          "VBS45317-5563STDY8794257",
          "VBS45318-5563STDY8794258",
          "VBS45319-5563STDY8794259",
          "VBS45320-5563STDY8794260",
          "VBS45321-5563STDY8794261",
          "VBS45322-5563STDY8794262",
          "VBS45323-5563STDY8794263",
          "VBS45324-5563STDY8794264",
          "VBS45325-5563STDY8794265",
          "VBS45326-5563STDY8794266",
          "VBS45327-5563STDY8794267",
          "VBS45328-5563STDY8794268",
          "VBS45329-5563STDY8794269",
          "VBS45330-5563STDY8794270",
          "VBS45331-5563STDY8794271",
          "VBS45332-5563STDY8794272",
          "VBS45511-5563STDY9249436",
          "VBS45512-5563STDY9249437",
          "VBS45513-5563STDY9249438",
          "VBS45514-5563STDY9249439",
          "VBS45515-5563STDY9249440",
          "VBS45516-5563STDY9249441",
          "VBS45517-5563STDY9249442",
          "VBS45518-5563STDY9249443",
          "VBS45519-5563STDY9249444",
          "VBS45520-5563STDY9249445",
          "VBS45521-5563STDY9249446",
          "VBS45522-5563STDY9249447",
          "VBS45523-5563STDY9249448",
          "VBS45524-5563STDY9249449",
          "VBS45525-5563STDY9249450",
          "VBS45526-5563STDY9249451",
          "VBS45527-5563STDY9249452",
          "VBS45667-5563STDY9249596",
          "VBS45668-5563STDY9249597",
          "VBS45669-5563STDY9249598",
          "VBS45670-5563STDY9249599",
          "VBS45671-5563STDY9249600",
          "VBS45672-5563STDY9249601",
          "VBS45673-5563STDY9249602",
          "VBS45674-5563STDY9249603",
          "VBS45675-5563STDY9249604",
          "VBS45676-5563STDY9249605",
          "VBS45677-5563STDY9249606",
          "VBS45678-5563STDY9249607",
          "VBS45679-5563STDY9249608",
          "VBS45681-5563STDY9249610",
          "VBS45682-5563STDY9249611",
          "VBS45683-5563STDY9249612",
          "VBS45684-5563STDY9249613",
          "VBS45685-5563STDY9249614",
          "VBS45686-5563STDY9249615",
          "VBS45439-5563STDY8794381",
          "VBS45454-5563STDY8794396",
          "VBS45455-5563STDY8794397",
          "VBS45456-5563STDY8794398",
          "VBS45457-5563STDY8794399",
          "VBS45613-5563STDY9249540",
          "VBS45614-5563STDY9249541",
          "VBS45615-5563STDY9249542",
          "VBS45616-5563STDY9249543",
          "VBS45618-5563STDY9249545",
          "VBS45533-5563STDY9249458",
          "VBS45534-5563STDY9249459"
         ],
         "legendgroup": "coluzzii",
         "marker": {
          "color": "#EF553B",
          "opacity": 0.9,
          "size": [
           1,
           1,
           1,
           1,
           1,
           1,
           1,
           1,
           1,
           1,
           1,
           1,
           1,
           1,
           1,
           1,
           1,
           1,
           1,
           1,
           1,
           1,
           1,
           1,
           1,
           1,
           1,
           1,
           1,
           1,
           1,
           1,
           1,
           1,
           1,
           1,
           1,
           1,
           1,
           1,
           1,
           1,
           1,
           1,
           1,
           1,
           1,
           1,
           1,
           1,
           1,
           1,
           1,
           1,
           1,
           1,
           1,
           1,
           1,
           1,
           1,
           1,
           1,
           1,
           1,
           1,
           1,
           1,
           1,
           1,
           1,
           1,
           1,
           1,
           1,
           1,
           1,
           1,
           1,
           1,
           1,
           1,
           1,
           1,
           1,
           1,
           1,
           1,
           1,
           1,
           1,
           1,
           1,
           1,
           1,
           1,
           1,
           1,
           1,
           1,
           1,
           1,
           1,
           1,
           1,
           1,
           1,
           1,
           1,
           1,
           1,
           1,
           1,
           1,
           1,
           1,
           1,
           1,
           1,
           1,
           1,
           1,
           1,
           1,
           1,
           1,
           1,
           1,
           1,
           1,
           1,
           1,
           1,
           1,
           1,
           1,
           1,
           1,
           1,
           1,
           1,
           1,
           1,
           1,
           1,
           1,
           1,
           1,
           1,
           1,
           1,
           1,
           1,
           1,
           1,
           1,
           1,
           1,
           1,
           1,
           1,
           1,
           1,
           1,
           1,
           1,
           1,
           1,
           1,
           1,
           1,
           1,
           1,
           1,
           1,
           1,
           1,
           1,
           1,
           1,
           1,
           1,
           1,
           1,
           1,
           1,
           1,
           1,
           1,
           1,
           1,
           1,
           1,
           1,
           1,
           1,
           1,
           1,
           1,
           1,
           1,
           1,
           1,
           1,
           1,
           1,
           1,
           1,
           1,
           1,
           1,
           1,
           1,
           1,
           1,
           1,
           1,
           1,
           1,
           1,
           1,
           1,
           1,
           1,
           1,
           1,
           1,
           1,
           1,
           1,
           1,
           1,
           1,
           1,
           1,
           1,
           1,
           1,
           1,
           1,
           1,
           1,
           1,
           1,
           1,
           1,
           1,
           1,
           1,
           1,
           1,
           1,
           1,
           1,
           1,
           1,
           1,
           1,
           1,
           1,
           1,
           1,
           1,
           1,
           1,
           1,
           1,
           1,
           1,
           1,
           1,
           1,
           1,
           1,
           1,
           1,
           1,
           1,
           1,
           1,
           1,
           1,
           1,
           1,
           1,
           1,
           1,
           1,
           1,
           1,
           1,
           1,
           1,
           1,
           1,
           1,
           1,
           1,
           1,
           1,
           1,
           1,
           1,
           1,
           1,
           1,
           1,
           1,
           1,
           1,
           1,
           1,
           1,
           1,
           1,
           1,
           1,
           1,
           1,
           1,
           1,
           1,
           1,
           1,
           1,
           1,
           1,
           1,
           1,
           1,
           1,
           1,
           1,
           1,
           1,
           1,
           1,
           1,
           1,
           1,
           1,
           1,
           1,
           1,
           1,
           1,
           1,
           1,
           1,
           1,
           1,
           1,
           1,
           1,
           1,
           1,
           1,
           1,
           1,
           1,
           1,
           1,
           1,
           1,
           1,
           1,
           1,
           1,
           1,
           1,
           1,
           1,
           1,
           1,
           1,
           1,
           1,
           1,
           1,
           1,
           1,
           1,
           1,
           1,
           1,
           1,
           1,
           1,
           1,
           1,
           1,
           1,
           1,
           1,
           1,
           1,
           1,
           1,
           1,
           1,
           1,
           1,
           1,
           1,
           1,
           1,
           1,
           1,
           1,
           1,
           1,
           1,
           1,
           1,
           1,
           1,
           1,
           1,
           1,
           1,
           1,
           1
          ],
          "sizemode": "area",
          "sizeref": 0.015625,
          "symbol": "circle"
         },
         "mode": "markers",
         "name": "coluzzii",
         "orientation": "v",
         "showlegend": true,
         "type": "scatter",
         "x": [
          31.64660452750239,
          28.044919830980557,
          28.65394072652802,
          23.045517298601084,
          23.785098573326323,
          24.32895384590471,
          30.749354373678887,
          25.80449120688255,
          30.373388242741164,
          22.00125588719061,
          31.110641270749547,
          24.601127222807808,
          25.162610928966696,
          20.677237309070474,
          25.025579589969247,
          27.292006576230307,
          28.55313920257031,
          23.727716359992602,
          29.095128031624782,
          23.751997393627448,
          26.15989771349043,
          25.811310404112213,
          23.86696765711675,
          29.16665453835053,
          22.609237666061723,
          26.58630754484828,
          28.279436252642082,
          -178.39697115955573,
          26.53372773488343,
          21.802894252123473,
          22.08136254160572,
          28.742055956478346,
          30.795136386708105,
          29.595395155414977,
          23.599540715439357,
          21.895750153845885,
          26.63578160140486,
          -183.32296917830072,
          23.686032201700893,
          27.745790567278608,
          21.102784043499845,
          -191.6985539043054,
          26.461130711352535,
          25.720202927416977,
          23.817273653797702,
          -177.09907076692497,
          -189.3095043172409,
          -180.36050432941352,
          26.47444015621496,
          29.79708194196678,
          29.740065815908245,
          28.35365400590789,
          -168.44621339415482,
          -165.92107073962046,
          -174.4595581132948,
          22.770378328623696,
          -177.05293971161362,
          -174.08057078540108,
          30.313898694197636,
          24.419375035379716,
          24.802977773729587,
          24.834919978747134,
          24.747864313467122,
          29.08273529689203,
          23.5759716315379,
          29.42140767470094,
          29.421106301940156,
          23.24013786705254,
          20.551454245855115,
          28.92424805846068,
          28.401796411701213,
          26.176912278602565,
          -175.42036198422235,
          22.195487885869344,
          -175.8170490671014,
          22.436258640091218,
          29.796563391934487,
          28.393214165104133,
          24.945762787509047,
          21.832173614985848,
          24.32309739041478,
          24.282997011758177,
          28.447051431639967,
          27.254022120754215,
          29.98607501129139,
          25.713296820200693,
          22.342552559968524,
          27.698896140512886,
          28.35294889343897,
          26.295542976764,
          29.73984703465269,
          24.929992242531476,
          25.580167942329183,
          25.052388619015417,
          23.076397070765786,
          20.12953309036552,
          23.48479118309223,
          29.022625917592347,
          27.603893971359724,
          30.96122302912198,
          23.40401730813832,
          26.728898295732304,
          27.1748239102629,
          23.330722980970926,
          19.754316312503136,
          26.50478087817664,
          20.09145447569842,
          28.369442195054866,
          27.806495315235203,
          27.682611373743757,
          27.763743180954844,
          29.336587525499617,
          23.793998714115766,
          28.215193987266503,
          27.37680538350878,
          28.22982100647896,
          32.455970236272414,
          23.41143603113262,
          24.862215342429565,
          27.19321891221352,
          28.32277273781982,
          29.44683693782891,
          30.353211691097094,
          23.656402962827777,
          23.752126013043377,
          25.846085595891484,
          23.46773755265612,
          23.00335733522681,
          28.924810265367498,
          22.45296025299282,
          28.920363698934047,
          26.478809901783674,
          26.141300089955095,
          31.47648211188332,
          30.529366793628334,
          23.063428669103164,
          -168.24675456414045,
          -202.98840479054567,
          -170.64011584520682,
          28.891005083527087,
          26.273336613555863,
          23.766289453903887,
          25.638614518238477,
          29.44274390641007,
          23.071886742966534,
          -184.34567766183451,
          32.63302942991904,
          22.135830098212338,
          30.43979761259446,
          29.17842292949309,
          28.017653696976055,
          26.707559268003397,
          29.415629001753363,
          27.237005918279344,
          19.477785066446724,
          -183.7680144821441,
          24.489128055123803,
          27.147047508729603,
          19.93500452145536,
          22.581308335751316,
          25.936282766696003,
          31.929813478592788,
          28.109681892608155,
          23.200480626910533,
          24.159515088782637,
          28.247252170807517,
          26.562031380003212,
          24.567527551869368,
          29.076362639780353,
          25.626460684246588,
          26.735506366893176,
          22.959618876178332,
          -185.92669114787319,
          19.069804742624164,
          -184.29252550759838,
          -183.56410570724785,
          27.315821736043493,
          -178.64083941726628,
          -147.0907751830467,
          -183.17928602934435,
          -162.0527138118775,
          -179.84975900815303,
          28.68743112850888,
          28.896039515562048,
          26.643149718564928,
          -163.46850155021534,
          23.99003334227727,
          -169.12680973717167,
          -174.86373341450638,
          -184.28429733533534,
          -147.06639941615137,
          -177.60291989957219,
          21.18594387979922,
          26.799483611199072,
          33.76763684538468,
          30.108004187083285,
          -177.1233917475821,
          18.60911788735603,
          29.99659491672798,
          23.08576209419647,
          -175.69384647262004,
          32.00064410439693,
          31.236029401182634,
          24.932742416424627,
          25.24156043055025,
          30.942362480202863,
          26.053147741551648,
          26.207076055767786,
          27.068569116974402,
          28.284921653709034,
          27.458968066880296,
          26.949212492772645,
          22.554902863236247,
          26.596771280620782,
          30.891384676110892,
          21.197340870860405,
          -156.56475356622323,
          26.881715274996,
          28.305876596165344,
          23.91179862540582,
          24.853506390311303,
          27.126945775424677,
          31.202827660284154,
          33.348764571311214,
          29.997933209427046,
          26.38975170966958,
          26.173292032036393,
          33.76290519768848,
          28.891030650458102,
          26.682104702294968,
          30.43154140422923,
          26.024282400916174,
          25.077914094057295,
          22.5268858248349,
          28.083656396678435,
          23.62804272787214,
          27.843602441105226,
          30.142160320981112,
          23.78943585405382,
          26.776245060689387,
          21.221318785216706,
          22.303255676821877,
          31.475977417773812,
          25.902918012798647,
          23.700506739842286,
          28.22162266517763,
          24.18802172595845,
          28.44686544511692,
          22.062200088125223,
          22.009984595758677,
          26.695888580106686,
          25.57123692404992,
          27.815815872208336,
          26.798649413232358,
          32.411263760788195,
          25.303886726944274,
          22.95629250643273,
          29.714786777551378,
          23.596728664010183,
          28.402652556281964,
          21.47216877015399,
          22.704113681280745,
          30.06768229092317,
          30.798865147163333,
          26.430388525906366,
          22.24764909272094,
          23.12214379065525,
          25.640144790704667,
          22.986605716588087,
          29.088337050391974,
          26.273200946566273,
          27.545111939770095,
          22.711655256703747,
          31.542051959763878,
          26.38976927534521,
          25.733379169022566,
          28.04878946298923,
          26.827730665977917,
          25.155978862068558,
          26.7246777908515,
          29.241681604047944,
          -195.17288209156754,
          -199.75974157654528,
          -181.37417116597098,
          -203.06749013831924,
          -183.08884489507068,
          29.132968587152405,
          28.913760746025368,
          -169.56104547328235,
          -182.85716269404034,
          25.070539827361866,
          22.07866985113083,
          29.464501289288062,
          25.230310701403877,
          28.258844227781164,
          27.434675476504037,
          22.48545409821422,
          25.137101654450955,
          27.359937738535695,
          27.05936586027823,
          31.631739828777985,
          28.837551737548583,
          26.353030752671106,
          22.29762596985045,
          28.56460528863882,
          20.77482589009834,
          26.246866888986546,
          -180.8624369401704,
          30.034223086358818,
          25.22743711309794,
          27.16227466324056,
          25.572384381534487,
          24.62874436236769,
          31.009846711615346,
          25.2372162387493,
          32.35136413168955,
          29.343155925822376,
          24.332532785489754,
          23.409137758828024,
          20.03607514131399,
          22.049885591632012,
          26.59000435156564,
          28.37104917548478,
          23.022453307335372,
          24.16375840744766,
          28.043658246573937,
          22.356792221995132,
          28.537854204551863,
          24.960577889944698,
          22.463407068465482,
          28.311556108606354,
          27.79915818193817,
          29.865498000032822,
          24.432251586065927,
          29.61360246005439,
          26.988203316872923,
          23.699521324121072,
          27.625144796592203,
          29.21899458431196,
          29.77844965481019,
          -179.80722296088754,
          24.245209605011055,
          30.12816972430201,
          21.94261006294,
          30.061442098016038,
          -173.16071941255797,
          26.996967257236232,
          -174.15501547649095,
          27.11129992284244,
          -167.2843107008254,
          22.109847327273965,
          23.894291741101316,
          26.842328876946674,
          26.259189612439922,
          -162.04821225184796,
          -164.57720427846593,
          -183.4258282618657,
          -179.8278458327159,
          24.210430303270368,
          24.270812882105176,
          29.92514699998274,
          31.34837134820763,
          27.479906107254827,
          25.531746537818126,
          24.48322492595944,
          18.95813629528749,
          24.974718624297164,
          -160.32730212962065,
          25.68744502565826,
          -163.0134304553496,
          27.657930257412634,
          21.20422844479019,
          26.920022293661972,
          20.720575145074516,
          27.586123905013302,
          25.077646592824074,
          29.47759612792305,
          25.37242185880473,
          21.226917819500862,
          19.51950461389769,
          29.620052277607215,
          26.47783842976424,
          23.93761991987028,
          17.398740775092563,
          29.584959192293326,
          20.468143428336187,
          25.1123808120698,
          26.346403598487964,
          23.920475105254027,
          18.83216522962313,
          28.739445941723876,
          24.73624928221226,
          27.841487062173506,
          29.521696687783923,
          29.326955260929896,
          29.709464986985722,
          29.046177705355113,
          26.355612206968637,
          23.013331477666497,
          29.116970154762697,
          27.22786235295225,
          24.682555657327775,
          29.840229419473847,
          23.809986180729936,
          28.7691697804532,
          22.24665739783166,
          24.018541241617626,
          20.87420151302641,
          21.77300256303746,
          20.824525423973974,
          27.613533264272654,
          21.797218989803643,
          33.21654426358083,
          20.760309260310144,
          31.864967755439707,
          22.102929604813568,
          29.973881976637333,
          22.148074768760956,
          33.05994028496051,
          25.444462567031398,
          30.104870624929596,
          27.499190955129187
         ],
         "xaxis": "x",
         "y": [
          -4.7908141421400865,
          -1.3633086936559926,
          5.289167307713085,
          6.153040496724221,
          -2.024619371299258,
          1.0637816470398356,
          -2.378738857399269,
          -2.0289795299756648,
          -0.0051196989464210585,
          -1.996261488278137,
          -4.084682226583574,
          8.203646856077876,
          5.636393393937619,
          -0.6580542356684007,
          1.2830145826911246,
          -3.9181863428736086,
          4.820918766921132,
          4.1559452100023275,
          -5.057429101293715,
          5.869279428248638,
          6.378011071432304,
          6.847779642519726,
          5.330103274850433,
          2.3878288182097434,
          -3.1121901914190087,
          6.8107390056212305,
          7.345119008347336,
          -53.23959226165066,
          -6.63542593038389,
          -0.8260427530733023,
          3.059045767995504,
          6.305728982103585,
          -3.286484171246899,
          1.8947940060269957,
          -1.9267366587411914,
          4.413135909966004,
          3.030670777658502,
          -24.980971202170426,
          -1.7056325744557626,
          -1.7406377778374214,
          -1.5359698770839465,
          48.965070662288326,
          3.1549187877538776,
          5.1891914652959645,
          9.349245214363101,
          -41.29981465310851,
          25.955397316147593,
          8.63458464470813,
          4.476515948566746,
          -6.254176082462971,
          1.049074010017283,
          -5.278812699463056,
          -35.46493468977717,
          -24.802867203969388,
          -57.83583311289565,
          2.984214680625478,
          45.81330494422522,
          -28.882708040242495,
          2.689051842091725,
          1.2506453519294531,
          5.220999169729066,
          1.5502564023008132,
          5.8788877887542075,
          0.7571353228690816,
          2.49324994830257,
          3.2913479036813644,
          -0.217532874235012,
          -4.23203888827958,
          -7.228932921431126,
          4.692336664064715,
          4.292354585470535,
          3.5562728024693038,
          -71.96349346253689,
          -6.239200830954285,
          -52.351768878112445,
          -3.391158503987337,
          0.7329432791011754,
          -3.2060669102694237,
          0.0041227545163644574,
          5.53434679626713,
          -1.1262815419626624,
          -0.7658490691587337,
          5.47822379738024,
          -2.007630326461557,
          1.5063890918882976,
          5.646542566703902,
          7.787738947170396,
          -5.017307309221356,
          5.600827095667732,
          -0.03062217557796544,
          -2.194174698892747,
          -0.8940942481776949,
          5.395185007317869,
          0.33766957764292216,
          -1.5677813951521937,
          3.9071446302294897,
          -5.571768139140863,
          -6.6593214312611,
          -5.832668422501135,
          -3.234921299656179,
          -5.631312295636615,
          2.2005983770680384,
          -5.290010482288738,
          -1.6244746913132277,
          7.581167120757953,
          -1.9499117655409646,
          2.803039616533928,
          -3.658334982162244,
          -2.4484172979109555,
          -6.392350864891939,
          -4.003729772272333,
          -2.765167148655744,
          -4.911274957459587,
          -2.54667166228624,
          -4.935614232521131,
          -0.43433169811129124,
          -4.4507428739767665,
          -0.9747965643189138,
          2.3048933559674505,
          3.6975166115049083,
          -5.879063809993662,
          1.512625109821074,
          3.8470513878755535,
          -6.326179464686962,
          3.215641348382924,
          5.631024237136312,
          -6.638595879660442,
          -2.4671983278279668,
          3.1243254043216506,
          -3.504514371814314,
          -5.312181756110097,
          -2.0048144598337476,
          0.40794362425180797,
          0.3605247661611122,
          -2.8715476850204382,
          1.107183520084958,
          -44.9572532336852,
          178.39250554945585,
          -36.98595356826594,
          4.261361720794173,
          1.715188807740808,
          -1.0767535387715919,
          -6.003753455945406,
          2.643421313669198,
          1.6218658296652506,
          -50.14057131848674,
          -1.6818142017627224,
          -7.00006302152356,
          -4.103283957574925,
          -3.6114738064800243,
          -4.808244501908746,
          7.607238953886179,
          1.6321659688720742,
          5.806243774095606,
          -2.5902294140982374,
          -38.65204182758591,
          -1.2019339800260957,
          -6.94548887460438,
          -0.3978806820975631,
          1.0792458123165307,
          -3.378551187489005,
          8.644895441869085,
          -2.9751243716745814,
          -3.9798520441669556,
          -4.808306941330334,
          -4.231263082935206,
          5.3061254864384635,
          -7.565179911844044,
          -8.714721860667222,
          3.2367972257249855,
          2.0073532282912403,
          -3.0359040700756985,
          87.63469737458617,
          -7.024326200625015,
          -32.05404338575842,
          -80.44593849895676,
          -8.284240251767564,
          -77.19074774306415,
          -53.21364246904794,
          -38.25897455480928,
          33.965098518880815,
          -66.15598496618584,
          1.0286507763934185,
          -0.14895327237177192,
          5.758693385204988,
          -43.221981144943165,
          6.442020924840627,
          -20.468778094492748,
          -23.71201444240493,
          -71.06927307575627,
          -20.896870380373834,
          -67.91119183180403,
          1.549077242253045,
          5.815350513212127,
          -4.2978392570434805,
          6.602859823206693,
          -53.582935720057925,
          -7.652775704086927,
          -3.982276409704337,
          3.8722540471694877,
          -85.38457988040138,
          1.7992329159738314,
          -3.0295070280721825,
          8.138547726585163,
          -1.3783400917276742,
          5.652471616515984,
          0.9500625462632434,
          -2.1109017587738377,
          0.20792308332553033,
          -1.5298918723335144,
          4.09200720677746,
          -1.7385293354379656,
          -4.3963049192588235,
          5.359478887984038,
          0.9827252840798701,
          1.9244472877456633,
          -21.969044428346646,
          4.917319545141111,
          0.4496737890585587,
          -3.8083355268179537,
          -6.853404470441513,
          3.901394170981341,
          3.2028579642166517,
          1.163857627051891,
          5.017248134702397,
          4.314962717019187,
          -5.133634749169331,
          0.5035367242902504,
          -1.7506501758422957,
          3.8397360233389737,
          2.880981260882596,
          6.140884389821361,
          6.8620258174046285,
          -1.1374633713737903,
          4.365006279637539,
          -3.7564375874230453,
          2.7830380979509597,
          -4.728515995160361,
          -3.354829336169871,
          5.333122327692952,
          -4.711855161824958,
          -0.3855626758340409,
          5.376115775396167,
          5.252466379314722,
          1.4795394044372006,
          0.9682846142230528,
          -2.1470671909573085,
          -3.684526737783413,
          -4.735389122561236,
          5.504225456912054,
          0.4225130424482142,
          -0.10739288946881742,
          -0.011462202824070622,
          7.048882444459369,
          -2.1765741162716896,
          1.7925116709424855,
          -1.0088895073990454,
          -0.6031573879231962,
          -7.631307428999794,
          7.429553274500713,
          8.122399004920151,
          2.6039290711984826,
          3.9684502568463245,
          6.544023631248247,
          3.4307471159874297,
          -7.988766512613385,
          3.294590737437701,
          2.697259322692994,
          0.4662417192558337,
          5.536045090006999,
          9.591937075885639,
          5.201704792110334,
          -1.0380184872145266,
          -5.131137115826509,
          7.943083992999452,
          4.92104387814697,
          -5.2513346996646195,
          5.643537234431924,
          4.331385424098978,
          2.557972793717273,
          3.370088385320589,
          224.34731726468456,
          237.74103065904032,
          145.70532035050533,
          238.84836196293514,
          -18.51467442282849,
          -2.6171623818816765,
          -1.907090750300174,
          145.89158993172728,
          108.64402909341649,
          -1.58572299174361,
          -1.8926549586845236,
          6.228632938083356,
          -0.9072217411325516,
          -2.124024969446458,
          -0.585526726294396,
          -3.868430550923347,
          -4.46302413538816,
          1.970962962403796,
          -0.4938707197315604,
          3.5723773021703895,
          -2.761001382112805,
          -2.1165907996917643,
          3.138238832716744,
          -5.648705203251484,
          1.5029210634108994,
          -2.601202734042726,
          -6.1573666448213045,
          -2.3890476077979725,
          -1.7779944744529679,
          -8.21645214081665,
          7.542252384821832,
          -1.9975397743013672,
          0.8619275316512631,
          -4.042793569408009,
          4.7672813441299855,
          -4.761062336742443,
          4.4397437608007815,
          -5.715816833304867,
          -8.076339520397308,
          -5.4407134881167,
          0.6871641853457573,
          1.2674122925886002,
          -5.569861161165683,
          6.482963364347488,
          -1.74423856966681,
          2.2934467292411456,
          -0.8895829705015512,
          0.2055369118501198,
          2.28251998253082,
          -5.1289957071052426,
          -4.00194187261993,
          5.560804832991948,
          8.94662825370354,
          -2.0496075722719524,
          -2.7287471206715095,
          1.4655630159634119,
          -0.45308597654925276,
          -7.27854493676634,
          -4.86185649510542,
          -67.81481038277896,
          1.8855734725286175,
          -4.866062090090834,
          -4.476294221190903,
          -2.233334070624278,
          -45.74679957336925,
          -4.987053454951049,
          -59.90321743074707,
          5.29100982288553,
          -51.94224209655165,
          3.1823532605162326,
          -5.6746685421163665,
          -5.702249753189237,
          -4.895082741464281,
          -29.417158183678538,
          -42.27691969364703,
          29.214773719990433,
          -107.63655413063103,
          2.9244625776551505,
          -6.261276946364675,
          -4.809435925644458,
          7.30692348457997,
          -5.415729503956771,
          -4.093261001324814,
          -3.405957598561675,
          -6.551689524058962,
          -3.754398117241734,
          -29.847165215266667,
          1.1403759104726543,
          -40.02724322387977,
          5.890122488318707,
          -1.7882273705476708,
          -0.895275078963381,
          -0.04158422544991369,
          0.8930164178143536,
          -2.8540037504454077,
          1.143151261383398,
          2.814632401648546,
          -0.14455037494804857,
          -0.6218365566636874,
          -3.394071330164051,
          5.866740578558302,
          4.155388740921949,
          -4.584500559201161,
          3.9388593496667204,
          1.1640944840415943,
          4.909053484726903,
          6.787581321192351,
          -1.4570750556694156,
          -5.818395052610602,
          -2.5913185058123798,
          -0.26243017194345497,
          2.264760371477057,
          -4.079204507040149,
          -3.7940400835790165,
          8.558347373511996,
          9.596994698323043,
          0.2897295110758841,
          -3.6335714838925446,
          -1.067814138745696,
          -6.0677036812372345,
          5.289535075834535,
          -5.855195103554202,
          2.392668698121282,
          -1.8804438831807864,
          2.5780059785807383,
          3.6362918717382424,
          4.485431072243757,
          -5.630231600433762,
          -5.886321574511726,
          4.87886095113096,
          5.08470556985455,
          0.5629582110767557,
          -4.354210941143297,
          -2.6015727800276522,
          -7.654205438502799,
          -5.510912805594325,
          2.767451966195413,
          -5.3659394014274495,
          -5.11387414737346,
          5.668859090729845,
          -2.3362129861462404
         ],
         "yaxis": "y"
        }
       ],
       "layout": {
        "height": 500,
        "legend": {
         "itemsizing": "constant",
         "title": {
          "text": "species_gambiae_coluzzii"
         },
         "tracegroupgap": 0
        },
        "template": {
         "data": {
          "bar": [
           {
            "error_x": {
             "color": "#2a3f5f"
            },
            "error_y": {
             "color": "#2a3f5f"
            },
            "marker": {
             "line": {
              "color": "#E5ECF6",
              "width": 0.5
             },
             "pattern": {
              "fillmode": "overlay",
              "size": 10,
              "solidity": 0.2
             }
            },
            "type": "bar"
           }
          ],
          "barpolar": [
           {
            "marker": {
             "line": {
              "color": "#E5ECF6",
              "width": 0.5
             },
             "pattern": {
              "fillmode": "overlay",
              "size": 10,
              "solidity": 0.2
             }
            },
            "type": "barpolar"
           }
          ],
          "carpet": [
           {
            "aaxis": {
             "endlinecolor": "#2a3f5f",
             "gridcolor": "white",
             "linecolor": "white",
             "minorgridcolor": "white",
             "startlinecolor": "#2a3f5f"
            },
            "baxis": {
             "endlinecolor": "#2a3f5f",
             "gridcolor": "white",
             "linecolor": "white",
             "minorgridcolor": "white",
             "startlinecolor": "#2a3f5f"
            },
            "type": "carpet"
           }
          ],
          "choropleth": [
           {
            "colorbar": {
             "outlinewidth": 0,
             "ticks": ""
            },
            "type": "choropleth"
           }
          ],
          "contour": [
           {
            "colorbar": {
             "outlinewidth": 0,
             "ticks": ""
            },
            "colorscale": [
             [
              0,
              "#0d0887"
             ],
             [
              0.1111111111111111,
              "#46039f"
             ],
             [
              0.2222222222222222,
              "#7201a8"
             ],
             [
              0.3333333333333333,
              "#9c179e"
             ],
             [
              0.4444444444444444,
              "#bd3786"
             ],
             [
              0.5555555555555556,
              "#d8576b"
             ],
             [
              0.6666666666666666,
              "#ed7953"
             ],
             [
              0.7777777777777778,
              "#fb9f3a"
             ],
             [
              0.8888888888888888,
              "#fdca26"
             ],
             [
              1,
              "#f0f921"
             ]
            ],
            "type": "contour"
           }
          ],
          "contourcarpet": [
           {
            "colorbar": {
             "outlinewidth": 0,
             "ticks": ""
            },
            "type": "contourcarpet"
           }
          ],
          "heatmap": [
           {
            "colorbar": {
             "outlinewidth": 0,
             "ticks": ""
            },
            "colorscale": [
             [
              0,
              "#0d0887"
             ],
             [
              0.1111111111111111,
              "#46039f"
             ],
             [
              0.2222222222222222,
              "#7201a8"
             ],
             [
              0.3333333333333333,
              "#9c179e"
             ],
             [
              0.4444444444444444,
              "#bd3786"
             ],
             [
              0.5555555555555556,
              "#d8576b"
             ],
             [
              0.6666666666666666,
              "#ed7953"
             ],
             [
              0.7777777777777778,
              "#fb9f3a"
             ],
             [
              0.8888888888888888,
              "#fdca26"
             ],
             [
              1,
              "#f0f921"
             ]
            ],
            "type": "heatmap"
           }
          ],
          "heatmapgl": [
           {
            "colorbar": {
             "outlinewidth": 0,
             "ticks": ""
            },
            "colorscale": [
             [
              0,
              "#0d0887"
             ],
             [
              0.1111111111111111,
              "#46039f"
             ],
             [
              0.2222222222222222,
              "#7201a8"
             ],
             [
              0.3333333333333333,
              "#9c179e"
             ],
             [
              0.4444444444444444,
              "#bd3786"
             ],
             [
              0.5555555555555556,
              "#d8576b"
             ],
             [
              0.6666666666666666,
              "#ed7953"
             ],
             [
              0.7777777777777778,
              "#fb9f3a"
             ],
             [
              0.8888888888888888,
              "#fdca26"
             ],
             [
              1,
              "#f0f921"
             ]
            ],
            "type": "heatmapgl"
           }
          ],
          "histogram": [
           {
            "marker": {
             "pattern": {
              "fillmode": "overlay",
              "size": 10,
              "solidity": 0.2
             }
            },
            "type": "histogram"
           }
          ],
          "histogram2d": [
           {
            "colorbar": {
             "outlinewidth": 0,
             "ticks": ""
            },
            "colorscale": [
             [
              0,
              "#0d0887"
             ],
             [
              0.1111111111111111,
              "#46039f"
             ],
             [
              0.2222222222222222,
              "#7201a8"
             ],
             [
              0.3333333333333333,
              "#9c179e"
             ],
             [
              0.4444444444444444,
              "#bd3786"
             ],
             [
              0.5555555555555556,
              "#d8576b"
             ],
             [
              0.6666666666666666,
              "#ed7953"
             ],
             [
              0.7777777777777778,
              "#fb9f3a"
             ],
             [
              0.8888888888888888,
              "#fdca26"
             ],
             [
              1,
              "#f0f921"
             ]
            ],
            "type": "histogram2d"
           }
          ],
          "histogram2dcontour": [
           {
            "colorbar": {
             "outlinewidth": 0,
             "ticks": ""
            },
            "colorscale": [
             [
              0,
              "#0d0887"
             ],
             [
              0.1111111111111111,
              "#46039f"
             ],
             [
              0.2222222222222222,
              "#7201a8"
             ],
             [
              0.3333333333333333,
              "#9c179e"
             ],
             [
              0.4444444444444444,
              "#bd3786"
             ],
             [
              0.5555555555555556,
              "#d8576b"
             ],
             [
              0.6666666666666666,
              "#ed7953"
             ],
             [
              0.7777777777777778,
              "#fb9f3a"
             ],
             [
              0.8888888888888888,
              "#fdca26"
             ],
             [
              1,
              "#f0f921"
             ]
            ],
            "type": "histogram2dcontour"
           }
          ],
          "mesh3d": [
           {
            "colorbar": {
             "outlinewidth": 0,
             "ticks": ""
            },
            "type": "mesh3d"
           }
          ],
          "parcoords": [
           {
            "line": {
             "colorbar": {
              "outlinewidth": 0,
              "ticks": ""
             }
            },
            "type": "parcoords"
           }
          ],
          "pie": [
           {
            "automargin": true,
            "type": "pie"
           }
          ],
          "scatter": [
           {
            "marker": {
             "colorbar": {
              "outlinewidth": 0,
              "ticks": ""
             }
            },
            "type": "scatter"
           }
          ],
          "scatter3d": [
           {
            "line": {
             "colorbar": {
              "outlinewidth": 0,
              "ticks": ""
             }
            },
            "marker": {
             "colorbar": {
              "outlinewidth": 0,
              "ticks": ""
             }
            },
            "type": "scatter3d"
           }
          ],
          "scattercarpet": [
           {
            "marker": {
             "colorbar": {
              "outlinewidth": 0,
              "ticks": ""
             }
            },
            "type": "scattercarpet"
           }
          ],
          "scattergeo": [
           {
            "marker": {
             "colorbar": {
              "outlinewidth": 0,
              "ticks": ""
             }
            },
            "type": "scattergeo"
           }
          ],
          "scattergl": [
           {
            "marker": {
             "colorbar": {
              "outlinewidth": 0,
              "ticks": ""
             }
            },
            "type": "scattergl"
           }
          ],
          "scattermapbox": [
           {
            "marker": {
             "colorbar": {
              "outlinewidth": 0,
              "ticks": ""
             }
            },
            "type": "scattermapbox"
           }
          ],
          "scatterpolar": [
           {
            "marker": {
             "colorbar": {
              "outlinewidth": 0,
              "ticks": ""
             }
            },
            "type": "scatterpolar"
           }
          ],
          "scatterpolargl": [
           {
            "marker": {
             "colorbar": {
              "outlinewidth": 0,
              "ticks": ""
             }
            },
            "type": "scatterpolargl"
           }
          ],
          "scatterternary": [
           {
            "marker": {
             "colorbar": {
              "outlinewidth": 0,
              "ticks": ""
             }
            },
            "type": "scatterternary"
           }
          ],
          "surface": [
           {
            "colorbar": {
             "outlinewidth": 0,
             "ticks": ""
            },
            "colorscale": [
             [
              0,
              "#0d0887"
             ],
             [
              0.1111111111111111,
              "#46039f"
             ],
             [
              0.2222222222222222,
              "#7201a8"
             ],
             [
              0.3333333333333333,
              "#9c179e"
             ],
             [
              0.4444444444444444,
              "#bd3786"
             ],
             [
              0.5555555555555556,
              "#d8576b"
             ],
             [
              0.6666666666666666,
              "#ed7953"
             ],
             [
              0.7777777777777778,
              "#fb9f3a"
             ],
             [
              0.8888888888888888,
              "#fdca26"
             ],
             [
              1,
              "#f0f921"
             ]
            ],
            "type": "surface"
           }
          ],
          "table": [
           {
            "cells": {
             "fill": {
              "color": "#EBF0F8"
             },
             "line": {
              "color": "white"
             }
            },
            "header": {
             "fill": {
              "color": "#C8D4E3"
             },
             "line": {
              "color": "white"
             }
            },
            "type": "table"
           }
          ]
         },
         "layout": {
          "annotationdefaults": {
           "arrowcolor": "#2a3f5f",
           "arrowhead": 0,
           "arrowwidth": 1
          },
          "autotypenumbers": "strict",
          "coloraxis": {
           "colorbar": {
            "outlinewidth": 0,
            "ticks": ""
           }
          },
          "colorscale": {
           "diverging": [
            [
             0,
             "#8e0152"
            ],
            [
             0.1,
             "#c51b7d"
            ],
            [
             0.2,
             "#de77ae"
            ],
            [
             0.3,
             "#f1b6da"
            ],
            [
             0.4,
             "#fde0ef"
            ],
            [
             0.5,
             "#f7f7f7"
            ],
            [
             0.6,
             "#e6f5d0"
            ],
            [
             0.7,
             "#b8e186"
            ],
            [
             0.8,
             "#7fbc41"
            ],
            [
             0.9,
             "#4d9221"
            ],
            [
             1,
             "#276419"
            ]
           ],
           "sequential": [
            [
             0,
             "#0d0887"
            ],
            [
             0.1111111111111111,
             "#46039f"
            ],
            [
             0.2222222222222222,
             "#7201a8"
            ],
            [
             0.3333333333333333,
             "#9c179e"
            ],
            [
             0.4444444444444444,
             "#bd3786"
            ],
            [
             0.5555555555555556,
             "#d8576b"
            ],
            [
             0.6666666666666666,
             "#ed7953"
            ],
            [
             0.7777777777777778,
             "#fb9f3a"
            ],
            [
             0.8888888888888888,
             "#fdca26"
            ],
            [
             1,
             "#f0f921"
            ]
           ],
           "sequentialminus": [
            [
             0,
             "#0d0887"
            ],
            [
             0.1111111111111111,
             "#46039f"
            ],
            [
             0.2222222222222222,
             "#7201a8"
            ],
            [
             0.3333333333333333,
             "#9c179e"
            ],
            [
             0.4444444444444444,
             "#bd3786"
            ],
            [
             0.5555555555555556,
             "#d8576b"
            ],
            [
             0.6666666666666666,
             "#ed7953"
            ],
            [
             0.7777777777777778,
             "#fb9f3a"
            ],
            [
             0.8888888888888888,
             "#fdca26"
            ],
            [
             1,
             "#f0f921"
            ]
           ]
          },
          "colorway": [
           "#636efa",
           "#EF553B",
           "#00cc96",
           "#ab63fa",
           "#FFA15A",
           "#19d3f3",
           "#FF6692",
           "#B6E880",
           "#FF97FF",
           "#FECB52"
          ],
          "font": {
           "color": "#2a3f5f"
          },
          "geo": {
           "bgcolor": "white",
           "lakecolor": "white",
           "landcolor": "#E5ECF6",
           "showlakes": true,
           "showland": true,
           "subunitcolor": "white"
          },
          "hoverlabel": {
           "align": "left"
          },
          "hovermode": "closest",
          "mapbox": {
           "style": "light"
          },
          "paper_bgcolor": "white",
          "plot_bgcolor": "#E5ECF6",
          "polar": {
           "angularaxis": {
            "gridcolor": "white",
            "linecolor": "white",
            "ticks": ""
           },
           "bgcolor": "#E5ECF6",
           "radialaxis": {
            "gridcolor": "white",
            "linecolor": "white",
            "ticks": ""
           }
          },
          "scene": {
           "xaxis": {
            "backgroundcolor": "#E5ECF6",
            "gridcolor": "white",
            "gridwidth": 2,
            "linecolor": "white",
            "showbackground": true,
            "ticks": "",
            "zerolinecolor": "white"
           },
           "yaxis": {
            "backgroundcolor": "#E5ECF6",
            "gridcolor": "white",
            "gridwidth": 2,
            "linecolor": "white",
            "showbackground": true,
            "ticks": "",
            "zerolinecolor": "white"
           },
           "zaxis": {
            "backgroundcolor": "#E5ECF6",
            "gridcolor": "white",
            "gridwidth": 2,
            "linecolor": "white",
            "showbackground": true,
            "ticks": "",
            "zerolinecolor": "white"
           }
          },
          "shapedefaults": {
           "line": {
            "color": "#2a3f5f"
           }
          },
          "ternary": {
           "aaxis": {
            "gridcolor": "white",
            "linecolor": "white",
            "ticks": ""
           },
           "baxis": {
            "gridcolor": "white",
            "linecolor": "white",
            "ticks": ""
           },
           "bgcolor": "#E5ECF6",
           "caxis": {
            "gridcolor": "white",
            "linecolor": "white",
            "ticks": ""
           }
          },
          "title": {
           "x": 0.05
          },
          "xaxis": {
           "automargin": true,
           "gridcolor": "white",
           "linecolor": "white",
           "ticks": "",
           "title": {
            "standoff": 15
           },
           "zerolinecolor": "white",
           "zerolinewidth": 2
          },
          "yaxis": {
           "automargin": true,
           "gridcolor": "white",
           "linecolor": "white",
           "ticks": "",
           "title": {
            "standoff": 15
           },
           "zerolinecolor": "white",
           "zerolinewidth": 2
          }
         }
        },
        "title": {
         "text": " PCA | gaardian | 3L"
        },
        "width": 700,
        "xaxis": {
         "anchor": "y",
         "domain": [
          0,
          1
         ],
         "title": {
          "text": "PC1 - 0.0227 % variance explained"
         }
        },
        "yaxis": {
         "anchor": "x",
         "domain": [
          0,
          1
         ],
         "title": {
          "text": "PC2 - 0.005 % variance explained"
         }
        }
       }
      }
     },
     "metadata": {},
     "output_type": "display_data"
    },
    {
     "ename": "FileNotFoundError",
     "evalue": "[Errno 2] No such file or directory: 'results/PCA/gaardian.3L.html'",
     "output_type": "error",
     "traceback": [
      "\u001b[0;31m---------------------------------------------------------------------------\u001b[0m",
      "\u001b[0;31mFileNotFoundError\u001b[0m                         Traceback (most recent call last)",
      "\u001b[0;32m/tmp/ipykernel_13796/2449414761.py\u001b[0m in \u001b[0;36m<module>\u001b[0;34m\u001b[0m\n\u001b[1;32m      5\u001b[0m \u001b[0mevr\u001b[0m \u001b[0;34m=\u001b[0m \u001b[0mevr\u001b[0m\u001b[0;34m.\u001b[0m\u001b[0mastype\u001b[0m\u001b[0;34m(\u001b[0m\u001b[0;34m\"float\"\u001b[0m\u001b[0;34m)\u001b[0m\u001b[0;34m.\u001b[0m\u001b[0mround\u001b[0m\u001b[0;34m(\u001b[0m\u001b[0;36m4\u001b[0m\u001b[0;34m)\u001b[0m \u001b[0;31m# round decimals for variance explained %\u001b[0m\u001b[0;34m\u001b[0m\u001b[0;34m\u001b[0m\u001b[0m\n\u001b[1;32m      6\u001b[0m \u001b[0;34m\u001b[0m\u001b[0m\n\u001b[0;32m----> 7\u001b[0;31m \u001b[0mplot_coords\u001b[0m\u001b[0;34m(\u001b[0m\u001b[0mdata\u001b[0m\u001b[0;34m,\u001b[0m \u001b[0mevr\u001b[0m\u001b[0;34m,\u001b[0m \u001b[0mtitle\u001b[0m\u001b[0;34m=\u001b[0m\u001b[0;34mf\" PCA | {dataset} | {contig}\"\u001b[0m\u001b[0;34m,\u001b[0m \u001b[0mfilename\u001b[0m\u001b[0;34m=\u001b[0m\u001b[0;34mf\"results/PCA/{dataset}.{contig}.html\"\u001b[0m\u001b[0;34m)\u001b[0m\u001b[0;34m\u001b[0m\u001b[0;34m\u001b[0m\u001b[0m\n\u001b[0m\u001b[1;32m      8\u001b[0m \u001b[0;34m\u001b[0m\u001b[0m\n\u001b[1;32m      9\u001b[0m \u001b[0mfig\u001b[0m \u001b[0;34m=\u001b[0m \u001b[0mplt\u001b[0m\u001b[0;34m.\u001b[0m\u001b[0mfigure\u001b[0m\u001b[0;34m(\u001b[0m\u001b[0mfigsize\u001b[0m\u001b[0;34m=\u001b[0m\u001b[0;34m(\u001b[0m\u001b[0;36m10\u001b[0m\u001b[0;34m,\u001b[0m \u001b[0;36m10\u001b[0m\u001b[0;34m)\u001b[0m\u001b[0;34m)\u001b[0m\u001b[0;34m\u001b[0m\u001b[0;34m\u001b[0m\u001b[0m\n",
      "\u001b[0;32m~/projects/gaardian/workflow/scripts/tools.py\u001b[0m in \u001b[0;36mplot_coords\u001b[0;34m(data, evr, x, y, title, filename, jitter_frac, random_seed, **kwargs)\u001b[0m\n\u001b[1;32m    533\u001b[0m                             y: f\"{y} - {evr[1]} % variance explained\"}, **plot_kwargs)\n\u001b[1;32m    534\u001b[0m     \u001b[0mfig\u001b[0m\u001b[0;34m.\u001b[0m\u001b[0mshow\u001b[0m\u001b[0;34m(\u001b[0m\u001b[0;34m)\u001b[0m\u001b[0;34m\u001b[0m\u001b[0;34m\u001b[0m\u001b[0m\n\u001b[0;32m--> 535\u001b[0;31m     \u001b[0mfig\u001b[0m\u001b[0;34m.\u001b[0m\u001b[0mwrite_html\u001b[0m\u001b[0;34m(\u001b[0m\u001b[0mfilename\u001b[0m\u001b[0;34m)\u001b[0m\u001b[0;34m\u001b[0m\u001b[0;34m\u001b[0m\u001b[0m\n\u001b[0m\u001b[1;32m    536\u001b[0m \u001b[0;34m\u001b[0m\u001b[0m\n\u001b[1;32m    537\u001b[0m \u001b[0;34m\u001b[0m\u001b[0m\n",
      "\u001b[0;32m~/apps/anaconda3/lib/python3.7/site-packages/plotly/basedatatypes.py\u001b[0m in \u001b[0;36mwrite_html\u001b[0;34m(self, *args, **kwargs)\u001b[0m\n\u001b[1;32m   3706\u001b[0m         \u001b[0;32mimport\u001b[0m \u001b[0mplotly\u001b[0m\u001b[0;34m.\u001b[0m\u001b[0mio\u001b[0m \u001b[0;32mas\u001b[0m \u001b[0mpio\u001b[0m\u001b[0;34m\u001b[0m\u001b[0;34m\u001b[0m\u001b[0m\n\u001b[1;32m   3707\u001b[0m \u001b[0;34m\u001b[0m\u001b[0m\n\u001b[0;32m-> 3708\u001b[0;31m         \u001b[0;32mreturn\u001b[0m \u001b[0mpio\u001b[0m\u001b[0;34m.\u001b[0m\u001b[0mwrite_html\u001b[0m\u001b[0;34m(\u001b[0m\u001b[0mself\u001b[0m\u001b[0;34m,\u001b[0m \u001b[0;34m*\u001b[0m\u001b[0margs\u001b[0m\u001b[0;34m,\u001b[0m \u001b[0;34m**\u001b[0m\u001b[0mkwargs\u001b[0m\u001b[0;34m)\u001b[0m\u001b[0;34m\u001b[0m\u001b[0;34m\u001b[0m\u001b[0m\n\u001b[0m\u001b[1;32m   3709\u001b[0m \u001b[0;34m\u001b[0m\u001b[0m\n\u001b[1;32m   3710\u001b[0m     \u001b[0;32mdef\u001b[0m \u001b[0mto_image\u001b[0m\u001b[0;34m(\u001b[0m\u001b[0mself\u001b[0m\u001b[0;34m,\u001b[0m \u001b[0;34m*\u001b[0m\u001b[0margs\u001b[0m\u001b[0;34m,\u001b[0m \u001b[0;34m**\u001b[0m\u001b[0mkwargs\u001b[0m\u001b[0;34m)\u001b[0m\u001b[0;34m:\u001b[0m\u001b[0;34m\u001b[0m\u001b[0;34m\u001b[0m\u001b[0m\n",
      "\u001b[0;32m~/apps/anaconda3/lib/python3.7/site-packages/plotly/io/_html.py\u001b[0m in \u001b[0;36mwrite_html\u001b[0;34m(fig, file, config, auto_play, include_plotlyjs, include_mathjax, post_script, full_html, animation_opts, validate, default_width, default_height, auto_open, div_id)\u001b[0m\n\u001b[1;32m    540\u001b[0m     \u001b[0;31m# Write HTML string\u001b[0m\u001b[0;34m\u001b[0m\u001b[0;34m\u001b[0m\u001b[0;34m\u001b[0m\u001b[0m\n\u001b[1;32m    541\u001b[0m     \u001b[0;32mif\u001b[0m \u001b[0mpath\u001b[0m \u001b[0;32mis\u001b[0m \u001b[0;32mnot\u001b[0m \u001b[0;32mNone\u001b[0m\u001b[0;34m:\u001b[0m\u001b[0;34m\u001b[0m\u001b[0;34m\u001b[0m\u001b[0m\n\u001b[0;32m--> 542\u001b[0;31m         \u001b[0mpath\u001b[0m\u001b[0;34m.\u001b[0m\u001b[0mwrite_text\u001b[0m\u001b[0;34m(\u001b[0m\u001b[0mhtml_str\u001b[0m\u001b[0;34m)\u001b[0m\u001b[0;34m\u001b[0m\u001b[0;34m\u001b[0m\u001b[0m\n\u001b[0m\u001b[1;32m    543\u001b[0m     \u001b[0;32melse\u001b[0m\u001b[0;34m:\u001b[0m\u001b[0;34m\u001b[0m\u001b[0;34m\u001b[0m\u001b[0m\n\u001b[1;32m    544\u001b[0m         \u001b[0mfile\u001b[0m\u001b[0;34m.\u001b[0m\u001b[0mwrite\u001b[0m\u001b[0;34m(\u001b[0m\u001b[0mhtml_str\u001b[0m\u001b[0;34m)\u001b[0m\u001b[0;34m\u001b[0m\u001b[0;34m\u001b[0m\u001b[0m\n",
      "\u001b[0;32m~/apps/anaconda3/lib/python3.7/pathlib.py\u001b[0m in \u001b[0;36mwrite_text\u001b[0;34m(self, data, encoding, errors)\u001b[0m\n\u001b[1;32m   1223\u001b[0m             raise TypeError('data must be str, not %s' %\n\u001b[1;32m   1224\u001b[0m                             data.__class__.__name__)\n\u001b[0;32m-> 1225\u001b[0;31m         \u001b[0;32mwith\u001b[0m \u001b[0mself\u001b[0m\u001b[0;34m.\u001b[0m\u001b[0mopen\u001b[0m\u001b[0;34m(\u001b[0m\u001b[0mmode\u001b[0m\u001b[0;34m=\u001b[0m\u001b[0;34m'w'\u001b[0m\u001b[0;34m,\u001b[0m \u001b[0mencoding\u001b[0m\u001b[0;34m=\u001b[0m\u001b[0mencoding\u001b[0m\u001b[0;34m,\u001b[0m \u001b[0merrors\u001b[0m\u001b[0;34m=\u001b[0m\u001b[0merrors\u001b[0m\u001b[0;34m)\u001b[0m \u001b[0;32mas\u001b[0m \u001b[0mf\u001b[0m\u001b[0;34m:\u001b[0m\u001b[0;34m\u001b[0m\u001b[0;34m\u001b[0m\u001b[0m\n\u001b[0m\u001b[1;32m   1226\u001b[0m             \u001b[0;32mreturn\u001b[0m \u001b[0mf\u001b[0m\u001b[0;34m.\u001b[0m\u001b[0mwrite\u001b[0m\u001b[0;34m(\u001b[0m\u001b[0mdata\u001b[0m\u001b[0;34m)\u001b[0m\u001b[0;34m\u001b[0m\u001b[0;34m\u001b[0m\u001b[0m\n\u001b[1;32m   1227\u001b[0m \u001b[0;34m\u001b[0m\u001b[0m\n",
      "\u001b[0;32m~/apps/anaconda3/lib/python3.7/pathlib.py\u001b[0m in \u001b[0;36mopen\u001b[0;34m(self, mode, buffering, encoding, errors, newline)\u001b[0m\n\u001b[1;32m   1191\u001b[0m             \u001b[0mself\u001b[0m\u001b[0;34m.\u001b[0m\u001b[0m_raise_closed\u001b[0m\u001b[0;34m(\u001b[0m\u001b[0;34m)\u001b[0m\u001b[0;34m\u001b[0m\u001b[0;34m\u001b[0m\u001b[0m\n\u001b[1;32m   1192\u001b[0m         return io.open(self, mode, buffering, encoding, errors, newline,\n\u001b[0;32m-> 1193\u001b[0;31m                        opener=self._opener)\n\u001b[0m\u001b[1;32m   1194\u001b[0m \u001b[0;34m\u001b[0m\u001b[0m\n\u001b[1;32m   1195\u001b[0m     \u001b[0;32mdef\u001b[0m \u001b[0mread_bytes\u001b[0m\u001b[0;34m(\u001b[0m\u001b[0mself\u001b[0m\u001b[0;34m)\u001b[0m\u001b[0;34m:\u001b[0m\u001b[0;34m\u001b[0m\u001b[0;34m\u001b[0m\u001b[0m\n",
      "\u001b[0;32m~/apps/anaconda3/lib/python3.7/pathlib.py\u001b[0m in \u001b[0;36m_opener\u001b[0;34m(self, name, flags, mode)\u001b[0m\n\u001b[1;32m   1044\u001b[0m     \u001b[0;32mdef\u001b[0m \u001b[0m_opener\u001b[0m\u001b[0;34m(\u001b[0m\u001b[0mself\u001b[0m\u001b[0;34m,\u001b[0m \u001b[0mname\u001b[0m\u001b[0;34m,\u001b[0m \u001b[0mflags\u001b[0m\u001b[0;34m,\u001b[0m \u001b[0mmode\u001b[0m\u001b[0;34m=\u001b[0m\u001b[0;36m0o666\u001b[0m\u001b[0;34m)\u001b[0m\u001b[0;34m:\u001b[0m\u001b[0;34m\u001b[0m\u001b[0;34m\u001b[0m\u001b[0m\n\u001b[1;32m   1045\u001b[0m         \u001b[0;31m# A stub for the opener argument to built-in open()\u001b[0m\u001b[0;34m\u001b[0m\u001b[0;34m\u001b[0m\u001b[0;34m\u001b[0m\u001b[0m\n\u001b[0;32m-> 1046\u001b[0;31m         \u001b[0;32mreturn\u001b[0m \u001b[0mself\u001b[0m\u001b[0;34m.\u001b[0m\u001b[0m_accessor\u001b[0m\u001b[0;34m.\u001b[0m\u001b[0mopen\u001b[0m\u001b[0;34m(\u001b[0m\u001b[0mself\u001b[0m\u001b[0;34m,\u001b[0m \u001b[0mflags\u001b[0m\u001b[0;34m,\u001b[0m \u001b[0mmode\u001b[0m\u001b[0;34m)\u001b[0m\u001b[0;34m\u001b[0m\u001b[0;34m\u001b[0m\u001b[0m\n\u001b[0m\u001b[1;32m   1047\u001b[0m \u001b[0;34m\u001b[0m\u001b[0m\n\u001b[1;32m   1048\u001b[0m     \u001b[0;32mdef\u001b[0m \u001b[0m_raw_open\u001b[0m\u001b[0;34m(\u001b[0m\u001b[0mself\u001b[0m\u001b[0;34m,\u001b[0m \u001b[0mflags\u001b[0m\u001b[0;34m,\u001b[0m \u001b[0mmode\u001b[0m\u001b[0;34m=\u001b[0m\u001b[0;36m0o777\u001b[0m\u001b[0;34m)\u001b[0m\u001b[0;34m:\u001b[0m\u001b[0;34m\u001b[0m\u001b[0;34m\u001b[0m\u001b[0m\n",
      "\u001b[0;31mFileNotFoundError\u001b[0m: [Errno 2] No such file or directory: 'results/PCA/gaardian.3L.html'"
     ]
    }
   ],
   "source": [
    "\n",
    "# Run PCA on whole dataset together\n",
    "data, evr = run_pca(contig=contig, gt=snps, pos=pos, df_samples=metadata,\n",
    "    sample_sets=dataset, results_dir=results_dir\n",
    ")\n",
    "evr = evr.astype(\"float\").round(4) # round decimals for variance explained % \n",
    "\n",
    "plot_coords(data, evr, title=f\" PCA | {dataset} | {contig}\", filename=f\"results/PCA/{dataset}.{contig}.html\")\n",
    "\n",
    "fig = plt.figure(figsize=(10, 10))\n",
    "fig = sns.scatterplot('PC1','PC2', data=data, hue=pcaColumn)\n",
    "fig.legend(loc='center left', bbox_to_anchor=(1, 0.5))\n",
    "plt.title(f\"PCA | {dataset} | {contig}\", fontsize=14)\n",
    "plt.xlabel(f\"PC1 ({evr[0]*100} % variance explained)\", fontdict={\"fontsize\":14})\n",
    "plt.ylabel(f\"PC2 ({evr[1]*100} % variance explained)\", fontdict={\"fontsize\":14})\n",
    "plt.savefig(f\"results/PCA/{dataset}.{contig}.png\")"
   ]
  },
  {
   "cell_type": "code",
   "execution_count": 17,
   "metadata": {},
   "outputs": [
    {
     "data": {
      "text/plain": [
       "array([0.0227, 0.005 , 0.0046, 0.0039, 0.0038, 0.0037, 0.0036, 0.0035,\n",
       "       0.0034, 0.0034])"
      ]
     },
     "execution_count": 17,
     "metadata": {},
     "output_type": "execute_result"
    }
   ],
   "source": [
    "evr"
   ]
  },
  {
   "cell_type": "code",
   "execution_count": 21,
   "metadata": {},
   "outputs": [
    {
     "ename": "FileNotFoundError",
     "evalue": "[Errno 2] No such file or directory: 'results/PCA/gaardian.3L.png'",
     "output_type": "error",
     "traceback": [
      "\u001b[0;31m---------------------------------------------------------------------------\u001b[0m",
      "\u001b[0;31mFileNotFoundError\u001b[0m                         Traceback (most recent call last)",
      "\u001b[0;32m/tmp/ipykernel_13796/3057923766.py\u001b[0m in \u001b[0;36m<module>\u001b[0;34m\u001b[0m\n\u001b[1;32m      5\u001b[0m \u001b[0mplt\u001b[0m\u001b[0;34m.\u001b[0m\u001b[0mxlabel\u001b[0m\u001b[0;34m(\u001b[0m\u001b[0;34mf\"PC3 ({evr[2]*100} % variance explained)\"\u001b[0m\u001b[0;34m,\u001b[0m \u001b[0mfontdict\u001b[0m\u001b[0;34m=\u001b[0m\u001b[0;34m{\u001b[0m\u001b[0;34m\"fontsize\"\u001b[0m\u001b[0;34m:\u001b[0m\u001b[0;36m14\u001b[0m\u001b[0;34m}\u001b[0m\u001b[0;34m)\u001b[0m\u001b[0;34m\u001b[0m\u001b[0;34m\u001b[0m\u001b[0m\n\u001b[1;32m      6\u001b[0m \u001b[0mplt\u001b[0m\u001b[0;34m.\u001b[0m\u001b[0mylabel\u001b[0m\u001b[0;34m(\u001b[0m\u001b[0;34mf\"PC4 ({evr[3]*100} % variance explained)\"\u001b[0m\u001b[0;34m,\u001b[0m \u001b[0mfontdict\u001b[0m\u001b[0;34m=\u001b[0m\u001b[0;34m{\u001b[0m\u001b[0;34m\"fontsize\"\u001b[0m\u001b[0;34m:\u001b[0m\u001b[0;36m14\u001b[0m\u001b[0;34m}\u001b[0m\u001b[0;34m)\u001b[0m\u001b[0;34m\u001b[0m\u001b[0;34m\u001b[0m\u001b[0m\n\u001b[0;32m----> 7\u001b[0;31m \u001b[0mplt\u001b[0m\u001b[0;34m.\u001b[0m\u001b[0msavefig\u001b[0m\u001b[0;34m(\u001b[0m\u001b[0;34mf\"results/PCA/{dataset}.{contig}.png\"\u001b[0m\u001b[0;34m)\u001b[0m\u001b[0;34m\u001b[0m\u001b[0;34m\u001b[0m\u001b[0m\n\u001b[0m",
      "\u001b[0;32m~/apps/anaconda3/lib/python3.7/site-packages/matplotlib/pyplot.py\u001b[0m in \u001b[0;36msavefig\u001b[0;34m(*args, **kwargs)\u001b[0m\n\u001b[1;32m    956\u001b[0m \u001b[0;32mdef\u001b[0m \u001b[0msavefig\u001b[0m\u001b[0;34m(\u001b[0m\u001b[0;34m*\u001b[0m\u001b[0margs\u001b[0m\u001b[0;34m,\u001b[0m \u001b[0;34m**\u001b[0m\u001b[0mkwargs\u001b[0m\u001b[0;34m)\u001b[0m\u001b[0;34m:\u001b[0m\u001b[0;34m\u001b[0m\u001b[0;34m\u001b[0m\u001b[0m\n\u001b[1;32m    957\u001b[0m     \u001b[0mfig\u001b[0m \u001b[0;34m=\u001b[0m \u001b[0mgcf\u001b[0m\u001b[0;34m(\u001b[0m\u001b[0;34m)\u001b[0m\u001b[0;34m\u001b[0m\u001b[0;34m\u001b[0m\u001b[0m\n\u001b[0;32m--> 958\u001b[0;31m     \u001b[0mres\u001b[0m \u001b[0;34m=\u001b[0m \u001b[0mfig\u001b[0m\u001b[0;34m.\u001b[0m\u001b[0msavefig\u001b[0m\u001b[0;34m(\u001b[0m\u001b[0;34m*\u001b[0m\u001b[0margs\u001b[0m\u001b[0;34m,\u001b[0m \u001b[0;34m**\u001b[0m\u001b[0mkwargs\u001b[0m\u001b[0;34m)\u001b[0m\u001b[0;34m\u001b[0m\u001b[0;34m\u001b[0m\u001b[0m\n\u001b[0m\u001b[1;32m    959\u001b[0m     \u001b[0mfig\u001b[0m\u001b[0;34m.\u001b[0m\u001b[0mcanvas\u001b[0m\u001b[0;34m.\u001b[0m\u001b[0mdraw_idle\u001b[0m\u001b[0;34m(\u001b[0m\u001b[0;34m)\u001b[0m   \u001b[0;31m# need this if 'transparent=True' to reset colors\u001b[0m\u001b[0;34m\u001b[0m\u001b[0;34m\u001b[0m\u001b[0m\n\u001b[1;32m    960\u001b[0m     \u001b[0;32mreturn\u001b[0m \u001b[0mres\u001b[0m\u001b[0;34m\u001b[0m\u001b[0;34m\u001b[0m\u001b[0m\n",
      "\u001b[0;32m~/apps/anaconda3/lib/python3.7/site-packages/matplotlib/figure.py\u001b[0m in \u001b[0;36msavefig\u001b[0;34m(self, fname, transparent, **kwargs)\u001b[0m\n\u001b[1;32m   3017\u001b[0m                         ax.patch._cm_set(facecolor='none', edgecolor='none'))\n\u001b[1;32m   3018\u001b[0m \u001b[0;34m\u001b[0m\u001b[0m\n\u001b[0;32m-> 3019\u001b[0;31m             \u001b[0mself\u001b[0m\u001b[0;34m.\u001b[0m\u001b[0mcanvas\u001b[0m\u001b[0;34m.\u001b[0m\u001b[0mprint_figure\u001b[0m\u001b[0;34m(\u001b[0m\u001b[0mfname\u001b[0m\u001b[0;34m,\u001b[0m \u001b[0;34m**\u001b[0m\u001b[0mkwargs\u001b[0m\u001b[0;34m)\u001b[0m\u001b[0;34m\u001b[0m\u001b[0;34m\u001b[0m\u001b[0m\n\u001b[0m\u001b[1;32m   3020\u001b[0m \u001b[0;34m\u001b[0m\u001b[0m\n\u001b[1;32m   3021\u001b[0m     def ginput(self, n=1, timeout=30, show_clicks=True,\n",
      "\u001b[0;32m~/apps/anaconda3/lib/python3.7/site-packages/matplotlib/backend_bases.py\u001b[0m in \u001b[0;36mprint_figure\u001b[0;34m(self, filename, dpi, facecolor, edgecolor, orientation, format, bbox_inches, pad_inches, bbox_extra_artists, backend, **kwargs)\u001b[0m\n\u001b[1;32m   2323\u001b[0m                         \u001b[0morientation\u001b[0m\u001b[0;34m=\u001b[0m\u001b[0morientation\u001b[0m\u001b[0;34m,\u001b[0m\u001b[0;34m\u001b[0m\u001b[0;34m\u001b[0m\u001b[0m\n\u001b[1;32m   2324\u001b[0m                         \u001b[0mbbox_inches_restore\u001b[0m\u001b[0;34m=\u001b[0m\u001b[0m_bbox_inches_restore\u001b[0m\u001b[0;34m,\u001b[0m\u001b[0;34m\u001b[0m\u001b[0;34m\u001b[0m\u001b[0m\n\u001b[0;32m-> 2325\u001b[0;31m                         **kwargs)\n\u001b[0m\u001b[1;32m   2326\u001b[0m             \u001b[0;32mfinally\u001b[0m\u001b[0;34m:\u001b[0m\u001b[0;34m\u001b[0m\u001b[0;34m\u001b[0m\u001b[0m\n\u001b[1;32m   2327\u001b[0m                 \u001b[0;32mif\u001b[0m \u001b[0mbbox_inches\u001b[0m \u001b[0;32mand\u001b[0m \u001b[0mrestore_bbox\u001b[0m\u001b[0;34m:\u001b[0m\u001b[0;34m\u001b[0m\u001b[0;34m\u001b[0m\u001b[0m\n",
      "\u001b[0;32m~/apps/anaconda3/lib/python3.7/site-packages/matplotlib/backend_bases.py\u001b[0m in \u001b[0;36mwrapper\u001b[0;34m(*args, **kwargs)\u001b[0m\n\u001b[1;32m   1646\u001b[0m             \u001b[0mkwargs\u001b[0m\u001b[0;34m.\u001b[0m\u001b[0mpop\u001b[0m\u001b[0;34m(\u001b[0m\u001b[0marg\u001b[0m\u001b[0;34m)\u001b[0m\u001b[0;34m\u001b[0m\u001b[0;34m\u001b[0m\u001b[0m\n\u001b[1;32m   1647\u001b[0m \u001b[0;34m\u001b[0m\u001b[0m\n\u001b[0;32m-> 1648\u001b[0;31m         \u001b[0;32mreturn\u001b[0m \u001b[0mfunc\u001b[0m\u001b[0;34m(\u001b[0m\u001b[0;34m*\u001b[0m\u001b[0margs\u001b[0m\u001b[0;34m,\u001b[0m \u001b[0;34m**\u001b[0m\u001b[0mkwargs\u001b[0m\u001b[0;34m)\u001b[0m\u001b[0;34m\u001b[0m\u001b[0;34m\u001b[0m\u001b[0m\n\u001b[0m\u001b[1;32m   1649\u001b[0m \u001b[0;34m\u001b[0m\u001b[0m\n\u001b[1;32m   1650\u001b[0m     \u001b[0;32mreturn\u001b[0m \u001b[0mwrapper\u001b[0m\u001b[0;34m\u001b[0m\u001b[0;34m\u001b[0m\u001b[0m\n",
      "\u001b[0;32m~/apps/anaconda3/lib/python3.7/site-packages/matplotlib/_api/deprecation.py\u001b[0m in \u001b[0;36mwrapper\u001b[0;34m(*inner_args, **inner_kwargs)\u001b[0m\n\u001b[1;32m    410\u001b[0m                          \u001b[0;32melse\u001b[0m \u001b[0mdeprecation_addendum\u001b[0m\u001b[0;34m,\u001b[0m\u001b[0;34m\u001b[0m\u001b[0;34m\u001b[0m\u001b[0m\n\u001b[1;32m    411\u001b[0m                 **kwargs)\n\u001b[0;32m--> 412\u001b[0;31m         \u001b[0;32mreturn\u001b[0m \u001b[0mfunc\u001b[0m\u001b[0;34m(\u001b[0m\u001b[0;34m*\u001b[0m\u001b[0minner_args\u001b[0m\u001b[0;34m,\u001b[0m \u001b[0;34m**\u001b[0m\u001b[0minner_kwargs\u001b[0m\u001b[0;34m)\u001b[0m\u001b[0;34m\u001b[0m\u001b[0;34m\u001b[0m\u001b[0m\n\u001b[0m\u001b[1;32m    413\u001b[0m \u001b[0;34m\u001b[0m\u001b[0m\n\u001b[1;32m    414\u001b[0m     \u001b[0mDECORATORS\u001b[0m\u001b[0;34m[\u001b[0m\u001b[0mwrapper\u001b[0m\u001b[0;34m]\u001b[0m \u001b[0;34m=\u001b[0m \u001b[0mdecorator\u001b[0m\u001b[0;34m\u001b[0m\u001b[0;34m\u001b[0m\u001b[0m\n",
      "\u001b[0;32m~/apps/anaconda3/lib/python3.7/site-packages/matplotlib/backends/backend_agg.py\u001b[0m in \u001b[0;36mprint_png\u001b[0;34m(self, filename_or_obj, metadata, pil_kwargs, *args)\u001b[0m\n\u001b[1;32m    541\u001b[0m         mpl.image.imsave(\n\u001b[1;32m    542\u001b[0m             \u001b[0mfilename_or_obj\u001b[0m\u001b[0;34m,\u001b[0m \u001b[0mself\u001b[0m\u001b[0;34m.\u001b[0m\u001b[0mbuffer_rgba\u001b[0m\u001b[0;34m(\u001b[0m\u001b[0;34m)\u001b[0m\u001b[0;34m,\u001b[0m \u001b[0mformat\u001b[0m\u001b[0;34m=\u001b[0m\u001b[0;34m\"png\"\u001b[0m\u001b[0;34m,\u001b[0m \u001b[0morigin\u001b[0m\u001b[0;34m=\u001b[0m\u001b[0;34m\"upper\"\u001b[0m\u001b[0;34m,\u001b[0m\u001b[0;34m\u001b[0m\u001b[0;34m\u001b[0m\u001b[0m\n\u001b[0;32m--> 543\u001b[0;31m             dpi=self.figure.dpi, metadata=metadata, pil_kwargs=pil_kwargs)\n\u001b[0m\u001b[1;32m    544\u001b[0m \u001b[0;34m\u001b[0m\u001b[0m\n\u001b[1;32m    545\u001b[0m     \u001b[0;32mdef\u001b[0m \u001b[0mprint_to_buffer\u001b[0m\u001b[0;34m(\u001b[0m\u001b[0mself\u001b[0m\u001b[0;34m)\u001b[0m\u001b[0;34m:\u001b[0m\u001b[0;34m\u001b[0m\u001b[0;34m\u001b[0m\u001b[0m\n",
      "\u001b[0;32m~/apps/anaconda3/lib/python3.7/site-packages/matplotlib/image.py\u001b[0m in \u001b[0;36mimsave\u001b[0;34m(fname, arr, vmin, vmax, cmap, format, origin, dpi, metadata, pil_kwargs)\u001b[0m\n\u001b[1;32m   1673\u001b[0m         \u001b[0mpil_kwargs\u001b[0m\u001b[0;34m.\u001b[0m\u001b[0msetdefault\u001b[0m\u001b[0;34m(\u001b[0m\u001b[0;34m\"format\"\u001b[0m\u001b[0;34m,\u001b[0m \u001b[0mformat\u001b[0m\u001b[0;34m)\u001b[0m\u001b[0;34m\u001b[0m\u001b[0;34m\u001b[0m\u001b[0m\n\u001b[1;32m   1674\u001b[0m         \u001b[0mpil_kwargs\u001b[0m\u001b[0;34m.\u001b[0m\u001b[0msetdefault\u001b[0m\u001b[0;34m(\u001b[0m\u001b[0;34m\"dpi\"\u001b[0m\u001b[0;34m,\u001b[0m \u001b[0;34m(\u001b[0m\u001b[0mdpi\u001b[0m\u001b[0;34m,\u001b[0m \u001b[0mdpi\u001b[0m\u001b[0;34m)\u001b[0m\u001b[0;34m)\u001b[0m\u001b[0;34m\u001b[0m\u001b[0;34m\u001b[0m\u001b[0m\n\u001b[0;32m-> 1675\u001b[0;31m         \u001b[0mimage\u001b[0m\u001b[0;34m.\u001b[0m\u001b[0msave\u001b[0m\u001b[0;34m(\u001b[0m\u001b[0mfname\u001b[0m\u001b[0;34m,\u001b[0m \u001b[0;34m**\u001b[0m\u001b[0mpil_kwargs\u001b[0m\u001b[0;34m)\u001b[0m\u001b[0;34m\u001b[0m\u001b[0;34m\u001b[0m\u001b[0m\n\u001b[0m\u001b[1;32m   1676\u001b[0m \u001b[0;34m\u001b[0m\u001b[0m\n\u001b[1;32m   1677\u001b[0m \u001b[0;34m\u001b[0m\u001b[0m\n",
      "\u001b[0;32m~/apps/anaconda3/lib/python3.7/site-packages/PIL/Image.py\u001b[0m in \u001b[0;36msave\u001b[0;34m(self, fp, format, **params)\u001b[0m\n\u001b[1;32m   2167\u001b[0m                 \u001b[0mfp\u001b[0m \u001b[0;34m=\u001b[0m \u001b[0mbuiltins\u001b[0m\u001b[0;34m.\u001b[0m\u001b[0mopen\u001b[0m\u001b[0;34m(\u001b[0m\u001b[0mfilename\u001b[0m\u001b[0;34m,\u001b[0m \u001b[0;34m\"r+b\"\u001b[0m\u001b[0;34m)\u001b[0m\u001b[0;34m\u001b[0m\u001b[0;34m\u001b[0m\u001b[0m\n\u001b[1;32m   2168\u001b[0m             \u001b[0;32melse\u001b[0m\u001b[0;34m:\u001b[0m\u001b[0;34m\u001b[0m\u001b[0;34m\u001b[0m\u001b[0m\n\u001b[0;32m-> 2169\u001b[0;31m                 \u001b[0mfp\u001b[0m \u001b[0;34m=\u001b[0m \u001b[0mbuiltins\u001b[0m\u001b[0;34m.\u001b[0m\u001b[0mopen\u001b[0m\u001b[0;34m(\u001b[0m\u001b[0mfilename\u001b[0m\u001b[0;34m,\u001b[0m \u001b[0;34m\"w+b\"\u001b[0m\u001b[0;34m)\u001b[0m\u001b[0;34m\u001b[0m\u001b[0;34m\u001b[0m\u001b[0m\n\u001b[0m\u001b[1;32m   2170\u001b[0m \u001b[0;34m\u001b[0m\u001b[0m\n\u001b[1;32m   2171\u001b[0m         \u001b[0;32mtry\u001b[0m\u001b[0;34m:\u001b[0m\u001b[0;34m\u001b[0m\u001b[0;34m\u001b[0m\u001b[0m\n",
      "\u001b[0;31mFileNotFoundError\u001b[0m: [Errno 2] No such file or directory: 'results/PCA/gaardian.3L.png'"
     ]
    },
    {
     "data": {
      "image/png": "[encoded data removed]",
      "text/plain": [
       "<Figure size 720x720 with 1 Axes>"
      ]
     },
     "metadata": {
      "needs_background": "light"
     },
     "output_type": "display_data"
    }
   ],
   "source": [
    "fig = plt.figure(figsize=(10, 10))\n",
    "fig = sns.scatterplot(x='PC3',y='PC4', data=data, hue='species_gambiae_coluzzii')\n",
    "fig.legend(loc='center left', bbox_to_anchor=(1, 0.5))\n",
    "plt.title(f\"PCA | {dataset} | {contig}\", fontsize=14)\n",
    "plt.xlabel(f\"PC3 ({evr[2]*100} % variance explained)\", fontdict={\"fontsize\":14})\n",
    "plt.ylabel(f\"PC4 ({evr[3]*100} % variance explained)\", fontdict={\"fontsize\":14})\n",
    "plt.savefig(f\"results/PCA/{dataset}.{contig}.png\")"
   ]
  },
  {
   "cell_type": "code",
   "execution_count": null,
   "metadata": {},
   "outputs": [],
   "source": []
  }
 ],
 "metadata": {
  "interpreter": {
   "hash": "710100144729ec1057471750b60f3250df4296be7eb29e7e87fec32ed718ec4b"
  },
  "kernelspec": {
   "display_name": "Python 3.7.4 ('base')",
   "language": "python",
   "name": "python3"
  },
  "language_info": {
   "codemirror_mode": {
    "name": "ipython",
    "version": 3
   },
   "file_extension": ".py",
   "mimetype": "text/x-python",
   "name": "python",
   "nbconvert_exporter": "python",
   "pygments_lexer": "ipython3",
   "version": "3.7.4"
  },
  "orig_nbformat": 4
 },
 "nbformat": 4,
 "nbformat_minor": 2
}
