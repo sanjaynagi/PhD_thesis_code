{
 "cells": [
  {
   "cell_type": "code",
   "execution_count": 1,
   "id": "3d5af0e3",
   "metadata": {},
   "outputs": [],
   "source": [
    "import sys\n",
    "import probe as probe\n",
    "\n",
    "import malariagen_data\n",
    "import numpy as np\n",
    "import pandas as pd\n",
    "import allel"
   ]
  },
  {
   "cell_type": "markdown",
   "id": "ed0a14e0",
   "metadata": {},
   "source": [
    "### Creating synthetic relatives to test KING with\n",
    "\n",
    "- Need to sample across whole genome - recombination breaks should be calculated across chromosomal arms (2l+2r), however, we cannot phase across chromosomal arm boundaries... can we?? and does this matter?\n",
    "- What to do with the X?\n",
    "- Do we need a female parent and a male parent?\n",
    "- Are the X's haploid / homozygous in ag1000g males?\n",
    "\n",
    "- I need to select parents \n",
    "- Each parent has two offspring, store haps and relationship"
   ]
  },
  {
   "cell_type": "code",
   "execution_count": 9,
   "id": "45b920f5",
   "metadata": {},
   "outputs": [
    {
     "data": {
      "application/javascript": [
       "(function(root) {\n",
       "  function now() {\n",
       "    return new Date();\n",
       "  }\n",
       "\n",
       "  const force = true;\n",
       "\n",
       "  if (typeof root._bokeh_onload_callbacks === \"undefined\" || force === true) {\n",
       "    root._bokeh_onload_callbacks = [];\n",
       "    root._bokeh_is_loading = undefined;\n",
       "  }\n",
       "\n",
       "const JS_MIME_TYPE = 'application/javascript';\n",
       "  const HTML_MIME_TYPE = 'text/html';\n",
       "  const EXEC_MIME_TYPE = 'application/vnd.bokehjs_exec.v0+json';\n",
       "  const CLASS_NAME = 'output_bokeh rendered_html';\n",
       "\n",
       "  /**\n",
       "   * Render data to the DOM node\n",
       "   */\n",
       "  function render(props, node) {\n",
       "    const script = document.createElement(\"script\");\n",
       "    node.appendChild(script);\n",
       "  }\n",
       "\n",
       "  /**\n",
       "   * Handle when an output is cleared or removed\n",
       "   */\n",
       "  function handleClearOutput(event, handle) {\n",
       "    const cell = handle.cell;\n",
       "\n",
       "    const id = cell.output_area._bokeh_element_id;\n",
       "    const server_id = cell.output_area._bokeh_server_id;\n",
       "    // Clean up Bokeh references\n",
       "    if (id != null && id in Bokeh.index) {\n",
       "      Bokeh.index[id].model.document.clear();\n",
       "      delete Bokeh.index[id];\n",
       "    }\n",
       "\n",
       "    if (server_id !== undefined) {\n",
       "      // Clean up Bokeh references\n",
       "      const cmd_clean = \"from bokeh.io.state import curstate; print(curstate().uuid_to_server['\" + server_id + \"'].get_sessions()[0].document.roots[0]._id)\";\n",
       "      cell.notebook.kernel.execute(cmd_clean, {\n",
       "        iopub: {\n",
       "          output: function(msg) {\n",
       "            const id = msg.content.text.trim();\n",
       "            if (id in Bokeh.index) {\n",
       "              Bokeh.index[id].model.document.clear();\n",
       "              delete Bokeh.index[id];\n",
       "            }\n",
       "          }\n",
       "        }\n",
       "      });\n",
       "      // Destroy server and session\n",
       "      const cmd_destroy = \"import bokeh.io.notebook as ion; ion.destroy_server('\" + server_id + \"')\";\n",
       "      cell.notebook.kernel.execute(cmd_destroy);\n",
       "    }\n",
       "  }\n",
       "\n",
       "  /**\n",
       "   * Handle when a new output is added\n",
       "   */\n",
       "  function handleAddOutput(event, handle) {\n",
       "    const output_area = handle.output_area;\n",
       "    const output = handle.output;\n",
       "\n",
       "    // limit handleAddOutput to display_data with EXEC_MIME_TYPE content only\n",
       "    if ((output.output_type != \"display_data\") || (!Object.prototype.hasOwnProperty.call(output.data, EXEC_MIME_TYPE))) {\n",
       "      return\n",
       "    }\n",
       "\n",
       "    const toinsert = output_area.element.find(\".\" + CLASS_NAME.split(' ')[0]);\n",
       "\n",
       "    if (output.metadata[EXEC_MIME_TYPE][\"id\"] !== undefined) {\n",
       "      toinsert[toinsert.length - 1].firstChild.textContent = output.data[JS_MIME_TYPE];\n",
       "      // store reference to embed id on output_area\n",
       "      output_area._bokeh_element_id = output.metadata[EXEC_MIME_TYPE][\"id\"];\n",
       "    }\n",
       "    if (output.metadata[EXEC_MIME_TYPE][\"server_id\"] !== undefined) {\n",
       "      const bk_div = document.createElement(\"div\");\n",
       "      bk_div.innerHTML = output.data[HTML_MIME_TYPE];\n",
       "      const script_attrs = bk_div.children[0].attributes;\n",
       "      for (let i = 0; i < script_attrs.length; i++) {\n",
       "        toinsert[toinsert.length - 1].firstChild.setAttribute(script_attrs[i].name, script_attrs[i].value);\n",
       "        toinsert[toinsert.length - 1].firstChild.textContent = bk_div.children[0].textContent\n",
       "      }\n",
       "      // store reference to server id on output_area\n",
       "      output_area._bokeh_server_id = output.metadata[EXEC_MIME_TYPE][\"server_id\"];\n",
       "    }\n",
       "  }\n",
       "\n",
       "  function register_renderer(events, OutputArea) {\n",
       "\n",
       "    function append_mime(data, metadata, element) {\n",
       "      // create a DOM node to render to\n",
       "      const toinsert = this.create_output_subarea(\n",
       "        metadata,\n",
       "        CLASS_NAME,\n",
       "        EXEC_MIME_TYPE\n",
       "      );\n",
       "      this.keyboard_manager.register_events(toinsert);\n",
       "      // Render to node\n",
       "      const props = {data: data, metadata: metadata[EXEC_MIME_TYPE]};\n",
       "      render(props, toinsert[toinsert.length - 1]);\n",
       "      element.append(toinsert);\n",
       "      return toinsert\n",
       "    }\n",
       "\n",
       "    /* Handle when an output is cleared or removed */\n",
       "    events.on('clear_output.CodeCell', handleClearOutput);\n",
       "    events.on('delete.Cell', handleClearOutput);\n",
       "\n",
       "    /* Handle when a new output is added */\n",
       "    events.on('output_added.OutputArea', handleAddOutput);\n",
       "\n",
       "    /**\n",
       "     * Register the mime type and append_mime function with output_area\n",
       "     */\n",
       "    OutputArea.prototype.register_mime_type(EXEC_MIME_TYPE, append_mime, {\n",
       "      /* Is output safe? */\n",
       "      safe: true,\n",
       "      /* Index of renderer in `output_area.display_order` */\n",
       "      index: 0\n",
       "    });\n",
       "  }\n",
       "\n",
       "  // register the mime type if in Jupyter Notebook environment and previously unregistered\n",
       "  if (root.Jupyter !== undefined) {\n",
       "    const events = require('base/js/events');\n",
       "    const OutputArea = require('notebook/js/outputarea').OutputArea;\n",
       "\n",
       "    if (OutputArea.prototype.mime_types().indexOf(EXEC_MIME_TYPE) == -1) {\n",
       "      register_renderer(events, OutputArea);\n",
       "    }\n",
       "  }\n",
       "  if (typeof (root._bokeh_timeout) === \"undefined\" || force === true) {\n",
       "    root._bokeh_timeout = Date.now() + 5000;\n",
       "    root._bokeh_failed_load = false;\n",
       "  }\n",
       "\n",
       "  const NB_LOAD_WARNING = {'data': {'text/html':\n",
       "     \"<div style='background-color: #fdd'>\\n\"+\n",
       "     \"<p>\\n\"+\n",
       "     \"BokehJS does not appear to have successfully loaded. If loading BokehJS from CDN, this \\n\"+\n",
       "     \"may be due to a slow or bad network connection. Possible fixes:\\n\"+\n",
       "     \"</p>\\n\"+\n",
       "     \"<ul>\\n\"+\n",
       "     \"<li>re-rerun `output_notebook()` to attempt to load from CDN again, or</li>\\n\"+\n",
       "     \"<li>use INLINE resources instead, as so:</li>\\n\"+\n",
       "     \"</ul>\\n\"+\n",
       "     \"<code>\\n\"+\n",
       "     \"from bokeh.resources import INLINE\\n\"+\n",
       "     \"output_notebook(resources=INLINE)\\n\"+\n",
       "     \"</code>\\n\"+\n",
       "     \"</div>\"}};\n",
       "\n",
       "  function display_loaded() {\n",
       "    const el = document.getElementById(null);\n",
       "    if (el != null) {\n",
       "      el.textContent = \"BokehJS is loading...\";\n",
       "    }\n",
       "    if (root.Bokeh !== undefined) {\n",
       "      if (el != null) {\n",
       "        el.textContent = \"BokehJS \" + root.Bokeh.version + \" successfully loaded.\";\n",
       "      }\n",
       "    } else if (Date.now() < root._bokeh_timeout) {\n",
       "      setTimeout(display_loaded, 100)\n",
       "    }\n",
       "  }\n",
       "\n",
       "  function run_callbacks() {\n",
       "    try {\n",
       "      root._bokeh_onload_callbacks.forEach(function(callback) {\n",
       "        if (callback != null)\n",
       "          callback();\n",
       "      });\n",
       "    } finally {\n",
       "      delete root._bokeh_onload_callbacks\n",
       "    }\n",
       "    console.debug(\"Bokeh: all callbacks have finished\");\n",
       "  }\n",
       "\n",
       "  function load_libs(css_urls, js_urls, callback) {\n",
       "    if (css_urls == null) css_urls = [];\n",
       "    if (js_urls == null) js_urls = [];\n",
       "\n",
       "    root._bokeh_onload_callbacks.push(callback);\n",
       "    if (root._bokeh_is_loading > 0) {\n",
       "      console.debug(\"Bokeh: BokehJS is being loaded, scheduling callback at\", now());\n",
       "      return null;\n",
       "    }\n",
       "    if (js_urls == null || js_urls.length === 0) {\n",
       "      run_callbacks();\n",
       "      return null;\n",
       "    }\n",
       "    console.debug(\"Bokeh: BokehJS not loaded, scheduling load and callback at\", now());\n",
       "    root._bokeh_is_loading = css_urls.length + js_urls.length;\n",
       "\n",
       "    function on_load() {\n",
       "      root._bokeh_is_loading--;\n",
       "      if (root._bokeh_is_loading === 0) {\n",
       "        console.debug(\"Bokeh: all BokehJS libraries/stylesheets loaded\");\n",
       "        run_callbacks()\n",
       "      }\n",
       "    }\n",
       "\n",
       "    function on_error(url) {\n",
       "      console.error(\"failed to load \" + url);\n",
       "    }\n",
       "\n",
       "    for (let i = 0; i < css_urls.length; i++) {\n",
       "      const url = css_urls[i];\n",
       "      const element = document.createElement(\"link\");\n",
       "      element.onload = on_load;\n",
       "      element.onerror = on_error.bind(null, url);\n",
       "      element.rel = \"stylesheet\";\n",
       "      element.type = \"text/css\";\n",
       "      element.href = url;\n",
       "      console.debug(\"Bokeh: injecting link tag for BokehJS stylesheet: \", url);\n",
       "      document.body.appendChild(element);\n",
       "    }\n",
       "\n",
       "    for (let i = 0; i < js_urls.length; i++) {\n",
       "      const url = js_urls[i];\n",
       "      const element = document.createElement('script');\n",
       "      element.onload = on_load;\n",
       "      element.onerror = on_error.bind(null, url);\n",
       "      element.async = false;\n",
       "      element.src = url;\n",
       "      console.debug(\"Bokeh: injecting script tag for BokehJS library: \", url);\n",
       "      document.head.appendChild(element);\n",
       "    }\n",
       "  };\n",
       "\n",
       "  function inject_raw_css(css) {\n",
       "    const element = document.createElement(\"style\");\n",
       "    element.appendChild(document.createTextNode(css));\n",
       "    document.body.appendChild(element);\n",
       "  }\n",
       "\n",
       "  const js_urls = [\"https://cdn.bokeh.org/bokeh/release/bokeh-2.4.3.min.js\", \"https://cdn.bokeh.org/bokeh/release/bokeh-gl-2.4.3.min.js\", \"https://cdn.bokeh.org/bokeh/release/bokeh-widgets-2.4.3.min.js\", \"https://cdn.bokeh.org/bokeh/release/bokeh-tables-2.4.3.min.js\", \"https://cdn.bokeh.org/bokeh/release/bokeh-mathjax-2.4.3.min.js\"];\n",
       "  const css_urls = [];\n",
       "\n",
       "  const inline_js = [    function(Bokeh) {\n",
       "      Bokeh.set_log_level(\"info\");\n",
       "    },\n",
       "function(Bokeh) {\n",
       "    }\n",
       "  ];\n",
       "\n",
       "  function run_inline_js() {\n",
       "    if (root.Bokeh !== undefined || force === true) {\n",
       "          for (let i = 0; i < inline_js.length; i++) {\n",
       "      inline_js[i].call(root, root.Bokeh);\n",
       "    }\n",
       "} else if (Date.now() < root._bokeh_timeout) {\n",
       "      setTimeout(run_inline_js, 100);\n",
       "    } else if (!root._bokeh_failed_load) {\n",
       "      console.log(\"Bokeh: BokehJS failed to load within specified timeout.\");\n",
       "      root._bokeh_failed_load = true;\n",
       "    } else if (force !== true) {\n",
       "      const cell = $(document.getElementById(null)).parents('.cell').data().cell;\n",
       "      cell.output_area.append_execute_result(NB_LOAD_WARNING)\n",
       "    }\n",
       "  }\n",
       "\n",
       "  if (root._bokeh_is_loading === 0) {\n",
       "    console.debug(\"Bokeh: BokehJS loaded, going straight to plotting\");\n",
       "    run_inline_js();\n",
       "  } else {\n",
       "    load_libs(css_urls, js_urls, function() {\n",
       "      console.debug(\"Bokeh: BokehJS plotting callback run at\", now());\n",
       "      run_inline_js();\n",
       "    });\n",
       "  }\n",
       "}(window));"
      ],
      "application/vnd.bokehjs_load.v0+json": "(function(root) {\n  function now() {\n    return new Date();\n  }\n\n  const force = true;\n\n  if (typeof root._bokeh_onload_callbacks === \"undefined\" || force === true) {\n    root._bokeh_onload_callbacks = [];\n    root._bokeh_is_loading = undefined;\n  }\n\n\n  if (typeof (root._bokeh_timeout) === \"undefined\" || force === true) {\n    root._bokeh_timeout = Date.now() + 5000;\n    root._bokeh_failed_load = false;\n  }\n\n  const NB_LOAD_WARNING = {'data': {'text/html':\n     \"<div style='background-color: #fdd'>\\n\"+\n     \"<p>\\n\"+\n     \"BokehJS does not appear to have successfully loaded. If loading BokehJS from CDN, this \\n\"+\n     \"may be due to a slow or bad network connection. Possible fixes:\\n\"+\n     \"</p>\\n\"+\n     \"<ul>\\n\"+\n     \"<li>re-rerun `output_notebook()` to attempt to load from CDN again, or</li>\\n\"+\n     \"<li>use INLINE resources instead, as so:</li>\\n\"+\n     \"</ul>\\n\"+\n     \"<code>\\n\"+\n     \"from bokeh.resources import INLINE\\n\"+\n     \"output_notebook(resources=INLINE)\\n\"+\n     \"</code>\\n\"+\n     \"</div>\"}};\n\n  function display_loaded() {\n    const el = document.getElementById(null);\n    if (el != null) {\n      el.textContent = \"BokehJS is loading...\";\n    }\n    if (root.Bokeh !== undefined) {\n      if (el != null) {\n        el.textContent = \"BokehJS \" + root.Bokeh.version + \" successfully loaded.\";\n      }\n    } else if (Date.now() < root._bokeh_timeout) {\n      setTimeout(display_loaded, 100)\n    }\n  }\n\n  function run_callbacks() {\n    try {\n      root._bokeh_onload_callbacks.forEach(function(callback) {\n        if (callback != null)\n          callback();\n      });\n    } finally {\n      delete root._bokeh_onload_callbacks\n    }\n    console.debug(\"Bokeh: all callbacks have finished\");\n  }\n\n  function load_libs(css_urls, js_urls, callback) {\n    if (css_urls == null) css_urls = [];\n    if (js_urls == null) js_urls = [];\n\n    root._bokeh_onload_callbacks.push(callback);\n    if (root._bokeh_is_loading > 0) {\n      console.debug(\"Bokeh: BokehJS is being loaded, scheduling callback at\", now());\n      return null;\n    }\n    if (js_urls == null || js_urls.length === 0) {\n      run_callbacks();\n      return null;\n    }\n    console.debug(\"Bokeh: BokehJS not loaded, scheduling load and callback at\", now());\n    root._bokeh_is_loading = css_urls.length + js_urls.length;\n\n    function on_load() {\n      root._bokeh_is_loading--;\n      if (root._bokeh_is_loading === 0) {\n        console.debug(\"Bokeh: all BokehJS libraries/stylesheets loaded\");\n        run_callbacks()\n      }\n    }\n\n    function on_error(url) {\n      console.error(\"failed to load \" + url);\n    }\n\n    for (let i = 0; i < css_urls.length; i++) {\n      const url = css_urls[i];\n      const element = document.createElement(\"link\");\n      element.onload = on_load;\n      element.onerror = on_error.bind(null, url);\n      element.rel = \"stylesheet\";\n      element.type = \"text/css\";\n      element.href = url;\n      console.debug(\"Bokeh: injecting link tag for BokehJS stylesheet: \", url);\n      document.body.appendChild(element);\n    }\n\n    for (let i = 0; i < js_urls.length; i++) {\n      const url = js_urls[i];\n      const element = document.createElement('script');\n      element.onload = on_load;\n      element.onerror = on_error.bind(null, url);\n      element.async = false;\n      element.src = url;\n      console.debug(\"Bokeh: injecting script tag for BokehJS library: \", url);\n      document.head.appendChild(element);\n    }\n  };\n\n  function inject_raw_css(css) {\n    const element = document.createElement(\"style\");\n    element.appendChild(document.createTextNode(css));\n    document.body.appendChild(element);\n  }\n\n  const js_urls = [\"https://cdn.bokeh.org/bokeh/release/bokeh-2.4.3.min.js\", \"https://cdn.bokeh.org/bokeh/release/bokeh-gl-2.4.3.min.js\", \"https://cdn.bokeh.org/bokeh/release/bokeh-widgets-2.4.3.min.js\", \"https://cdn.bokeh.org/bokeh/release/bokeh-tables-2.4.3.min.js\", \"https://cdn.bokeh.org/bokeh/release/bokeh-mathjax-2.4.3.min.js\"];\n  const css_urls = [];\n\n  const inline_js = [    function(Bokeh) {\n      Bokeh.set_log_level(\"info\");\n    },\nfunction(Bokeh) {\n    }\n  ];\n\n  function run_inline_js() {\n    if (root.Bokeh !== undefined || force === true) {\n          for (let i = 0; i < inline_js.length; i++) {\n      inline_js[i].call(root, root.Bokeh);\n    }\n} else if (Date.now() < root._bokeh_timeout) {\n      setTimeout(run_inline_js, 100);\n    } else if (!root._bokeh_failed_load) {\n      console.log(\"Bokeh: BokehJS failed to load within specified timeout.\");\n      root._bokeh_failed_load = true;\n    } else if (force !== true) {\n      const cell = $(document.getElementById(null)).parents('.cell').data().cell;\n      cell.output_area.append_execute_result(NB_LOAD_WARNING)\n    }\n  }\n\n  if (root._bokeh_is_loading === 0) {\n    console.debug(\"Bokeh: BokehJS loaded, going straight to plotting\");\n    run_inline_js();\n  } else {\n    load_libs(css_urls, js_urls, function() {\n      console.debug(\"Bokeh: BokehJS plotting callback run at\", now());\n      run_inline_js();\n    });\n  }\n}(window));"
     },
     "metadata": {},
     "output_type": "display_data"
    }
   ],
   "source": [
    "ag3 = malariagen_data.Ag3()"
   ]
  },
  {
   "cell_type": "code",
   "execution_count": 7,
   "id": "9f3baa26",
   "metadata": {},
   "outputs": [],
   "source": [
    "cohort = 'AG1000G-GH'"
   ]
  },
  {
   "cell_type": "code",
   "execution_count": 5,
   "id": "3d460428",
   "metadata": {},
   "outputs": [
    {
     "data": {
      "application/vnd.jupyter.widget-view+json": {
       "model_id": "62ebf0985a134dbb9a3b76beb6cfbc3d",
       "version_major": 2,
       "version_minor": 0
      },
      "text/plain": [
       "Load sample metadata:   0%|          | 0/1 [00:00<?, ?it/s]"
      ]
     },
     "metadata": {},
     "output_type": "display_data"
    }
   ],
   "source": [
    "snps = ag3.haplotypes(region='2R', sample_sets=cohort, analysis='gamb_colu')\n",
    "pos = ag3.snp_sites('2R', 'POS').compute()\n",
    "meta = ag3.sample_metadata(cohort)"
   ]
  },
  {
   "cell_type": "code",
   "execution_count": 6,
   "id": "7b7d5e0a",
   "metadata": {},
   "outputs": [],
   "source": [
    "meta = snps['sample_id']"
   ]
  },
  {
   "cell_type": "code",
   "execution_count": 7,
   "id": "97efbfa3",
   "metadata": {},
   "outputs": [],
   "source": [
    "parents = snps['call_genotype'][:,:2, :].compute()"
   ]
  },
  {
   "cell_type": "code",
   "execution_count": 2,
   "id": "4a8a84e9",
   "metadata": {},
   "outputs": [],
   "source": [
    "def get_recomb_breakpoints(pos, recomb_rate, verbose=False):\n",
    "    end = pos[-1]\n",
    "    arr = np.random.binomial(1, p=10**-8, size=end)\n",
    "    if arr.sum() > 0:\n",
    "        idx = np.where(arr)[0]\n",
    "        print(f\"there are {arr.sum()} recombinations\") if verbose else []\n",
    "    else:\n",
    "        print(f\"there are 0 recombinations\") if verbose else []\n",
    "        idx = []\n",
    "    \n",
    "    return(idx)"
   ]
  },
  {
   "cell_type": "code",
   "execution_count": 9,
   "id": "25adb73e",
   "metadata": {},
   "outputs": [],
   "source": [
    "def concat_haplotypes(breaks, parents, parent_idx, end):\n",
    "    parent_chromosome = np.random.randint(2)\n",
    "    \n",
    "    if len(breaks) == 0:\n",
    "        haplo1 = parents[:, parent_idx, parent_chromosome]\n",
    "    else:\n",
    "        haplo1 = np.array([])\n",
    "        newbreaks = np.concatenate([[0], breaks, [end]])\n",
    "        breaks = np.concatenate([breaks, [end]])\n",
    "        for idx, breaks in enumerate(breaks):\n",
    "            if (idx % 2) == 1:\n",
    "                parent_chromosome = 1 if parent_chromosome == 0 else 0\n",
    "            hap = parents[newbreaks[idx]:newbreaks[idx+1], parent_idx, parent_chromosome]\n",
    "            haplo1 = np.concatenate([haplo1, hap])\n",
    "    return(haplo1)"
   ]
  },
  {
   "cell_type": "code",
   "execution_count": 10,
   "id": "677bb5e7",
   "metadata": {},
   "outputs": [],
   "source": [
    "def sample_parents_haplotypes(parent1, parent2, pos, recomb_rate, verbose=False):\n",
    "\n",
    "    parents = parent1.concatenate(parent2, axis=1)\n",
    "\n",
    "    breaks = get_recomb_breakpoints(pos, recomb_rate, verbose)\n",
    "    parent_idx = 0\n",
    "    parent1hap = concat_haplotypes(breaks, parents, parent_idx, pos[-1])\n",
    "        \n",
    "    breaks2 = get_recomb_breakpoints(pos, recomb_rate, verbose)\n",
    "    parent_idx = 1\n",
    "    parent2hap = concat_haplotypes(breaks2, parents, parent_idx, pos[-1])\n",
    "    \n",
    "    offspring_genotypes = allel.GenotypeDaskVector(np.stack([parent1hap, parent2hap], axis=1).astype('i'))\n",
    "    \n",
    "    return(offspring_genotypes, breaks, breaks2)"
   ]
  },
  {
   "cell_type": "code",
   "execution_count": 270,
   "id": "39edf4d6",
   "metadata": {},
   "outputs": [],
   "source": [
    "ac_bro = geno_bro.to_haplotypes().count_alleles()\n",
    "ac_sis = geno_sis.to_haplotypes().count_alleles()"
   ]
  },
  {
   "cell_type": "markdown",
   "id": "b8f07bc6",
   "metadata": {},
   "source": [
    "## Testing locally"
   ]
  },
  {
   "cell_type": "code",
   "execution_count": 10,
   "id": "7374aadc",
   "metadata": {},
   "outputs": [],
   "source": [
    "geno, pos = probe.loadZarrArrays(\n",
    "    genotypePath=\"../../resources/snp_genotypes/all/1244-VO-GH-YAWSON-VMF00149/2L/calldata/GT/\", \n",
    "    positionsPath=\"../../resources/snp_genotypes/all/sites/2L/variants/POS/\", \n",
    "    siteFilterPath=\"../../resources/site_filters/dt_20200416/gamb_colu/2L/variants/filter_pass/\")"
   ]
  },
  {
   "cell_type": "code",
   "execution_count": 12,
   "id": "4cadc76e",
   "metadata": {},
   "outputs": [],
   "source": [
    "geno = geno[:10_000_000, :,: ]\n",
    "pos = pos[:10_000_000]"
   ]
  },
  {
   "cell_type": "code",
   "execution_count": 13,
   "id": "ac1fe95d",
   "metadata": {},
   "outputs": [],
   "source": [
    "parents = geno[:,:2,:].compute()"
   ]
  },
  {
   "cell_type": "code",
   "execution_count": 2,
   "id": "a7a136b7",
   "metadata": {},
   "outputs": [],
   "source": [
    "from tqdm import tqdm\n",
    "\n",
    "def get_recomb_breakpoints(size, recomb_rate, n):\n",
    "    res = []\n",
    "    for i in tqdm(range(n)):\n",
    "        arr = np.random.binomial(1, p=10**-8, size=size)\n",
    "        #print(f\"there are {arr.sum()} recombinations\")\n",
    "        res.append(np.sum(arr))\n",
    "    return(res)\n",
    "\n",
    "#     if arr.sum() > 0:\n",
    "#         idx = np.where(arr)[0]\n",
    "#         print(f\"there are {arr.sum()} recombinations\") \n",
    "#     else:\n",
    "#         print(f\"there are 0 recombinations\") if verbose else []\n",
    "# #         idx = []\n",
    "    \n",
    "#     return(idx)"
   ]
  },
  {
   "cell_type": "code",
   "execution_count": 3,
   "id": "bb5e13a2",
   "metadata": {},
   "outputs": [
    {
     "name": "stderr",
     "output_type": "stream",
     "text": [
      "100%|███████████████████████████████████████| 1000/1000 [37:33<00:00,  2.25s/it]\n"
     ]
    }
   ],
   "source": [
    "res = get_recomb_breakpoints(110904205, recomb_rate=10**-8, n=1000)"
   ]
  },
  {
   "cell_type": "code",
   "execution_count": 28,
   "id": "1e2604da",
   "metadata": {},
   "outputs": [
    {
     "data": {
      "text/plain": [
       "<AxesSubplot:>"
      ]
     },
     "execution_count": 28,
     "metadata": {},
     "output_type": "execute_result"
    },
    {
     "data": {
      "image/png": "[encoded data removed]",
      "text/plain": [
       "<Figure size 640x480 with 1 Axes>"
      ]
     },
     "metadata": {},
     "output_type": "display_data"
    }
   ],
   "source": [
    "pd.Series(res).hist()"
   ]
  },
  {
   "cell_type": "code",
   "execution_count": 11,
   "id": "decef2a6",
   "metadata": {},
   "outputs": [
    {
     "data": {
      "text/plain": [
       "array([0.304])"
      ]
     },
     "execution_count": 11,
     "metadata": {},
     "output_type": "execute_result"
    }
   ],
   "source": [
    "np.equal(res, 0).sum()/np.array(res).shape"
   ]
  },
  {
   "cell_type": "code",
   "execution_count": 24,
   "id": "f310ddef",
   "metadata": {},
   "outputs": [
    {
     "data": {
      "text/plain": [
       "array([1.        , 0.        , 2.        , 1.        , 0.        ,\n",
       "       2.32192809, 1.        , 1.5849625 , 1.        , 2.        ,\n",
       "       0.        , 1.        , 1.5849625 , 1.        , 1.5849625 ,\n",
       "       1.        , 0.        , 1.        , 0.        , 0.        ,\n",
       "       0.        , 1.        , 0.        , 1.        , 1.        ,\n",
       "       1.        , 0.        , 1.        , 2.        , 2.        ,\n",
       "       1.        , 0.        , 1.5849625 , 0.        , 0.        ,\n",
       "       0.        , 1.        , 1.        , 1.        , 1.        ,\n",
       "       1.        , 0.        , 1.        , 0.        , 1.5849625 ,\n",
       "       0.        , 2.        , 1.5849625 , 2.32192809, 1.        ,\n",
       "       1.        , 1.5849625 , 1.5849625 , 2.        , 2.        ,\n",
       "       0.        , 0.        , 1.        , 0.        , 1.        ,\n",
       "       0.        , 1.        , 0.        , 2.        , 1.5849625 ,\n",
       "       0.        , 0.        , 0.        , 1.        , 0.        ,\n",
       "       1.        , 1.        , 2.        , 0.        , 0.        ,\n",
       "       0.        , 0.        , 0.        , 1.        , 1.        ,\n",
       "       1.5849625 , 1.        , 2.32192809, 2.        , 1.        ,\n",
       "       1.5849625 , 1.        , 1.        , 1.5849625 , 0.        ,\n",
       "       1.5849625 , 1.        , 0.        , 1.5849625 , 1.        ,\n",
       "       1.5849625 , 0.        , 0.        , 1.5849625 , 1.5849625 ,\n",
       "       1.        , 1.        , 2.        , 1.        , 2.        ,\n",
       "       0.        , 1.        , 0.        , 1.        , 0.        ,\n",
       "       2.32192809, 0.        , 0.        , 0.        , 1.        ,\n",
       "       0.        , 2.        , 0.        , 1.        , 1.        ,\n",
       "       1.        , 0.        , 1.        , 0.        , 1.        ,\n",
       "       1.        , 1.        , 0.        , 1.        , 1.5849625 ,\n",
       "       0.        , 0.        , 1.        , 1.        , 1.        ,\n",
       "       1.        , 1.        , 1.        , 1.5849625 , 1.        ,\n",
       "       0.        , 1.5849625 , 1.5849625 , 1.5849625 , 0.        ,\n",
       "       1.        , 1.        , 2.32192809, 1.        , 1.        ,\n",
       "       1.        , 0.        , 1.5849625 , 1.        , 2.        ,\n",
       "       0.        , 1.5849625 , 1.        , 1.5849625 , 0.        ,\n",
       "       1.        , 1.5849625 , 1.        , 2.32192809, 1.5849625 ,\n",
       "       2.        , 1.5849625 , 1.        , 1.        , 1.        ,\n",
       "       1.        , 1.        , 1.5849625 , 1.        , 1.        ,\n",
       "       1.5849625 , 0.        , 1.        , 1.        , 1.        ,\n",
       "       1.5849625 , 0.        , 1.        , 1.5849625 , 1.        ,\n",
       "       1.        , 1.        , 1.5849625 , 1.        , 1.        ,\n",
       "       0.        , 2.        , 0.        , 1.        , 0.        ,\n",
       "       0.        , 1.        , 1.5849625 , 1.        , 1.        ,\n",
       "       1.        , 2.32192809, 0.        , 1.        , 0.        ,\n",
       "       2.        , 1.        , 1.        , 1.        , 0.        ,\n",
       "       2.32192809, 1.5849625 , 0.        , 1.        , 0.        ,\n",
       "       1.        , 1.        , 1.        , 0.        , 1.5849625 ,\n",
       "       0.        , 1.5849625 , 0.        , 0.        , 0.        ,\n",
       "       1.        , 1.        , 0.        , 0.        , 0.        ,\n",
       "       1.5849625 , 2.32192809, 1.5849625 , 1.        , 1.5849625 ,\n",
       "       0.        , 0.        , 1.        , 1.        , 1.5849625 ,\n",
       "       1.        , 2.5849625 , 0.        , 1.        , 2.80735492,\n",
       "       1.5849625 , 1.        , 1.5849625 , 0.        , 1.        ,\n",
       "       0.        , 1.        , 1.        , 1.5849625 , 1.        ,\n",
       "       1.        , 2.        , 0.        , 1.5849625 , 1.5849625 ,\n",
       "       0.        , 1.        , 2.        , 1.        , 1.        ,\n",
       "       1.5849625 , 2.        , 0.        , 1.5849625 , 0.        ,\n",
       "       1.        , 0.        , 1.        , 1.5849625 , 1.5849625 ,\n",
       "       1.        , 1.        , 2.        , 1.        , 2.        ,\n",
       "       0.        , 0.        , 1.5849625 , 0.        , 1.5849625 ,\n",
       "       1.5849625 , 1.        , 2.        , 1.5849625 , 1.        ,\n",
       "       2.        , 1.        , 1.        , 1.        , 1.        ,\n",
       "       0.        , 0.        , 2.        , 1.        , 1.        ,\n",
       "       1.        , 1.        , 1.5849625 , 1.        , 1.        ,\n",
       "       1.        , 1.5849625 , 2.        , 1.5849625 , 1.        ,\n",
       "       1.        , 1.        , 0.        , 1.        , 1.        ,\n",
       "       1.5849625 , 1.        , 0.        , 0.        , 2.32192809,\n",
       "       0.        , 1.        , 0.        , 1.        , 2.        ,\n",
       "       1.5849625 , 1.        , 1.        , 1.5849625 , 1.        ,\n",
       "       2.        , 0.        , 0.        , 0.        , 1.        ,\n",
       "       0.        , 1.        , 0.        , 2.        , 2.        ,\n",
       "       1.        , 1.        , 1.5849625 , 0.        , 0.        ,\n",
       "       2.        , 1.        , 0.        , 1.5849625 , 1.        ,\n",
       "       1.5849625 , 1.        , 1.5849625 , 1.        , 2.        ,\n",
       "       0.        , 1.        , 0.        , 0.        , 1.        ,\n",
       "       2.        , 0.        , 1.5849625 , 2.        , 2.5849625 ,\n",
       "       0.        , 1.5849625 , 1.5849625 , 1.        , 0.        ,\n",
       "       1.        , 0.        , 1.        , 1.        , 0.        ,\n",
       "       0.        , 0.        , 0.        , 1.        , 1.        ,\n",
       "       2.        , 1.        , 1.        , 0.        , 1.        ,\n",
       "       1.        , 0.        , 1.5849625 , 2.        , 1.5849625 ,\n",
       "       0.        , 1.        , 1.5849625 , 1.        , 1.        ,\n",
       "       2.        , 1.5849625 , 1.5849625 , 0.        , 2.        ,\n",
       "       1.        , 0.        , 0.        , 2.        , 0.        ,\n",
       "       1.        , 0.        , 1.        , 1.        , 1.5849625 ,\n",
       "       1.        , 1.        , 1.        , 2.32192809, 0.        ,\n",
       "       1.        , 1.5849625 , 2.        , 0.        , 1.        ,\n",
       "       1.        , 1.5849625 , 1.        , 1.        , 0.        ,\n",
       "       1.        , 1.        , 2.        , 1.        , 0.        ,\n",
       "       0.        , 0.        , 1.        , 1.        , 0.        ,\n",
       "       0.        , 1.        , 2.32192809, 1.        , 1.        ,\n",
       "       1.        , 0.        , 2.        , 1.5849625 , 1.5849625 ,\n",
       "       2.32192809, 1.5849625 , 1.5849625 , 0.        , 2.32192809,\n",
       "       0.        , 0.        , 1.        , 0.        , 2.        ,\n",
       "       0.        , 0.        , 1.        , 0.        , 1.        ,\n",
       "       1.        , 1.5849625 , 1.        , 1.        , 0.        ,\n",
       "       0.        , 1.        , 1.        , 1.        , 1.5849625 ,\n",
       "       0.        , 1.        , 0.        , 1.        , 1.        ,\n",
       "       0.        , 1.5849625 , 0.        , 2.        , 1.5849625 ,\n",
       "       1.        , 1.        , 1.        , 1.5849625 , 0.        ,\n",
       "       0.        , 0.        , 0.        , 1.5849625 , 1.5849625 ,\n",
       "       0.        , 1.        , 0.        , 1.        , 0.        ,\n",
       "       0.        , 0.        , 0.        , 0.        , 1.5849625 ,\n",
       "       2.        , 1.        , 0.        , 1.5849625 , 0.        ,\n",
       "       1.5849625 , 0.        , 1.        , 0.        , 0.        ,\n",
       "       0.        , 1.        , 1.5849625 , 1.5849625 , 1.        ,\n",
       "       0.        , 1.        , 0.        , 1.5849625 , 1.        ,\n",
       "       2.        , 1.5849625 , 1.        , 0.        , 1.        ,\n",
       "       1.        , 1.5849625 , 1.        , 0.        , 1.        ,\n",
       "       1.        , 1.        , 0.        , 1.5849625 , 0.        ,\n",
       "       0.        , 1.        , 0.        , 1.5849625 , 1.5849625 ,\n",
       "       0.        , 1.        , 1.5849625 , 0.        , 1.        ,\n",
       "       2.        , 2.        , 0.        , 0.        , 2.        ,\n",
       "       1.        , 2.        , 1.5849625 , 0.        , 1.        ,\n",
       "       2.        , 0.        , 0.        , 1.5849625 , 0.        ,\n",
       "       0.        , 0.        , 1.        , 1.5849625 , 0.        ,\n",
       "       0.        , 1.5849625 , 1.        , 1.        , 2.5849625 ,\n",
       "       1.        , 1.        , 0.        , 0.        , 0.        ,\n",
       "       0.        , 0.        , 2.        , 1.        , 1.        ,\n",
       "       1.        , 0.        , 0.        , 0.        , 0.        ,\n",
       "       1.        , 0.        , 0.        , 1.        , 0.        ,\n",
       "       0.        , 1.        , 0.        , 1.5849625 , 1.5849625 ,\n",
       "       0.        , 0.        , 1.        , 2.32192809, 1.        ,\n",
       "       1.        , 0.        , 0.        , 2.        , 1.5849625 ,\n",
       "       2.        , 1.        , 1.5849625 , 1.5849625 , 1.5849625 ,\n",
       "       0.        , 1.        , 0.        , 1.5849625 , 1.        ,\n",
       "       0.        , 2.        , 0.        , 0.        , 0.        ,\n",
       "       1.        , 0.        , 1.        , 2.32192809, 1.        ,\n",
       "       1.        , 1.        , 2.        , 1.5849625 , 1.5849625 ,\n",
       "       0.        , 1.        , 1.5849625 , 2.        , 1.        ,\n",
       "       1.        , 1.        , 0.        , 2.        , 1.5849625 ,\n",
       "       0.        , 0.        , 1.5849625 , 0.        , 0.        ,\n",
       "       1.        , 0.        , 1.5849625 , 1.        , 1.5849625 ,\n",
       "       1.        , 1.        , 1.        , 0.        , 1.5849625 ,\n",
       "       1.        , 0.        , 0.        , 1.5849625 , 0.        ,\n",
       "       1.5849625 , 0.        , 0.        , 1.5849625 , 0.        ,\n",
       "       1.        , 1.        , 0.        , 1.5849625 , 1.        ,\n",
       "       1.        , 1.        , 1.        , 0.        , 0.        ,\n",
       "       1.5849625 , 1.5849625 , 0.        , 1.5849625 , 1.        ,\n",
       "       1.        , 1.5849625 , 1.        , 2.        , 1.        ,\n",
       "       1.5849625 , 1.        , 1.5849625 , 0.        , 1.        ,\n",
       "       0.        , 1.5849625 , 2.        , 1.        , 1.        ,\n",
       "       1.        , 1.        , 0.        , 1.        , 1.        ,\n",
       "       1.5849625 , 1.5849625 , 1.        , 0.        , 1.5849625 ,\n",
       "       2.        , 0.        , 0.        , 1.        , 1.5849625 ,\n",
       "       1.5849625 , 2.        , 0.        , 1.        , 2.        ,\n",
       "       1.        , 2.        , 1.        , 1.        , 1.        ,\n",
       "       1.5849625 , 2.        , 2.        , 1.        , 0.        ,\n",
       "       1.5849625 , 1.5849625 , 1.        , 0.        , 2.        ,\n",
       "       0.        , 2.5849625 , 1.        , 1.        , 1.        ,\n",
       "       1.        , 2.32192809, 1.5849625 , 1.        , 0.        ,\n",
       "       1.5849625 , 1.        , 1.5849625 , 1.5849625 , 0.        ,\n",
       "       0.        , 2.        , 0.        , 0.        , 0.        ,\n",
       "       0.        , 1.        , 0.        , 0.        , 1.        ,\n",
       "       2.5849625 , 1.        , 1.        , 1.5849625 , 1.        ,\n",
       "       1.        , 1.5849625 , 0.        , 1.        , 2.        ,\n",
       "       1.        , 1.        , 1.        , 1.5849625 , 0.        ,\n",
       "       1.5849625 , 1.        , 2.        , 1.        , 0.        ,\n",
       "       1.        , 1.        , 0.        , 1.5849625 , 1.        ,\n",
       "       0.        , 1.5849625 , 1.        , 1.5849625 , 0.        ,\n",
       "       1.        , 0.        , 1.5849625 , 0.        , 0.        ,\n",
       "       1.        , 2.32192809, 2.        , 2.        , 1.5849625 ,\n",
       "       1.        , 1.        , 1.5849625 , 2.32192809, 2.        ,\n",
       "       0.        , 2.        , 1.5849625 , 1.5849625 , 1.        ,\n",
       "       0.        , 2.        , 0.        , 1.        , 2.        ,\n",
       "       1.5849625 , 1.5849625 , 1.5849625 , 0.        , 1.        ,\n",
       "       0.        , 2.        , 0.        , 1.5849625 , 0.        ,\n",
       "       1.5849625 , 0.        , 1.        , 1.5849625 , 0.        ,\n",
       "       1.        , 2.        , 1.        , 1.5849625 , 0.        ,\n",
       "       1.        , 0.        , 1.5849625 , 1.5849625 , 0.        ,\n",
       "       1.5849625 , 1.        , 1.        , 1.        , 1.        ,\n",
       "       1.5849625 , 1.5849625 , 1.5849625 , 1.5849625 , 1.5849625 ,\n",
       "       1.        , 2.        , 2.        , 1.        , 1.        ,\n",
       "       2.        , 1.5849625 , 1.        , 0.        , 1.        ,\n",
       "       0.        , 2.        , 1.        , 1.        , 1.5849625 ,\n",
       "       1.        , 0.        , 1.        , 1.5849625 , 2.        ,\n",
       "       1.        , 1.        , 1.        , 1.        , 1.        ,\n",
       "       0.        , 0.        , 1.        , 0.        , 1.5849625 ,\n",
       "       0.        , 0.        , 0.        , 1.5849625 , 1.        ,\n",
       "       1.5849625 , 0.        , 0.        , 1.5849625 , 1.        ,\n",
       "       1.        , 0.        , 3.        , 1.        , 1.        ,\n",
       "       0.        , 0.        , 1.        , 2.5849625 , 2.        ,\n",
       "       2.        , 1.        , 0.        , 1.        , 2.        ,\n",
       "       1.5849625 , 1.5849625 , 1.5849625 , 1.5849625 , 1.        ,\n",
       "       2.32192809, 1.5849625 , 1.        , 0.        , 1.        ,\n",
       "       1.5849625 , 0.        , 0.        , 1.        , 1.5849625 ,\n",
       "       1.        , 0.        , 1.        , 1.5849625 , 1.        ,\n",
       "       1.        , 1.        , 1.5849625 , 1.        , 1.        ,\n",
       "       0.        , 1.        , 0.        , 0.        , 0.        ,\n",
       "       0.        , 1.        , 0.        , 2.32192809, 0.        ,\n",
       "       1.5849625 , 0.        , 1.        , 1.5849625 , 1.5849625 ,\n",
       "       0.        , 1.5849625 , 2.        , 0.        , 1.        ,\n",
       "       1.        , 1.        , 0.        , 1.        , 1.        ,\n",
       "       0.        , 1.        , 1.        , 1.        , 0.        ,\n",
       "       1.5849625 , 1.        , 0.        , 1.5849625 , 0.        ,\n",
       "       1.5849625 , 1.5849625 , 1.        , 1.        , 0.        ,\n",
       "       2.32192809, 0.        , 0.        , 0.        , 0.        ,\n",
       "       2.32192809, 1.5849625 , 1.        , 1.5849625 , 0.        ,\n",
       "       1.5849625 , 1.        , 0.        , 1.5849625 , 2.        ,\n",
       "       1.5849625 , 1.        , 0.        , 1.5849625 , 1.        ,\n",
       "       1.5849625 , 1.        , 1.        , 1.5849625 , 1.        ,\n",
       "       0.        , 1.        , 1.        , 1.5849625 , 1.        ,\n",
       "       1.        , 1.5849625 , 2.        , 0.        , 1.5849625 ])"
      ]
     },
     "execution_count": 24,
     "metadata": {},
     "output_type": "execute_result"
    }
   ],
   "source": [
    "np.log2(np.array(res)+1)"
   ]
  },
  {
   "cell_type": "code",
   "execution_count": 25,
   "id": "6ce40da8",
   "metadata": {},
   "outputs": [
    {
     "data": {
      "text/plain": [
       "<AxesSubplot:>"
      ]
     },
     "execution_count": 25,
     "metadata": {},
     "output_type": "execute_result"
    },
    {
     "data": {
      "image/png": "[encoded data removed]",
      "text/plain": [
       "<Figure size 640x480 with 1 Axes>"
      ]
     },
     "metadata": {},
     "output_type": "display_data"
    }
   ],
   "source": [
    "pd.Series(np.log2(np.array(res)+1)).hist()"
   ]
  },
  {
   "cell_type": "code",
   "execution_count": 12,
   "id": "5ec78f5c",
   "metadata": {},
   "outputs": [
    {
     "data": {
      "text/plain": [
       "0.3"
      ]
     },
     "execution_count": 12,
     "metadata": {},
     "output_type": "execute_result"
    }
   ],
   "source": [
    "300/1000"
   ]
  },
  {
   "cell_type": "code",
   "execution_count": 41,
   "id": "df03470f",
   "metadata": {},
   "outputs": [
    {
     "data": {
      "text/plain": [
       "1.114"
      ]
     },
     "execution_count": 41,
     "metadata": {},
     "output_type": "execute_result"
    }
   ],
   "source": [
    "np.mean(res)"
   ]
  },
  {
   "cell_type": "code",
   "execution_count": 43,
   "id": "0caa497b",
   "metadata": {},
   "outputs": [
    {
     "name": "stdout",
     "output_type": "stream",
     "text": [
      "(-0.9238008614694497, 3.15180086146945)\n"
     ]
    }
   ],
   "source": [
    "import scipy \n",
    "print(scipy.stats.norm.interval(0.95, loc=np.mean(res), scale=np.std(res)))"
   ]
  },
  {
   "cell_type": "code",
   "execution_count": null,
   "id": "31abcbdd",
   "metadata": {},
   "outputs": [],
   "source": []
  },
  {
   "cell_type": "code",
   "execution_count": 33,
   "id": "d8dcde3c",
   "metadata": {},
   "outputs": [
    {
     "data": {
      "text/plain": [
       "25.0"
      ]
     },
     "execution_count": 33,
     "metadata": {},
     "output_type": "execute_result"
    }
   ],
   "source": [
    "(15*100)/60"
   ]
  },
  {
   "cell_type": "code",
   "execution_count": 12,
   "id": "13c6467f",
   "metadata": {},
   "outputs": [],
   "source": [
    "pos2 = ag3.snp_sites(region='2R', field=\"POS\").compute()"
   ]
  },
  {
   "cell_type": "code",
   "execution_count": 13,
   "id": "3efafbf1",
   "metadata": {},
   "outputs": [
    {
     "data": {
      "text/plain": [
       "110904205"
      ]
     },
     "execution_count": 13,
     "metadata": {},
     "output_type": "execute_result"
    }
   ],
   "source": [
    "(pos + pos2[-1])[-1]"
   ]
  },
  {
   "cell_type": "code",
   "execution_count": null,
   "id": "8314f566",
   "metadata": {},
   "outputs": [],
   "source": [
    "110904205"
   ]
  },
  {
   "cell_type": "code",
   "execution_count": 60,
   "id": "ff0b6804",
   "metadata": {},
   "outputs": [
    {
     "data": {
      "text/plain": [
       "0.51"
      ]
     },
     "execution_count": 60,
     "metadata": {},
     "output_type": "execute_result"
    }
   ],
   "source": [
    "np.mean(res)"
   ]
  },
  {
   "cell_type": "code",
   "execution_count": null,
   "id": "4184b94d",
   "metadata": {},
   "outputs": [
    {
     "name": "stdout",
     "output_type": "stream",
     "text": [
      "there are 0 recombinations\n",
      "there are 0 recombinations\n",
      "there are 1 recombinations\n",
      "there are 1 recombinations\n",
      "there are 0 recombinations\n",
      "there are 1 recombinations\n",
      "there are 2 recombinations\n",
      "there are 2 recombinations\n",
      "there are 0 recombinations\n",
      "there are 2 recombinations\n",
      "there are 2 recombinations\n",
      "there are 1 recombinations\n",
      "there are 1 recombinations\n",
      "there are 2 recombinations\n",
      "there are 2 recombinations\n",
      "there are 0 recombinations\n",
      "there are 1 recombinations\n",
      "there are 1 recombinations\n",
      "there are 0 recombinations\n",
      "there are 3 recombinations\n",
      "there are 1 recombinations\n",
      "there are 1 recombinations\n",
      "there are 2 recombinations\n",
      "there are 1 recombinations\n",
      "there are 0 recombinations\n",
      "there are 0 recombinations\n",
      "there are 1 recombinations\n",
      "there are 2 recombinations\n",
      "there are 0 recombinations\n",
      "there are 0 recombinations\n",
      "there are 0 recombinations\n",
      "there are 0 recombinations\n",
      "there are 2 recombinations\n",
      "there are 1 recombinations\n",
      "there are 0 recombinations\n",
      "there are 1 recombinations\n",
      "there are 2 recombinations\n",
      "there are 1 recombinations\n",
      "there are 0 recombinations\n",
      "there are 1 recombinations\n",
      "there are 1 recombinations\n",
      "there are 3 recombinations\n",
      "there are 2 recombinations\n",
      "there are 1 recombinations\n",
      "there are 0 recombinations\n",
      "there are 1 recombinations\n",
      "there are 2 recombinations\n",
      "there are 1 recombinations\n",
      "there are 1 recombinations\n",
      "there are 1 recombinations\n",
      "there are 2 recombinations\n",
      "there are 1 recombinations\n"
     ]
    }
   ],
   "source": [
    "res = get_recomb_breakpoints(110904205, recomb_rate=10**-8, n=1000)\n",
    "print(np.mean(res))\n",
    "print(scipy.stats.norm.interval(0.95, loc=np.mean(res), scale=np.std(res)))"
   ]
  },
  {
   "cell_type": "code",
   "execution_count": 19,
   "id": "7fa82089",
   "metadata": {},
   "outputs": [
    {
     "data": {
      "text/plain": [
       "1.1300884921102416"
      ]
     },
     "execution_count": 19,
     "metadata": {},
     "output_type": "execute_result"
    }
   ],
   "source": [
    "np.std(res)"
   ]
  },
  {
   "cell_type": "code",
   "execution_count": 24,
   "id": "0f0b19f0",
   "metadata": {},
   "outputs": [],
   "source": [
    "import scipy"
   ]
  },
  {
   "cell_type": "code",
   "execution_count": 28,
   "id": "aa59a99f",
   "metadata": {},
   "outputs": [
    {
     "data": {
      "text/plain": [
       "(-0.9849327438792508, 3.4449327438792507)"
      ]
     },
     "execution_count": 28,
     "metadata": {},
     "output_type": "execute_result"
    }
   ],
   "source": [
    "scipy.stats.norm.interval(0.95, loc=np.mean(res), scale=np.std(res))"
   ]
  },
  {
   "cell_type": "code",
   "execution_count": 23,
   "id": "4653e51f",
   "metadata": {},
   "outputs": [
    {
     "data": {
      "text/plain": [
       "3.444973444536074"
      ]
     },
     "execution_count": 23,
     "metadata": {},
     "output_type": "execute_result"
    }
   ],
   "source": [
    "np.mean(res) + 1.96*np.std(res)"
   ]
  },
  {
   "cell_type": "code",
   "execution_count": 50,
   "id": "5ce0826c",
   "metadata": {
    "scrolled": true
   },
   "outputs": [
    {
     "data": {
      "text/html": [
       "<div class=\"allel allel-DisplayAs2D\"><span>&lt;GenotypeArray shape=(10000000, 2, 2) dtype=int8&gt;</span><table><thead><tr><th></th><th style=\"text-align: center\">0</th><th style=\"text-align: center\">1</th></tr></thead><tbody><tr><th style=\"text-align: center; background-color: white; border-right: 1px solid black; \">0</th><td style=\"text-align: center\">0/0</td><td style=\"text-align: center\">0/0</td></tr><tr><th style=\"text-align: center; background-color: white; border-right: 1px solid black; \">1</th><td style=\"text-align: center\">0/0</td><td style=\"text-align: center\">0/0</td></tr><tr><th style=\"text-align: center; background-color: white; border-right: 1px solid black; \">2</th><td style=\"text-align: center\">0/0</td><td style=\"text-align: center\">0/0</td></tr><tr><th style=\"text-align: center; background-color: white; border-right: 1px solid black; \">...</th><td style=\"text-align: center\" colspan=\"3\">...</td></tr><tr><th style=\"text-align: center; background-color: white; border-right: 1px solid black; \">9999997</th><td style=\"text-align: center\">0/0</td><td style=\"text-align: center\">0/0</td></tr><tr><th style=\"text-align: center; background-color: white; border-right: 1px solid black; \">9999998</th><td style=\"text-align: center\">0/0</td><td style=\"text-align: center\">0/0</td></tr><tr><th style=\"text-align: center; background-color: white; border-right: 1px solid black; \">9999999</th><td style=\"text-align: center\">0/0</td><td style=\"text-align: center\">0/0</td></tr></tbody></table></div>"
      ],
      "text/plain": [
       "<GenotypeArray shape=(10000000, 2, 2) dtype=int8>\n",
       "0/0 0/0\n",
       "0/0 0/0\n",
       "0/0 0/0\n",
       "...\n",
       "0/0 0/0\n",
       "0/0 0/0\n",
       "0/0 0/0"
      ]
     },
     "execution_count": 50,
     "metadata": {},
     "output_type": "execute_result"
    }
   ],
   "source": [
    "parents"
   ]
  },
  {
   "cell_type": "code",
   "execution_count": 16,
   "id": "a6084194",
   "metadata": {},
   "outputs": [
    {
     "ename": "TypeError",
     "evalue": "sample_parents_haplotypes() missing 1 required positional argument: 'parent2'",
     "output_type": "error",
     "traceback": [
      "\u001b[0;31m---------------------------------------------------------------------------\u001b[0m",
      "\u001b[0;31mTypeError\u001b[0m                                 Traceback (most recent call last)",
      "\u001b[0;32m/tmp/ipykernel_19976/123585999.py\u001b[0m in \u001b[0;36m<module>\u001b[0;34m\u001b[0m\n\u001b[0;32m----> 1\u001b[0;31m \u001b[0mgeno_sis\u001b[0m \u001b[0;34m=\u001b[0m \u001b[0msample_parents_haplotypes\u001b[0m\u001b[0;34m(\u001b[0m\u001b[0mparents\u001b[0m\u001b[0;34m,\u001b[0m \u001b[0mpos\u001b[0m\u001b[0;34m=\u001b[0m\u001b[0mpos\u001b[0m\u001b[0;34m,\u001b[0m \u001b[0mrecomb_rate\u001b[0m\u001b[0;34m=\u001b[0m\u001b[0;36m10\u001b[0m\u001b[0;34m**\u001b[0m\u001b[0;34m-\u001b[0m\u001b[0;36m8\u001b[0m\u001b[0;34m)\u001b[0m\u001b[0;34m\u001b[0m\u001b[0;34m\u001b[0m\u001b[0m\n\u001b[0m",
      "\u001b[0;31mTypeError\u001b[0m: sample_parents_haplotypes() missing 1 required positional argument: 'parent2'"
     ]
    }
   ],
   "source": [
    "\n",
    "geno_sis = sample_parents_haplotypes(parents[0], pos=pos, recomb_rate=10**-8)"
   ]
  },
  {
   "cell_type": "code",
   "execution_count": 221,
   "id": "836e46a4",
   "metadata": {},
   "outputs": [],
   "source": [
    "\n",
    "\n",
    "def generationSim(f0_dict, pos, parent_idxs, ind1_idx, ind2_idx, relationship, gen=1):\n",
    "    f1_dict = {}\n",
    "\n",
    "    for idx, parent_is in enumerate(parent_idxs):\n",
    "        f1_dict[f\"F1-{idx}-1\"], breaks, breaks2 = sample_parents_haplotypes(f0_dict[parent_is[0]],f0_dict[parent_is[1]], pos, 10**-8, verbose=False)\n",
    "        f1_dict[f\"F1-{idx}-2\"], breaks, breaks2 = sample_parents_haplotypes(f0_dict[parent_is[0]],f0_dict[parent_is[1]], pos, 10**-8, verbose=False)\n",
    "        ind1_idx = np.append(ind1_idx, [parent_is, parent_is])\n",
    "        ind2_idx = np.append(ind2_idx, [f\"F1-{idx}-1\", f\"F1-{idx}-1\"])\n",
    "        ind2_idx = np.append(ind2_idx, [f\"F1-{idx}-2\", f\"F1-{idx}-2\"])\n",
    "        relationship = np.append(relationship, ['Parent-offspring', 'Parent-offspring'])\n",
    "\n",
    "    f1_parents = np.array(list(f1_dict.keys()))\n",
    "    f1_1 = f1_parents[pd.Series(f1_parents).str.endswith(\"-1\")]\n",
    "    f1_2 = f1_parents[pd.Series(f1_parents).str.endswith(\"-2\")]\n",
    "    f1_1 = f1_1[np.random.choice(f1_1.shape[0], f1_1.shape[0], replace=False)]\n",
    "    f1_2 = f1_2[np.random.choice(f1_2.shape[0], f1_2.shape[0], replace=False)]\n",
    "    f1_parents = np.concatenate([f1_1, f1_2]).reshape(32,2)\n",
    "    \n",
    "    return(f1_dict, f1_parents, ind1_idx, ind2_idx, relationship)"
   ]
  },
  {
   "cell_type": "code",
   "execution_count": 223,
   "id": "139313be",
   "metadata": {},
   "outputs": [],
   "source": [
    "metadata = pd.read_csv(\"../../config/metadata.tsv\", sep=\"\\t\", index_col=0)\n",
    "parent_idxs = np.random.choice(metadata.shape[0], 64)\n",
    "parent_idxs = parent_idxs.reshape(int(len(parent_idxs)/2), 2)\n",
    "geno = geno[:1_000_000, :, :]\n",
    "pos = pos[:1_000_000]"
   ]
  },
  {
   "cell_type": "code",
   "execution_count": 225,
   "id": "883a1a70",
   "metadata": {},
   "outputs": [],
   "source": [
    "ind1_idx = np.array([])\n",
    "ind2_idx = np.array([])\n",
    "relationship = np.array([])\n",
    "f0_dict = {}\n",
    "\n",
    "for idx, parent_is in enumerate(parent_idxs):\n",
    "    f0_dict[f\"F0-{idx}-1\"] = geno.take([parent_is[0]], axis=1)\n",
    "    f0_dict[f\"F0-{idx}-2\"] = geno.take([parent_is[1]], axis=1)\n",
    "\n",
    "p1s, p2s = np.array([]), np.array([])\n",
    "for idx, p1 in enumerate(parent_idxs):\n",
    "    \n",
    "    p1s = np.append(p1s, [f\"F0-{idx}-1\"])\n",
    "    p2s = np.append(p2s, [f\"F0-{idx}-2\"])\n",
    "parent_idxs = np.vstack([p1s,p2s]).T\n",
    "\n",
    "\n",
    "f1_dict, f1_parents, ind1_idx, ind2_idx, relationship = generationSim(f0_dict, pos, parent_idxs, ind1_idx, ind2_idx, relationship)"
   ]
  },
  {
   "cell_type": "code",
   "execution_count": 227,
   "id": "aa34cc5b",
   "metadata": {},
   "outputs": [
    {
     "data": {
      "text/plain": [
       "array([['F1-5-1', 'F1-14-1'],\n",
       "       ['F1-18-1', 'F1-27-1'],\n",
       "       ['F1-22-1', 'F1-10-1'],\n",
       "       ['F1-17-1', 'F1-11-1'],\n",
       "       ['F1-19-1', 'F1-6-1'],\n",
       "       ['F1-20-1', 'F1-12-1'],\n",
       "       ['F1-26-1', 'F1-13-1'],\n",
       "       ['F1-21-1', 'F1-16-1'],\n",
       "       ['F1-1-1', 'F1-8-1'],\n",
       "       ['F1-9-1', 'F1-24-1'],\n",
       "       ['F1-15-1', 'F1-28-1'],\n",
       "       ['F1-29-1', 'F1-30-1'],\n",
       "       ['F1-25-1', 'F1-4-1'],\n",
       "       ['F1-23-1', 'F1-7-1'],\n",
       "       ['F1-3-1', 'F1-31-1'],\n",
       "       ['F1-2-1', 'F1-0-1'],\n",
       "       ['F1-20-2', 'F1-4-2'],\n",
       "       ['F1-10-2', 'F1-5-2'],\n",
       "       ['F1-29-2', 'F1-17-2'],\n",
       "       ['F1-22-2', 'F1-6-2'],\n",
       "       ['F1-16-2', 'F1-13-2'],\n",
       "       ['F1-8-2', 'F1-7-2'],\n",
       "       ['F1-23-2', 'F1-11-2'],\n",
       "       ['F1-26-2', 'F1-12-2'],\n",
       "       ['F1-18-2', 'F1-19-2'],\n",
       "       ['F1-25-2', 'F1-30-2'],\n",
       "       ['F1-21-2', 'F1-15-2'],\n",
       "       ['F1-24-2', 'F1-3-2'],\n",
       "       ['F1-1-2', 'F1-14-2'],\n",
       "       ['F1-27-2', 'F1-28-2'],\n",
       "       ['F1-2-2', 'F1-31-2'],\n",
       "       ['F1-0-2', 'F1-9-2']], dtype='<U7')"
      ]
     },
     "execution_count": 227,
     "metadata": {},
     "output_type": "execute_result"
    }
   ],
   "source": [
    "f1_parents"
   ]
  },
  {
   "cell_type": "code",
   "execution_count": 166,
   "id": "a1eae508",
   "metadata": {},
   "outputs": [
    {
     "ename": "KeyError",
     "evalue": "0",
     "output_type": "error",
     "traceback": [
      "\u001b[0;31m---------------------------------------------------------------------------\u001b[0m",
      "\u001b[0;31mKeyError\u001b[0m                                  Traceback (most recent call last)",
      "\u001b[0;32m/tmp/ipykernel_2432/3188974305.py\u001b[0m in \u001b[0;36m<module>\u001b[0;34m\u001b[0m\n\u001b[0;32m----> 1\u001b[0;31m \u001b[0mf2_dict\u001b[0m\u001b[0;34m,\u001b[0m \u001b[0mf2_parents\u001b[0m\u001b[0;34m,\u001b[0m \u001b[0mind1_idx\u001b[0m\u001b[0;34m,\u001b[0m \u001b[0mind2_idx\u001b[0m\u001b[0;34m,\u001b[0m \u001b[0mrelationship\u001b[0m \u001b[0;34m=\u001b[0m \u001b[0mgenerationSim\u001b[0m\u001b[0;34m(\u001b[0m\u001b[0mf1_dict\u001b[0m\u001b[0;34m,\u001b[0m \u001b[0mpos\u001b[0m\u001b[0;34m,\u001b[0m \u001b[0mf1_parents\u001b[0m\u001b[0;34m,\u001b[0m \u001b[0mind1_idx\u001b[0m\u001b[0;34m,\u001b[0m \u001b[0mind2_idx\u001b[0m\u001b[0;34m,\u001b[0m \u001b[0mrelationship\u001b[0m\u001b[0;34m)\u001b[0m\u001b[0;34m\u001b[0m\u001b[0;34m\u001b[0m\u001b[0m\n\u001b[0m",
      "\u001b[0;32m/tmp/ipykernel_2432/1099356634.py\u001b[0m in \u001b[0;36mgenerationSim\u001b[0;34m(f0_dict, pos, parent_idxs, ind1_idx, ind2_idx, relationship)\u001b[0m\n\u001b[1;32m      3\u001b[0m \u001b[0;34m\u001b[0m\u001b[0m\n\u001b[1;32m      4\u001b[0m     \u001b[0;32mfor\u001b[0m \u001b[0midx\u001b[0m\u001b[0;34m,\u001b[0m \u001b[0mparent_is\u001b[0m \u001b[0;32min\u001b[0m \u001b[0menumerate\u001b[0m\u001b[0;34m(\u001b[0m\u001b[0mparent_idxs\u001b[0m\u001b[0;34m)\u001b[0m\u001b[0;34m:\u001b[0m\u001b[0;34m\u001b[0m\u001b[0;34m\u001b[0m\u001b[0m\n\u001b[0;32m----> 5\u001b[0;31m         \u001b[0mf1_dict\u001b[0m\u001b[0;34m[\u001b[0m\u001b[0;34mf\"F1-{idx}-1\"\u001b[0m\u001b[0;34m]\u001b[0m\u001b[0;34m,\u001b[0m \u001b[0mbreaks\u001b[0m\u001b[0;34m,\u001b[0m \u001b[0mbreaks2\u001b[0m \u001b[0;34m=\u001b[0m \u001b[0msample_parents_haplotypes\u001b[0m\u001b[0;34m(\u001b[0m\u001b[0mf0_dict\u001b[0m\u001b[0;34m[\u001b[0m\u001b[0midx\u001b[0m\u001b[0;34m]\u001b[0m\u001b[0;34m,\u001b[0m \u001b[0mpos\u001b[0m\u001b[0;34m,\u001b[0m \u001b[0;36m10\u001b[0m\u001b[0;34m**\u001b[0m\u001b[0;34m-\u001b[0m\u001b[0;36m8\u001b[0m\u001b[0;34m,\u001b[0m \u001b[0mverbose\u001b[0m\u001b[0;34m=\u001b[0m\u001b[0;32mFalse\u001b[0m\u001b[0;34m)\u001b[0m\u001b[0;34m\u001b[0m\u001b[0;34m\u001b[0m\u001b[0m\n\u001b[0m\u001b[1;32m      6\u001b[0m         \u001b[0mf1_dict\u001b[0m\u001b[0;34m[\u001b[0m\u001b[0;34mf\"F1-{idx}-2\"\u001b[0m\u001b[0;34m]\u001b[0m\u001b[0;34m,\u001b[0m \u001b[0mbreaks\u001b[0m\u001b[0;34m,\u001b[0m \u001b[0mbreaks2\u001b[0m \u001b[0;34m=\u001b[0m \u001b[0msample_parents_haplotypes\u001b[0m\u001b[0;34m(\u001b[0m\u001b[0mf0_dict\u001b[0m\u001b[0;34m[\u001b[0m\u001b[0midx\u001b[0m\u001b[0;34m]\u001b[0m\u001b[0;34m,\u001b[0m \u001b[0mpos\u001b[0m\u001b[0;34m,\u001b[0m \u001b[0;36m10\u001b[0m\u001b[0;34m**\u001b[0m\u001b[0;34m-\u001b[0m\u001b[0;36m8\u001b[0m\u001b[0;34m,\u001b[0m \u001b[0mverbose\u001b[0m\u001b[0;34m=\u001b[0m\u001b[0;32mFalse\u001b[0m\u001b[0;34m)\u001b[0m\u001b[0;34m\u001b[0m\u001b[0;34m\u001b[0m\u001b[0m\n\u001b[1;32m      7\u001b[0m         \u001b[0mind1_idx\u001b[0m \u001b[0;34m=\u001b[0m \u001b[0mnp\u001b[0m\u001b[0;34m.\u001b[0m\u001b[0mappend\u001b[0m\u001b[0;34m(\u001b[0m\u001b[0mind1_idx\u001b[0m\u001b[0;34m,\u001b[0m \u001b[0;34m[\u001b[0m\u001b[0mparent_is\u001b[0m\u001b[0;34m,\u001b[0m \u001b[0mparent_is\u001b[0m\u001b[0;34m]\u001b[0m\u001b[0;34m)\u001b[0m\u001b[0;34m\u001b[0m\u001b[0;34m\u001b[0m\u001b[0m\n",
      "\u001b[0;31mKeyError\u001b[0m: 0"
     ]
    }
   ],
   "source": [
    "f2_dict, f2_parents, ind1_idx, ind2_idx, relationship = generationSim(f1_dict, pos, f1_parents, ind1_idx, ind2_idx, relationship)"
   ]
  },
  {
   "cell_type": "code",
   "execution_count": 105,
   "id": "99ef49d4",
   "metadata": {},
   "outputs": [],
   "source": [
    "f0_dict = {}\n",
    "f1_dict = {}\n",
    "\n",
    "for idx, parent_is in enumerate(parent_idxs):\n",
    "\n",
    "    f0_dict[idx] = geno.take(parent_is, axis=1)\n",
    "\n",
    "    f1_dict[f\"F1-{idx}-1\"], breaks, breaks2 = sample_parents_haplotypes(f0_dict[idx], pos, 10**-8, verbose=False)\n",
    "    f1_dict[f\"F1-{idx}-2\"], breaks, breaks2 = sample_parents_haplotypes(f0_dict[idx], pos, 10**-8, verbose=False)\n",
    "    ind1_idx = np.append(ind1_idx, [parent_is, parent_is])\n",
    "    ind2_idx = np.append(ind2_idx, [f\"F1-{idx}-1\", f\"F1-{idx}-1\"])\n",
    "    ind2_idx = np.append(ind2_idx, [f\"F1-{idx}-2\", f\"F1-{idx}-2\"])\n",
    "    relationship = np.append(relationship, ['Parent-offspring', 'Parent-offspring'])\n"
   ]
  },
  {
   "cell_type": "code",
   "execution_count": 138,
   "id": "d9d6ef38",
   "metadata": {},
   "outputs": [],
   "source": [
    "f1_parents = np.array(list(f1_dict.keys()))\n",
    "\n",
    "f1_1 = f1_parents[pd.Series(f1_parents).str.endswith(\"-1\")]\n",
    "f1_2 = f1_parents[pd.Series(f1_parents).str.endswith(\"-2\")]\n",
    "f1_1 = f1_1[np.random.choice(f1_1.shape[0], f1_1.shape[0], replace=False)]\n",
    "f1_2 = f1_2[np.random.choice(f1_2.shape[0], f1_2.shape[0], replace=False)]\n",
    "f1_parents = np.concatenate([f1_1, f1_2]).reshape(32,2)"
   ]
  },
  {
   "cell_type": "code",
   "execution_count": 142,
   "id": "847854aa",
   "metadata": {},
   "outputs": [
    {
     "data": {
      "text/plain": [
       "array([['F1-2-1', 'F1-6-1'],\n",
       "       ['F1-5-1', 'F1-0-1'],\n",
       "       ['F1-31-1', 'F1-27-1'],\n",
       "       ['F1-11-1', 'F1-8-1'],\n",
       "       ['F1-12-1', 'F1-20-1'],\n",
       "       ['F1-19-1', 'F1-15-1'],\n",
       "       ['F1-4-1', 'F1-14-1'],\n",
       "       ['F1-24-1', 'F1-1-1'],\n",
       "       ['F1-18-1', 'F1-21-1'],\n",
       "       ['F1-16-1', 'F1-30-1'],\n",
       "       ['F1-10-1', 'F1-28-1'],\n",
       "       ['F1-13-1', 'F1-7-1'],\n",
       "       ['F1-22-1', 'F1-25-1'],\n",
       "       ['F1-23-1', 'F1-26-1'],\n",
       "       ['F1-9-1', 'F1-17-1'],\n",
       "       ['F1-3-1', 'F1-29-1'],\n",
       "       ['F1-31-2', 'F1-29-2'],\n",
       "       ['F1-9-2', 'F1-7-2'],\n",
       "       ['F1-5-2', 'F1-24-2'],\n",
       "       ['F1-4-2', 'F1-11-2'],\n",
       "       ['F1-1-2', 'F1-21-2'],\n",
       "       ['F1-19-2', 'F1-6-2'],\n",
       "       ['F1-10-2', 'F1-2-2'],\n",
       "       ['F1-25-2', 'F1-16-2'],\n",
       "       ['F1-12-2', 'F1-26-2'],\n",
       "       ['F1-22-2', 'F1-17-2'],\n",
       "       ['F1-13-2', 'F1-28-2'],\n",
       "       ['F1-0-2', 'F1-3-2'],\n",
       "       ['F1-15-2', 'F1-18-2'],\n",
       "       ['F1-30-2', 'F1-8-2'],\n",
       "       ['F1-20-2', 'F1-23-2'],\n",
       "       ['F1-27-2', 'F1-14-2']], dtype='<U7')"
      ]
     },
     "execution_count": 142,
     "metadata": {},
     "output_type": "execute_result"
    }
   ],
   "source": [
    "f1_parents"
   ]
  },
  {
   "cell_type": "code",
   "execution_count": 66,
   "id": "a3401b37",
   "metadata": {},
   "outputs": [
    {
     "data": {
      "text/plain": [
       "{'0-1': <GenotypeDaskVector shape=(1000000, 2) dtype=int32>,\n",
       " '0-2': <GenotypeDaskVector shape=(1000000, 2) dtype=int32>,\n",
       " '1-1': <GenotypeDaskVector shape=(1000000, 2) dtype=int32>,\n",
       " '1-2': <GenotypeDaskVector shape=(1000000, 2) dtype=int32>,\n",
       " '2-1': <GenotypeDaskVector shape=(1000000, 2) dtype=int32>,\n",
       " '2-2': <GenotypeDaskVector shape=(1000000, 2) dtype=int32>,\n",
       " '3-1': <GenotypeDaskVector shape=(1000000, 2) dtype=int32>,\n",
       " '3-2': <GenotypeDaskVector shape=(1000000, 2) dtype=int32>,\n",
       " '4-1': <GenotypeDaskVector shape=(1000000, 2) dtype=int32>,\n",
       " '4-2': <GenotypeDaskVector shape=(1000000, 2) dtype=int32>,\n",
       " '5-1': <GenotypeDaskVector shape=(1000000, 2) dtype=int32>,\n",
       " '5-2': <GenotypeDaskVector shape=(1000000, 2) dtype=int32>,\n",
       " '6-1': <GenotypeDaskVector shape=(1000000, 2) dtype=int32>,\n",
       " '6-2': <GenotypeDaskVector shape=(1000000, 2) dtype=int32>,\n",
       " '7-1': <GenotypeDaskVector shape=(1000000, 2) dtype=int32>,\n",
       " '7-2': <GenotypeDaskVector shape=(1000000, 2) dtype=int32>,\n",
       " '8-1': <GenotypeDaskVector shape=(1000000, 2) dtype=int32>,\n",
       " '8-2': <GenotypeDaskVector shape=(1000000, 2) dtype=int32>,\n",
       " '9-1': <GenotypeDaskVector shape=(1000000, 2) dtype=int32>,\n",
       " '9-2': <GenotypeDaskVector shape=(1000000, 2) dtype=int32>,\n",
       " '10-1': <GenotypeDaskVector shape=(1000000, 2) dtype=int32>,\n",
       " '10-2': <GenotypeDaskVector shape=(1000000, 2) dtype=int32>,\n",
       " '11-1': <GenotypeDaskVector shape=(1000000, 2) dtype=int32>,\n",
       " '11-2': <GenotypeDaskVector shape=(1000000, 2) dtype=int32>,\n",
       " '12-1': <GenotypeDaskVector shape=(1000000, 2) dtype=int32>,\n",
       " '12-2': <GenotypeDaskVector shape=(1000000, 2) dtype=int32>,\n",
       " '13-1': <GenotypeDaskVector shape=(1000000, 2) dtype=int32>,\n",
       " '13-2': <GenotypeDaskVector shape=(1000000, 2) dtype=int32>,\n",
       " '14-1': <GenotypeDaskVector shape=(1000000, 2) dtype=int32>,\n",
       " '14-2': <GenotypeDaskVector shape=(1000000, 2) dtype=int32>,\n",
       " '15-1': <GenotypeDaskVector shape=(1000000, 2) dtype=int32>,\n",
       " '15-2': <GenotypeDaskVector shape=(1000000, 2) dtype=int32>,\n",
       " '16-1': <GenotypeDaskVector shape=(1000000, 2) dtype=int32>,\n",
       " '16-2': <GenotypeDaskVector shape=(1000000, 2) dtype=int32>,\n",
       " '17-1': <GenotypeDaskVector shape=(1000000, 2) dtype=int32>,\n",
       " '17-2': <GenotypeDaskVector shape=(1000000, 2) dtype=int32>,\n",
       " '18-1': <GenotypeDaskVector shape=(1000000, 2) dtype=int32>,\n",
       " '18-2': <GenotypeDaskVector shape=(1000000, 2) dtype=int32>,\n",
       " '19-1': <GenotypeDaskVector shape=(1000000, 2) dtype=int32>,\n",
       " '19-2': <GenotypeDaskVector shape=(1000000, 2) dtype=int32>,\n",
       " '20-1': <GenotypeDaskVector shape=(1000000, 2) dtype=int32>,\n",
       " '20-2': <GenotypeDaskVector shape=(1000000, 2) dtype=int32>,\n",
       " '21-1': <GenotypeDaskVector shape=(1000000, 2) dtype=int32>,\n",
       " '21-2': <GenotypeDaskVector shape=(1000000, 2) dtype=int32>,\n",
       " '22-1': <GenotypeDaskVector shape=(1000000, 2) dtype=int32>,\n",
       " '22-2': <GenotypeDaskVector shape=(1000000, 2) dtype=int32>,\n",
       " '23-1': <GenotypeDaskVector shape=(1000000, 2) dtype=int32>,\n",
       " '23-2': <GenotypeDaskVector shape=(1000000, 2) dtype=int32>,\n",
       " '24-1': <GenotypeDaskVector shape=(1000000, 2) dtype=int32>,\n",
       " '24-2': <GenotypeDaskVector shape=(1000000, 2) dtype=int32>,\n",
       " '25-1': <GenotypeDaskVector shape=(1000000, 2) dtype=int32>,\n",
       " '25-2': <GenotypeDaskVector shape=(1000000, 2) dtype=int32>,\n",
       " '26-1': <GenotypeDaskVector shape=(1000000, 2) dtype=int32>,\n",
       " '26-2': <GenotypeDaskVector shape=(1000000, 2) dtype=int32>,\n",
       " '27-1': <GenotypeDaskVector shape=(1000000, 2) dtype=int32>,\n",
       " '27-2': <GenotypeDaskVector shape=(1000000, 2) dtype=int32>,\n",
       " '28-1': <GenotypeDaskVector shape=(1000000, 2) dtype=int32>,\n",
       " '28-2': <GenotypeDaskVector shape=(1000000, 2) dtype=int32>,\n",
       " '29-1': <GenotypeDaskVector shape=(1000000, 2) dtype=int32>,\n",
       " '29-2': <GenotypeDaskVector shape=(1000000, 2) dtype=int32>,\n",
       " '30-1': <GenotypeDaskVector shape=(1000000, 2) dtype=int32>,\n",
       " '30-2': <GenotypeDaskVector shape=(1000000, 2) dtype=int32>,\n",
       " '31-1': <GenotypeDaskVector shape=(1000000, 2) dtype=int32>,\n",
       " '31-2': <GenotypeDaskVector shape=(1000000, 2) dtype=int32>}"
      ]
     },
     "execution_count": 66,
     "metadata": {},
     "output_type": "execute_result"
    }
   ],
   "source": [
    "for idx, offspring in "
   ]
  },
  {
   "cell_type": "markdown",
   "id": "364d4e9e",
   "metadata": {},
   "source": [
    "Plot Fst in windows"
   ]
  },
  {
   "cell_type": "code",
   "execution_count": 281,
   "id": "af8ae628",
   "metadata": {},
   "outputs": [],
   "source": [
    "pos = snps['variant_position']\n",
    "fst, window_spans, nSNPs, =  allel.windowed_hudson_fst(pos.values, ac_bro, ac_sis, size=1000000)\n",
    "midpoints = np.apply_along_axis(func1d=np.median, axis=1, arr=window_spans)\n",
    "import seaborn as sns\n",
    "sns.scatterplot(x=midpoints, y=fst)"
   ]
  },
  {
   "cell_type": "code",
   "execution_count": null,
   "id": "23828815",
   "metadata": {},
   "outputs": [],
   "source": []
  }
 ],
 "metadata": {
  "interpreter": {
   "hash": "710100144729ec1057471750b60f3250df4296be7eb29e7e87fec32ed718ec4b"
  },
  "kernelspec": {
   "display_name": "Python 3 (ipykernel)",
   "language": "python",
   "name": "python3"
  },
  "language_info": {
   "codemirror_mode": {
    "name": "ipython",
    "version": 3
   },
   "file_extension": ".py",
   "mimetype": "text/x-python",
   "name": "python",
   "nbconvert_exporter": "python",
   "pygments_lexer": "ipython3",
   "version": "3.7.13"
  }
 },
 "nbformat": 4,
 "nbformat_minor": 5
}
